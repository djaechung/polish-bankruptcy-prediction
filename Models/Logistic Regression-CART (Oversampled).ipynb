{
 "cells": [
  {
   "cell_type": "code",
   "execution_count": 1,
   "id": "8026685b",
   "metadata": {},
   "outputs": [],
   "source": [
    "import numpy as np\n",
    "import pandas as pd\n",
    "import matplotlib.pyplot as plt\n",
    "import seaborn as sns\n",
    "from scipy.stats.mstats import winsorize\n",
    "import statsmodels.api as sm\n",
    "from scipy.stats import norm"
   ]
  },
  {
   "cell_type": "code",
   "execution_count": 117,
   "id": "b1c0fac7",
   "metadata": {},
   "outputs": [],
   "source": [
    "from sklearn import metrics\n",
    "from sklearn.model_selection import cross_val_score\n",
    "from sklearn.metrics import precision_recall_fscore_support\n",
    "from sklearn.metrics import average_precision_score\n",
    "from sklearn.metrics import precision_score\n",
    "from sklearn.metrics import recall_score\n",
    "from sklearn.metrics import accuracy_score\n",
    "from sklearn.model_selection import RandomizedSearchCV\n",
    "from sklearn.metrics import roc_auc_score\n",
    "from pprint import pprint"
   ]
  },
  {
   "cell_type": "markdown",
   "id": "8d302309",
   "metadata": {},
   "source": [
    "# Loading Data"
   ]
  },
  {
   "cell_type": "markdown",
   "id": "9ca3686a",
   "metadata": {},
   "source": [
    "Credit: Ahmad Hussein, Mohammed Ali"
   ]
  },
  {
   "cell_type": "code",
   "execution_count": 3,
   "id": "5078bc29",
   "metadata": {},
   "outputs": [],
   "source": [
    "# reading data from csv files\n",
    "train_imputed= pd.read_csv(\"train_imputed.csv\")\n",
    "train_undersampled_imputed= pd.read_csv(\"train_undersampled_imputed.csv\")\n",
    "train_oversampled_imputed= pd.read_csv(\"train_oversampled_imputed.csv\")\n",
    "\n",
    "test_imputed= pd.read_csv(\"test_imputed.csv\")"
   ]
  },
  {
   "cell_type": "code",
   "execution_count": 4,
   "id": "fab3c687",
   "metadata": {},
   "outputs": [],
   "source": [
    "# data processing -- NOTE: we now call train_oversampled_imputed just train_imputed for succinctness\n",
    "y_train_imputed = train_oversampled_imputed.iloc[:,64]\n",
    "x_train_imputed = train_oversampled_imputed.drop('class', inplace=True, axis=1)\n",
    "x_train_imputed = train_oversampled_imputed.copy()\n",
    "\n",
    "y_test_imputed = test_imputed.iloc[:,64]\n",
    "x_test_imputed = test_imputed.drop('class', inplace=True, axis=1)\n",
    "x_test_imputed = test_imputed.copy()"
   ]
  },
  {
   "cell_type": "code",
   "execution_count": 5,
   "id": "b1c9c0ea",
   "metadata": {},
   "outputs": [],
   "source": [
    "# winsorizing\n",
    "for i in range(0,64):\n",
    "        winsorize(x_train_imputed.iloc[:,0], limits=[0.1, 0.1])\n",
    "        winsorize(x_test_imputed.iloc[:,0], limits=[0.1, 0.1])\n",
    "        \n",
    "x_train_imputed.describe();\n",
    "x_test_imputed.describe();"
   ]
  },
  {
   "cell_type": "markdown",
   "id": "c8fff6dc",
   "metadata": {},
   "source": [
    "# Helper Functions and Reference Variables"
   ]
  },
  {
   "cell_type": "markdown",
   "id": "7fb94575",
   "metadata": {},
   "source": [
    "Attribute dictionary for reference"
   ]
  },
  {
   "cell_type": "code",
   "execution_count": 6,
   "id": "af5d001c",
   "metadata": {},
   "outputs": [],
   "source": [
    "attributes = {1: \"net profit / total assets\",\n",
    "              2: \"total liabilities / total assets\",\n",
    "              3: \"working capital / total assets\",\n",
    "              4: \"current assets / short-term liabilities\",\n",
    "              5: \"[(cash + short-term securities + receivables - short-term liabilities) / (operating expenses - depreciation)] * 365\",\n",
    "              6: \"retained earnings / total assets\",\n",
    "              7: \"EBIT / total assets\",\n",
    "              8: \"book value of equity / total liabilities\",\n",
    "              9: \"sales / total assets\",\n",
    "             10: \"equity / total assets\",\n",
    "             11: \"(gross profit + extraordinary items + financial expenses) / total assets\",\n",
    "             12: \"gross profit / short-term liabilities\",\n",
    "             13: \"(gross profit + depreciation) / sales\",\n",
    "             14: \"(gross profit + interest) / total assets\",\n",
    "             15: \"(total liabilities * 365) / (gross profit + depreciation)\",\n",
    "             16: \"(gross profit + depreciation) / total liabilities\",\n",
    "             17: \"total assets / total liabilities\",\n",
    "             18: \"gross profit / total assets\",\n",
    "             19: \"gross profit / sales\",\n",
    "             20: \"(inventory * 365) / sales\",\n",
    "             21: \"sales (n) / sales (n-1)\",\n",
    "             22: \"profit on operating activities / total assets\",\n",
    "             23: \"net profit / sales\",\n",
    "             24: \"gross profit (in 3 years) / total assets\",\n",
    "             25: \"(equity - share capital) / total assets\",\n",
    "             26: \"(net profit + depreciation) / total liabilities\",\n",
    "             27: \"profit on operating activities / financial expenses\",\n",
    "             28: \"working capital / fixed assets\",\n",
    "             29: \"logarithm of total assets\",\n",
    "             30: \"(total liabilities - cash) / sales\",\n",
    "             31: \"(gross profit + interest) / sales\",\n",
    "             32: \"(current liabilities * 365) / cost of products sold\",\n",
    "             33: \"operating expenses / short-term liabilities\",\n",
    "             34: \"operating expenses / total liabilities\",\n",
    "             35: \"profit on sales / total assets\",\n",
    "             36: \"total sales / total assets\",\n",
    "             37: \"(current assets - inventories) / long-term liabilities\",\n",
    "             38: \"constant capital / total assets\",\n",
    "             39: \"profit on sales / sales\",\n",
    "             40: \"(current assets - inventory - receivables) / short-term liabilities\",\n",
    "             41: \"total liabilities / ((profit on operating activities + depreciation) * (12/365))\",\n",
    "             42: \"profit on operating activities / sales\",\n",
    "             43: \"rotation receivables + inventory turnover in days\",\n",
    "             44: \"(receivables * 365) / sales\",\n",
    "             45: \"net profit / inventory\",\n",
    "             46: \"(current assets - inventory) / short-term liabilities\",\n",
    "             47: \"(inventory * 365) / cost of products sold\",\n",
    "             48: \"EBITDA (profit on operating activities - depreciation) / total assets\",\n",
    "             49: \"EBITDA (profit on operating activities - depreciation) / sales\",\n",
    "             50: \"current assets / total liabilities\",\n",
    "             51: \"short-term liabilities / total assets\",\n",
    "             52: \"(short-term liabilities * 365) / cost of products sold)\",\n",
    "             53: \"equity / fixed assets\",\n",
    "             54: \"constant capital / fixed assets\",\n",
    "             55: \"working capital\",\n",
    "             56: \"(sales - cost of products sold) / sales\",\n",
    "             57: \"(current assets - inventory - short-term liabilities) / (sales - gross profit - depreciation)\",\n",
    "             58: \"total costs /total sales\",\n",
    "             59: \"long-term liabilities / equity\",\n",
    "             60: \"sales / inventory\",\n",
    "             61: \"sales / receivables\",\n",
    "             62: \"(short-term liabilities *365) / sales\",\n",
    "             63: \"sales / short-term liabilities\",\n",
    "             64: \"sales / fixed assets\"}"
   ]
  },
  {
   "cell_type": "markdown",
   "id": "7572c232",
   "metadata": {},
   "source": [
    "Code for a plotting function to help select classification threshold"
   ]
  },
  {
   "cell_type": "code",
   "execution_count": 112,
   "id": "0b7675ac",
   "metadata": {},
   "outputs": [],
   "source": [
    "def visualize_thresholds(name, model, x_train, y_train, x_test, y_test, try_threshold):\n",
    "    precisions = []\n",
    "    recalls = []\n",
    "    accuracies = []\n",
    "    thresholds = np.linspace(0,1,100)\n",
    "    # for each potential threshold:\n",
    "    for threshold in thresholds:\n",
    "        # make predictions based on that threshold\n",
    "        y_pred_proba = model.predict_proba(x_test)[:,1]\n",
    "        preds = (y_pred_proba >= threshold).astype(int)\n",
    "        # calculate precision and store that\n",
    "        precision = precision_score(y_test, preds)\n",
    "        precisions.append(precision)\n",
    "        # calculate recall and store that\n",
    "        recall = recall_score(y_test, preds)\n",
    "        recalls.append(recall)\n",
    "        # calculate accuracy and store that\n",
    "        accuracy = accuracy_score(y_test, preds)\n",
    "        accuracies.append(accuracy)\n",
    "        \n",
    "    # plot it all!\n",
    "    plt.figure(figsize=[10,6])\n",
    "    plt.plot(precisions,label=\"precision\")\n",
    "    plt.plot(recalls,label=\"recall\")\n",
    "    plt.plot(accuracies,label=\"accuracy\")\n",
    "    plt.axvline(x = try_threshold*100, color = 'b', label = 'threshold ='+str(try_threshold))\n",
    "    plt.title(\"Model Metrics for Different Threshold Values, \" + name)\n",
    "    plt.legend()"
   ]
  },
  {
   "cell_type": "markdown",
   "id": "79d0eadc",
   "metadata": {},
   "source": [
    "# Baseline: Always Predict 0"
   ]
  },
  {
   "cell_type": "code",
   "execution_count": 106,
   "id": "9e3c4810",
   "metadata": {},
   "outputs": [],
   "source": [
    "# baseline predictions\n",
    "baseline_preds = np.zeros(len(y_test_imputed))"
   ]
  },
  {
   "cell_type": "markdown",
   "id": "1e25b613",
   "metadata": {},
   "source": [
    "## Results"
   ]
  },
  {
   "cell_type": "markdown",
   "id": "9f387e92",
   "metadata": {},
   "source": [
    "Accuracy"
   ]
  },
  {
   "cell_type": "code",
   "execution_count": 107,
   "id": "fcd60925",
   "metadata": {},
   "outputs": [
    {
     "data": {
      "text/plain": [
       "0.9527798933739527"
      ]
     },
     "execution_count": 107,
     "metadata": {},
     "output_type": "execute_result"
    }
   ],
   "source": [
    "accuracy_score(baseline_preds, y_test_imputed)"
   ]
  },
  {
   "cell_type": "markdown",
   "id": "954192a1",
   "metadata": {},
   "source": [
    "Confusion Matrix"
   ]
  },
  {
   "cell_type": "code",
   "execution_count": 108,
   "id": "7f964b12",
   "metadata": {},
   "outputs": [
    {
     "name": "stdout",
     "output_type": "stream",
     "text": [
      "[[2502    0]\n",
      " [ 124    0]]\n"
     ]
    }
   ],
   "source": [
    "cm = metrics.confusion_matrix(y_test_imputed, baseline_preds)\n",
    "print(cm)"
   ]
  },
  {
   "cell_type": "markdown",
   "id": "c7854f78",
   "metadata": {},
   "source": [
    "Precision, Recall, F Score"
   ]
  },
  {
   "cell_type": "code",
   "execution_count": 109,
   "id": "11a7b7aa",
   "metadata": {},
   "outputs": [
    {
     "name": "stdout",
     "output_type": "stream",
     "text": [
      "Precision: 0.4763899466869764\n",
      "Recall: 0.5\n",
      "F Score: 0.4879095163806553\n"
     ]
    },
    {
     "name": "stderr",
     "output_type": "stream",
     "text": [
      "/Users/DanielChung/.julia/conda/3/lib/python3.9/site-packages/sklearn/metrics/_classification.py:1334: UndefinedMetricWarning: Precision and F-score are ill-defined and being set to 0.0 in labels with no predicted samples. Use `zero_division` parameter to control this behavior.\n",
      "  _warn_prf(average, modifier, msg_start, len(result))\n"
     ]
    }
   ],
   "source": [
    "baseline_results = precision_recall_fscore_support(y_test_imputed, baseline_preds, average='macro')\n",
    "baseline_precision, baseline_recall, baseline_fscore, baseline_support = baseline_results\n",
    "print(\"Precision: \" + str(baseline_precision))\n",
    "print(\"Recall: \" + str(baseline_recall))\n",
    "print(\"F Score: \" + str(baseline_fscore))"
   ]
  },
  {
   "cell_type": "markdown",
   "id": "211a1d1c",
   "metadata": {},
   "source": [
    "AUC"
   ]
  },
  {
   "cell_type": "code",
   "execution_count": 110,
   "id": "b87f342a",
   "metadata": {},
   "outputs": [
    {
     "data": {
      "image/png": "[encoded data removed]",
      "text/plain": [
       "<Figure size 640x480 with 1 Axes>"
      ]
     },
     "metadata": {},
     "output_type": "display_data"
    },
    {
     "name": "stdout",
     "output_type": "stream",
     "text": [
      "AUC:\n"
     ]
    },
    {
     "data": {
      "text/plain": [
       "0.5"
      ]
     },
     "execution_count": 110,
     "metadata": {},
     "output_type": "execute_result"
    }
   ],
   "source": [
    "y_pred_proba = baseline_preds\n",
    "fpr, tpr, _ = metrics.roc_curve(y_test_imputed,  y_pred_proba)\n",
    "\n",
    "# plotting ROC curve\n",
    "plt.plot(fpr,tpr)\n",
    "plt.ylabel('True Positive Rate')\n",
    "plt.xlabel('False Positive Rate')\n",
    "plt.show()\n",
    "\n",
    "print(\"AUC:\")\n",
    "roc_auc_score(y_test_imputed, baseline_preds)"
   ]
  },
  {
   "cell_type": "markdown",
   "id": "e7eb5775",
   "metadata": {},
   "source": [
    "PRAUC"
   ]
  },
  {
   "cell_type": "code",
   "execution_count": 111,
   "id": "7d3446f6",
   "metadata": {},
   "outputs": [
    {
     "data": {
      "text/plain": [
       "0.04722010662604722"
      ]
     },
     "execution_count": 111,
     "metadata": {},
     "output_type": "execute_result"
    }
   ],
   "source": [
    "baseline_probas = baseline_preds\n",
    "average_precision_score(y_test_imputed, baseline_probas, pos_label=1)"
   ]
  },
  {
   "cell_type": "markdown",
   "id": "80cc6b2c",
   "metadata": {},
   "source": [
    "# Logistic Regression"
   ]
  },
  {
   "cell_type": "markdown",
   "id": "8a3cf3e8",
   "metadata": {},
   "source": [
    "## Initial Model"
   ]
  },
  {
   "cell_type": "markdown",
   "id": "44ef1418",
   "metadata": {},
   "source": [
    "### Fit"
   ]
  },
  {
   "cell_type": "code",
   "execution_count": 7,
   "id": "d219b870",
   "metadata": {},
   "outputs": [],
   "source": [
    "from sklearn.linear_model import LogisticRegression"
   ]
  },
  {
   "cell_type": "code",
   "execution_count": 8,
   "id": "f18f6b2b",
   "metadata": {},
   "outputs": [],
   "source": [
    "lr_model = LogisticRegression()"
   ]
  },
  {
   "cell_type": "code",
   "execution_count": 9,
   "id": "c43e8c0d",
   "metadata": {
    "scrolled": false
   },
   "outputs": [
    {
     "name": "stderr",
     "output_type": "stream",
     "text": [
      "/Users/DanielChung/.julia/conda/3/lib/python3.9/site-packages/sklearn/linear_model/_logistic.py:444: ConvergenceWarning: lbfgs failed to converge (status=1):\n",
      "STOP: TOTAL NO. of ITERATIONS REACHED LIMIT.\n",
      "\n",
      "Increase the number of iterations (max_iter) or scale the data as shown in:\n",
      "    https://scikit-learn.org/stable/modules/preprocessing.html\n",
      "Please also refer to the documentation for alternative solver options:\n",
      "    https://scikit-learn.org/stable/modules/linear_model.html#logistic-regression\n",
      "  n_iter_i = _check_optimize_result(\n"
     ]
    },
    {
     "data": {
      "text/html": [
       "<style>#sk-container-id-1 {color: black;background-color: white;}#sk-container-id-1 pre{padding: 0;}#sk-container-id-1 div.sk-toggleable {background-color: white;}#sk-container-id-1 label.sk-toggleable__label {cursor: pointer;display: block;width: 100%;margin-bottom: 0;padding: 0.3em;box-sizing: border-box;text-align: center;}#sk-container-id-1 label.sk-toggleable__label-arrow:before {content: \"▸\";float: left;margin-right: 0.25em;color: #696969;}#sk-container-id-1 label.sk-toggleable__label-arrow:hover:before {color: black;}#sk-container-id-1 div.sk-estimator:hover label.sk-toggleable__label-arrow:before {color: black;}#sk-container-id-1 div.sk-toggleable__content {max-height: 0;max-width: 0;overflow: hidden;text-align: left;background-color: #f0f8ff;}#sk-container-id-1 div.sk-toggleable__content pre {margin: 0.2em;color: black;border-radius: 0.25em;background-color: #f0f8ff;}#sk-container-id-1 input.sk-toggleable__control:checked~div.sk-toggleable__content {max-height: 200px;max-width: 100%;overflow: auto;}#sk-container-id-1 input.sk-toggleable__control:checked~label.sk-toggleable__label-arrow:before {content: \"▾\";}#sk-container-id-1 div.sk-estimator input.sk-toggleable__control:checked~label.sk-toggleable__label {background-color: #d4ebff;}#sk-container-id-1 div.sk-label input.sk-toggleable__control:checked~label.sk-toggleable__label {background-color: #d4ebff;}#sk-container-id-1 input.sk-hidden--visually {border: 0;clip: rect(1px 1px 1px 1px);clip: rect(1px, 1px, 1px, 1px);height: 1px;margin: -1px;overflow: hidden;padding: 0;position: absolute;width: 1px;}#sk-container-id-1 div.sk-estimator {font-family: monospace;background-color: #f0f8ff;border: 1px dotted black;border-radius: 0.25em;box-sizing: border-box;margin-bottom: 0.5em;}#sk-container-id-1 div.sk-estimator:hover {background-color: #d4ebff;}#sk-container-id-1 div.sk-parallel-item::after {content: \"\";width: 100%;border-bottom: 1px solid gray;flex-grow: 1;}#sk-container-id-1 div.sk-label:hover label.sk-toggleable__label {background-color: #d4ebff;}#sk-container-id-1 div.sk-serial::before {content: \"\";position: absolute;border-left: 1px solid gray;box-sizing: border-box;top: 0;bottom: 0;left: 50%;z-index: 0;}#sk-container-id-1 div.sk-serial {display: flex;flex-direction: column;align-items: center;background-color: white;padding-right: 0.2em;padding-left: 0.2em;position: relative;}#sk-container-id-1 div.sk-item {position: relative;z-index: 1;}#sk-container-id-1 div.sk-parallel {display: flex;align-items: stretch;justify-content: center;background-color: white;position: relative;}#sk-container-id-1 div.sk-item::before, #sk-container-id-1 div.sk-parallel-item::before {content: \"\";position: absolute;border-left: 1px solid gray;box-sizing: border-box;top: 0;bottom: 0;left: 50%;z-index: -1;}#sk-container-id-1 div.sk-parallel-item {display: flex;flex-direction: column;z-index: 1;position: relative;background-color: white;}#sk-container-id-1 div.sk-parallel-item:first-child::after {align-self: flex-end;width: 50%;}#sk-container-id-1 div.sk-parallel-item:last-child::after {align-self: flex-start;width: 50%;}#sk-container-id-1 div.sk-parallel-item:only-child::after {width: 0;}#sk-container-id-1 div.sk-dashed-wrapped {border: 1px dashed gray;margin: 0 0.4em 0.5em 0.4em;box-sizing: border-box;padding-bottom: 0.4em;background-color: white;}#sk-container-id-1 div.sk-label label {font-family: monospace;font-weight: bold;display: inline-block;line-height: 1.2em;}#sk-container-id-1 div.sk-label-container {text-align: center;}#sk-container-id-1 div.sk-container {/* jupyter's `normalize.less` sets `[hidden] { display: none; }` but bootstrap.min.css set `[hidden] { display: none !important; }` so we also need the `!important` here to be able to override the default hidden behavior on the sphinx rendered scikit-learn.org. See: https://github.com/scikit-learn/scikit-learn/issues/21755 */display: inline-block !important;position: relative;}#sk-container-id-1 div.sk-text-repr-fallback {display: none;}</style><div id=\"sk-container-id-1\" class=\"sk-top-container\"><div class=\"sk-text-repr-fallback\"><pre>LogisticRegression()</pre><b>In a Jupyter environment, please rerun this cell to show the HTML representation or trust the notebook. <br />On GitHub, the HTML representation is unable to render, please try loading this page with nbviewer.org.</b></div><div class=\"sk-container\" hidden><div class=\"sk-item\"><div class=\"sk-estimator sk-toggleable\"><input class=\"sk-toggleable__control sk-hidden--visually\" id=\"sk-estimator-id-1\" type=\"checkbox\" checked><label for=\"sk-estimator-id-1\" class=\"sk-toggleable__label sk-toggleable__label-arrow\">LogisticRegression</label><div class=\"sk-toggleable__content\"><pre>LogisticRegression()</pre></div></div></div></div></div>"
      ],
      "text/plain": [
       "LogisticRegression()"
      ]
     },
     "execution_count": 9,
     "metadata": {},
     "output_type": "execute_result"
    }
   ],
   "source": [
    "lr_model.fit(x_train_imputed, y_train_imputed)"
   ]
  },
  {
   "cell_type": "code",
   "execution_count": 10,
   "id": "710d03b8",
   "metadata": {},
   "outputs": [],
   "source": [
    "# predictions\n",
    "lr_model_preds = lr_model.predict(x_test_imputed)"
   ]
  },
  {
   "cell_type": "markdown",
   "id": "780c8def",
   "metadata": {},
   "source": [
    "### Results"
   ]
  },
  {
   "cell_type": "markdown",
   "id": "6f5a4fcb",
   "metadata": {},
   "source": [
    "Accuracy"
   ]
  },
  {
   "cell_type": "code",
   "execution_count": 11,
   "id": "b4bc5615",
   "metadata": {
    "scrolled": false
   },
   "outputs": [
    {
     "data": {
      "text/plain": [
       "0.7056359482102056"
      ]
     },
     "execution_count": 11,
     "metadata": {},
     "output_type": "execute_result"
    }
   ],
   "source": [
    "lr_model.score(x_test_imputed, y_test_imputed)"
   ]
  },
  {
   "cell_type": "markdown",
   "id": "d77ff6ce",
   "metadata": {},
   "source": [
    "Confusion Matrix"
   ]
  },
  {
   "cell_type": "code",
   "execution_count": 12,
   "id": "f160955d",
   "metadata": {
    "scrolled": true
   },
   "outputs": [
    {
     "name": "stdout",
     "output_type": "stream",
     "text": [
      "[[1803  699]\n",
      " [  74   50]]\n"
     ]
    }
   ],
   "source": [
    "cm = metrics.confusion_matrix(y_test_imputed, lr_model_preds)\n",
    "print(cm)"
   ]
  },
  {
   "cell_type": "markdown",
   "id": "307dcefe",
   "metadata": {},
   "source": [
    "Precision, Recall, F Score"
   ]
  },
  {
   "cell_type": "code",
   "execution_count": 15,
   "id": "edbc4ba5",
   "metadata": {
    "scrolled": false
   },
   "outputs": [
    {
     "name": "stdout",
     "output_type": "stream",
     "text": [
      "Precision: 0.5136655302434857\n",
      "Recall: 0.5619246538253269\n",
      "F Score: 0.4690116083034016\n"
     ]
    }
   ],
   "source": [
    "lr_model_results = precision_recall_fscore_support(y_test_imputed, lr_model_preds, average='macro')\n",
    "lr_model_precision, lr_model_recall, lr_model_fscore, lr_model_support = lr_model_results\n",
    "print(\"Precision: \" + str(lr_model_precision))\n",
    "print(\"Recall: \" + str(lr_model_recall))\n",
    "print(\"F Score: \" + str(lr_model_fscore))"
   ]
  },
  {
   "cell_type": "markdown",
   "id": "3a1ca0a1",
   "metadata": {},
   "source": [
    "AUC"
   ]
  },
  {
   "cell_type": "code",
   "execution_count": 16,
   "id": "7ccf10ed",
   "metadata": {},
   "outputs": [
    {
     "data": {
      "image/png": "[encoded data removed]",
      "text/plain": [
       "<Figure size 640x480 with 1 Axes>"
      ]
     },
     "metadata": {},
     "output_type": "display_data"
    },
    {
     "name": "stdout",
     "output_type": "stream",
     "text": [
      "AUC:\n"
     ]
    },
    {
     "data": {
      "text/plain": [
       "0.5888869549521674"
      ]
     },
     "execution_count": 16,
     "metadata": {},
     "output_type": "execute_result"
    }
   ],
   "source": [
    "y_pred_proba = lr_model.predict_proba(x_test_imputed)[::,1]\n",
    "fpr, tpr, _ = metrics.roc_curve(y_test_imputed,  y_pred_proba)\n",
    "\n",
    "# plotting ROC curve\n",
    "plt.plot(fpr,tpr)\n",
    "plt.ylabel('True Positive Rate')\n",
    "plt.xlabel('False Positive Rate')\n",
    "plt.show()\n",
    "\n",
    "print(\"AUC:\")\n",
    "roc_auc_score(y_test_imputed, lr_model.predict_proba(x_test_imputed)[:,1])"
   ]
  },
  {
   "cell_type": "markdown",
   "id": "dc1ec3c3",
   "metadata": {},
   "source": [
    "PRAUC"
   ]
  },
  {
   "cell_type": "code",
   "execution_count": 17,
   "id": "66acae7f",
   "metadata": {},
   "outputs": [
    {
     "data": {
      "text/plain": [
       "0.06312129714731511"
      ]
     },
     "execution_count": 17,
     "metadata": {},
     "output_type": "execute_result"
    }
   ],
   "source": [
    "lr_model_probas = lr_model.predict_proba(x_test_imputed)\n",
    "average_precision_score(y_test_imputed, lr_model_probas[:,1],pos_label=1)"
   ]
  },
  {
   "cell_type": "markdown",
   "id": "b276e2b9",
   "metadata": {},
   "source": [
    "### Interpretation"
   ]
  },
  {
   "cell_type": "markdown",
   "id": "ec6771be",
   "metadata": {},
   "source": [
    "Coefficient magnitude:"
   ]
  },
  {
   "cell_type": "code",
   "execution_count": 18,
   "id": "1bb22b83",
   "metadata": {
    "scrolled": true
   },
   "outputs": [
    {
     "data": {
      "image/png": "[encoded data removed]",
      "text/plain": [
       "<Figure size 1850x450 with 1 Axes>"
      ]
     },
     "metadata": {},
     "output_type": "display_data"
    }
   ],
   "source": [
    "# creating a dataframe where rows are features\n",
    "# and columns are logistic regression coef\n",
    "to_plot = pd.DataFrame(range(1,65),columns=[\"attr\"])\n",
    "to_plot[\"coef\"] = lr_model.coef_[0]\n",
    "\n",
    "# plotting feature coefs (and by extension, feature importance)\n",
    "fig, ax = plt.subplots()\n",
    "fig.set_size_inches(18.5, 4.5)\n",
    "\n",
    "to_plot['sign'] = to_plot['coef'] > 0\n",
    "to_plot['coef'].plot(kind='bar', color=to_plot.sign.map({True: (1.0, 0, 0, 0.7), False: (0, 0.6, 0, 0.7)}), \n",
    "                      ax=ax)\n",
    "ax.set_xticklabels(range(1,65), rotation = 0);\n",
    "ax.axhline(0, color='k');\n",
    "ax.set_xlabel(\"attribute\");\n",
    "ax.set_ylabel(\"logistic regression coef\");\n",
    "ax.set_title(\"Logistic Regression Coefficients (Intercept Excluded), Bankrupcy Classifier\");"
   ]
  },
  {
   "cell_type": "code",
   "execution_count": 19,
   "id": "7c939af3",
   "metadata": {
    "scrolled": false
   },
   "outputs": [
    {
     "name": "stdout",
     "output_type": "stream",
     "text": [
      "attribues that decrease predicted probability of bankrupcy (in desc order of coef size):\n",
      "====\n",
      "book value of equity / total liabilities\n",
      "gross profit / short-term liabilities\n",
      "total assets / total liabilities\n"
     ]
    }
   ],
   "source": [
    "print(\"attribues that decrease predicted probability of bankrupcy (in desc order of coef size):\")\n",
    "print(\"====\")\n",
    "print(attributes[8])\n",
    "print(attributes[12])\n",
    "print(attributes[17])"
   ]
  },
  {
   "cell_type": "code",
   "execution_count": 20,
   "id": "e535fe1b",
   "metadata": {},
   "outputs": [
    {
     "name": "stdout",
     "output_type": "stream",
     "text": [
      "attribues that increase predicted probability of bankrupcy (in desc order of coef size):\n",
      "====\n",
      "operating expenses / short-term liabilities\n",
      "sales / fixed assets\n"
     ]
    }
   ],
   "source": [
    "print(\"attribues that increase predicted probability of bankrupcy (in desc order of coef size):\")\n",
    "print(\"====\")\n",
    "print(attributes[33])\n",
    "print(attributes[64])"
   ]
  },
  {
   "cell_type": "markdown",
   "id": "d655d769",
   "metadata": {},
   "source": [
    "Coefficient significance:"
   ]
  },
  {
   "cell_type": "code",
   "execution_count": 21,
   "id": "12625885",
   "metadata": {},
   "outputs": [],
   "source": [
    "# significanc helper function, from user David Dale, stack overflow\n",
    "def logit_pvalue(model, x):\n",
    "    \"\"\" Calculate z-scores for scikit-learn LogisticRegression.\n",
    "    parameters:\n",
    "        model: fitted sklearn.linear_model.LogisticRegression with intercept and large C\n",
    "        x:     matrix on which the model was fit\n",
    "    This function uses asymtptics for maximum likelihood estimates.\n",
    "    \"\"\"\n",
    "    p = model.predict_proba(x)\n",
    "    n = len(p)\n",
    "    m = len(model.coef_[0]) + 1\n",
    "    coefs = np.concatenate([model.intercept_, model.coef_[0]])\n",
    "    x_full = np.matrix(np.insert(np.array(x), 0, 1, axis = 1))\n",
    "    ans = np.zeros((m, m))\n",
    "    for i in range(n):\n",
    "        ans = ans + np.dot(np.transpose(x_full[i, :]), x_full[i, :]) * p[i,1] * p[i, 0]\n",
    "    vcov = np.linalg.inv(np.matrix(ans))\n",
    "    se = np.sqrt(np.diag(vcov))\n",
    "    t =  coefs/se  \n",
    "    p = (1 - norm.cdf(abs(t))) * 2\n",
    "    return p"
   ]
  },
  {
   "cell_type": "code",
   "execution_count": 22,
   "id": "cb5d9221",
   "metadata": {},
   "outputs": [],
   "source": [
    "# finding coefficient significance\n",
    "lr_model_sigs = logit_pvalue(lr_model, x_train_imputed)"
   ]
  },
  {
   "cell_type": "code",
   "execution_count": 23,
   "id": "bc82e1e2",
   "metadata": {},
   "outputs": [
    {
     "data": {
      "image/png": "[encoded data removed]",
      "text/plain": [
       "<Figure size 1850x450 with 1 Axes>"
      ]
     },
     "metadata": {},
     "output_type": "display_data"
    }
   ],
   "source": [
    "# creating a dataframe where rows are features\n",
    "# and columns are logistic regression coef\n",
    "to_plot = pd.DataFrame(range(0,65),columns=[\"attr\"])\n",
    "to_plot[\"significance\"] = lr_model_sigs\n",
    "\n",
    "# plotting feature coefs (and by extension, feature importance)\n",
    "fig, ax = plt.subplots()\n",
    "fig.set_size_inches(18.5, 4.5)\n",
    "\n",
    "to_plot['sign'] = to_plot['significance'] > 0\n",
    "to_plot['significance'].plot(kind='bar', color=to_plot.sign.map({True: (1.0, 0, 0, 0.7), False: (0, 0.6, 0, 0.7)}), \n",
    "                      ax=ax)\n",
    "ax.set_xticklabels(range(0,65), rotation = 0);\n",
    "ax.axhline(0, color='k');\n",
    "ax.set_xlabel(\"attribute (0 = intercept)\");\n",
    "ax.set_ylabel(\"logistic regression coef significance\");\n",
    "ax.set_title(\"Cross-Validated Logistic Regression Coefficient Significance, Bankrupcy Classifier\");\n",
    "ax.axhline(0.05);"
   ]
  },
  {
   "cell_type": "code",
   "execution_count": 24,
   "id": "3ce53b04",
   "metadata": {},
   "outputs": [
    {
     "name": "stdout",
     "output_type": "stream",
     "text": [
      "attibutes with significant (p<=0.05) regression coefficients:\n",
      "====\n",
      "(total liabilities * 365) / (gross profit + depreciation)\n",
      "profit on operating activities / financial expenses\n",
      "working capital\n",
      "sales / inventory\n",
      "sales / fixed assets\n"
     ]
    }
   ],
   "source": [
    "print(\"attibutes with significant (p<=0.05) regression coefficients:\")\n",
    "print(\"====\")\n",
    "print(attributes[15])\n",
    "print(attributes[27])\n",
    "print(attributes[55])\n",
    "print(attributes[60])\n",
    "print(attributes[64])"
   ]
  },
  {
   "cell_type": "markdown",
   "id": "872427a8",
   "metadata": {},
   "source": [
    "## Sparse Model"
   ]
  },
  {
   "cell_type": "markdown",
   "id": "94540ad5",
   "metadata": {},
   "source": [
    "Retraining using only significant coefficients"
   ]
  },
  {
   "cell_type": "markdown",
   "id": "ceca4149",
   "metadata": {},
   "source": [
    "### Fit"
   ]
  },
  {
   "cell_type": "code",
   "execution_count": 27,
   "id": "3f688f7b",
   "metadata": {},
   "outputs": [],
   "source": [
    "lr_model2 = LogisticRegression()"
   ]
  },
  {
   "cell_type": "code",
   "execution_count": 28,
   "id": "d9488f06",
   "metadata": {},
   "outputs": [],
   "source": [
    "# x imputed with only significant regression coefficients included\n",
    "x_train_signif = x_train_imputed[[\"Attr15\",\"Attr27\",\"Attr55\",\"Attr60\",\"Attr64\"]]\n",
    "x_test_signif = x_test_imputed[[\"Attr15\",\"Attr27\",\"Attr55\",\"Attr60\",\"Attr64\"]]"
   ]
  },
  {
   "cell_type": "code",
   "execution_count": 29,
   "id": "a4e0cb59",
   "metadata": {
    "scrolled": false
   },
   "outputs": [
    {
     "data": {
      "text/html": [
       "<style>#sk-container-id-2 {color: black;background-color: white;}#sk-container-id-2 pre{padding: 0;}#sk-container-id-2 div.sk-toggleable {background-color: white;}#sk-container-id-2 label.sk-toggleable__label {cursor: pointer;display: block;width: 100%;margin-bottom: 0;padding: 0.3em;box-sizing: border-box;text-align: center;}#sk-container-id-2 label.sk-toggleable__label-arrow:before {content: \"▸\";float: left;margin-right: 0.25em;color: #696969;}#sk-container-id-2 label.sk-toggleable__label-arrow:hover:before {color: black;}#sk-container-id-2 div.sk-estimator:hover label.sk-toggleable__label-arrow:before {color: black;}#sk-container-id-2 div.sk-toggleable__content {max-height: 0;max-width: 0;overflow: hidden;text-align: left;background-color: #f0f8ff;}#sk-container-id-2 div.sk-toggleable__content pre {margin: 0.2em;color: black;border-radius: 0.25em;background-color: #f0f8ff;}#sk-container-id-2 input.sk-toggleable__control:checked~div.sk-toggleable__content {max-height: 200px;max-width: 100%;overflow: auto;}#sk-container-id-2 input.sk-toggleable__control:checked~label.sk-toggleable__label-arrow:before {content: \"▾\";}#sk-container-id-2 div.sk-estimator input.sk-toggleable__control:checked~label.sk-toggleable__label {background-color: #d4ebff;}#sk-container-id-2 div.sk-label input.sk-toggleable__control:checked~label.sk-toggleable__label {background-color: #d4ebff;}#sk-container-id-2 input.sk-hidden--visually {border: 0;clip: rect(1px 1px 1px 1px);clip: rect(1px, 1px, 1px, 1px);height: 1px;margin: -1px;overflow: hidden;padding: 0;position: absolute;width: 1px;}#sk-container-id-2 div.sk-estimator {font-family: monospace;background-color: #f0f8ff;border: 1px dotted black;border-radius: 0.25em;box-sizing: border-box;margin-bottom: 0.5em;}#sk-container-id-2 div.sk-estimator:hover {background-color: #d4ebff;}#sk-container-id-2 div.sk-parallel-item::after {content: \"\";width: 100%;border-bottom: 1px solid gray;flex-grow: 1;}#sk-container-id-2 div.sk-label:hover label.sk-toggleable__label {background-color: #d4ebff;}#sk-container-id-2 div.sk-serial::before {content: \"\";position: absolute;border-left: 1px solid gray;box-sizing: border-box;top: 0;bottom: 0;left: 50%;z-index: 0;}#sk-container-id-2 div.sk-serial {display: flex;flex-direction: column;align-items: center;background-color: white;padding-right: 0.2em;padding-left: 0.2em;position: relative;}#sk-container-id-2 div.sk-item {position: relative;z-index: 1;}#sk-container-id-2 div.sk-parallel {display: flex;align-items: stretch;justify-content: center;background-color: white;position: relative;}#sk-container-id-2 div.sk-item::before, #sk-container-id-2 div.sk-parallel-item::before {content: \"\";position: absolute;border-left: 1px solid gray;box-sizing: border-box;top: 0;bottom: 0;left: 50%;z-index: -1;}#sk-container-id-2 div.sk-parallel-item {display: flex;flex-direction: column;z-index: 1;position: relative;background-color: white;}#sk-container-id-2 div.sk-parallel-item:first-child::after {align-self: flex-end;width: 50%;}#sk-container-id-2 div.sk-parallel-item:last-child::after {align-self: flex-start;width: 50%;}#sk-container-id-2 div.sk-parallel-item:only-child::after {width: 0;}#sk-container-id-2 div.sk-dashed-wrapped {border: 1px dashed gray;margin: 0 0.4em 0.5em 0.4em;box-sizing: border-box;padding-bottom: 0.4em;background-color: white;}#sk-container-id-2 div.sk-label label {font-family: monospace;font-weight: bold;display: inline-block;line-height: 1.2em;}#sk-container-id-2 div.sk-label-container {text-align: center;}#sk-container-id-2 div.sk-container {/* jupyter's `normalize.less` sets `[hidden] { display: none; }` but bootstrap.min.css set `[hidden] { display: none !important; }` so we also need the `!important` here to be able to override the default hidden behavior on the sphinx rendered scikit-learn.org. See: https://github.com/scikit-learn/scikit-learn/issues/21755 */display: inline-block !important;position: relative;}#sk-container-id-2 div.sk-text-repr-fallback {display: none;}</style><div id=\"sk-container-id-2\" class=\"sk-top-container\"><div class=\"sk-text-repr-fallback\"><pre>LogisticRegression()</pre><b>In a Jupyter environment, please rerun this cell to show the HTML representation or trust the notebook. <br />On GitHub, the HTML representation is unable to render, please try loading this page with nbviewer.org.</b></div><div class=\"sk-container\" hidden><div class=\"sk-item\"><div class=\"sk-estimator sk-toggleable\"><input class=\"sk-toggleable__control sk-hidden--visually\" id=\"sk-estimator-id-2\" type=\"checkbox\" checked><label for=\"sk-estimator-id-2\" class=\"sk-toggleable__label sk-toggleable__label-arrow\">LogisticRegression</label><div class=\"sk-toggleable__content\"><pre>LogisticRegression()</pre></div></div></div></div></div>"
      ],
      "text/plain": [
       "LogisticRegression()"
      ]
     },
     "execution_count": 29,
     "metadata": {},
     "output_type": "execute_result"
    }
   ],
   "source": [
    " lr_model2.fit(x_train_signif, y_train_imputed)"
   ]
  },
  {
   "cell_type": "code",
   "execution_count": 30,
   "id": "02c671de",
   "metadata": {},
   "outputs": [],
   "source": [
    "# predictions\n",
    "lr_model2_preds = lr_model2.predict(x_test_signif)"
   ]
  },
  {
   "cell_type": "markdown",
   "id": "fbb0a0d9",
   "metadata": {},
   "source": [
    "### Results"
   ]
  },
  {
   "cell_type": "markdown",
   "id": "2f8dcdbd",
   "metadata": {},
   "source": [
    "Accuracy"
   ]
  },
  {
   "cell_type": "code",
   "execution_count": 31,
   "id": "59ab8075",
   "metadata": {},
   "outputs": [
    {
     "data": {
      "text/plain": [
       "0.682025894897182"
      ]
     },
     "execution_count": 31,
     "metadata": {},
     "output_type": "execute_result"
    }
   ],
   "source": [
    "lr_model2.score(x_test_signif, y_test_imputed)"
   ]
  },
  {
   "cell_type": "markdown",
   "id": "e8276cfb",
   "metadata": {},
   "source": [
    "Confusion Matrix"
   ]
  },
  {
   "cell_type": "code",
   "execution_count": 32,
   "id": "c6a538e5",
   "metadata": {},
   "outputs": [
    {
     "name": "stdout",
     "output_type": "stream",
     "text": [
      "[[1741  761]\n",
      " [  74   50]]\n"
     ]
    }
   ],
   "source": [
    "cm = metrics.confusion_matrix(y_test_imputed, lr_model2_preds)\n",
    "print(cm)"
   ]
  },
  {
   "cell_type": "markdown",
   "id": "39db375f",
   "metadata": {},
   "source": [
    "Precision, Recall, F Score"
   ]
  },
  {
   "cell_type": "code",
   "execution_count": 33,
   "id": "ef9c54b2",
   "metadata": {
    "scrolled": false
   },
   "outputs": [
    {
     "name": "stdout",
     "output_type": "stream",
     "text": [
      "Precision: 0.5104404656360715\n",
      "Recall: 0.5495345658956705\n",
      "F Score: 0.4567652571168084\n"
     ]
    }
   ],
   "source": [
    "lr_model2_results = precision_recall_fscore_support(y_test_imputed, lr_model2_preds, average='macro')\n",
    "lr_model2_precision, lr_model2_recall, lr_model2_fscore, lr_model2_support = lr_model2_results\n",
    "print(\"Precision: \" + str(lr_model2_precision))\n",
    "print(\"Recall: \" + str(lr_model2_recall))\n",
    "print(\"F Score: \" + str(lr_model2_fscore))"
   ]
  },
  {
   "cell_type": "markdown",
   "id": "9956bd05",
   "metadata": {},
   "source": [
    "AUC"
   ]
  },
  {
   "cell_type": "code",
   "execution_count": 34,
   "id": "d8d4899c",
   "metadata": {},
   "outputs": [
    {
     "data": {
      "image/png": "[encoded data removed]",
      "text/plain": [
       "<Figure size 640x480 with 1 Axes>"
      ]
     },
     "metadata": {},
     "output_type": "display_data"
    },
    {
     "name": "stdout",
     "output_type": "stream",
     "text": [
      "AUC:\n"
     ]
    },
    {
     "data": {
      "text/plain": [
       "0.5785919651375675"
      ]
     },
     "execution_count": 34,
     "metadata": {},
     "output_type": "execute_result"
    }
   ],
   "source": [
    "y_pred_proba = lr_model2.predict_proba(x_test_signif)[::,1]\n",
    "fpr, tpr, _ = metrics.roc_curve(y_test_imputed,  y_pred_proba)\n",
    "\n",
    "# plotting ROC curve\n",
    "plt.plot(fpr,tpr)\n",
    "plt.ylabel('True Positive Rate')\n",
    "plt.xlabel('False Positive Rate')\n",
    "plt.show()\n",
    "\n",
    "print(\"AUC:\")\n",
    "roc_auc_score(y_test_imputed, lr_model2.predict_proba(x_test_signif)[:,1])"
   ]
  },
  {
   "cell_type": "markdown",
   "id": "989e227e",
   "metadata": {},
   "source": [
    "PRAUC"
   ]
  },
  {
   "cell_type": "code",
   "execution_count": 35,
   "id": "87d91db9",
   "metadata": {},
   "outputs": [
    {
     "data": {
      "text/plain": [
       "0.06323150573388689"
      ]
     },
     "execution_count": 35,
     "metadata": {},
     "output_type": "execute_result"
    }
   ],
   "source": [
    "lr_model2_probas = lr_model2.predict_proba(x_test_signif)\n",
    "average_precision_score(y_test_imputed, lr_model2_probas[:,1],pos_label=1)"
   ]
  },
  {
   "cell_type": "markdown",
   "id": "682b2440",
   "metadata": {},
   "source": [
    "### Interpretation"
   ]
  },
  {
   "cell_type": "markdown",
   "id": "0f19922b",
   "metadata": {},
   "source": [
    "Coefficient magnitude:"
   ]
  },
  {
   "cell_type": "code",
   "execution_count": 102,
   "id": "eec0faf1",
   "metadata": {},
   "outputs": [
    {
     "data": {
      "image/png": "[encoded data removed]",
      "text/plain": [
       "<Figure size 1850x450 with 1 Axes>"
      ]
     },
     "metadata": {},
     "output_type": "display_data"
    }
   ],
   "source": [
    "# creating a dataframe where rows are features\n",
    "# and columns are logistic regression coef\n",
    "to_plot = pd.DataFrame([15,27,55,60,64],columns=[\"attr\"])\n",
    "to_plot[\"coef\"] = lr_model2.coef_[0]\n",
    "\n",
    "# plotting feature coefs (and by extension, feature importance)\n",
    "fig, ax = plt.subplots()\n",
    "fig.set_size_inches(18.5, 4.5)\n",
    "\n",
    "to_plot['sign'] = to_plot['coef'] > 0\n",
    "to_plot['coef'].plot(kind='bar', color=to_plot.sign.map({True: (1.0, 0, 0, 0.7), False: (0, 0.6, 0, 0.7)}), \n",
    "                      ax=ax)\n",
    "ax.set_xticklabels([15,27,55,60,64], rotation = 0);\n",
    "ax.axhline(0, color='k');\n",
    "ax.set_xlabel(\"attribute\");\n",
    "ax.set_ylabel(\"logistic regression coef\");\n",
    "ax.set_title(\"Significant Logistic Regression Coefficients (Intercept Excluded), Bankrupcy Classifier\");"
   ]
  },
  {
   "cell_type": "code",
   "execution_count": 37,
   "id": "0c6eb5cc",
   "metadata": {},
   "outputs": [
    {
     "name": "stdout",
     "output_type": "stream",
     "text": [
      "significant attribues that increase predicted probability of bankrupcy (in desc order of coef size):\n",
      "====\n",
      "sales / fixed assets\n"
     ]
    }
   ],
   "source": [
    "print(\"significant attribues that increase predicted probability of bankrupcy (in desc order of coef size):\")\n",
    "print(\"====\")\n",
    "print(attributes[64])"
   ]
  },
  {
   "cell_type": "markdown",
   "id": "994a4876",
   "metadata": {},
   "source": [
    "## Cross-Validated Model"
   ]
  },
  {
   "cell_type": "markdown",
   "id": "29d7da6e",
   "metadata": {},
   "source": [
    "### Fit"
   ]
  },
  {
   "cell_type": "markdown",
   "id": "638c4c44",
   "metadata": {},
   "source": [
    "Improving model performance using Regularization"
   ]
  },
  {
   "cell_type": "code",
   "execution_count": 38,
   "id": "2b761d74",
   "metadata": {},
   "outputs": [],
   "source": [
    "# creating random grid\n",
    "penalty = ['none','l2','l1','elaticnet']\n",
    "lam = [x for x in np.linspace(start = 0, stop = 1, num = 100)]\n",
    "\n",
    "# random grid\n",
    "random_grid = {'penalty': penalty,'C':lam}"
   ]
  },
  {
   "cell_type": "code",
   "execution_count": 39,
   "id": "3e936626",
   "metadata": {
    "scrolled": true
   },
   "outputs": [
    {
     "name": "stdout",
     "output_type": "stream",
     "text": [
      "Fitting 3 folds for each of 100 candidates, totalling 300 fits\n"
     ]
    },
    {
     "name": "stderr",
     "output_type": "stream",
     "text": [
      "/Users/DanielChung/.julia/conda/3/lib/python3.9/site-packages/sklearn/linear_model/_logistic.py:444: ConvergenceWarning: lbfgs failed to converge (status=1):\n",
      "STOP: TOTAL NO. of ITERATIONS REACHED LIMIT.\n",
      "\n",
      "Increase the number of iterations (max_iter) or scale the data as shown in:\n",
      "    https://scikit-learn.org/stable/modules/preprocessing.html\n",
      "Please also refer to the documentation for alternative solver options:\n",
      "    https://scikit-learn.org/stable/modules/linear_model.html#logistic-regression\n",
      "  n_iter_i = _check_optimize_result(\n",
      "/Users/DanielChung/.julia/conda/3/lib/python3.9/site-packages/sklearn/linear_model/_logistic.py:1113: UserWarning: Setting penalty='none' will ignore the C and l1_ratio parameters\n",
      "  warnings.warn(\n",
      "/Users/DanielChung/.julia/conda/3/lib/python3.9/site-packages/sklearn/linear_model/_logistic.py:1113: UserWarning: Setting penalty='none' will ignore the C and l1_ratio parameters\n",
      "  warnings.warn(\n",
      "/Users/DanielChung/.julia/conda/3/lib/python3.9/site-packages/sklearn/linear_model/_logistic.py:444: ConvergenceWarning: lbfgs failed to converge (status=1):\n",
      "STOP: TOTAL NO. of ITERATIONS REACHED LIMIT.\n",
      "\n",
      "Increase the number of iterations (max_iter) or scale the data as shown in:\n",
      "    https://scikit-learn.org/stable/modules/preprocessing.html\n",
      "Please also refer to the documentation for alternative solver options:\n",
      "    https://scikit-learn.org/stable/modules/linear_model.html#logistic-regression\n",
      "  n_iter_i = _check_optimize_result(\n",
      "/Users/DanielChung/.julia/conda/3/lib/python3.9/site-packages/sklearn/linear_model/_logistic.py:1113: UserWarning: Setting penalty='none' will ignore the C and l1_ratio parameters\n",
      "  warnings.warn(\n",
      "/Users/DanielChung/.julia/conda/3/lib/python3.9/site-packages/sklearn/linear_model/_logistic.py:444: ConvergenceWarning: lbfgs failed to converge (status=1):\n",
      "STOP: TOTAL NO. of ITERATIONS REACHED LIMIT.\n",
      "\n",
      "Increase the number of iterations (max_iter) or scale the data as shown in:\n",
      "    https://scikit-learn.org/stable/modules/preprocessing.html\n",
      "Please also refer to the documentation for alternative solver options:\n",
      "    https://scikit-learn.org/stable/modules/linear_model.html#logistic-regression\n",
      "  n_iter_i = _check_optimize_result(\n",
      "/Users/DanielChung/.julia/conda/3/lib/python3.9/site-packages/sklearn/linear_model/_logistic.py:444: ConvergenceWarning: lbfgs failed to converge (status=1):\n",
      "STOP: TOTAL NO. of ITERATIONS REACHED LIMIT.\n",
      "\n",
      "Increase the number of iterations (max_iter) or scale the data as shown in:\n",
      "    https://scikit-learn.org/stable/modules/preprocessing.html\n",
      "Please also refer to the documentation for alternative solver options:\n",
      "    https://scikit-learn.org/stable/modules/linear_model.html#logistic-regression\n",
      "  n_iter_i = _check_optimize_result(\n",
      "/Users/DanielChung/.julia/conda/3/lib/python3.9/site-packages/sklearn/linear_model/_logistic.py:444: ConvergenceWarning: lbfgs failed to converge (status=1):\n",
      "STOP: TOTAL NO. of ITERATIONS REACHED LIMIT.\n",
      "\n",
      "Increase the number of iterations (max_iter) or scale the data as shown in:\n",
      "    https://scikit-learn.org/stable/modules/preprocessing.html\n",
      "Please also refer to the documentation for alternative solver options:\n",
      "    https://scikit-learn.org/stable/modules/linear_model.html#logistic-regression\n",
      "  n_iter_i = _check_optimize_result(\n",
      "/Users/DanielChung/.julia/conda/3/lib/python3.9/site-packages/sklearn/linear_model/_logistic.py:444: ConvergenceWarning: lbfgs failed to converge (status=1):\n",
      "STOP: TOTAL NO. of ITERATIONS REACHED LIMIT.\n",
      "\n",
      "Increase the number of iterations (max_iter) or scale the data as shown in:\n",
      "    https://scikit-learn.org/stable/modules/preprocessing.html\n",
      "Please also refer to the documentation for alternative solver options:\n",
      "    https://scikit-learn.org/stable/modules/linear_model.html#logistic-regression\n",
      "  n_iter_i = _check_optimize_result(\n",
      "/Users/DanielChung/.julia/conda/3/lib/python3.9/site-packages/sklearn/linear_model/_logistic.py:444: ConvergenceWarning: lbfgs failed to converge (status=1):\n",
      "STOP: TOTAL NO. of ITERATIONS REACHED LIMIT.\n",
      "\n",
      "Increase the number of iterations (max_iter) or scale the data as shown in:\n",
      "    https://scikit-learn.org/stable/modules/preprocessing.html\n",
      "Please also refer to the documentation for alternative solver options:\n",
      "    https://scikit-learn.org/stable/modules/linear_model.html#logistic-regression\n",
      "  n_iter_i = _check_optimize_result(\n",
      "/Users/DanielChung/.julia/conda/3/lib/python3.9/site-packages/sklearn/linear_model/_logistic.py:444: ConvergenceWarning: lbfgs failed to converge (status=1):\n",
      "STOP: TOTAL NO. of ITERATIONS REACHED LIMIT.\n",
      "\n",
      "Increase the number of iterations (max_iter) or scale the data as shown in:\n",
      "    https://scikit-learn.org/stable/modules/preprocessing.html\n",
      "Please also refer to the documentation for alternative solver options:\n",
      "    https://scikit-learn.org/stable/modules/linear_model.html#logistic-regression\n",
      "  n_iter_i = _check_optimize_result(\n",
      "/Users/DanielChung/.julia/conda/3/lib/python3.9/site-packages/sklearn/linear_model/_logistic.py:1113: UserWarning: Setting penalty='none' will ignore the C and l1_ratio parameters\n",
      "  warnings.warn(\n",
      "/Users/DanielChung/.julia/conda/3/lib/python3.9/site-packages/sklearn/linear_model/_logistic.py:444: ConvergenceWarning: lbfgs failed to converge (status=1):\n",
      "STOP: TOTAL NO. of ITERATIONS REACHED LIMIT.\n",
      "\n",
      "Increase the number of iterations (max_iter) or scale the data as shown in:\n",
      "    https://scikit-learn.org/stable/modules/preprocessing.html\n",
      "Please also refer to the documentation for alternative solver options:\n",
      "    https://scikit-learn.org/stable/modules/linear_model.html#logistic-regression\n",
      "  n_iter_i = _check_optimize_result(\n",
      "/Users/DanielChung/.julia/conda/3/lib/python3.9/site-packages/sklearn/linear_model/_logistic.py:1113: UserWarning: Setting penalty='none' will ignore the C and l1_ratio parameters\n",
      "  warnings.warn(\n",
      "/Users/DanielChung/.julia/conda/3/lib/python3.9/site-packages/sklearn/linear_model/_logistic.py:1113: UserWarning: Setting penalty='none' will ignore the C and l1_ratio parameters\n",
      "  warnings.warn(\n",
      "/Users/DanielChung/.julia/conda/3/lib/python3.9/site-packages/sklearn/linear_model/_logistic.py:444: ConvergenceWarning: lbfgs failed to converge (status=1):\n",
      "STOP: TOTAL NO. of ITERATIONS REACHED LIMIT.\n",
      "\n",
      "Increase the number of iterations (max_iter) or scale the data as shown in:\n",
      "    https://scikit-learn.org/stable/modules/preprocessing.html\n",
      "Please also refer to the documentation for alternative solver options:\n",
      "    https://scikit-learn.org/stable/modules/linear_model.html#logistic-regression\n",
      "  n_iter_i = _check_optimize_result(\n",
      "/Users/DanielChung/.julia/conda/3/lib/python3.9/site-packages/sklearn/linear_model/_logistic.py:444: ConvergenceWarning: lbfgs failed to converge (status=1):\n",
      "STOP: TOTAL NO. of ITERATIONS REACHED LIMIT.\n",
      "\n",
      "Increase the number of iterations (max_iter) or scale the data as shown in:\n",
      "    https://scikit-learn.org/stable/modules/preprocessing.html\n",
      "Please also refer to the documentation for alternative solver options:\n",
      "    https://scikit-learn.org/stable/modules/linear_model.html#logistic-regression\n",
      "  n_iter_i = _check_optimize_result(\n",
      "/Users/DanielChung/.julia/conda/3/lib/python3.9/site-packages/sklearn/linear_model/_logistic.py:444: ConvergenceWarning: lbfgs failed to converge (status=1):\n",
      "STOP: TOTAL NO. of ITERATIONS REACHED LIMIT.\n",
      "\n",
      "Increase the number of iterations (max_iter) or scale the data as shown in:\n",
      "    https://scikit-learn.org/stable/modules/preprocessing.html\n",
      "Please also refer to the documentation for alternative solver options:\n",
      "    https://scikit-learn.org/stable/modules/linear_model.html#logistic-regression\n",
      "  n_iter_i = _check_optimize_result(\n",
      "/Users/DanielChung/.julia/conda/3/lib/python3.9/site-packages/sklearn/linear_model/_logistic.py:444: ConvergenceWarning: lbfgs failed to converge (status=1):\n",
      "STOP: TOTAL NO. of ITERATIONS REACHED LIMIT.\n",
      "\n",
      "Increase the number of iterations (max_iter) or scale the data as shown in:\n",
      "    https://scikit-learn.org/stable/modules/preprocessing.html\n",
      "Please also refer to the documentation for alternative solver options:\n",
      "    https://scikit-learn.org/stable/modules/linear_model.html#logistic-regression\n",
      "  n_iter_i = _check_optimize_result(\n",
      "/Users/DanielChung/.julia/conda/3/lib/python3.9/site-packages/sklearn/linear_model/_logistic.py:444: ConvergenceWarning: lbfgs failed to converge (status=1):\n",
      "STOP: TOTAL NO. of ITERATIONS REACHED LIMIT.\n",
      "\n",
      "Increase the number of iterations (max_iter) or scale the data as shown in:\n",
      "    https://scikit-learn.org/stable/modules/preprocessing.html\n",
      "Please also refer to the documentation for alternative solver options:\n",
      "    https://scikit-learn.org/stable/modules/linear_model.html#logistic-regression\n",
      "  n_iter_i = _check_optimize_result(\n",
      "/Users/DanielChung/.julia/conda/3/lib/python3.9/site-packages/sklearn/linear_model/_logistic.py:444: ConvergenceWarning: lbfgs failed to converge (status=1):\n",
      "STOP: TOTAL NO. of ITERATIONS REACHED LIMIT.\n",
      "\n",
      "Increase the number of iterations (max_iter) or scale the data as shown in:\n",
      "    https://scikit-learn.org/stable/modules/preprocessing.html\n",
      "Please also refer to the documentation for alternative solver options:\n",
      "    https://scikit-learn.org/stable/modules/linear_model.html#logistic-regression\n",
      "  n_iter_i = _check_optimize_result(\n",
      "/Users/DanielChung/.julia/conda/3/lib/python3.9/site-packages/sklearn/linear_model/_logistic.py:444: ConvergenceWarning: lbfgs failed to converge (status=1):\n",
      "STOP: TOTAL NO. of ITERATIONS REACHED LIMIT.\n",
      "\n",
      "Increase the number of iterations (max_iter) or scale the data as shown in:\n",
      "    https://scikit-learn.org/stable/modules/preprocessing.html\n",
      "Please also refer to the documentation for alternative solver options:\n",
      "    https://scikit-learn.org/stable/modules/linear_model.html#logistic-regression\n",
      "  n_iter_i = _check_optimize_result(\n",
      "/Users/DanielChung/.julia/conda/3/lib/python3.9/site-packages/sklearn/linear_model/_logistic.py:444: ConvergenceWarning: lbfgs failed to converge (status=1):\n",
      "STOP: TOTAL NO. of ITERATIONS REACHED LIMIT.\n",
      "\n",
      "Increase the number of iterations (max_iter) or scale the data as shown in:\n",
      "    https://scikit-learn.org/stable/modules/preprocessing.html\n",
      "Please also refer to the documentation for alternative solver options:\n",
      "    https://scikit-learn.org/stable/modules/linear_model.html#logistic-regression\n",
      "  n_iter_i = _check_optimize_result(\n",
      "/Users/DanielChung/.julia/conda/3/lib/python3.9/site-packages/sklearn/linear_model/_logistic.py:1113: UserWarning: Setting penalty='none' will ignore the C and l1_ratio parameters\n",
      "  warnings.warn(\n",
      "/Users/DanielChung/.julia/conda/3/lib/python3.9/site-packages/sklearn/linear_model/_logistic.py:444: ConvergenceWarning: lbfgs failed to converge (status=1):\n",
      "STOP: TOTAL NO. of ITERATIONS REACHED LIMIT.\n",
      "\n",
      "Increase the number of iterations (max_iter) or scale the data as shown in:\n",
      "    https://scikit-learn.org/stable/modules/preprocessing.html\n",
      "Please also refer to the documentation for alternative solver options:\n",
      "    https://scikit-learn.org/stable/modules/linear_model.html#logistic-regression\n",
      "  n_iter_i = _check_optimize_result(\n"
     ]
    },
    {
     "name": "stderr",
     "output_type": "stream",
     "text": [
      "/Users/DanielChung/.julia/conda/3/lib/python3.9/site-packages/sklearn/linear_model/_logistic.py:1113: UserWarning: Setting penalty='none' will ignore the C and l1_ratio parameters\n",
      "  warnings.warn(\n",
      "/Users/DanielChung/.julia/conda/3/lib/python3.9/site-packages/sklearn/linear_model/_logistic.py:444: ConvergenceWarning: lbfgs failed to converge (status=1):\n",
      "STOP: TOTAL NO. of ITERATIONS REACHED LIMIT.\n",
      "\n",
      "Increase the number of iterations (max_iter) or scale the data as shown in:\n",
      "    https://scikit-learn.org/stable/modules/preprocessing.html\n",
      "Please also refer to the documentation for alternative solver options:\n",
      "    https://scikit-learn.org/stable/modules/linear_model.html#logistic-regression\n",
      "  n_iter_i = _check_optimize_result(\n",
      "/Users/DanielChung/.julia/conda/3/lib/python3.9/site-packages/sklearn/linear_model/_logistic.py:444: ConvergenceWarning: lbfgs failed to converge (status=1):\n",
      "STOP: TOTAL NO. of ITERATIONS REACHED LIMIT.\n",
      "\n",
      "Increase the number of iterations (max_iter) or scale the data as shown in:\n",
      "    https://scikit-learn.org/stable/modules/preprocessing.html\n",
      "Please also refer to the documentation for alternative solver options:\n",
      "    https://scikit-learn.org/stable/modules/linear_model.html#logistic-regression\n",
      "  n_iter_i = _check_optimize_result(\n",
      "/Users/DanielChung/.julia/conda/3/lib/python3.9/site-packages/sklearn/linear_model/_logistic.py:444: ConvergenceWarning: lbfgs failed to converge (status=1):\n",
      "STOP: TOTAL NO. of ITERATIONS REACHED LIMIT.\n",
      "\n",
      "Increase the number of iterations (max_iter) or scale the data as shown in:\n",
      "    https://scikit-learn.org/stable/modules/preprocessing.html\n",
      "Please also refer to the documentation for alternative solver options:\n",
      "    https://scikit-learn.org/stable/modules/linear_model.html#logistic-regression\n",
      "  n_iter_i = _check_optimize_result(\n",
      "/Users/DanielChung/.julia/conda/3/lib/python3.9/site-packages/sklearn/linear_model/_logistic.py:1113: UserWarning: Setting penalty='none' will ignore the C and l1_ratio parameters\n",
      "  warnings.warn(\n",
      "/Users/DanielChung/.julia/conda/3/lib/python3.9/site-packages/sklearn/linear_model/_logistic.py:444: ConvergenceWarning: lbfgs failed to converge (status=1):\n",
      "STOP: TOTAL NO. of ITERATIONS REACHED LIMIT.\n",
      "\n",
      "Increase the number of iterations (max_iter) or scale the data as shown in:\n",
      "    https://scikit-learn.org/stable/modules/preprocessing.html\n",
      "Please also refer to the documentation for alternative solver options:\n",
      "    https://scikit-learn.org/stable/modules/linear_model.html#logistic-regression\n",
      "  n_iter_i = _check_optimize_result(\n",
      "/Users/DanielChung/.julia/conda/3/lib/python3.9/site-packages/sklearn/linear_model/_logistic.py:444: ConvergenceWarning: lbfgs failed to converge (status=1):\n",
      "STOP: TOTAL NO. of ITERATIONS REACHED LIMIT.\n",
      "\n",
      "Increase the number of iterations (max_iter) or scale the data as shown in:\n",
      "    https://scikit-learn.org/stable/modules/preprocessing.html\n",
      "Please also refer to the documentation for alternative solver options:\n",
      "    https://scikit-learn.org/stable/modules/linear_model.html#logistic-regression\n",
      "  n_iter_i = _check_optimize_result(\n",
      "/Users/DanielChung/.julia/conda/3/lib/python3.9/site-packages/sklearn/linear_model/_logistic.py:1113: UserWarning: Setting penalty='none' will ignore the C and l1_ratio parameters\n",
      "  warnings.warn(\n",
      "/Users/DanielChung/.julia/conda/3/lib/python3.9/site-packages/sklearn/linear_model/_logistic.py:444: ConvergenceWarning: lbfgs failed to converge (status=1):\n",
      "STOP: TOTAL NO. of ITERATIONS REACHED LIMIT.\n",
      "\n",
      "Increase the number of iterations (max_iter) or scale the data as shown in:\n",
      "    https://scikit-learn.org/stable/modules/preprocessing.html\n",
      "Please also refer to the documentation for alternative solver options:\n",
      "    https://scikit-learn.org/stable/modules/linear_model.html#logistic-regression\n",
      "  n_iter_i = _check_optimize_result(\n",
      "/Users/DanielChung/.julia/conda/3/lib/python3.9/site-packages/sklearn/linear_model/_logistic.py:444: ConvergenceWarning: lbfgs failed to converge (status=1):\n",
      "STOP: TOTAL NO. of ITERATIONS REACHED LIMIT.\n",
      "\n",
      "Increase the number of iterations (max_iter) or scale the data as shown in:\n",
      "    https://scikit-learn.org/stable/modules/preprocessing.html\n",
      "Please also refer to the documentation for alternative solver options:\n",
      "    https://scikit-learn.org/stable/modules/linear_model.html#logistic-regression\n",
      "  n_iter_i = _check_optimize_result(\n",
      "/Users/DanielChung/.julia/conda/3/lib/python3.9/site-packages/sklearn/linear_model/_logistic.py:1113: UserWarning: Setting penalty='none' will ignore the C and l1_ratio parameters\n",
      "  warnings.warn(\n",
      "/Users/DanielChung/.julia/conda/3/lib/python3.9/site-packages/sklearn/linear_model/_logistic.py:1113: UserWarning: Setting penalty='none' will ignore the C and l1_ratio parameters\n",
      "  warnings.warn(\n",
      "/Users/DanielChung/.julia/conda/3/lib/python3.9/site-packages/sklearn/linear_model/_logistic.py:1113: UserWarning: Setting penalty='none' will ignore the C and l1_ratio parameters\n",
      "  warnings.warn(\n",
      "/Users/DanielChung/.julia/conda/3/lib/python3.9/site-packages/sklearn/linear_model/_logistic.py:1113: UserWarning: Setting penalty='none' will ignore the C and l1_ratio parameters\n",
      "  warnings.warn(\n",
      "/Users/DanielChung/.julia/conda/3/lib/python3.9/site-packages/sklearn/linear_model/_logistic.py:1113: UserWarning: Setting penalty='none' will ignore the C and l1_ratio parameters\n",
      "  warnings.warn(\n",
      "/Users/DanielChung/.julia/conda/3/lib/python3.9/site-packages/sklearn/linear_model/_logistic.py:444: ConvergenceWarning: lbfgs failed to converge (status=1):\n",
      "STOP: TOTAL NO. of ITERATIONS REACHED LIMIT.\n",
      "\n",
      "Increase the number of iterations (max_iter) or scale the data as shown in:\n",
      "    https://scikit-learn.org/stable/modules/preprocessing.html\n",
      "Please also refer to the documentation for alternative solver options:\n",
      "    https://scikit-learn.org/stable/modules/linear_model.html#logistic-regression\n",
      "  n_iter_i = _check_optimize_result(\n",
      "/Users/DanielChung/.julia/conda/3/lib/python3.9/site-packages/sklearn/linear_model/_logistic.py:444: ConvergenceWarning: lbfgs failed to converge (status=1):\n",
      "STOP: TOTAL NO. of ITERATIONS REACHED LIMIT.\n",
      "\n",
      "Increase the number of iterations (max_iter) or scale the data as shown in:\n",
      "    https://scikit-learn.org/stable/modules/preprocessing.html\n",
      "Please also refer to the documentation for alternative solver options:\n",
      "    https://scikit-learn.org/stable/modules/linear_model.html#logistic-regression\n",
      "  n_iter_i = _check_optimize_result(\n",
      "/Users/DanielChung/.julia/conda/3/lib/python3.9/site-packages/sklearn/linear_model/_logistic.py:444: ConvergenceWarning: lbfgs failed to converge (status=1):\n",
      "STOP: TOTAL NO. of ITERATIONS REACHED LIMIT.\n",
      "\n",
      "Increase the number of iterations (max_iter) or scale the data as shown in:\n",
      "    https://scikit-learn.org/stable/modules/preprocessing.html\n",
      "Please also refer to the documentation for alternative solver options:\n",
      "    https://scikit-learn.org/stable/modules/linear_model.html#logistic-regression\n",
      "  n_iter_i = _check_optimize_result(\n",
      "/Users/DanielChung/.julia/conda/3/lib/python3.9/site-packages/sklearn/linear_model/_logistic.py:444: ConvergenceWarning: lbfgs failed to converge (status=1):\n",
      "STOP: TOTAL NO. of ITERATIONS REACHED LIMIT.\n",
      "\n",
      "Increase the number of iterations (max_iter) or scale the data as shown in:\n",
      "    https://scikit-learn.org/stable/modules/preprocessing.html\n",
      "Please also refer to the documentation for alternative solver options:\n",
      "    https://scikit-learn.org/stable/modules/linear_model.html#logistic-regression\n",
      "  n_iter_i = _check_optimize_result(\n",
      "/Users/DanielChung/.julia/conda/3/lib/python3.9/site-packages/sklearn/linear_model/_logistic.py:444: ConvergenceWarning: lbfgs failed to converge (status=1):\n",
      "STOP: TOTAL NO. of ITERATIONS REACHED LIMIT.\n",
      "\n",
      "Increase the number of iterations (max_iter) or scale the data as shown in:\n",
      "    https://scikit-learn.org/stable/modules/preprocessing.html\n",
      "Please also refer to the documentation for alternative solver options:\n",
      "    https://scikit-learn.org/stable/modules/linear_model.html#logistic-regression\n",
      "  n_iter_i = _check_optimize_result(\n",
      "/Users/DanielChung/.julia/conda/3/lib/python3.9/site-packages/sklearn/linear_model/_logistic.py:444: ConvergenceWarning: lbfgs failed to converge (status=1):\n",
      "STOP: TOTAL NO. of ITERATIONS REACHED LIMIT.\n",
      "\n",
      "Increase the number of iterations (max_iter) or scale the data as shown in:\n",
      "    https://scikit-learn.org/stable/modules/preprocessing.html\n",
      "Please also refer to the documentation for alternative solver options:\n",
      "    https://scikit-learn.org/stable/modules/linear_model.html#logistic-regression\n",
      "  n_iter_i = _check_optimize_result(\n",
      "/Users/DanielChung/.julia/conda/3/lib/python3.9/site-packages/sklearn/linear_model/_logistic.py:444: ConvergenceWarning: lbfgs failed to converge (status=1):\n",
      "STOP: TOTAL NO. of ITERATIONS REACHED LIMIT.\n",
      "\n",
      "Increase the number of iterations (max_iter) or scale the data as shown in:\n",
      "    https://scikit-learn.org/stable/modules/preprocessing.html\n",
      "Please also refer to the documentation for alternative solver options:\n",
      "    https://scikit-learn.org/stable/modules/linear_model.html#logistic-regression\n",
      "  n_iter_i = _check_optimize_result(\n",
      "/Users/DanielChung/.julia/conda/3/lib/python3.9/site-packages/sklearn/linear_model/_logistic.py:444: ConvergenceWarning: lbfgs failed to converge (status=1):\n",
      "STOP: TOTAL NO. of ITERATIONS REACHED LIMIT.\n",
      "\n",
      "Increase the number of iterations (max_iter) or scale the data as shown in:\n",
      "    https://scikit-learn.org/stable/modules/preprocessing.html\n",
      "Please also refer to the documentation for alternative solver options:\n",
      "    https://scikit-learn.org/stable/modules/linear_model.html#logistic-regression\n",
      "  n_iter_i = _check_optimize_result(\n",
      "/Users/DanielChung/.julia/conda/3/lib/python3.9/site-packages/sklearn/linear_model/_logistic.py:1113: UserWarning: Setting penalty='none' will ignore the C and l1_ratio parameters\n",
      "  warnings.warn(\n",
      "/Users/DanielChung/.julia/conda/3/lib/python3.9/site-packages/sklearn/linear_model/_logistic.py:1113: UserWarning: Setting penalty='none' will ignore the C and l1_ratio parameters\n",
      "  warnings.warn(\n",
      "/Users/DanielChung/.julia/conda/3/lib/python3.9/site-packages/sklearn/linear_model/_logistic.py:1113: UserWarning: Setting penalty='none' will ignore the C and l1_ratio parameters\n",
      "  warnings.warn(\n"
     ]
    },
    {
     "name": "stderr",
     "output_type": "stream",
     "text": [
      "/Users/DanielChung/.julia/conda/3/lib/python3.9/site-packages/sklearn/linear_model/_logistic.py:444: ConvergenceWarning: lbfgs failed to converge (status=1):\n",
      "STOP: TOTAL NO. of ITERATIONS REACHED LIMIT.\n",
      "\n",
      "Increase the number of iterations (max_iter) or scale the data as shown in:\n",
      "    https://scikit-learn.org/stable/modules/preprocessing.html\n",
      "Please also refer to the documentation for alternative solver options:\n",
      "    https://scikit-learn.org/stable/modules/linear_model.html#logistic-regression\n",
      "  n_iter_i = _check_optimize_result(\n",
      "/Users/DanielChung/.julia/conda/3/lib/python3.9/site-packages/sklearn/linear_model/_logistic.py:444: ConvergenceWarning: lbfgs failed to converge (status=1):\n",
      "STOP: TOTAL NO. of ITERATIONS REACHED LIMIT.\n",
      "\n",
      "Increase the number of iterations (max_iter) or scale the data as shown in:\n",
      "    https://scikit-learn.org/stable/modules/preprocessing.html\n",
      "Please also refer to the documentation for alternative solver options:\n",
      "    https://scikit-learn.org/stable/modules/linear_model.html#logistic-regression\n",
      "  n_iter_i = _check_optimize_result(\n",
      "/Users/DanielChung/.julia/conda/3/lib/python3.9/site-packages/sklearn/linear_model/_logistic.py:444: ConvergenceWarning: lbfgs failed to converge (status=1):\n",
      "STOP: TOTAL NO. of ITERATIONS REACHED LIMIT.\n",
      "\n",
      "Increase the number of iterations (max_iter) or scale the data as shown in:\n",
      "    https://scikit-learn.org/stable/modules/preprocessing.html\n",
      "Please also refer to the documentation for alternative solver options:\n",
      "    https://scikit-learn.org/stable/modules/linear_model.html#logistic-regression\n",
      "  n_iter_i = _check_optimize_result(\n",
      "/Users/DanielChung/.julia/conda/3/lib/python3.9/site-packages/sklearn/linear_model/_logistic.py:444: ConvergenceWarning: lbfgs failed to converge (status=1):\n",
      "STOP: TOTAL NO. of ITERATIONS REACHED LIMIT.\n",
      "\n",
      "Increase the number of iterations (max_iter) or scale the data as shown in:\n",
      "    https://scikit-learn.org/stable/modules/preprocessing.html\n",
      "Please also refer to the documentation for alternative solver options:\n",
      "    https://scikit-learn.org/stable/modules/linear_model.html#logistic-regression\n",
      "  n_iter_i = _check_optimize_result(\n",
      "/Users/DanielChung/.julia/conda/3/lib/python3.9/site-packages/sklearn/linear_model/_logistic.py:444: ConvergenceWarning: lbfgs failed to converge (status=1):\n",
      "STOP: TOTAL NO. of ITERATIONS REACHED LIMIT.\n",
      "\n",
      "Increase the number of iterations (max_iter) or scale the data as shown in:\n",
      "    https://scikit-learn.org/stable/modules/preprocessing.html\n",
      "Please also refer to the documentation for alternative solver options:\n",
      "    https://scikit-learn.org/stable/modules/linear_model.html#logistic-regression\n",
      "  n_iter_i = _check_optimize_result(\n",
      "/Users/DanielChung/.julia/conda/3/lib/python3.9/site-packages/sklearn/linear_model/_logistic.py:444: ConvergenceWarning: lbfgs failed to converge (status=1):\n",
      "STOP: TOTAL NO. of ITERATIONS REACHED LIMIT.\n",
      "\n",
      "Increase the number of iterations (max_iter) or scale the data as shown in:\n",
      "    https://scikit-learn.org/stable/modules/preprocessing.html\n",
      "Please also refer to the documentation for alternative solver options:\n",
      "    https://scikit-learn.org/stable/modules/linear_model.html#logistic-regression\n",
      "  n_iter_i = _check_optimize_result(\n",
      "/Users/DanielChung/.julia/conda/3/lib/python3.9/site-packages/sklearn/linear_model/_logistic.py:444: ConvergenceWarning: lbfgs failed to converge (status=1):\n",
      "STOP: TOTAL NO. of ITERATIONS REACHED LIMIT.\n",
      "\n",
      "Increase the number of iterations (max_iter) or scale the data as shown in:\n",
      "    https://scikit-learn.org/stable/modules/preprocessing.html\n",
      "Please also refer to the documentation for alternative solver options:\n",
      "    https://scikit-learn.org/stable/modules/linear_model.html#logistic-regression\n",
      "  n_iter_i = _check_optimize_result(\n",
      "/Users/DanielChung/.julia/conda/3/lib/python3.9/site-packages/sklearn/linear_model/_logistic.py:444: ConvergenceWarning: lbfgs failed to converge (status=1):\n",
      "STOP: TOTAL NO. of ITERATIONS REACHED LIMIT.\n",
      "\n",
      "Increase the number of iterations (max_iter) or scale the data as shown in:\n",
      "    https://scikit-learn.org/stable/modules/preprocessing.html\n",
      "Please also refer to the documentation for alternative solver options:\n",
      "    https://scikit-learn.org/stable/modules/linear_model.html#logistic-regression\n",
      "  n_iter_i = _check_optimize_result(\n",
      "/Users/DanielChung/.julia/conda/3/lib/python3.9/site-packages/sklearn/linear_model/_logistic.py:1113: UserWarning: Setting penalty='none' will ignore the C and l1_ratio parameters\n",
      "  warnings.warn(\n",
      "/Users/DanielChung/.julia/conda/3/lib/python3.9/site-packages/sklearn/linear_model/_logistic.py:1113: UserWarning: Setting penalty='none' will ignore the C and l1_ratio parameters\n",
      "  warnings.warn(\n",
      "/Users/DanielChung/.julia/conda/3/lib/python3.9/site-packages/sklearn/linear_model/_logistic.py:1113: UserWarning: Setting penalty='none' will ignore the C and l1_ratio parameters\n",
      "  warnings.warn(\n",
      "/Users/DanielChung/.julia/conda/3/lib/python3.9/site-packages/sklearn/linear_model/_logistic.py:1113: UserWarning: Setting penalty='none' will ignore the C and l1_ratio parameters\n",
      "  warnings.warn(\n",
      "/Users/DanielChung/.julia/conda/3/lib/python3.9/site-packages/sklearn/linear_model/_logistic.py:444: ConvergenceWarning: lbfgs failed to converge (status=1):\n",
      "STOP: TOTAL NO. of ITERATIONS REACHED LIMIT.\n",
      "\n",
      "Increase the number of iterations (max_iter) or scale the data as shown in:\n",
      "    https://scikit-learn.org/stable/modules/preprocessing.html\n",
      "Please also refer to the documentation for alternative solver options:\n",
      "    https://scikit-learn.org/stable/modules/linear_model.html#logistic-regression\n",
      "  n_iter_i = _check_optimize_result(\n",
      "/Users/DanielChung/.julia/conda/3/lib/python3.9/site-packages/sklearn/linear_model/_logistic.py:444: ConvergenceWarning: lbfgs failed to converge (status=1):\n",
      "STOP: TOTAL NO. of ITERATIONS REACHED LIMIT.\n",
      "\n",
      "Increase the number of iterations (max_iter) or scale the data as shown in:\n",
      "    https://scikit-learn.org/stable/modules/preprocessing.html\n",
      "Please also refer to the documentation for alternative solver options:\n",
      "    https://scikit-learn.org/stable/modules/linear_model.html#logistic-regression\n",
      "  n_iter_i = _check_optimize_result(\n",
      "/Users/DanielChung/.julia/conda/3/lib/python3.9/site-packages/sklearn/linear_model/_logistic.py:444: ConvergenceWarning: lbfgs failed to converge (status=1):\n",
      "STOP: TOTAL NO. of ITERATIONS REACHED LIMIT.\n",
      "\n",
      "Increase the number of iterations (max_iter) or scale the data as shown in:\n",
      "    https://scikit-learn.org/stable/modules/preprocessing.html\n",
      "Please also refer to the documentation for alternative solver options:\n",
      "    https://scikit-learn.org/stable/modules/linear_model.html#logistic-regression\n",
      "  n_iter_i = _check_optimize_result(\n",
      "/Users/DanielChung/.julia/conda/3/lib/python3.9/site-packages/sklearn/linear_model/_logistic.py:1113: UserWarning: Setting penalty='none' will ignore the C and l1_ratio parameters\n",
      "  warnings.warn(\n",
      "/Users/DanielChung/.julia/conda/3/lib/python3.9/site-packages/sklearn/linear_model/_logistic.py:444: ConvergenceWarning: lbfgs failed to converge (status=1):\n",
      "STOP: TOTAL NO. of ITERATIONS REACHED LIMIT.\n",
      "\n",
      "Increase the number of iterations (max_iter) or scale the data as shown in:\n",
      "    https://scikit-learn.org/stable/modules/preprocessing.html\n",
      "Please also refer to the documentation for alternative solver options:\n",
      "    https://scikit-learn.org/stable/modules/linear_model.html#logistic-regression\n",
      "  n_iter_i = _check_optimize_result(\n",
      "/Users/DanielChung/.julia/conda/3/lib/python3.9/site-packages/sklearn/linear_model/_logistic.py:444: ConvergenceWarning: lbfgs failed to converge (status=1):\n",
      "STOP: TOTAL NO. of ITERATIONS REACHED LIMIT.\n",
      "\n",
      "Increase the number of iterations (max_iter) or scale the data as shown in:\n",
      "    https://scikit-learn.org/stable/modules/preprocessing.html\n",
      "Please also refer to the documentation for alternative solver options:\n",
      "    https://scikit-learn.org/stable/modules/linear_model.html#logistic-regression\n",
      "  n_iter_i = _check_optimize_result(\n",
      "/Users/DanielChung/.julia/conda/3/lib/python3.9/site-packages/sklearn/linear_model/_logistic.py:444: ConvergenceWarning: lbfgs failed to converge (status=1):\n",
      "STOP: TOTAL NO. of ITERATIONS REACHED LIMIT.\n",
      "\n",
      "Increase the number of iterations (max_iter) or scale the data as shown in:\n",
      "    https://scikit-learn.org/stable/modules/preprocessing.html\n",
      "Please also refer to the documentation for alternative solver options:\n",
      "    https://scikit-learn.org/stable/modules/linear_model.html#logistic-regression\n",
      "  n_iter_i = _check_optimize_result(\n",
      "/Users/DanielChung/.julia/conda/3/lib/python3.9/site-packages/sklearn/linear_model/_logistic.py:444: ConvergenceWarning: lbfgs failed to converge (status=1):\n",
      "STOP: TOTAL NO. of ITERATIONS REACHED LIMIT.\n",
      "\n",
      "Increase the number of iterations (max_iter) or scale the data as shown in:\n",
      "    https://scikit-learn.org/stable/modules/preprocessing.html\n",
      "Please also refer to the documentation for alternative solver options:\n",
      "    https://scikit-learn.org/stable/modules/linear_model.html#logistic-regression\n",
      "  n_iter_i = _check_optimize_result(\n",
      "/Users/DanielChung/.julia/conda/3/lib/python3.9/site-packages/sklearn/linear_model/_logistic.py:444: ConvergenceWarning: lbfgs failed to converge (status=1):\n",
      "STOP: TOTAL NO. of ITERATIONS REACHED LIMIT.\n",
      "\n",
      "Increase the number of iterations (max_iter) or scale the data as shown in:\n",
      "    https://scikit-learn.org/stable/modules/preprocessing.html\n",
      "Please also refer to the documentation for alternative solver options:\n",
      "    https://scikit-learn.org/stable/modules/linear_model.html#logistic-regression\n",
      "  n_iter_i = _check_optimize_result(\n",
      "/Users/DanielChung/.julia/conda/3/lib/python3.9/site-packages/sklearn/linear_model/_logistic.py:1113: UserWarning: Setting penalty='none' will ignore the C and l1_ratio parameters\n",
      "  warnings.warn(\n",
      "/Users/DanielChung/.julia/conda/3/lib/python3.9/site-packages/sklearn/linear_model/_logistic.py:444: ConvergenceWarning: lbfgs failed to converge (status=1):\n",
      "STOP: TOTAL NO. of ITERATIONS REACHED LIMIT.\n",
      "\n",
      "Increase the number of iterations (max_iter) or scale the data as shown in:\n",
      "    https://scikit-learn.org/stable/modules/preprocessing.html\n",
      "Please also refer to the documentation for alternative solver options:\n",
      "    https://scikit-learn.org/stable/modules/linear_model.html#logistic-regression\n",
      "  n_iter_i = _check_optimize_result(\n",
      "/Users/DanielChung/.julia/conda/3/lib/python3.9/site-packages/sklearn/linear_model/_logistic.py:444: ConvergenceWarning: lbfgs failed to converge (status=1):\n",
      "STOP: TOTAL NO. of ITERATIONS REACHED LIMIT.\n",
      "\n",
      "Increase the number of iterations (max_iter) or scale the data as shown in:\n",
      "    https://scikit-learn.org/stable/modules/preprocessing.html\n",
      "Please also refer to the documentation for alternative solver options:\n",
      "    https://scikit-learn.org/stable/modules/linear_model.html#logistic-regression\n",
      "  n_iter_i = _check_optimize_result(\n"
     ]
    },
    {
     "name": "stderr",
     "output_type": "stream",
     "text": [
      "/Users/DanielChung/.julia/conda/3/lib/python3.9/site-packages/sklearn/linear_model/_logistic.py:444: ConvergenceWarning: lbfgs failed to converge (status=1):\n",
      "STOP: TOTAL NO. of ITERATIONS REACHED LIMIT.\n",
      "\n",
      "Increase the number of iterations (max_iter) or scale the data as shown in:\n",
      "    https://scikit-learn.org/stable/modules/preprocessing.html\n",
      "Please also refer to the documentation for alternative solver options:\n",
      "    https://scikit-learn.org/stable/modules/linear_model.html#logistic-regression\n",
      "  n_iter_i = _check_optimize_result(\n",
      "/Users/DanielChung/.julia/conda/3/lib/python3.9/site-packages/sklearn/linear_model/_logistic.py:444: ConvergenceWarning: lbfgs failed to converge (status=1):\n",
      "STOP: TOTAL NO. of ITERATIONS REACHED LIMIT.\n",
      "\n",
      "Increase the number of iterations (max_iter) or scale the data as shown in:\n",
      "    https://scikit-learn.org/stable/modules/preprocessing.html\n",
      "Please also refer to the documentation for alternative solver options:\n",
      "    https://scikit-learn.org/stable/modules/linear_model.html#logistic-regression\n",
      "  n_iter_i = _check_optimize_result(\n",
      "/Users/DanielChung/.julia/conda/3/lib/python3.9/site-packages/sklearn/linear_model/_logistic.py:444: ConvergenceWarning: lbfgs failed to converge (status=1):\n",
      "STOP: TOTAL NO. of ITERATIONS REACHED LIMIT.\n",
      "\n",
      "Increase the number of iterations (max_iter) or scale the data as shown in:\n",
      "    https://scikit-learn.org/stable/modules/preprocessing.html\n",
      "Please also refer to the documentation for alternative solver options:\n",
      "    https://scikit-learn.org/stable/modules/linear_model.html#logistic-regression\n",
      "  n_iter_i = _check_optimize_result(\n",
      "/Users/DanielChung/.julia/conda/3/lib/python3.9/site-packages/sklearn/linear_model/_logistic.py:1113: UserWarning: Setting penalty='none' will ignore the C and l1_ratio parameters\n",
      "  warnings.warn(\n",
      "/Users/DanielChung/.julia/conda/3/lib/python3.9/site-packages/sklearn/linear_model/_logistic.py:444: ConvergenceWarning: lbfgs failed to converge (status=1):\n",
      "STOP: TOTAL NO. of ITERATIONS REACHED LIMIT.\n",
      "\n",
      "Increase the number of iterations (max_iter) or scale the data as shown in:\n",
      "    https://scikit-learn.org/stable/modules/preprocessing.html\n",
      "Please also refer to the documentation for alternative solver options:\n",
      "    https://scikit-learn.org/stable/modules/linear_model.html#logistic-regression\n",
      "  n_iter_i = _check_optimize_result(\n",
      "/Users/DanielChung/.julia/conda/3/lib/python3.9/site-packages/sklearn/linear_model/_logistic.py:1113: UserWarning: Setting penalty='none' will ignore the C and l1_ratio parameters\n",
      "  warnings.warn(\n",
      "/Users/DanielChung/.julia/conda/3/lib/python3.9/site-packages/sklearn/linear_model/_logistic.py:444: ConvergenceWarning: lbfgs failed to converge (status=1):\n",
      "STOP: TOTAL NO. of ITERATIONS REACHED LIMIT.\n",
      "\n",
      "Increase the number of iterations (max_iter) or scale the data as shown in:\n",
      "    https://scikit-learn.org/stable/modules/preprocessing.html\n",
      "Please also refer to the documentation for alternative solver options:\n",
      "    https://scikit-learn.org/stable/modules/linear_model.html#logistic-regression\n",
      "  n_iter_i = _check_optimize_result(\n",
      "/Users/DanielChung/.julia/conda/3/lib/python3.9/site-packages/sklearn/linear_model/_logistic.py:444: ConvergenceWarning: lbfgs failed to converge (status=1):\n",
      "STOP: TOTAL NO. of ITERATIONS REACHED LIMIT.\n",
      "\n",
      "Increase the number of iterations (max_iter) or scale the data as shown in:\n",
      "    https://scikit-learn.org/stable/modules/preprocessing.html\n",
      "Please also refer to the documentation for alternative solver options:\n",
      "    https://scikit-learn.org/stable/modules/linear_model.html#logistic-regression\n",
      "  n_iter_i = _check_optimize_result(\n",
      "/Users/DanielChung/.julia/conda/3/lib/python3.9/site-packages/sklearn/linear_model/_logistic.py:444: ConvergenceWarning: lbfgs failed to converge (status=1):\n",
      "STOP: TOTAL NO. of ITERATIONS REACHED LIMIT.\n",
      "\n",
      "Increase the number of iterations (max_iter) or scale the data as shown in:\n",
      "    https://scikit-learn.org/stable/modules/preprocessing.html\n",
      "Please also refer to the documentation for alternative solver options:\n",
      "    https://scikit-learn.org/stable/modules/linear_model.html#logistic-regression\n",
      "  n_iter_i = _check_optimize_result(\n",
      "/Users/DanielChung/.julia/conda/3/lib/python3.9/site-packages/sklearn/linear_model/_logistic.py:444: ConvergenceWarning: lbfgs failed to converge (status=1):\n",
      "STOP: TOTAL NO. of ITERATIONS REACHED LIMIT.\n",
      "\n",
      "Increase the number of iterations (max_iter) or scale the data as shown in:\n",
      "    https://scikit-learn.org/stable/modules/preprocessing.html\n",
      "Please also refer to the documentation for alternative solver options:\n",
      "    https://scikit-learn.org/stable/modules/linear_model.html#logistic-regression\n",
      "  n_iter_i = _check_optimize_result(\n",
      "/Users/DanielChung/.julia/conda/3/lib/python3.9/site-packages/sklearn/linear_model/_logistic.py:444: ConvergenceWarning: lbfgs failed to converge (status=1):\n",
      "STOP: TOTAL NO. of ITERATIONS REACHED LIMIT.\n",
      "\n",
      "Increase the number of iterations (max_iter) or scale the data as shown in:\n",
      "    https://scikit-learn.org/stable/modules/preprocessing.html\n",
      "Please also refer to the documentation for alternative solver options:\n",
      "    https://scikit-learn.org/stable/modules/linear_model.html#logistic-regression\n",
      "  n_iter_i = _check_optimize_result(\n",
      "/Users/DanielChung/.julia/conda/3/lib/python3.9/site-packages/sklearn/linear_model/_logistic.py:1113: UserWarning: Setting penalty='none' will ignore the C and l1_ratio parameters\n",
      "  warnings.warn(\n",
      "/Users/DanielChung/.julia/conda/3/lib/python3.9/site-packages/sklearn/linear_model/_logistic.py:444: ConvergenceWarning: lbfgs failed to converge (status=1):\n",
      "STOP: TOTAL NO. of ITERATIONS REACHED LIMIT.\n",
      "\n",
      "Increase the number of iterations (max_iter) or scale the data as shown in:\n",
      "    https://scikit-learn.org/stable/modules/preprocessing.html\n",
      "Please also refer to the documentation for alternative solver options:\n",
      "    https://scikit-learn.org/stable/modules/linear_model.html#logistic-regression\n",
      "  n_iter_i = _check_optimize_result(\n",
      "/Users/DanielChung/.julia/conda/3/lib/python3.9/site-packages/sklearn/linear_model/_logistic.py:444: ConvergenceWarning: lbfgs failed to converge (status=1):\n",
      "STOP: TOTAL NO. of ITERATIONS REACHED LIMIT.\n",
      "\n",
      "Increase the number of iterations (max_iter) or scale the data as shown in:\n",
      "    https://scikit-learn.org/stable/modules/preprocessing.html\n",
      "Please also refer to the documentation for alternative solver options:\n",
      "    https://scikit-learn.org/stable/modules/linear_model.html#logistic-regression\n",
      "  n_iter_i = _check_optimize_result(\n",
      "/Users/DanielChung/.julia/conda/3/lib/python3.9/site-packages/sklearn/linear_model/_logistic.py:444: ConvergenceWarning: lbfgs failed to converge (status=1):\n",
      "STOP: TOTAL NO. of ITERATIONS REACHED LIMIT.\n",
      "\n",
      "Increase the number of iterations (max_iter) or scale the data as shown in:\n",
      "    https://scikit-learn.org/stable/modules/preprocessing.html\n",
      "Please also refer to the documentation for alternative solver options:\n",
      "    https://scikit-learn.org/stable/modules/linear_model.html#logistic-regression\n",
      "  n_iter_i = _check_optimize_result(\n",
      "/Users/DanielChung/.julia/conda/3/lib/python3.9/site-packages/sklearn/linear_model/_logistic.py:444: ConvergenceWarning: lbfgs failed to converge (status=1):\n",
      "STOP: TOTAL NO. of ITERATIONS REACHED LIMIT.\n",
      "\n",
      "Increase the number of iterations (max_iter) or scale the data as shown in:\n",
      "    https://scikit-learn.org/stable/modules/preprocessing.html\n",
      "Please also refer to the documentation for alternative solver options:\n",
      "    https://scikit-learn.org/stable/modules/linear_model.html#logistic-regression\n",
      "  n_iter_i = _check_optimize_result(\n",
      "/Users/DanielChung/.julia/conda/3/lib/python3.9/site-packages/sklearn/linear_model/_logistic.py:1113: UserWarning: Setting penalty='none' will ignore the C and l1_ratio parameters\n",
      "  warnings.warn(\n",
      "/Users/DanielChung/.julia/conda/3/lib/python3.9/site-packages/sklearn/linear_model/_logistic.py:1113: UserWarning: Setting penalty='none' will ignore the C and l1_ratio parameters\n",
      "  warnings.warn(\n",
      "/Users/DanielChung/.julia/conda/3/lib/python3.9/site-packages/sklearn/linear_model/_logistic.py:444: ConvergenceWarning: lbfgs failed to converge (status=1):\n",
      "STOP: TOTAL NO. of ITERATIONS REACHED LIMIT.\n",
      "\n",
      "Increase the number of iterations (max_iter) or scale the data as shown in:\n",
      "    https://scikit-learn.org/stable/modules/preprocessing.html\n",
      "Please also refer to the documentation for alternative solver options:\n",
      "    https://scikit-learn.org/stable/modules/linear_model.html#logistic-regression\n",
      "  n_iter_i = _check_optimize_result(\n",
      "/Users/DanielChung/.julia/conda/3/lib/python3.9/site-packages/sklearn/linear_model/_logistic.py:444: ConvergenceWarning: lbfgs failed to converge (status=1):\n",
      "STOP: TOTAL NO. of ITERATIONS REACHED LIMIT.\n",
      "\n",
      "Increase the number of iterations (max_iter) or scale the data as shown in:\n",
      "    https://scikit-learn.org/stable/modules/preprocessing.html\n",
      "Please also refer to the documentation for alternative solver options:\n",
      "    https://scikit-learn.org/stable/modules/linear_model.html#logistic-regression\n",
      "  n_iter_i = _check_optimize_result(\n",
      "/Users/DanielChung/.julia/conda/3/lib/python3.9/site-packages/sklearn/linear_model/_logistic.py:1113: UserWarning: Setting penalty='none' will ignore the C and l1_ratio parameters\n",
      "  warnings.warn(\n",
      "/Users/DanielChung/.julia/conda/3/lib/python3.9/site-packages/sklearn/linear_model/_logistic.py:444: ConvergenceWarning: lbfgs failed to converge (status=1):\n",
      "STOP: TOTAL NO. of ITERATIONS REACHED LIMIT.\n",
      "\n",
      "Increase the number of iterations (max_iter) or scale the data as shown in:\n",
      "    https://scikit-learn.org/stable/modules/preprocessing.html\n",
      "Please also refer to the documentation for alternative solver options:\n",
      "    https://scikit-learn.org/stable/modules/linear_model.html#logistic-regression\n",
      "  n_iter_i = _check_optimize_result(\n",
      "/Users/DanielChung/.julia/conda/3/lib/python3.9/site-packages/sklearn/linear_model/_logistic.py:444: ConvergenceWarning: lbfgs failed to converge (status=1):\n",
      "STOP: TOTAL NO. of ITERATIONS REACHED LIMIT.\n",
      "\n",
      "Increase the number of iterations (max_iter) or scale the data as shown in:\n",
      "    https://scikit-learn.org/stable/modules/preprocessing.html\n",
      "Please also refer to the documentation for alternative solver options:\n",
      "    https://scikit-learn.org/stable/modules/linear_model.html#logistic-regression\n",
      "  n_iter_i = _check_optimize_result(\n"
     ]
    },
    {
     "name": "stderr",
     "output_type": "stream",
     "text": [
      "/Users/DanielChung/.julia/conda/3/lib/python3.9/site-packages/sklearn/linear_model/_logistic.py:444: ConvergenceWarning: lbfgs failed to converge (status=1):\n",
      "STOP: TOTAL NO. of ITERATIONS REACHED LIMIT.\n",
      "\n",
      "Increase the number of iterations (max_iter) or scale the data as shown in:\n",
      "    https://scikit-learn.org/stable/modules/preprocessing.html\n",
      "Please also refer to the documentation for alternative solver options:\n",
      "    https://scikit-learn.org/stable/modules/linear_model.html#logistic-regression\n",
      "  n_iter_i = _check_optimize_result(\n",
      "/Users/DanielChung/.julia/conda/3/lib/python3.9/site-packages/sklearn/linear_model/_logistic.py:1113: UserWarning: Setting penalty='none' will ignore the C and l1_ratio parameters\n",
      "  warnings.warn(\n",
      "/Users/DanielChung/.julia/conda/3/lib/python3.9/site-packages/sklearn/linear_model/_logistic.py:444: ConvergenceWarning: lbfgs failed to converge (status=1):\n",
      "STOP: TOTAL NO. of ITERATIONS REACHED LIMIT.\n",
      "\n",
      "Increase the number of iterations (max_iter) or scale the data as shown in:\n",
      "    https://scikit-learn.org/stable/modules/preprocessing.html\n",
      "Please also refer to the documentation for alternative solver options:\n",
      "    https://scikit-learn.org/stable/modules/linear_model.html#logistic-regression\n",
      "  n_iter_i = _check_optimize_result(\n",
      "/Users/DanielChung/.julia/conda/3/lib/python3.9/site-packages/sklearn/linear_model/_logistic.py:1113: UserWarning: Setting penalty='none' will ignore the C and l1_ratio parameters\n",
      "  warnings.warn(\n",
      "/Users/DanielChung/.julia/conda/3/lib/python3.9/site-packages/sklearn/linear_model/_logistic.py:444: ConvergenceWarning: lbfgs failed to converge (status=1):\n",
      "STOP: TOTAL NO. of ITERATIONS REACHED LIMIT.\n",
      "\n",
      "Increase the number of iterations (max_iter) or scale the data as shown in:\n",
      "    https://scikit-learn.org/stable/modules/preprocessing.html\n",
      "Please also refer to the documentation for alternative solver options:\n",
      "    https://scikit-learn.org/stable/modules/linear_model.html#logistic-regression\n",
      "  n_iter_i = _check_optimize_result(\n",
      "/Users/DanielChung/.julia/conda/3/lib/python3.9/site-packages/sklearn/linear_model/_logistic.py:444: ConvergenceWarning: lbfgs failed to converge (status=1):\n",
      "STOP: TOTAL NO. of ITERATIONS REACHED LIMIT.\n",
      "\n",
      "Increase the number of iterations (max_iter) or scale the data as shown in:\n",
      "    https://scikit-learn.org/stable/modules/preprocessing.html\n",
      "Please also refer to the documentation for alternative solver options:\n",
      "    https://scikit-learn.org/stable/modules/linear_model.html#logistic-regression\n",
      "  n_iter_i = _check_optimize_result(\n",
      "/Users/DanielChung/.julia/conda/3/lib/python3.9/site-packages/sklearn/linear_model/_logistic.py:1113: UserWarning: Setting penalty='none' will ignore the C and l1_ratio parameters\n",
      "  warnings.warn(\n",
      "/Users/DanielChung/.julia/conda/3/lib/python3.9/site-packages/sklearn/linear_model/_logistic.py:1113: UserWarning: Setting penalty='none' will ignore the C and l1_ratio parameters\n",
      "  warnings.warn(\n",
      "/Users/DanielChung/.julia/conda/3/lib/python3.9/site-packages/sklearn/linear_model/_logistic.py:444: ConvergenceWarning: lbfgs failed to converge (status=1):\n",
      "STOP: TOTAL NO. of ITERATIONS REACHED LIMIT.\n",
      "\n",
      "Increase the number of iterations (max_iter) or scale the data as shown in:\n",
      "    https://scikit-learn.org/stable/modules/preprocessing.html\n",
      "Please also refer to the documentation for alternative solver options:\n",
      "    https://scikit-learn.org/stable/modules/linear_model.html#logistic-regression\n",
      "  n_iter_i = _check_optimize_result(\n",
      "/Users/DanielChung/.julia/conda/3/lib/python3.9/site-packages/sklearn/linear_model/_logistic.py:444: ConvergenceWarning: lbfgs failed to converge (status=1):\n",
      "STOP: TOTAL NO. of ITERATIONS REACHED LIMIT.\n",
      "\n",
      "Increase the number of iterations (max_iter) or scale the data as shown in:\n",
      "    https://scikit-learn.org/stable/modules/preprocessing.html\n",
      "Please also refer to the documentation for alternative solver options:\n",
      "    https://scikit-learn.org/stable/modules/linear_model.html#logistic-regression\n",
      "  n_iter_i = _check_optimize_result(\n",
      "/Users/DanielChung/.julia/conda/3/lib/python3.9/site-packages/sklearn/linear_model/_logistic.py:444: ConvergenceWarning: lbfgs failed to converge (status=1):\n",
      "STOP: TOTAL NO. of ITERATIONS REACHED LIMIT.\n",
      "\n",
      "Increase the number of iterations (max_iter) or scale the data as shown in:\n",
      "    https://scikit-learn.org/stable/modules/preprocessing.html\n",
      "Please also refer to the documentation for alternative solver options:\n",
      "    https://scikit-learn.org/stable/modules/linear_model.html#logistic-regression\n",
      "  n_iter_i = _check_optimize_result(\n",
      "/Users/DanielChung/.julia/conda/3/lib/python3.9/site-packages/sklearn/linear_model/_logistic.py:444: ConvergenceWarning: lbfgs failed to converge (status=1):\n",
      "STOP: TOTAL NO. of ITERATIONS REACHED LIMIT.\n",
      "\n",
      "Increase the number of iterations (max_iter) or scale the data as shown in:\n",
      "    https://scikit-learn.org/stable/modules/preprocessing.html\n",
      "Please also refer to the documentation for alternative solver options:\n",
      "    https://scikit-learn.org/stable/modules/linear_model.html#logistic-regression\n",
      "  n_iter_i = _check_optimize_result(\n",
      "/Users/DanielChung/.julia/conda/3/lib/python3.9/site-packages/sklearn/linear_model/_logistic.py:444: ConvergenceWarning: lbfgs failed to converge (status=1):\n",
      "STOP: TOTAL NO. of ITERATIONS REACHED LIMIT.\n",
      "\n",
      "Increase the number of iterations (max_iter) or scale the data as shown in:\n",
      "    https://scikit-learn.org/stable/modules/preprocessing.html\n",
      "Please also refer to the documentation for alternative solver options:\n",
      "    https://scikit-learn.org/stable/modules/linear_model.html#logistic-regression\n",
      "  n_iter_i = _check_optimize_result(\n",
      "/Users/DanielChung/.julia/conda/3/lib/python3.9/site-packages/sklearn/linear_model/_logistic.py:444: ConvergenceWarning: lbfgs failed to converge (status=1):\n",
      "STOP: TOTAL NO. of ITERATIONS REACHED LIMIT.\n",
      "\n",
      "Increase the number of iterations (max_iter) or scale the data as shown in:\n",
      "    https://scikit-learn.org/stable/modules/preprocessing.html\n",
      "Please also refer to the documentation for alternative solver options:\n",
      "    https://scikit-learn.org/stable/modules/linear_model.html#logistic-regression\n",
      "  n_iter_i = _check_optimize_result(\n",
      "/Users/DanielChung/.julia/conda/3/lib/python3.9/site-packages/sklearn/linear_model/_logistic.py:1113: UserWarning: Setting penalty='none' will ignore the C and l1_ratio parameters\n",
      "  warnings.warn(\n",
      "/Users/DanielChung/.julia/conda/3/lib/python3.9/site-packages/sklearn/linear_model/_logistic.py:444: ConvergenceWarning: lbfgs failed to converge (status=1):\n",
      "STOP: TOTAL NO. of ITERATIONS REACHED LIMIT.\n",
      "\n",
      "Increase the number of iterations (max_iter) or scale the data as shown in:\n",
      "    https://scikit-learn.org/stable/modules/preprocessing.html\n",
      "Please also refer to the documentation for alternative solver options:\n",
      "    https://scikit-learn.org/stable/modules/linear_model.html#logistic-regression\n",
      "  n_iter_i = _check_optimize_result(\n",
      "/Users/DanielChung/.julia/conda/3/lib/python3.9/site-packages/sklearn/linear_model/_logistic.py:1113: UserWarning: Setting penalty='none' will ignore the C and l1_ratio parameters\n",
      "  warnings.warn(\n",
      "/Users/DanielChung/.julia/conda/3/lib/python3.9/site-packages/sklearn/linear_model/_logistic.py:444: ConvergenceWarning: lbfgs failed to converge (status=1):\n",
      "STOP: TOTAL NO. of ITERATIONS REACHED LIMIT.\n",
      "\n",
      "Increase the number of iterations (max_iter) or scale the data as shown in:\n",
      "    https://scikit-learn.org/stable/modules/preprocessing.html\n",
      "Please also refer to the documentation for alternative solver options:\n",
      "    https://scikit-learn.org/stable/modules/linear_model.html#logistic-regression\n",
      "  n_iter_i = _check_optimize_result(\n",
      "/Users/DanielChung/.julia/conda/3/lib/python3.9/site-packages/sklearn/linear_model/_logistic.py:444: ConvergenceWarning: lbfgs failed to converge (status=1):\n",
      "STOP: TOTAL NO. of ITERATIONS REACHED LIMIT.\n",
      "\n",
      "Increase the number of iterations (max_iter) or scale the data as shown in:\n",
      "    https://scikit-learn.org/stable/modules/preprocessing.html\n",
      "Please also refer to the documentation for alternative solver options:\n",
      "    https://scikit-learn.org/stable/modules/linear_model.html#logistic-regression\n",
      "  n_iter_i = _check_optimize_result(\n",
      "/Users/DanielChung/.julia/conda/3/lib/python3.9/site-packages/sklearn/linear_model/_logistic.py:444: ConvergenceWarning: lbfgs failed to converge (status=1):\n",
      "STOP: TOTAL NO. of ITERATIONS REACHED LIMIT.\n",
      "\n",
      "Increase the number of iterations (max_iter) or scale the data as shown in:\n",
      "    https://scikit-learn.org/stable/modules/preprocessing.html\n",
      "Please also refer to the documentation for alternative solver options:\n",
      "    https://scikit-learn.org/stable/modules/linear_model.html#logistic-regression\n",
      "  n_iter_i = _check_optimize_result(\n",
      "/Users/DanielChung/.julia/conda/3/lib/python3.9/site-packages/sklearn/linear_model/_logistic.py:444: ConvergenceWarning: lbfgs failed to converge (status=1):\n",
      "STOP: TOTAL NO. of ITERATIONS REACHED LIMIT.\n",
      "\n",
      "Increase the number of iterations (max_iter) or scale the data as shown in:\n",
      "    https://scikit-learn.org/stable/modules/preprocessing.html\n",
      "Please also refer to the documentation for alternative solver options:\n",
      "    https://scikit-learn.org/stable/modules/linear_model.html#logistic-regression\n",
      "  n_iter_i = _check_optimize_result(\n",
      "/Users/DanielChung/.julia/conda/3/lib/python3.9/site-packages/sklearn/linear_model/_logistic.py:444: ConvergenceWarning: lbfgs failed to converge (status=1):\n",
      "STOP: TOTAL NO. of ITERATIONS REACHED LIMIT.\n",
      "\n",
      "Increase the number of iterations (max_iter) or scale the data as shown in:\n",
      "    https://scikit-learn.org/stable/modules/preprocessing.html\n",
      "Please also refer to the documentation for alternative solver options:\n",
      "    https://scikit-learn.org/stable/modules/linear_model.html#logistic-regression\n",
      "  n_iter_i = _check_optimize_result(\n"
     ]
    },
    {
     "name": "stderr",
     "output_type": "stream",
     "text": [
      "/Users/DanielChung/.julia/conda/3/lib/python3.9/site-packages/sklearn/linear_model/_logistic.py:444: ConvergenceWarning: lbfgs failed to converge (status=1):\n",
      "STOP: TOTAL NO. of ITERATIONS REACHED LIMIT.\n",
      "\n",
      "Increase the number of iterations (max_iter) or scale the data as shown in:\n",
      "    https://scikit-learn.org/stable/modules/preprocessing.html\n",
      "Please also refer to the documentation for alternative solver options:\n",
      "    https://scikit-learn.org/stable/modules/linear_model.html#logistic-regression\n",
      "  n_iter_i = _check_optimize_result(\n",
      "/Users/DanielChung/.julia/conda/3/lib/python3.9/site-packages/sklearn/linear_model/_logistic.py:444: ConvergenceWarning: lbfgs failed to converge (status=1):\n",
      "STOP: TOTAL NO. of ITERATIONS REACHED LIMIT.\n",
      "\n",
      "Increase the number of iterations (max_iter) or scale the data as shown in:\n",
      "    https://scikit-learn.org/stable/modules/preprocessing.html\n",
      "Please also refer to the documentation for alternative solver options:\n",
      "    https://scikit-learn.org/stable/modules/linear_model.html#logistic-regression\n",
      "  n_iter_i = _check_optimize_result(\n",
      "/Users/DanielChung/.julia/conda/3/lib/python3.9/site-packages/sklearn/linear_model/_logistic.py:444: ConvergenceWarning: lbfgs failed to converge (status=1):\n",
      "STOP: TOTAL NO. of ITERATIONS REACHED LIMIT.\n",
      "\n",
      "Increase the number of iterations (max_iter) or scale the data as shown in:\n",
      "    https://scikit-learn.org/stable/modules/preprocessing.html\n",
      "Please also refer to the documentation for alternative solver options:\n",
      "    https://scikit-learn.org/stable/modules/linear_model.html#logistic-regression\n",
      "  n_iter_i = _check_optimize_result(\n",
      "/Users/DanielChung/.julia/conda/3/lib/python3.9/site-packages/sklearn/linear_model/_logistic.py:444: ConvergenceWarning: lbfgs failed to converge (status=1):\n",
      "STOP: TOTAL NO. of ITERATIONS REACHED LIMIT.\n",
      "\n",
      "Increase the number of iterations (max_iter) or scale the data as shown in:\n",
      "    https://scikit-learn.org/stable/modules/preprocessing.html\n",
      "Please also refer to the documentation for alternative solver options:\n",
      "    https://scikit-learn.org/stable/modules/linear_model.html#logistic-regression\n",
      "  n_iter_i = _check_optimize_result(\n",
      "/Users/DanielChung/.julia/conda/3/lib/python3.9/site-packages/sklearn/linear_model/_logistic.py:1113: UserWarning: Setting penalty='none' will ignore the C and l1_ratio parameters\n",
      "  warnings.warn(\n",
      "/Users/DanielChung/.julia/conda/3/lib/python3.9/site-packages/sklearn/linear_model/_logistic.py:1113: UserWarning: Setting penalty='none' will ignore the C and l1_ratio parameters\n",
      "  warnings.warn(\n",
      "/Users/DanielChung/.julia/conda/3/lib/python3.9/site-packages/sklearn/linear_model/_logistic.py:1113: UserWarning: Setting penalty='none' will ignore the C and l1_ratio parameters\n",
      "  warnings.warn(\n",
      "/Users/DanielChung/.julia/conda/3/lib/python3.9/site-packages/sklearn/linear_model/_logistic.py:1113: UserWarning: Setting penalty='none' will ignore the C and l1_ratio parameters\n",
      "  warnings.warn(\n",
      "/Users/DanielChung/.julia/conda/3/lib/python3.9/site-packages/sklearn/linear_model/_logistic.py:444: ConvergenceWarning: lbfgs failed to converge (status=1):\n",
      "STOP: TOTAL NO. of ITERATIONS REACHED LIMIT.\n",
      "\n",
      "Increase the number of iterations (max_iter) or scale the data as shown in:\n",
      "    https://scikit-learn.org/stable/modules/preprocessing.html\n",
      "Please also refer to the documentation for alternative solver options:\n",
      "    https://scikit-learn.org/stable/modules/linear_model.html#logistic-regression\n",
      "  n_iter_i = _check_optimize_result(\n",
      "/Users/DanielChung/.julia/conda/3/lib/python3.9/site-packages/sklearn/linear_model/_logistic.py:444: ConvergenceWarning: lbfgs failed to converge (status=1):\n",
      "STOP: TOTAL NO. of ITERATIONS REACHED LIMIT.\n",
      "\n",
      "Increase the number of iterations (max_iter) or scale the data as shown in:\n",
      "    https://scikit-learn.org/stable/modules/preprocessing.html\n",
      "Please also refer to the documentation for alternative solver options:\n",
      "    https://scikit-learn.org/stable/modules/linear_model.html#logistic-regression\n",
      "  n_iter_i = _check_optimize_result(\n",
      "/Users/DanielChung/.julia/conda/3/lib/python3.9/site-packages/sklearn/linear_model/_logistic.py:444: ConvergenceWarning: lbfgs failed to converge (status=1):\n",
      "STOP: TOTAL NO. of ITERATIONS REACHED LIMIT.\n",
      "\n",
      "Increase the number of iterations (max_iter) or scale the data as shown in:\n",
      "    https://scikit-learn.org/stable/modules/preprocessing.html\n",
      "Please also refer to the documentation for alternative solver options:\n",
      "    https://scikit-learn.org/stable/modules/linear_model.html#logistic-regression\n",
      "  n_iter_i = _check_optimize_result(\n",
      "/Users/DanielChung/.julia/conda/3/lib/python3.9/site-packages/sklearn/linear_model/_logistic.py:444: ConvergenceWarning: lbfgs failed to converge (status=1):\n",
      "STOP: TOTAL NO. of ITERATIONS REACHED LIMIT.\n",
      "\n",
      "Increase the number of iterations (max_iter) or scale the data as shown in:\n",
      "    https://scikit-learn.org/stable/modules/preprocessing.html\n",
      "Please also refer to the documentation for alternative solver options:\n",
      "    https://scikit-learn.org/stable/modules/linear_model.html#logistic-regression\n",
      "  n_iter_i = _check_optimize_result(\n",
      "/Users/DanielChung/.julia/conda/3/lib/python3.9/site-packages/sklearn/linear_model/_logistic.py:444: ConvergenceWarning: lbfgs failed to converge (status=1):\n",
      "STOP: TOTAL NO. of ITERATIONS REACHED LIMIT.\n",
      "\n",
      "Increase the number of iterations (max_iter) or scale the data as shown in:\n",
      "    https://scikit-learn.org/stable/modules/preprocessing.html\n",
      "Please also refer to the documentation for alternative solver options:\n",
      "    https://scikit-learn.org/stable/modules/linear_model.html#logistic-regression\n",
      "  n_iter_i = _check_optimize_result(\n",
      "/Users/DanielChung/.julia/conda/3/lib/python3.9/site-packages/sklearn/linear_model/_logistic.py:1113: UserWarning: Setting penalty='none' will ignore the C and l1_ratio parameters\n",
      "  warnings.warn(\n",
      "/Users/DanielChung/.julia/conda/3/lib/python3.9/site-packages/sklearn/linear_model/_logistic.py:444: ConvergenceWarning: lbfgs failed to converge (status=1):\n",
      "STOP: TOTAL NO. of ITERATIONS REACHED LIMIT.\n",
      "\n",
      "Increase the number of iterations (max_iter) or scale the data as shown in:\n",
      "    https://scikit-learn.org/stable/modules/preprocessing.html\n",
      "Please also refer to the documentation for alternative solver options:\n",
      "    https://scikit-learn.org/stable/modules/linear_model.html#logistic-regression\n",
      "  n_iter_i = _check_optimize_result(\n",
      "/Users/DanielChung/.julia/conda/3/lib/python3.9/site-packages/sklearn/linear_model/_logistic.py:1113: UserWarning: Setting penalty='none' will ignore the C and l1_ratio parameters\n",
      "  warnings.warn(\n",
      "/Users/DanielChung/.julia/conda/3/lib/python3.9/site-packages/sklearn/linear_model/_logistic.py:444: ConvergenceWarning: lbfgs failed to converge (status=1):\n",
      "STOP: TOTAL NO. of ITERATIONS REACHED LIMIT.\n",
      "\n",
      "Increase the number of iterations (max_iter) or scale the data as shown in:\n",
      "    https://scikit-learn.org/stable/modules/preprocessing.html\n",
      "Please also refer to the documentation for alternative solver options:\n",
      "    https://scikit-learn.org/stable/modules/linear_model.html#logistic-regression\n",
      "  n_iter_i = _check_optimize_result(\n",
      "/Users/DanielChung/.julia/conda/3/lib/python3.9/site-packages/sklearn/linear_model/_logistic.py:444: ConvergenceWarning: lbfgs failed to converge (status=1):\n",
      "STOP: TOTAL NO. of ITERATIONS REACHED LIMIT.\n",
      "\n",
      "Increase the number of iterations (max_iter) or scale the data as shown in:\n",
      "    https://scikit-learn.org/stable/modules/preprocessing.html\n",
      "Please also refer to the documentation for alternative solver options:\n",
      "    https://scikit-learn.org/stable/modules/linear_model.html#logistic-regression\n",
      "  n_iter_i = _check_optimize_result(\n",
      "/Users/DanielChung/.julia/conda/3/lib/python3.9/site-packages/sklearn/linear_model/_logistic.py:1113: UserWarning: Setting penalty='none' will ignore the C and l1_ratio parameters\n",
      "  warnings.warn(\n",
      "/Users/DanielChung/.julia/conda/3/lib/python3.9/site-packages/sklearn/linear_model/_logistic.py:444: ConvergenceWarning: lbfgs failed to converge (status=1):\n",
      "STOP: TOTAL NO. of ITERATIONS REACHED LIMIT.\n",
      "\n",
      "Increase the number of iterations (max_iter) or scale the data as shown in:\n",
      "    https://scikit-learn.org/stable/modules/preprocessing.html\n",
      "Please also refer to the documentation for alternative solver options:\n",
      "    https://scikit-learn.org/stable/modules/linear_model.html#logistic-regression\n",
      "  n_iter_i = _check_optimize_result(\n",
      "/Users/DanielChung/.julia/conda/3/lib/python3.9/site-packages/sklearn/linear_model/_logistic.py:444: ConvergenceWarning: lbfgs failed to converge (status=1):\n",
      "STOP: TOTAL NO. of ITERATIONS REACHED LIMIT.\n",
      "\n",
      "Increase the number of iterations (max_iter) or scale the data as shown in:\n",
      "    https://scikit-learn.org/stable/modules/preprocessing.html\n",
      "Please also refer to the documentation for alternative solver options:\n",
      "    https://scikit-learn.org/stable/modules/linear_model.html#logistic-regression\n",
      "  n_iter_i = _check_optimize_result(\n",
      "/Users/DanielChung/.julia/conda/3/lib/python3.9/site-packages/sklearn/linear_model/_logistic.py:444: ConvergenceWarning: lbfgs failed to converge (status=1):\n",
      "STOP: TOTAL NO. of ITERATIONS REACHED LIMIT.\n",
      "\n",
      "Increase the number of iterations (max_iter) or scale the data as shown in:\n",
      "    https://scikit-learn.org/stable/modules/preprocessing.html\n",
      "Please also refer to the documentation for alternative solver options:\n",
      "    https://scikit-learn.org/stable/modules/linear_model.html#logistic-regression\n",
      "  n_iter_i = _check_optimize_result(\n",
      "/Users/DanielChung/.julia/conda/3/lib/python3.9/site-packages/sklearn/linear_model/_logistic.py:1113: UserWarning: Setting penalty='none' will ignore the C and l1_ratio parameters\n",
      "  warnings.warn(\n",
      "/Users/DanielChung/.julia/conda/3/lib/python3.9/site-packages/sklearn/linear_model/_logistic.py:1113: UserWarning: Setting penalty='none' will ignore the C and l1_ratio parameters\n",
      "  warnings.warn(\n",
      "/Users/DanielChung/.julia/conda/3/lib/python3.9/site-packages/sklearn/linear_model/_logistic.py:444: ConvergenceWarning: lbfgs failed to converge (status=1):\n",
      "STOP: TOTAL NO. of ITERATIONS REACHED LIMIT.\n",
      "\n",
      "Increase the number of iterations (max_iter) or scale the data as shown in:\n",
      "    https://scikit-learn.org/stable/modules/preprocessing.html\n",
      "Please also refer to the documentation for alternative solver options:\n",
      "    https://scikit-learn.org/stable/modules/linear_model.html#logistic-regression\n",
      "  n_iter_i = _check_optimize_result(\n"
     ]
    },
    {
     "name": "stderr",
     "output_type": "stream",
     "text": [
      "/Users/DanielChung/.julia/conda/3/lib/python3.9/site-packages/sklearn/linear_model/_logistic.py:444: ConvergenceWarning: lbfgs failed to converge (status=1):\n",
      "STOP: TOTAL NO. of ITERATIONS REACHED LIMIT.\n",
      "\n",
      "Increase the number of iterations (max_iter) or scale the data as shown in:\n",
      "    https://scikit-learn.org/stable/modules/preprocessing.html\n",
      "Please also refer to the documentation for alternative solver options:\n",
      "    https://scikit-learn.org/stable/modules/linear_model.html#logistic-regression\n",
      "  n_iter_i = _check_optimize_result(\n",
      "/Users/DanielChung/.julia/conda/3/lib/python3.9/site-packages/sklearn/linear_model/_logistic.py:444: ConvergenceWarning: lbfgs failed to converge (status=1):\n",
      "STOP: TOTAL NO. of ITERATIONS REACHED LIMIT.\n",
      "\n",
      "Increase the number of iterations (max_iter) or scale the data as shown in:\n",
      "    https://scikit-learn.org/stable/modules/preprocessing.html\n",
      "Please also refer to the documentation for alternative solver options:\n",
      "    https://scikit-learn.org/stable/modules/linear_model.html#logistic-regression\n",
      "  n_iter_i = _check_optimize_result(\n",
      "/Users/DanielChung/.julia/conda/3/lib/python3.9/site-packages/sklearn/linear_model/_logistic.py:1113: UserWarning: Setting penalty='none' will ignore the C and l1_ratio parameters\n",
      "  warnings.warn(\n",
      "/Users/DanielChung/.julia/conda/3/lib/python3.9/site-packages/sklearn/linear_model/_logistic.py:444: ConvergenceWarning: lbfgs failed to converge (status=1):\n",
      "STOP: TOTAL NO. of ITERATIONS REACHED LIMIT.\n",
      "\n",
      "Increase the number of iterations (max_iter) or scale the data as shown in:\n",
      "    https://scikit-learn.org/stable/modules/preprocessing.html\n",
      "Please also refer to the documentation for alternative solver options:\n",
      "    https://scikit-learn.org/stable/modules/linear_model.html#logistic-regression\n",
      "  n_iter_i = _check_optimize_result(\n",
      "/Users/DanielChung/.julia/conda/3/lib/python3.9/site-packages/sklearn/linear_model/_logistic.py:1113: UserWarning: Setting penalty='none' will ignore the C and l1_ratio parameters\n",
      "  warnings.warn(\n",
      "/Users/DanielChung/.julia/conda/3/lib/python3.9/site-packages/sklearn/linear_model/_logistic.py:444: ConvergenceWarning: lbfgs failed to converge (status=1):\n",
      "STOP: TOTAL NO. of ITERATIONS REACHED LIMIT.\n",
      "\n",
      "Increase the number of iterations (max_iter) or scale the data as shown in:\n",
      "    https://scikit-learn.org/stable/modules/preprocessing.html\n",
      "Please also refer to the documentation for alternative solver options:\n",
      "    https://scikit-learn.org/stable/modules/linear_model.html#logistic-regression\n",
      "  n_iter_i = _check_optimize_result(\n",
      "/Users/DanielChung/.julia/conda/3/lib/python3.9/site-packages/sklearn/linear_model/_logistic.py:444: ConvergenceWarning: lbfgs failed to converge (status=1):\n",
      "STOP: TOTAL NO. of ITERATIONS REACHED LIMIT.\n",
      "\n",
      "Increase the number of iterations (max_iter) or scale the data as shown in:\n",
      "    https://scikit-learn.org/stable/modules/preprocessing.html\n",
      "Please also refer to the documentation for alternative solver options:\n",
      "    https://scikit-learn.org/stable/modules/linear_model.html#logistic-regression\n",
      "  n_iter_i = _check_optimize_result(\n",
      "/Users/DanielChung/.julia/conda/3/lib/python3.9/site-packages/sklearn/linear_model/_logistic.py:444: ConvergenceWarning: lbfgs failed to converge (status=1):\n",
      "STOP: TOTAL NO. of ITERATIONS REACHED LIMIT.\n",
      "\n",
      "Increase the number of iterations (max_iter) or scale the data as shown in:\n",
      "    https://scikit-learn.org/stable/modules/preprocessing.html\n",
      "Please also refer to the documentation for alternative solver options:\n",
      "    https://scikit-learn.org/stable/modules/linear_model.html#logistic-regression\n",
      "  n_iter_i = _check_optimize_result(\n",
      "/Users/DanielChung/.julia/conda/3/lib/python3.9/site-packages/sklearn/linear_model/_logistic.py:1113: UserWarning: Setting penalty='none' will ignore the C and l1_ratio parameters\n",
      "  warnings.warn(\n",
      "/Users/DanielChung/.julia/conda/3/lib/python3.9/site-packages/sklearn/linear_model/_logistic.py:444: ConvergenceWarning: lbfgs failed to converge (status=1):\n",
      "STOP: TOTAL NO. of ITERATIONS REACHED LIMIT.\n",
      "\n",
      "Increase the number of iterations (max_iter) or scale the data as shown in:\n",
      "    https://scikit-learn.org/stable/modules/preprocessing.html\n",
      "Please also refer to the documentation for alternative solver options:\n",
      "    https://scikit-learn.org/stable/modules/linear_model.html#logistic-regression\n",
      "  n_iter_i = _check_optimize_result(\n",
      "/Users/DanielChung/.julia/conda/3/lib/python3.9/site-packages/sklearn/linear_model/_logistic.py:1113: UserWarning: Setting penalty='none' will ignore the C and l1_ratio parameters\n",
      "  warnings.warn(\n",
      "/Users/DanielChung/.julia/conda/3/lib/python3.9/site-packages/sklearn/linear_model/_logistic.py:1113: UserWarning: Setting penalty='none' will ignore the C and l1_ratio parameters\n",
      "  warnings.warn(\n",
      "/Users/DanielChung/.julia/conda/3/lib/python3.9/site-packages/sklearn/linear_model/_logistic.py:444: ConvergenceWarning: lbfgs failed to converge (status=1):\n",
      "STOP: TOTAL NO. of ITERATIONS REACHED LIMIT.\n",
      "\n",
      "Increase the number of iterations (max_iter) or scale the data as shown in:\n",
      "    https://scikit-learn.org/stable/modules/preprocessing.html\n",
      "Please also refer to the documentation for alternative solver options:\n",
      "    https://scikit-learn.org/stable/modules/linear_model.html#logistic-regression\n",
      "  n_iter_i = _check_optimize_result(\n",
      "/Users/DanielChung/.julia/conda/3/lib/python3.9/site-packages/sklearn/linear_model/_logistic.py:444: ConvergenceWarning: lbfgs failed to converge (status=1):\n",
      "STOP: TOTAL NO. of ITERATIONS REACHED LIMIT.\n",
      "\n",
      "Increase the number of iterations (max_iter) or scale the data as shown in:\n",
      "    https://scikit-learn.org/stable/modules/preprocessing.html\n",
      "Please also refer to the documentation for alternative solver options:\n",
      "    https://scikit-learn.org/stable/modules/linear_model.html#logistic-regression\n",
      "  n_iter_i = _check_optimize_result(\n",
      "/Users/DanielChung/.julia/conda/3/lib/python3.9/site-packages/sklearn/linear_model/_logistic.py:444: ConvergenceWarning: lbfgs failed to converge (status=1):\n",
      "STOP: TOTAL NO. of ITERATIONS REACHED LIMIT.\n",
      "\n",
      "Increase the number of iterations (max_iter) or scale the data as shown in:\n",
      "    https://scikit-learn.org/stable/modules/preprocessing.html\n",
      "Please also refer to the documentation for alternative solver options:\n",
      "    https://scikit-learn.org/stable/modules/linear_model.html#logistic-regression\n",
      "  n_iter_i = _check_optimize_result(\n",
      "/Users/DanielChung/.julia/conda/3/lib/python3.9/site-packages/sklearn/linear_model/_logistic.py:444: ConvergenceWarning: lbfgs failed to converge (status=1):\n",
      "STOP: TOTAL NO. of ITERATIONS REACHED LIMIT.\n",
      "\n",
      "Increase the number of iterations (max_iter) or scale the data as shown in:\n",
      "    https://scikit-learn.org/stable/modules/preprocessing.html\n",
      "Please also refer to the documentation for alternative solver options:\n",
      "    https://scikit-learn.org/stable/modules/linear_model.html#logistic-regression\n",
      "  n_iter_i = _check_optimize_result(\n",
      "/Users/DanielChung/.julia/conda/3/lib/python3.9/site-packages/sklearn/linear_model/_logistic.py:444: ConvergenceWarning: lbfgs failed to converge (status=1):\n",
      "STOP: TOTAL NO. of ITERATIONS REACHED LIMIT.\n",
      "\n",
      "Increase the number of iterations (max_iter) or scale the data as shown in:\n",
      "    https://scikit-learn.org/stable/modules/preprocessing.html\n",
      "Please also refer to the documentation for alternative solver options:\n",
      "    https://scikit-learn.org/stable/modules/linear_model.html#logistic-regression\n",
      "  n_iter_i = _check_optimize_result(\n",
      "/Users/DanielChung/.julia/conda/3/lib/python3.9/site-packages/sklearn/linear_model/_logistic.py:1113: UserWarning: Setting penalty='none' will ignore the C and l1_ratio parameters\n",
      "  warnings.warn(\n",
      "/Users/DanielChung/.julia/conda/3/lib/python3.9/site-packages/sklearn/linear_model/_logistic.py:1113: UserWarning: Setting penalty='none' will ignore the C and l1_ratio parameters\n",
      "  warnings.warn(\n",
      "/Users/DanielChung/.julia/conda/3/lib/python3.9/site-packages/sklearn/linear_model/_logistic.py:444: ConvergenceWarning: lbfgs failed to converge (status=1):\n",
      "STOP: TOTAL NO. of ITERATIONS REACHED LIMIT.\n",
      "\n",
      "Increase the number of iterations (max_iter) or scale the data as shown in:\n",
      "    https://scikit-learn.org/stable/modules/preprocessing.html\n",
      "Please also refer to the documentation for alternative solver options:\n",
      "    https://scikit-learn.org/stable/modules/linear_model.html#logistic-regression\n",
      "  n_iter_i = _check_optimize_result(\n",
      "/Users/DanielChung/.julia/conda/3/lib/python3.9/site-packages/sklearn/linear_model/_logistic.py:444: ConvergenceWarning: lbfgs failed to converge (status=1):\n",
      "STOP: TOTAL NO. of ITERATIONS REACHED LIMIT.\n",
      "\n",
      "Increase the number of iterations (max_iter) or scale the data as shown in:\n",
      "    https://scikit-learn.org/stable/modules/preprocessing.html\n",
      "Please also refer to the documentation for alternative solver options:\n",
      "    https://scikit-learn.org/stable/modules/linear_model.html#logistic-regression\n",
      "  n_iter_i = _check_optimize_result(\n",
      "/Users/DanielChung/.julia/conda/3/lib/python3.9/site-packages/sklearn/linear_model/_logistic.py:1113: UserWarning: Setting penalty='none' will ignore the C and l1_ratio parameters\n",
      "  warnings.warn(\n",
      "/Users/DanielChung/.julia/conda/3/lib/python3.9/site-packages/sklearn/linear_model/_logistic.py:444: ConvergenceWarning: lbfgs failed to converge (status=1):\n",
      "STOP: TOTAL NO. of ITERATIONS REACHED LIMIT.\n",
      "\n",
      "Increase the number of iterations (max_iter) or scale the data as shown in:\n",
      "    https://scikit-learn.org/stable/modules/preprocessing.html\n",
      "Please also refer to the documentation for alternative solver options:\n",
      "    https://scikit-learn.org/stable/modules/linear_model.html#logistic-regression\n",
      "  n_iter_i = _check_optimize_result(\n",
      "/Users/DanielChung/.julia/conda/3/lib/python3.9/site-packages/sklearn/linear_model/_logistic.py:1113: UserWarning: Setting penalty='none' will ignore the C and l1_ratio parameters\n",
      "  warnings.warn(\n",
      "/Users/DanielChung/.julia/conda/3/lib/python3.9/site-packages/sklearn/linear_model/_logistic.py:444: ConvergenceWarning: lbfgs failed to converge (status=1):\n",
      "STOP: TOTAL NO. of ITERATIONS REACHED LIMIT.\n",
      "\n",
      "Increase the number of iterations (max_iter) or scale the data as shown in:\n",
      "    https://scikit-learn.org/stable/modules/preprocessing.html\n",
      "Please also refer to the documentation for alternative solver options:\n",
      "    https://scikit-learn.org/stable/modules/linear_model.html#logistic-regression\n",
      "  n_iter_i = _check_optimize_result(\n",
      "/Users/DanielChung/.julia/conda/3/lib/python3.9/site-packages/sklearn/linear_model/_logistic.py:444: ConvergenceWarning: lbfgs failed to converge (status=1):\n",
      "STOP: TOTAL NO. of ITERATIONS REACHED LIMIT.\n",
      "\n",
      "Increase the number of iterations (max_iter) or scale the data as shown in:\n",
      "    https://scikit-learn.org/stable/modules/preprocessing.html\n",
      "Please also refer to the documentation for alternative solver options:\n",
      "    https://scikit-learn.org/stable/modules/linear_model.html#logistic-regression\n",
      "  n_iter_i = _check_optimize_result(\n",
      "/Users/DanielChung/.julia/conda/3/lib/python3.9/site-packages/sklearn/linear_model/_logistic.py:1113: UserWarning: Setting penalty='none' will ignore the C and l1_ratio parameters\n",
      "  warnings.warn(\n",
      "/Users/DanielChung/.julia/conda/3/lib/python3.9/site-packages/sklearn/linear_model/_logistic.py:444: ConvergenceWarning: lbfgs failed to converge (status=1):\n",
      "STOP: TOTAL NO. of ITERATIONS REACHED LIMIT.\n",
      "\n",
      "Increase the number of iterations (max_iter) or scale the data as shown in:\n",
      "    https://scikit-learn.org/stable/modules/preprocessing.html\n",
      "Please also refer to the documentation for alternative solver options:\n",
      "    https://scikit-learn.org/stable/modules/linear_model.html#logistic-regression\n",
      "  n_iter_i = _check_optimize_result(\n"
     ]
    },
    {
     "name": "stderr",
     "output_type": "stream",
     "text": [
      "/Users/DanielChung/.julia/conda/3/lib/python3.9/site-packages/sklearn/linear_model/_logistic.py:444: ConvergenceWarning: lbfgs failed to converge (status=1):\n",
      "STOP: TOTAL NO. of ITERATIONS REACHED LIMIT.\n",
      "\n",
      "Increase the number of iterations (max_iter) or scale the data as shown in:\n",
      "    https://scikit-learn.org/stable/modules/preprocessing.html\n",
      "Please also refer to the documentation for alternative solver options:\n",
      "    https://scikit-learn.org/stable/modules/linear_model.html#logistic-regression\n",
      "  n_iter_i = _check_optimize_result(\n",
      "/Users/DanielChung/.julia/conda/3/lib/python3.9/site-packages/sklearn/linear_model/_logistic.py:444: ConvergenceWarning: lbfgs failed to converge (status=1):\n",
      "STOP: TOTAL NO. of ITERATIONS REACHED LIMIT.\n",
      "\n",
      "Increase the number of iterations (max_iter) or scale the data as shown in:\n",
      "    https://scikit-learn.org/stable/modules/preprocessing.html\n",
      "Please also refer to the documentation for alternative solver options:\n",
      "    https://scikit-learn.org/stable/modules/linear_model.html#logistic-regression\n",
      "  n_iter_i = _check_optimize_result(\n",
      "/Users/DanielChung/.julia/conda/3/lib/python3.9/site-packages/sklearn/linear_model/_logistic.py:444: ConvergenceWarning: lbfgs failed to converge (status=1):\n",
      "STOP: TOTAL NO. of ITERATIONS REACHED LIMIT.\n",
      "\n",
      "Increase the number of iterations (max_iter) or scale the data as shown in:\n",
      "    https://scikit-learn.org/stable/modules/preprocessing.html\n",
      "Please also refer to the documentation for alternative solver options:\n",
      "    https://scikit-learn.org/stable/modules/linear_model.html#logistic-regression\n",
      "  n_iter_i = _check_optimize_result(\n",
      "/Users/DanielChung/.julia/conda/3/lib/python3.9/site-packages/sklearn/linear_model/_logistic.py:1113: UserWarning: Setting penalty='none' will ignore the C and l1_ratio parameters\n",
      "  warnings.warn(\n",
      "/Users/DanielChung/.julia/conda/3/lib/python3.9/site-packages/sklearn/linear_model/_logistic.py:444: ConvergenceWarning: lbfgs failed to converge (status=1):\n",
      "STOP: TOTAL NO. of ITERATIONS REACHED LIMIT.\n",
      "\n",
      "Increase the number of iterations (max_iter) or scale the data as shown in:\n",
      "    https://scikit-learn.org/stable/modules/preprocessing.html\n",
      "Please also refer to the documentation for alternative solver options:\n",
      "    https://scikit-learn.org/stable/modules/linear_model.html#logistic-regression\n",
      "  n_iter_i = _check_optimize_result(\n",
      "/Users/DanielChung/.julia/conda/3/lib/python3.9/site-packages/sklearn/linear_model/_logistic.py:444: ConvergenceWarning: lbfgs failed to converge (status=1):\n",
      "STOP: TOTAL NO. of ITERATIONS REACHED LIMIT.\n",
      "\n",
      "Increase the number of iterations (max_iter) or scale the data as shown in:\n",
      "    https://scikit-learn.org/stable/modules/preprocessing.html\n",
      "Please also refer to the documentation for alternative solver options:\n",
      "    https://scikit-learn.org/stable/modules/linear_model.html#logistic-regression\n",
      "  n_iter_i = _check_optimize_result(\n",
      "/Users/DanielChung/.julia/conda/3/lib/python3.9/site-packages/sklearn/linear_model/_logistic.py:1113: UserWarning: Setting penalty='none' will ignore the C and l1_ratio parameters\n",
      "  warnings.warn(\n",
      "/Users/DanielChung/.julia/conda/3/lib/python3.9/site-packages/sklearn/linear_model/_logistic.py:444: ConvergenceWarning: lbfgs failed to converge (status=1):\n",
      "STOP: TOTAL NO. of ITERATIONS REACHED LIMIT.\n",
      "\n",
      "Increase the number of iterations (max_iter) or scale the data as shown in:\n",
      "    https://scikit-learn.org/stable/modules/preprocessing.html\n",
      "Please also refer to the documentation for alternative solver options:\n",
      "    https://scikit-learn.org/stable/modules/linear_model.html#logistic-regression\n",
      "  n_iter_i = _check_optimize_result(\n",
      "/Users/DanielChung/.julia/conda/3/lib/python3.9/site-packages/sklearn/linear_model/_logistic.py:1113: UserWarning: Setting penalty='none' will ignore the C and l1_ratio parameters\n",
      "  warnings.warn(\n",
      "/Users/DanielChung/.julia/conda/3/lib/python3.9/site-packages/sklearn/linear_model/_logistic.py:444: ConvergenceWarning: lbfgs failed to converge (status=1):\n",
      "STOP: TOTAL NO. of ITERATIONS REACHED LIMIT.\n",
      "\n",
      "Increase the number of iterations (max_iter) or scale the data as shown in:\n",
      "    https://scikit-learn.org/stable/modules/preprocessing.html\n",
      "Please also refer to the documentation for alternative solver options:\n",
      "    https://scikit-learn.org/stable/modules/linear_model.html#logistic-regression\n",
      "  n_iter_i = _check_optimize_result(\n",
      "/Users/DanielChung/.julia/conda/3/lib/python3.9/site-packages/sklearn/linear_model/_logistic.py:444: ConvergenceWarning: lbfgs failed to converge (status=1):\n",
      "STOP: TOTAL NO. of ITERATIONS REACHED LIMIT.\n",
      "\n",
      "Increase the number of iterations (max_iter) or scale the data as shown in:\n",
      "    https://scikit-learn.org/stable/modules/preprocessing.html\n",
      "Please also refer to the documentation for alternative solver options:\n",
      "    https://scikit-learn.org/stable/modules/linear_model.html#logistic-regression\n",
      "  n_iter_i = _check_optimize_result(\n",
      "/Users/DanielChung/.julia/conda/3/lib/python3.9/site-packages/sklearn/linear_model/_logistic.py:1113: UserWarning: Setting penalty='none' will ignore the C and l1_ratio parameters\n",
      "  warnings.warn(\n",
      "/Users/DanielChung/.julia/conda/3/lib/python3.9/site-packages/sklearn/linear_model/_logistic.py:1113: UserWarning: Setting penalty='none' will ignore the C and l1_ratio parameters\n",
      "  warnings.warn(\n",
      "/Users/DanielChung/.julia/conda/3/lib/python3.9/site-packages/sklearn/linear_model/_logistic.py:1113: UserWarning: Setting penalty='none' will ignore the C and l1_ratio parameters\n",
      "  warnings.warn(\n",
      "/Users/DanielChung/.julia/conda/3/lib/python3.9/site-packages/sklearn/linear_model/_logistic.py:444: ConvergenceWarning: lbfgs failed to converge (status=1):\n",
      "STOP: TOTAL NO. of ITERATIONS REACHED LIMIT.\n",
      "\n",
      "Increase the number of iterations (max_iter) or scale the data as shown in:\n",
      "    https://scikit-learn.org/stable/modules/preprocessing.html\n",
      "Please also refer to the documentation for alternative solver options:\n",
      "    https://scikit-learn.org/stable/modules/linear_model.html#logistic-regression\n",
      "  n_iter_i = _check_optimize_result(\n",
      "/Users/DanielChung/.julia/conda/3/lib/python3.9/site-packages/sklearn/linear_model/_logistic.py:444: ConvergenceWarning: lbfgs failed to converge (status=1):\n",
      "STOP: TOTAL NO. of ITERATIONS REACHED LIMIT.\n",
      "\n",
      "Increase the number of iterations (max_iter) or scale the data as shown in:\n",
      "    https://scikit-learn.org/stable/modules/preprocessing.html\n",
      "Please also refer to the documentation for alternative solver options:\n",
      "    https://scikit-learn.org/stable/modules/linear_model.html#logistic-regression\n",
      "  n_iter_i = _check_optimize_result(\n",
      "/Users/DanielChung/.julia/conda/3/lib/python3.9/site-packages/sklearn/linear_model/_logistic.py:1113: UserWarning: Setting penalty='none' will ignore the C and l1_ratio parameters\n",
      "  warnings.warn(\n",
      "/Users/DanielChung/.julia/conda/3/lib/python3.9/site-packages/sklearn/linear_model/_logistic.py:1113: UserWarning: Setting penalty='none' will ignore the C and l1_ratio parameters\n",
      "  warnings.warn(\n",
      "/Users/DanielChung/.julia/conda/3/lib/python3.9/site-packages/sklearn/linear_model/_logistic.py:444: ConvergenceWarning: lbfgs failed to converge (status=1):\n",
      "STOP: TOTAL NO. of ITERATIONS REACHED LIMIT.\n",
      "\n",
      "Increase the number of iterations (max_iter) or scale the data as shown in:\n",
      "    https://scikit-learn.org/stable/modules/preprocessing.html\n",
      "Please also refer to the documentation for alternative solver options:\n",
      "    https://scikit-learn.org/stable/modules/linear_model.html#logistic-regression\n",
      "  n_iter_i = _check_optimize_result(\n",
      "/Users/DanielChung/.julia/conda/3/lib/python3.9/site-packages/sklearn/linear_model/_logistic.py:444: ConvergenceWarning: lbfgs failed to converge (status=1):\n",
      "STOP: TOTAL NO. of ITERATIONS REACHED LIMIT.\n",
      "\n",
      "Increase the number of iterations (max_iter) or scale the data as shown in:\n",
      "    https://scikit-learn.org/stable/modules/preprocessing.html\n",
      "Please also refer to the documentation for alternative solver options:\n",
      "    https://scikit-learn.org/stable/modules/linear_model.html#logistic-regression\n",
      "  n_iter_i = _check_optimize_result(\n",
      "/Users/DanielChung/.julia/conda/3/lib/python3.9/site-packages/sklearn/linear_model/_logistic.py:444: ConvergenceWarning: lbfgs failed to converge (status=1):\n",
      "STOP: TOTAL NO. of ITERATIONS REACHED LIMIT.\n",
      "\n",
      "Increase the number of iterations (max_iter) or scale the data as shown in:\n",
      "    https://scikit-learn.org/stable/modules/preprocessing.html\n",
      "Please also refer to the documentation for alternative solver options:\n",
      "    https://scikit-learn.org/stable/modules/linear_model.html#logistic-regression\n",
      "  n_iter_i = _check_optimize_result(\n",
      "/Users/DanielChung/.julia/conda/3/lib/python3.9/site-packages/sklearn/linear_model/_logistic.py:444: ConvergenceWarning: lbfgs failed to converge (status=1):\n",
      "STOP: TOTAL NO. of ITERATIONS REACHED LIMIT.\n",
      "\n",
      "Increase the number of iterations (max_iter) or scale the data as shown in:\n",
      "    https://scikit-learn.org/stable/modules/preprocessing.html\n",
      "Please also refer to the documentation for alternative solver options:\n",
      "    https://scikit-learn.org/stable/modules/linear_model.html#logistic-regression\n",
      "  n_iter_i = _check_optimize_result(\n",
      "/Users/DanielChung/.julia/conda/3/lib/python3.9/site-packages/sklearn/linear_model/_logistic.py:1113: UserWarning: Setting penalty='none' will ignore the C and l1_ratio parameters\n",
      "  warnings.warn(\n",
      "/Users/DanielChung/.julia/conda/3/lib/python3.9/site-packages/sklearn/linear_model/_logistic.py:444: ConvergenceWarning: lbfgs failed to converge (status=1):\n",
      "STOP: TOTAL NO. of ITERATIONS REACHED LIMIT.\n",
      "\n",
      "Increase the number of iterations (max_iter) or scale the data as shown in:\n",
      "    https://scikit-learn.org/stable/modules/preprocessing.html\n",
      "Please also refer to the documentation for alternative solver options:\n",
      "    https://scikit-learn.org/stable/modules/linear_model.html#logistic-regression\n",
      "  n_iter_i = _check_optimize_result(\n"
     ]
    },
    {
     "name": "stderr",
     "output_type": "stream",
     "text": [
      "/Users/DanielChung/.julia/conda/3/lib/python3.9/site-packages/sklearn/linear_model/_logistic.py:444: ConvergenceWarning: lbfgs failed to converge (status=1):\n",
      "STOP: TOTAL NO. of ITERATIONS REACHED LIMIT.\n",
      "\n",
      "Increase the number of iterations (max_iter) or scale the data as shown in:\n",
      "    https://scikit-learn.org/stable/modules/preprocessing.html\n",
      "Please also refer to the documentation for alternative solver options:\n",
      "    https://scikit-learn.org/stable/modules/linear_model.html#logistic-regression\n",
      "  n_iter_i = _check_optimize_result(\n",
      "/Users/DanielChung/.julia/conda/3/lib/python3.9/site-packages/sklearn/linear_model/_logistic.py:1113: UserWarning: Setting penalty='none' will ignore the C and l1_ratio parameters\n",
      "  warnings.warn(\n",
      "/Users/DanielChung/.julia/conda/3/lib/python3.9/site-packages/sklearn/linear_model/_logistic.py:444: ConvergenceWarning: lbfgs failed to converge (status=1):\n",
      "STOP: TOTAL NO. of ITERATIONS REACHED LIMIT.\n",
      "\n",
      "Increase the number of iterations (max_iter) or scale the data as shown in:\n",
      "    https://scikit-learn.org/stable/modules/preprocessing.html\n",
      "Please also refer to the documentation for alternative solver options:\n",
      "    https://scikit-learn.org/stable/modules/linear_model.html#logistic-regression\n",
      "  n_iter_i = _check_optimize_result(\n",
      "/Users/DanielChung/.julia/conda/3/lib/python3.9/site-packages/sklearn/linear_model/_logistic.py:444: ConvergenceWarning: lbfgs failed to converge (status=1):\n",
      "STOP: TOTAL NO. of ITERATIONS REACHED LIMIT.\n",
      "\n",
      "Increase the number of iterations (max_iter) or scale the data as shown in:\n",
      "    https://scikit-learn.org/stable/modules/preprocessing.html\n",
      "Please also refer to the documentation for alternative solver options:\n",
      "    https://scikit-learn.org/stable/modules/linear_model.html#logistic-regression\n",
      "  n_iter_i = _check_optimize_result(\n",
      "/Users/DanielChung/.julia/conda/3/lib/python3.9/site-packages/sklearn/linear_model/_logistic.py:444: ConvergenceWarning: lbfgs failed to converge (status=1):\n",
      "STOP: TOTAL NO. of ITERATIONS REACHED LIMIT.\n",
      "\n",
      "Increase the number of iterations (max_iter) or scale the data as shown in:\n",
      "    https://scikit-learn.org/stable/modules/preprocessing.html\n",
      "Please also refer to the documentation for alternative solver options:\n",
      "    https://scikit-learn.org/stable/modules/linear_model.html#logistic-regression\n",
      "  n_iter_i = _check_optimize_result(\n",
      "/Users/DanielChung/.julia/conda/3/lib/python3.9/site-packages/sklearn/linear_model/_logistic.py:444: ConvergenceWarning: lbfgs failed to converge (status=1):\n",
      "STOP: TOTAL NO. of ITERATIONS REACHED LIMIT.\n",
      "\n",
      "Increase the number of iterations (max_iter) or scale the data as shown in:\n",
      "    https://scikit-learn.org/stable/modules/preprocessing.html\n",
      "Please also refer to the documentation for alternative solver options:\n",
      "    https://scikit-learn.org/stable/modules/linear_model.html#logistic-regression\n",
      "  n_iter_i = _check_optimize_result(\n",
      "/Users/DanielChung/.julia/conda/3/lib/python3.9/site-packages/sklearn/linear_model/_logistic.py:1113: UserWarning: Setting penalty='none' will ignore the C and l1_ratio parameters\n",
      "  warnings.warn(\n",
      "/Users/DanielChung/.julia/conda/3/lib/python3.9/site-packages/sklearn/linear_model/_logistic.py:1113: UserWarning: Setting penalty='none' will ignore the C and l1_ratio parameters\n",
      "  warnings.warn(\n",
      "/Users/DanielChung/.julia/conda/3/lib/python3.9/site-packages/sklearn/linear_model/_logistic.py:444: ConvergenceWarning: lbfgs failed to converge (status=1):\n",
      "STOP: TOTAL NO. of ITERATIONS REACHED LIMIT.\n",
      "\n",
      "Increase the number of iterations (max_iter) or scale the data as shown in:\n",
      "    https://scikit-learn.org/stable/modules/preprocessing.html\n",
      "Please also refer to the documentation for alternative solver options:\n",
      "    https://scikit-learn.org/stable/modules/linear_model.html#logistic-regression\n",
      "  n_iter_i = _check_optimize_result(\n",
      "/Users/DanielChung/.julia/conda/3/lib/python3.9/site-packages/sklearn/linear_model/_logistic.py:444: ConvergenceWarning: lbfgs failed to converge (status=1):\n",
      "STOP: TOTAL NO. of ITERATIONS REACHED LIMIT.\n",
      "\n",
      "Increase the number of iterations (max_iter) or scale the data as shown in:\n",
      "    https://scikit-learn.org/stable/modules/preprocessing.html\n",
      "Please also refer to the documentation for alternative solver options:\n",
      "    https://scikit-learn.org/stable/modules/linear_model.html#logistic-regression\n",
      "  n_iter_i = _check_optimize_result(\n",
      "/Users/DanielChung/.julia/conda/3/lib/python3.9/site-packages/sklearn/linear_model/_logistic.py:1113: UserWarning: Setting penalty='none' will ignore the C and l1_ratio parameters\n",
      "  warnings.warn(\n",
      "/Users/DanielChung/.julia/conda/3/lib/python3.9/site-packages/sklearn/linear_model/_logistic.py:444: ConvergenceWarning: lbfgs failed to converge (status=1):\n",
      "STOP: TOTAL NO. of ITERATIONS REACHED LIMIT.\n",
      "\n",
      "Increase the number of iterations (max_iter) or scale the data as shown in:\n",
      "    https://scikit-learn.org/stable/modules/preprocessing.html\n",
      "Please also refer to the documentation for alternative solver options:\n",
      "    https://scikit-learn.org/stable/modules/linear_model.html#logistic-regression\n",
      "  n_iter_i = _check_optimize_result(\n",
      "/Users/DanielChung/.julia/conda/3/lib/python3.9/site-packages/sklearn/linear_model/_logistic.py:444: ConvergenceWarning: lbfgs failed to converge (status=1):\n",
      "STOP: TOTAL NO. of ITERATIONS REACHED LIMIT.\n",
      "\n",
      "Increase the number of iterations (max_iter) or scale the data as shown in:\n",
      "    https://scikit-learn.org/stable/modules/preprocessing.html\n",
      "Please also refer to the documentation for alternative solver options:\n",
      "    https://scikit-learn.org/stable/modules/linear_model.html#logistic-regression\n",
      "  n_iter_i = _check_optimize_result(\n",
      "/Users/DanielChung/.julia/conda/3/lib/python3.9/site-packages/sklearn/linear_model/_logistic.py:444: ConvergenceWarning: lbfgs failed to converge (status=1):\n",
      "STOP: TOTAL NO. of ITERATIONS REACHED LIMIT.\n",
      "\n",
      "Increase the number of iterations (max_iter) or scale the data as shown in:\n",
      "    https://scikit-learn.org/stable/modules/preprocessing.html\n",
      "Please also refer to the documentation for alternative solver options:\n",
      "    https://scikit-learn.org/stable/modules/linear_model.html#logistic-regression\n",
      "  n_iter_i = _check_optimize_result(\n",
      "/Users/DanielChung/.julia/conda/3/lib/python3.9/site-packages/sklearn/linear_model/_logistic.py:1113: UserWarning: Setting penalty='none' will ignore the C and l1_ratio parameters\n",
      "  warnings.warn(\n",
      "/Users/DanielChung/.julia/conda/3/lib/python3.9/site-packages/sklearn/linear_model/_logistic.py:444: ConvergenceWarning: lbfgs failed to converge (status=1):\n",
      "STOP: TOTAL NO. of ITERATIONS REACHED LIMIT.\n",
      "\n",
      "Increase the number of iterations (max_iter) or scale the data as shown in:\n",
      "    https://scikit-learn.org/stable/modules/preprocessing.html\n",
      "Please also refer to the documentation for alternative solver options:\n",
      "    https://scikit-learn.org/stable/modules/linear_model.html#logistic-regression\n",
      "  n_iter_i = _check_optimize_result(\n",
      "/Users/DanielChung/.julia/conda/3/lib/python3.9/site-packages/sklearn/linear_model/_logistic.py:444: ConvergenceWarning: lbfgs failed to converge (status=1):\n",
      "STOP: TOTAL NO. of ITERATIONS REACHED LIMIT.\n",
      "\n",
      "Increase the number of iterations (max_iter) or scale the data as shown in:\n",
      "    https://scikit-learn.org/stable/modules/preprocessing.html\n",
      "Please also refer to the documentation for alternative solver options:\n",
      "    https://scikit-learn.org/stable/modules/linear_model.html#logistic-regression\n",
      "  n_iter_i = _check_optimize_result(\n",
      "/Users/DanielChung/.julia/conda/3/lib/python3.9/site-packages/sklearn/linear_model/_logistic.py:1113: UserWarning: Setting penalty='none' will ignore the C and l1_ratio parameters\n",
      "  warnings.warn(\n",
      "/Users/DanielChung/.julia/conda/3/lib/python3.9/site-packages/sklearn/linear_model/_logistic.py:1113: UserWarning: Setting penalty='none' will ignore the C and l1_ratio parameters\n",
      "  warnings.warn(\n",
      "/Users/DanielChung/.julia/conda/3/lib/python3.9/site-packages/sklearn/linear_model/_logistic.py:444: ConvergenceWarning: lbfgs failed to converge (status=1):\n",
      "STOP: TOTAL NO. of ITERATIONS REACHED LIMIT.\n",
      "\n",
      "Increase the number of iterations (max_iter) or scale the data as shown in:\n",
      "    https://scikit-learn.org/stable/modules/preprocessing.html\n",
      "Please also refer to the documentation for alternative solver options:\n",
      "    https://scikit-learn.org/stable/modules/linear_model.html#logistic-regression\n",
      "  n_iter_i = _check_optimize_result(\n",
      "/Users/DanielChung/.julia/conda/3/lib/python3.9/site-packages/sklearn/linear_model/_logistic.py:444: ConvergenceWarning: lbfgs failed to converge (status=1):\n",
      "STOP: TOTAL NO. of ITERATIONS REACHED LIMIT.\n",
      "\n",
      "Increase the number of iterations (max_iter) or scale the data as shown in:\n",
      "    https://scikit-learn.org/stable/modules/preprocessing.html\n",
      "Please also refer to the documentation for alternative solver options:\n",
      "    https://scikit-learn.org/stable/modules/linear_model.html#logistic-regression\n",
      "  n_iter_i = _check_optimize_result(\n",
      "/Users/DanielChung/.julia/conda/3/lib/python3.9/site-packages/sklearn/linear_model/_logistic.py:444: ConvergenceWarning: lbfgs failed to converge (status=1):\n",
      "STOP: TOTAL NO. of ITERATIONS REACHED LIMIT.\n",
      "\n",
      "Increase the number of iterations (max_iter) or scale the data as shown in:\n",
      "    https://scikit-learn.org/stable/modules/preprocessing.html\n",
      "Please also refer to the documentation for alternative solver options:\n",
      "    https://scikit-learn.org/stable/modules/linear_model.html#logistic-regression\n",
      "  n_iter_i = _check_optimize_result(\n",
      "/Users/DanielChung/.julia/conda/3/lib/python3.9/site-packages/sklearn/linear_model/_logistic.py:1113: UserWarning: Setting penalty='none' will ignore the C and l1_ratio parameters\n",
      "  warnings.warn(\n",
      "/Users/DanielChung/.julia/conda/3/lib/python3.9/site-packages/sklearn/linear_model/_logistic.py:444: ConvergenceWarning: lbfgs failed to converge (status=1):\n",
      "STOP: TOTAL NO. of ITERATIONS REACHED LIMIT.\n",
      "\n",
      "Increase the number of iterations (max_iter) or scale the data as shown in:\n",
      "    https://scikit-learn.org/stable/modules/preprocessing.html\n",
      "Please also refer to the documentation for alternative solver options:\n",
      "    https://scikit-learn.org/stable/modules/linear_model.html#logistic-regression\n",
      "  n_iter_i = _check_optimize_result(\n",
      "/Users/DanielChung/.julia/conda/3/lib/python3.9/site-packages/sklearn/linear_model/_logistic.py:444: ConvergenceWarning: lbfgs failed to converge (status=1):\n",
      "STOP: TOTAL NO. of ITERATIONS REACHED LIMIT.\n",
      "\n",
      "Increase the number of iterations (max_iter) or scale the data as shown in:\n",
      "    https://scikit-learn.org/stable/modules/preprocessing.html\n",
      "Please also refer to the documentation for alternative solver options:\n",
      "    https://scikit-learn.org/stable/modules/linear_model.html#logistic-regression\n",
      "  n_iter_i = _check_optimize_result(\n"
     ]
    },
    {
     "name": "stderr",
     "output_type": "stream",
     "text": [
      "/Users/DanielChung/.julia/conda/3/lib/python3.9/site-packages/sklearn/linear_model/_logistic.py:444: ConvergenceWarning: lbfgs failed to converge (status=1):\n",
      "STOP: TOTAL NO. of ITERATIONS REACHED LIMIT.\n",
      "\n",
      "Increase the number of iterations (max_iter) or scale the data as shown in:\n",
      "    https://scikit-learn.org/stable/modules/preprocessing.html\n",
      "Please also refer to the documentation for alternative solver options:\n",
      "    https://scikit-learn.org/stable/modules/linear_model.html#logistic-regression\n",
      "  n_iter_i = _check_optimize_result(\n",
      "/Users/DanielChung/.julia/conda/3/lib/python3.9/site-packages/sklearn/linear_model/_logistic.py:444: ConvergenceWarning: lbfgs failed to converge (status=1):\n",
      "STOP: TOTAL NO. of ITERATIONS REACHED LIMIT.\n",
      "\n",
      "Increase the number of iterations (max_iter) or scale the data as shown in:\n",
      "    https://scikit-learn.org/stable/modules/preprocessing.html\n",
      "Please also refer to the documentation for alternative solver options:\n",
      "    https://scikit-learn.org/stable/modules/linear_model.html#logistic-regression\n",
      "  n_iter_i = _check_optimize_result(\n",
      "/Users/DanielChung/.julia/conda/3/lib/python3.9/site-packages/sklearn/linear_model/_logistic.py:1113: UserWarning: Setting penalty='none' will ignore the C and l1_ratio parameters\n",
      "  warnings.warn(\n",
      "/Users/DanielChung/.julia/conda/3/lib/python3.9/site-packages/sklearn/linear_model/_logistic.py:444: ConvergenceWarning: lbfgs failed to converge (status=1):\n",
      "STOP: TOTAL NO. of ITERATIONS REACHED LIMIT.\n",
      "\n",
      "Increase the number of iterations (max_iter) or scale the data as shown in:\n",
      "    https://scikit-learn.org/stable/modules/preprocessing.html\n",
      "Please also refer to the documentation for alternative solver options:\n",
      "    https://scikit-learn.org/stable/modules/linear_model.html#logistic-regression\n",
      "  n_iter_i = _check_optimize_result(\n",
      "/Users/DanielChung/.julia/conda/3/lib/python3.9/site-packages/sklearn/linear_model/_logistic.py:1113: UserWarning: Setting penalty='none' will ignore the C and l1_ratio parameters\n",
      "  warnings.warn(\n",
      "/Users/DanielChung/.julia/conda/3/lib/python3.9/site-packages/sklearn/linear_model/_logistic.py:444: ConvergenceWarning: lbfgs failed to converge (status=1):\n",
      "STOP: TOTAL NO. of ITERATIONS REACHED LIMIT.\n",
      "\n",
      "Increase the number of iterations (max_iter) or scale the data as shown in:\n",
      "    https://scikit-learn.org/stable/modules/preprocessing.html\n",
      "Please also refer to the documentation for alternative solver options:\n",
      "    https://scikit-learn.org/stable/modules/linear_model.html#logistic-regression\n",
      "  n_iter_i = _check_optimize_result(\n",
      "/Users/DanielChung/.julia/conda/3/lib/python3.9/site-packages/sklearn/linear_model/_logistic.py:444: ConvergenceWarning: lbfgs failed to converge (status=1):\n",
      "STOP: TOTAL NO. of ITERATIONS REACHED LIMIT.\n",
      "\n",
      "Increase the number of iterations (max_iter) or scale the data as shown in:\n",
      "    https://scikit-learn.org/stable/modules/preprocessing.html\n",
      "Please also refer to the documentation for alternative solver options:\n",
      "    https://scikit-learn.org/stable/modules/linear_model.html#logistic-regression\n",
      "  n_iter_i = _check_optimize_result(\n",
      "/Users/DanielChung/.julia/conda/3/lib/python3.9/site-packages/sklearn/linear_model/_logistic.py:444: ConvergenceWarning: lbfgs failed to converge (status=1):\n",
      "STOP: TOTAL NO. of ITERATIONS REACHED LIMIT.\n",
      "\n",
      "Increase the number of iterations (max_iter) or scale the data as shown in:\n",
      "    https://scikit-learn.org/stable/modules/preprocessing.html\n",
      "Please also refer to the documentation for alternative solver options:\n",
      "    https://scikit-learn.org/stable/modules/linear_model.html#logistic-regression\n",
      "  n_iter_i = _check_optimize_result(\n",
      "/Users/DanielChung/.julia/conda/3/lib/python3.9/site-packages/sklearn/linear_model/_logistic.py:444: ConvergenceWarning: lbfgs failed to converge (status=1):\n",
      "STOP: TOTAL NO. of ITERATIONS REACHED LIMIT.\n",
      "\n",
      "Increase the number of iterations (max_iter) or scale the data as shown in:\n",
      "    https://scikit-learn.org/stable/modules/preprocessing.html\n",
      "Please also refer to the documentation for alternative solver options:\n",
      "    https://scikit-learn.org/stable/modules/linear_model.html#logistic-regression\n",
      "  n_iter_i = _check_optimize_result(\n",
      "/Users/DanielChung/.julia/conda/3/lib/python3.9/site-packages/sklearn/linear_model/_logistic.py:1113: UserWarning: Setting penalty='none' will ignore the C and l1_ratio parameters\n",
      "  warnings.warn(\n",
      "/Users/DanielChung/.julia/conda/3/lib/python3.9/site-packages/sklearn/linear_model/_logistic.py:444: ConvergenceWarning: lbfgs failed to converge (status=1):\n",
      "STOP: TOTAL NO. of ITERATIONS REACHED LIMIT.\n",
      "\n",
      "Increase the number of iterations (max_iter) or scale the data as shown in:\n",
      "    https://scikit-learn.org/stable/modules/preprocessing.html\n",
      "Please also refer to the documentation for alternative solver options:\n",
      "    https://scikit-learn.org/stable/modules/linear_model.html#logistic-regression\n",
      "  n_iter_i = _check_optimize_result(\n",
      "/Users/DanielChung/.julia/conda/3/lib/python3.9/site-packages/sklearn/linear_model/_logistic.py:444: ConvergenceWarning: lbfgs failed to converge (status=1):\n",
      "STOP: TOTAL NO. of ITERATIONS REACHED LIMIT.\n",
      "\n",
      "Increase the number of iterations (max_iter) or scale the data as shown in:\n",
      "    https://scikit-learn.org/stable/modules/preprocessing.html\n",
      "Please also refer to the documentation for alternative solver options:\n",
      "    https://scikit-learn.org/stable/modules/linear_model.html#logistic-regression\n",
      "  n_iter_i = _check_optimize_result(\n",
      "/Users/DanielChung/.julia/conda/3/lib/python3.9/site-packages/sklearn/linear_model/_logistic.py:1113: UserWarning: Setting penalty='none' will ignore the C and l1_ratio parameters\n",
      "  warnings.warn(\n",
      "/Users/DanielChung/.julia/conda/3/lib/python3.9/site-packages/sklearn/linear_model/_logistic.py:444: ConvergenceWarning: lbfgs failed to converge (status=1):\n",
      "STOP: TOTAL NO. of ITERATIONS REACHED LIMIT.\n",
      "\n",
      "Increase the number of iterations (max_iter) or scale the data as shown in:\n",
      "    https://scikit-learn.org/stable/modules/preprocessing.html\n",
      "Please also refer to the documentation for alternative solver options:\n",
      "    https://scikit-learn.org/stable/modules/linear_model.html#logistic-regression\n",
      "  n_iter_i = _check_optimize_result(\n",
      "/Users/DanielChung/.julia/conda/3/lib/python3.9/site-packages/sklearn/linear_model/_logistic.py:444: ConvergenceWarning: lbfgs failed to converge (status=1):\n",
      "STOP: TOTAL NO. of ITERATIONS REACHED LIMIT.\n",
      "\n",
      "Increase the number of iterations (max_iter) or scale the data as shown in:\n",
      "    https://scikit-learn.org/stable/modules/preprocessing.html\n",
      "Please also refer to the documentation for alternative solver options:\n",
      "    https://scikit-learn.org/stable/modules/linear_model.html#logistic-regression\n",
      "  n_iter_i = _check_optimize_result(\n",
      "/Users/DanielChung/.julia/conda/3/lib/python3.9/site-packages/sklearn/linear_model/_logistic.py:444: ConvergenceWarning: lbfgs failed to converge (status=1):\n",
      "STOP: TOTAL NO. of ITERATIONS REACHED LIMIT.\n",
      "\n",
      "Increase the number of iterations (max_iter) or scale the data as shown in:\n",
      "    https://scikit-learn.org/stable/modules/preprocessing.html\n",
      "Please also refer to the documentation for alternative solver options:\n",
      "    https://scikit-learn.org/stable/modules/linear_model.html#logistic-regression\n",
      "  n_iter_i = _check_optimize_result(\n",
      "/Users/DanielChung/.julia/conda/3/lib/python3.9/site-packages/sklearn/linear_model/_logistic.py:1113: UserWarning: Setting penalty='none' will ignore the C and l1_ratio parameters\n",
      "  warnings.warn(\n",
      "/Users/DanielChung/.julia/conda/3/lib/python3.9/site-packages/sklearn/linear_model/_logistic.py:444: ConvergenceWarning: lbfgs failed to converge (status=1):\n",
      "STOP: TOTAL NO. of ITERATIONS REACHED LIMIT.\n",
      "\n",
      "Increase the number of iterations (max_iter) or scale the data as shown in:\n",
      "    https://scikit-learn.org/stable/modules/preprocessing.html\n",
      "Please also refer to the documentation for alternative solver options:\n",
      "    https://scikit-learn.org/stable/modules/linear_model.html#logistic-regression\n",
      "  n_iter_i = _check_optimize_result(\n",
      "/Users/DanielChung/.julia/conda/3/lib/python3.9/site-packages/sklearn/linear_model/_logistic.py:1113: UserWarning: Setting penalty='none' will ignore the C and l1_ratio parameters\n",
      "  warnings.warn(\n",
      "/Users/DanielChung/.julia/conda/3/lib/python3.9/site-packages/sklearn/linear_model/_logistic.py:444: ConvergenceWarning: lbfgs failed to converge (status=1):\n",
      "STOP: TOTAL NO. of ITERATIONS REACHED LIMIT.\n",
      "\n",
      "Increase the number of iterations (max_iter) or scale the data as shown in:\n",
      "    https://scikit-learn.org/stable/modules/preprocessing.html\n",
      "Please also refer to the documentation for alternative solver options:\n",
      "    https://scikit-learn.org/stable/modules/linear_model.html#logistic-regression\n",
      "  n_iter_i = _check_optimize_result(\n",
      "/Users/DanielChung/.julia/conda/3/lib/python3.9/site-packages/sklearn/linear_model/_logistic.py:444: ConvergenceWarning: lbfgs failed to converge (status=1):\n",
      "STOP: TOTAL NO. of ITERATIONS REACHED LIMIT.\n",
      "\n",
      "Increase the number of iterations (max_iter) or scale the data as shown in:\n",
      "    https://scikit-learn.org/stable/modules/preprocessing.html\n",
      "Please also refer to the documentation for alternative solver options:\n",
      "    https://scikit-learn.org/stable/modules/linear_model.html#logistic-regression\n",
      "  n_iter_i = _check_optimize_result(\n",
      "/Users/DanielChung/.julia/conda/3/lib/python3.9/site-packages/sklearn/model_selection/_validation.py:378: FitFailedWarning: \n",
      "135 fits failed out of a total of 300.\n",
      "The score on these train-test partitions for these parameters will be set to nan.\n",
      "If these failures are not expected, you can try to debug them by setting error_score='raise'.\n",
      "\n",
      "Below are more details about the failures:\n",
      "--------------------------------------------------------------------------------\n",
      "87 fits failed with the following error:\n",
      "Traceback (most recent call last):\n",
      "  File \"/Users/DanielChung/.julia/conda/3/lib/python3.9/site-packages/sklearn/model_selection/_validation.py\", line 686, in _fit_and_score\n",
      "    estimator.fit(X_train, y_train, **fit_params)\n",
      "  File \"/Users/DanielChung/.julia/conda/3/lib/python3.9/site-packages/sklearn/linear_model/_logistic.py\", line 1091, in fit\n",
      "    solver = _check_solver(self.solver, self.penalty, self.dual)\n",
      "  File \"/Users/DanielChung/.julia/conda/3/lib/python3.9/site-packages/sklearn/linear_model/_logistic.py\", line 61, in _check_solver\n",
      "    raise ValueError(\n",
      "ValueError: Solver lbfgs supports only 'l2' or 'none' penalties, got l1 penalty.\n",
      "\n",
      "--------------------------------------------------------------------------------\n",
      "48 fits failed with the following error:\n",
      "Traceback (most recent call last):\n",
      "  File \"/Users/DanielChung/.julia/conda/3/lib/python3.9/site-packages/sklearn/model_selection/_validation.py\", line 686, in _fit_and_score\n",
      "    estimator.fit(X_train, y_train, **fit_params)\n",
      "  File \"/Users/DanielChung/.julia/conda/3/lib/python3.9/site-packages/sklearn/linear_model/_logistic.py\", line 1091, in fit\n",
      "    solver = _check_solver(self.solver, self.penalty, self.dual)\n",
      "  File \"/Users/DanielChung/.julia/conda/3/lib/python3.9/site-packages/sklearn/linear_model/_logistic.py\", line 55, in _check_solver\n",
      "    raise ValueError(\n",
      "ValueError: Logistic Regression supports only penalties in ['l1', 'l2', 'elasticnet', 'none'], got elaticnet.\n",
      "\n",
      "  warnings.warn(some_fits_failed_message, FitFailedWarning)\n",
      "/Users/DanielChung/.julia/conda/3/lib/python3.9/site-packages/sklearn/model_selection/_search.py:953: UserWarning: One or more of the test scores are non-finite: [0.59605649 0.59732214 0.59752198        nan 0.60098588 0.59732214\n",
      " 0.60071942        nan        nan        nan 0.59978684 0.59852118\n",
      " 0.59732214 0.59732214 0.59732214        nan        nan 0.59732214\n",
      "        nan 0.59698908 0.59585665        nan        nan        nan\n",
      " 0.59732214 0.59732214        nan 0.59638956        nan 0.59732214\n",
      "        nan 0.59972022 0.59525713 0.60038636 0.59732214 0.59732214\n",
      " 0.5991207         nan        nan 0.5901279  0.59985345        nan\n",
      " 0.59732214 0.5965894         nan        nan 0.59732214 0.60025313\n",
      "        nan 0.59972022        nan 0.59705569        nan        nan\n",
      "        nan        nan        nan 0.59732214        nan 0.59732214\n",
      " 0.59732214        nan        nan        nan 0.59439115        nan\n",
      " 0.59732214 0.59732214        nan 0.59918732 0.59732214 0.59732214\n",
      " 0.59778844 0.59852118 0.59732214        nan        nan 0.59798828\n",
      " 0.59732214 0.59778844        nan        nan        nan        nan\n",
      "        nan        nan 0.59732214 0.59752198 0.59732214        nan\n",
      " 0.59925393        nan        nan 0.59732214 0.59732214        nan\n",
      " 0.60351719 0.59732214        nan        nan]\n",
      "  warnings.warn(\n"
     ]
    },
    {
     "name": "stderr",
     "output_type": "stream",
     "text": [
      "/Users/DanielChung/.julia/conda/3/lib/python3.9/site-packages/sklearn/linear_model/_logistic.py:444: ConvergenceWarning: lbfgs failed to converge (status=1):\n",
      "STOP: TOTAL NO. of ITERATIONS REACHED LIMIT.\n",
      "\n",
      "Increase the number of iterations (max_iter) or scale the data as shown in:\n",
      "    https://scikit-learn.org/stable/modules/preprocessing.html\n",
      "Please also refer to the documentation for alternative solver options:\n",
      "    https://scikit-learn.org/stable/modules/linear_model.html#logistic-regression\n",
      "  n_iter_i = _check_optimize_result(\n"
     ]
    }
   ],
   "source": [
    "# random grid search\n",
    "lr_model3 = LogisticRegression();\n",
    "# random search of parameters, using 3 fold cross validation, \n",
    "# search across 100 different combinations, and use all available cores\n",
    "lr_model3_rcv = RandomizedSearchCV(estimator = lr_model3, param_distributions = random_grid, \n",
    "                                   n_iter = 100, cv = 3, verbose=2, random_state=42, n_jobs = -1);\n",
    "lr_model3_rcv.fit(x_train_imputed, y_train_imputed);"
   ]
  },
  {
   "cell_type": "code",
   "execution_count": 40,
   "id": "d2d6fb3d",
   "metadata": {
    "scrolled": true
   },
   "outputs": [
    {
     "name": "stdout",
     "output_type": "stream",
     "text": [
      "{'C': 0.9393939393939394, 'penalty': 'l2'}\n"
     ]
    }
   ],
   "source": [
    "# cross-validated hyperparams\n",
    "pprint(lr_model3_rcv.best_params_)"
   ]
  },
  {
   "cell_type": "code",
   "execution_count": 41,
   "id": "a2fa12f0",
   "metadata": {},
   "outputs": [],
   "source": [
    "# predictions\n",
    "lr_model3_preds = lr_model3_rcv.predict(x_test_imputed)"
   ]
  },
  {
   "cell_type": "markdown",
   "id": "4980e406",
   "metadata": {},
   "source": [
    "### Results"
   ]
  },
  {
   "cell_type": "code",
   "execution_count": 42,
   "id": "da336d4b",
   "metadata": {},
   "outputs": [
    {
     "name": "stderr",
     "output_type": "stream",
     "text": [
      "/Users/DanielChung/.julia/conda/3/lib/python3.9/site-packages/sklearn/linear_model/_logistic.py:444: ConvergenceWarning: lbfgs failed to converge (status=1):\n",
      "STOP: TOTAL NO. of ITERATIONS REACHED LIMIT.\n",
      "\n",
      "Increase the number of iterations (max_iter) or scale the data as shown in:\n",
      "    https://scikit-learn.org/stable/modules/preprocessing.html\n",
      "Please also refer to the documentation for alternative solver options:\n",
      "    https://scikit-learn.org/stable/modules/linear_model.html#logistic-regression\n",
      "  n_iter_i = _check_optimize_result(\n"
     ]
    },
    {
     "data": {
      "text/html": [
       "<style>#sk-container-id-3 {color: black;background-color: white;}#sk-container-id-3 pre{padding: 0;}#sk-container-id-3 div.sk-toggleable {background-color: white;}#sk-container-id-3 label.sk-toggleable__label {cursor: pointer;display: block;width: 100%;margin-bottom: 0;padding: 0.3em;box-sizing: border-box;text-align: center;}#sk-container-id-3 label.sk-toggleable__label-arrow:before {content: \"▸\";float: left;margin-right: 0.25em;color: #696969;}#sk-container-id-3 label.sk-toggleable__label-arrow:hover:before {color: black;}#sk-container-id-3 div.sk-estimator:hover label.sk-toggleable__label-arrow:before {color: black;}#sk-container-id-3 div.sk-toggleable__content {max-height: 0;max-width: 0;overflow: hidden;text-align: left;background-color: #f0f8ff;}#sk-container-id-3 div.sk-toggleable__content pre {margin: 0.2em;color: black;border-radius: 0.25em;background-color: #f0f8ff;}#sk-container-id-3 input.sk-toggleable__control:checked~div.sk-toggleable__content {max-height: 200px;max-width: 100%;overflow: auto;}#sk-container-id-3 input.sk-toggleable__control:checked~label.sk-toggleable__label-arrow:before {content: \"▾\";}#sk-container-id-3 div.sk-estimator input.sk-toggleable__control:checked~label.sk-toggleable__label {background-color: #d4ebff;}#sk-container-id-3 div.sk-label input.sk-toggleable__control:checked~label.sk-toggleable__label {background-color: #d4ebff;}#sk-container-id-3 input.sk-hidden--visually {border: 0;clip: rect(1px 1px 1px 1px);clip: rect(1px, 1px, 1px, 1px);height: 1px;margin: -1px;overflow: hidden;padding: 0;position: absolute;width: 1px;}#sk-container-id-3 div.sk-estimator {font-family: monospace;background-color: #f0f8ff;border: 1px dotted black;border-radius: 0.25em;box-sizing: border-box;margin-bottom: 0.5em;}#sk-container-id-3 div.sk-estimator:hover {background-color: #d4ebff;}#sk-container-id-3 div.sk-parallel-item::after {content: \"\";width: 100%;border-bottom: 1px solid gray;flex-grow: 1;}#sk-container-id-3 div.sk-label:hover label.sk-toggleable__label {background-color: #d4ebff;}#sk-container-id-3 div.sk-serial::before {content: \"\";position: absolute;border-left: 1px solid gray;box-sizing: border-box;top: 0;bottom: 0;left: 50%;z-index: 0;}#sk-container-id-3 div.sk-serial {display: flex;flex-direction: column;align-items: center;background-color: white;padding-right: 0.2em;padding-left: 0.2em;position: relative;}#sk-container-id-3 div.sk-item {position: relative;z-index: 1;}#sk-container-id-3 div.sk-parallel {display: flex;align-items: stretch;justify-content: center;background-color: white;position: relative;}#sk-container-id-3 div.sk-item::before, #sk-container-id-3 div.sk-parallel-item::before {content: \"\";position: absolute;border-left: 1px solid gray;box-sizing: border-box;top: 0;bottom: 0;left: 50%;z-index: -1;}#sk-container-id-3 div.sk-parallel-item {display: flex;flex-direction: column;z-index: 1;position: relative;background-color: white;}#sk-container-id-3 div.sk-parallel-item:first-child::after {align-self: flex-end;width: 50%;}#sk-container-id-3 div.sk-parallel-item:last-child::after {align-self: flex-start;width: 50%;}#sk-container-id-3 div.sk-parallel-item:only-child::after {width: 0;}#sk-container-id-3 div.sk-dashed-wrapped {border: 1px dashed gray;margin: 0 0.4em 0.5em 0.4em;box-sizing: border-box;padding-bottom: 0.4em;background-color: white;}#sk-container-id-3 div.sk-label label {font-family: monospace;font-weight: bold;display: inline-block;line-height: 1.2em;}#sk-container-id-3 div.sk-label-container {text-align: center;}#sk-container-id-3 div.sk-container {/* jupyter's `normalize.less` sets `[hidden] { display: none; }` but bootstrap.min.css set `[hidden] { display: none !important; }` so we also need the `!important` here to be able to override the default hidden behavior on the sphinx rendered scikit-learn.org. See: https://github.com/scikit-learn/scikit-learn/issues/21755 */display: inline-block !important;position: relative;}#sk-container-id-3 div.sk-text-repr-fallback {display: none;}</style><div id=\"sk-container-id-3\" class=\"sk-top-container\"><div class=\"sk-text-repr-fallback\"><pre>LogisticRegression(C=0.010101010101010102)</pre><b>In a Jupyter environment, please rerun this cell to show the HTML representation or trust the notebook. <br />On GitHub, the HTML representation is unable to render, please try loading this page with nbviewer.org.</b></div><div class=\"sk-container\" hidden><div class=\"sk-item\"><div class=\"sk-estimator sk-toggleable\"><input class=\"sk-toggleable__control sk-hidden--visually\" id=\"sk-estimator-id-3\" type=\"checkbox\" checked><label for=\"sk-estimator-id-3\" class=\"sk-toggleable__label sk-toggleable__label-arrow\">LogisticRegression</label><div class=\"sk-toggleable__content\"><pre>LogisticRegression(C=0.010101010101010102)</pre></div></div></div></div></div>"
      ],
      "text/plain": [
       "LogisticRegression(C=0.010101010101010102)"
      ]
     },
     "execution_count": 42,
     "metadata": {},
     "output_type": "execute_result"
    }
   ],
   "source": [
    "# using cross-validation coefficients\n",
    "lr_model3 = LogisticRegression(penalty='l2',C=0.010101010101010102)\n",
    "lr_model3.fit(x_train_imputed, y_train_imputed)"
   ]
  },
  {
   "cell_type": "markdown",
   "id": "0de28eac",
   "metadata": {},
   "source": [
    "New Accuracy:"
   ]
  },
  {
   "cell_type": "code",
   "execution_count": 43,
   "id": "7adc86f5",
   "metadata": {
    "scrolled": true
   },
   "outputs": [
    {
     "data": {
      "text/plain": [
       "0.7795125666412795"
      ]
     },
     "execution_count": 43,
     "metadata": {},
     "output_type": "execute_result"
    }
   ],
   "source": [
    "lr_model3.score(x_test_imputed, y_test_imputed)"
   ]
  },
  {
   "cell_type": "markdown",
   "id": "40b53953",
   "metadata": {},
   "source": [
    "Confusion Matrix:"
   ]
  },
  {
   "cell_type": "code",
   "execution_count": 44,
   "id": "fbaee2fe",
   "metadata": {},
   "outputs": [
    {
     "name": "stdout",
     "output_type": "stream",
     "text": [
      "[[2037  465]\n",
      " [  86   38]]\n"
     ]
    }
   ],
   "source": [
    "cm = metrics.confusion_matrix(y_test_imputed, lr_model3_preds)\n",
    "print(cm)"
   ]
  },
  {
   "cell_type": "markdown",
   "id": "3b1eeb02",
   "metadata": {},
   "source": [
    "Precision, Recall, F Score"
   ]
  },
  {
   "cell_type": "code",
   "execution_count": 45,
   "id": "75741636",
   "metadata": {
    "scrolled": true
   },
   "outputs": [
    {
     "name": "stdout",
     "output_type": "stream",
     "text": [
      "Precision: 0.5175190027990325\n",
      "Recall: 0.5603001469791908\n",
      "F Score: 0.501038493038493\n"
     ]
    }
   ],
   "source": [
    "lr_model3_results = precision_recall_fscore_support(y_test_imputed, lr_model3_preds, average='macro')\n",
    "lr_model3_precision, lr_model3_recall, lr_model3_fscore, lr_model3_support = lr_model3_results\n",
    "print(\"Precision: \" + str(lr_model3_precision))\n",
    "print(\"Recall: \" + str(lr_model3_recall))\n",
    "print(\"F Score: \" + str(lr_model3_fscore))"
   ]
  },
  {
   "cell_type": "markdown",
   "id": "eb42f74a",
   "metadata": {},
   "source": [
    "AUC"
   ]
  },
  {
   "cell_type": "code",
   "execution_count": 48,
   "id": "57a04392",
   "metadata": {},
   "outputs": [
    {
     "data": {
      "image/png": "[encoded data removed]",
      "text/plain": [
       "<Figure size 640x480 with 1 Axes>"
      ]
     },
     "metadata": {},
     "output_type": "display_data"
    },
    {
     "name": "stdout",
     "output_type": "stream",
     "text": [
      "AUC:\n"
     ]
    },
    {
     "data": {
      "text/plain": [
       "0.585106108661458"
      ]
     },
     "execution_count": 48,
     "metadata": {},
     "output_type": "execute_result"
    }
   ],
   "source": [
    "y_pred_proba = lr_model3.predict_proba(x_test_imputed)[::,1]\n",
    "fpr, tpr, _ = metrics.roc_curve(y_test_imputed,  y_pred_proba)\n",
    "\n",
    "# plotting ROC curve\n",
    "plt.plot(fpr,tpr)\n",
    "plt.ylabel('True Positive Rate')\n",
    "plt.xlabel('False Positive Rate')\n",
    "plt.show()\n",
    "\n",
    "print(\"AUC:\")\n",
    "roc_auc_score(y_test_imputed, lr_model3.predict_proba(x_test_imputed)[:,1])"
   ]
  },
  {
   "cell_type": "markdown",
   "id": "e224ac45",
   "metadata": {},
   "source": [
    "PRAUC:"
   ]
  },
  {
   "cell_type": "code",
   "execution_count": 49,
   "id": "42f4048d",
   "metadata": {},
   "outputs": [
    {
     "data": {
      "text/plain": [
       "0.06279820367791766"
      ]
     },
     "execution_count": 49,
     "metadata": {},
     "output_type": "execute_result"
    }
   ],
   "source": [
    "lr_model3_probas = lr_model3.predict_proba(x_test_imputed)\n",
    "average_precision_score(y_test_imputed, lr_model3_probas[:,1],pos_label=1)"
   ]
  },
  {
   "cell_type": "markdown",
   "id": "bde883ec",
   "metadata": {},
   "source": [
    "### Interpretation"
   ]
  },
  {
   "cell_type": "markdown",
   "id": "ea6d4e71",
   "metadata": {},
   "source": [
    "Coefficient Magnitude:"
   ]
  },
  {
   "cell_type": "code",
   "execution_count": 50,
   "id": "5cfd92bf",
   "metadata": {
    "scrolled": true
   },
   "outputs": [
    {
     "data": {
      "image/png": "[encoded data removed]",
      "text/plain": [
       "<Figure size 1850x450 with 1 Axes>"
      ]
     },
     "metadata": {},
     "output_type": "display_data"
    }
   ],
   "source": [
    "# creating a dataframe where rows are features\n",
    "# and columns are logistic regression coef\n",
    "to_plot = pd.DataFrame(range(1,65),columns=[\"attr\"])\n",
    "to_plot[\"coef\"] = lr_model3.coef_[0]\n",
    "\n",
    "# plotting feature coefs (and by extension, feature importance)\n",
    "fig, ax = plt.subplots()\n",
    "fig.set_size_inches(18.5, 4.5)\n",
    "\n",
    "to_plot['sign'] = to_plot['coef'] > 0\n",
    "to_plot['coef'].plot(kind='bar', color=to_plot.sign.map({True: (1.0, 0, 0, 0.7), False: (0, 0.6, 0, 0.7)}), \n",
    "                      ax=ax)\n",
    "ax.set_xticklabels(range(1,65), rotation = 0);\n",
    "ax.axhline(0, color='k');\n",
    "ax.set_xlabel(\"attribute\");\n",
    "ax.set_ylabel(\"logistic regression coef\");\n",
    "ax.set_title(\"Cross-Validated Logistic Regression Coefficients, Bankrupcy Classifier\");"
   ]
  },
  {
   "cell_type": "code",
   "execution_count": 51,
   "id": "e5181b02",
   "metadata": {
    "scrolled": false
   },
   "outputs": [
    {
     "name": "stdout",
     "output_type": "stream",
     "text": [
      "attribues that decrease predicted probability of bankrupcy (in desc order of coef size):\n",
      "====\n",
      "book value of equity / total liabilities\n",
      "gross profit / short-term liabilities\n",
      "total assets / total liabilities\n",
      "sales / inventory\n"
     ]
    }
   ],
   "source": [
    "print(\"attribues that decrease predicted probability of bankrupcy (in desc order of coef size):\")\n",
    "print(\"====\")\n",
    "print(attributes[8])\n",
    "print(attributes[12])\n",
    "print(attributes[17])\n",
    "print(attributes[60])"
   ]
  },
  {
   "cell_type": "code",
   "execution_count": 52,
   "id": "60ec5c33",
   "metadata": {},
   "outputs": [
    {
     "name": "stdout",
     "output_type": "stream",
     "text": [
      "attribues that incease predicted probability of bankrupcy (in desc order of coef size):\n",
      "====\n",
      "operating expenses / short-term liabilities\n",
      "sales / fixed assets\n"
     ]
    }
   ],
   "source": [
    "print(\"attribues that incease predicted probability of bankrupcy (in desc order of coef size):\")\n",
    "print(\"====\")\n",
    "print(attributes[33])\n",
    "print(attributes[64])"
   ]
  },
  {
   "cell_type": "markdown",
   "id": "0597cf2a",
   "metadata": {},
   "source": [
    "Coefficient Significance:"
   ]
  },
  {
   "cell_type": "code",
   "execution_count": 53,
   "id": "9a7d4940",
   "metadata": {},
   "outputs": [
    {
     "name": "stderr",
     "output_type": "stream",
     "text": [
      "/var/folders/_k/mx9qq9x94y3bdxqvpj9jc8qh0000gn/T/ipykernel_14978/65202168.py:18: RuntimeWarning: invalid value encountered in sqrt\n",
      "  se = np.sqrt(np.diag(vcov))\n"
     ]
    }
   ],
   "source": [
    "# finding coefficient significance\n",
    "lr_model3_sigs = logit_pvalue(lr_model3, x_train_imputed)"
   ]
  },
  {
   "cell_type": "code",
   "execution_count": 54,
   "id": "ee8a386a",
   "metadata": {
    "scrolled": true
   },
   "outputs": [
    {
     "data": {
      "image/png": "[encoded data removed]",
      "text/plain": [
       "<Figure size 1850x450 with 1 Axes>"
      ]
     },
     "metadata": {},
     "output_type": "display_data"
    }
   ],
   "source": [
    "# creating a dataframe where rows are features\n",
    "# and columns are logistic regression coef\n",
    "to_plot = pd.DataFrame(range(0,65),columns=[\"attr\"])\n",
    "to_plot[\"significance\"] = lr_model3_sigs\n",
    "\n",
    "# plotting feature coefs (and by extension, feature importance)\n",
    "fig, ax = plt.subplots()\n",
    "fig.set_size_inches(18.5, 4.5)\n",
    "\n",
    "to_plot['sign'] = to_plot['significance'] > 0\n",
    "to_plot['significance'].plot(kind='bar', color=to_plot.sign.map({True: (1.0, 0, 0, 0.7), False: (0, 0.6, 0, 0.7)}), \n",
    "                      ax=ax)\n",
    "ax.set_xticklabels(range(0,65), rotation = 0);\n",
    "ax.axhline(0, color='k');\n",
    "ax.set_xlabel(\"attribute (0 = intercept)\");\n",
    "ax.set_ylabel(\"logistic regression coef significance\");\n",
    "ax.set_title(\"Cross-Validated Logistic Regression Coefficient Significance, Bankrupcy Classifier\");\n",
    "ax.axhline(0.05);"
   ]
  },
  {
   "cell_type": "code",
   "execution_count": 55,
   "id": "1a70bf93",
   "metadata": {
    "scrolled": true
   },
   "outputs": [
    {
     "name": "stdout",
     "output_type": "stream",
     "text": [
      "attibutes with significant (p<=0.05) regression coefficients:\n",
      "====\n",
      "(total liabilities * 365) / (gross profit + depreciation)\n",
      "profit on operating activities / financial expenses\n",
      "working capital\n",
      "sales / inventory\n",
      "sales / fixed assets\n"
     ]
    }
   ],
   "source": [
    "print(\"attibutes with significant (p<=0.05) regression coefficients:\")\n",
    "print(\"====\")\n",
    "print(attributes[15])\n",
    "print(attributes[27])\n",
    "print(attributes[55])\n",
    "print(attributes[60])\n",
    "print(attributes[64])"
   ]
  },
  {
   "cell_type": "markdown",
   "id": "7f87f4b6",
   "metadata": {},
   "source": [
    "## Sparsified -> Cross Validated Model *"
   ]
  },
  {
   "cell_type": "markdown",
   "id": "999b8e43",
   "metadata": {},
   "source": [
    "### Fit"
   ]
  },
  {
   "cell_type": "markdown",
   "id": "773dfaf7",
   "metadata": {},
   "source": [
    "Improving model performance using Regularization"
   ]
  },
  {
   "cell_type": "code",
   "execution_count": 118,
   "id": "ed6ccd3d",
   "metadata": {},
   "outputs": [],
   "source": [
    "# creating random grid\n",
    "penalty = ['none','l2','l1','elaticnet']\n",
    "lam = [x for x in np.linspace(start = 0, stop = 1, num = 100)]\n",
    "\n",
    "# random grid\n",
    "random_grid = {'penalty': penalty,'C':lam}"
   ]
  },
  {
   "cell_type": "code",
   "execution_count": 119,
   "id": "ea220f2c",
   "metadata": {},
   "outputs": [],
   "source": [
    "# x imputed with only significant regression coefficients included\n",
    "x_train_signif = x_train_imputed[[\"Attr15\",\"Attr27\",\"Attr55\",\"Attr60\",\"Attr64\"]]\n",
    "x_test_signif = x_test_imputed[[\"Attr15\",\"Attr27\",\"Attr55\",\"Attr60\",\"Attr64\"]]"
   ]
  },
  {
   "cell_type": "code",
   "execution_count": 120,
   "id": "29a473ae",
   "metadata": {},
   "outputs": [
    {
     "name": "stdout",
     "output_type": "stream",
     "text": [
      "Fitting 3 folds for each of 100 candidates, totalling 300 fits\n"
     ]
    },
    {
     "name": "stderr",
     "output_type": "stream",
     "text": [
      "/Users/DanielChung/.julia/conda/3/lib/python3.9/site-packages/sklearn/linear_model/_logistic.py:1113: UserWarning: Setting penalty='none' will ignore the C and l1_ratio parameters\n",
      "  warnings.warn(\n",
      "/Users/DanielChung/.julia/conda/3/lib/python3.9/site-packages/sklearn/linear_model/_logistic.py:1113: UserWarning: Setting penalty='none' will ignore the C and l1_ratio parameters\n",
      "  warnings.warn(\n",
      "/Users/DanielChung/.julia/conda/3/lib/python3.9/site-packages/sklearn/linear_model/_logistic.py:1113: UserWarning: Setting penalty='none' will ignore the C and l1_ratio parameters\n",
      "  warnings.warn(\n",
      "/Users/DanielChung/.julia/conda/3/lib/python3.9/site-packages/sklearn/linear_model/_logistic.py:1113: UserWarning: Setting penalty='none' will ignore the C and l1_ratio parameters\n",
      "  warnings.warn(\n",
      "/Users/DanielChung/.julia/conda/3/lib/python3.9/site-packages/sklearn/linear_model/_logistic.py:1113: UserWarning: Setting penalty='none' will ignore the C and l1_ratio parameters\n",
      "  warnings.warn(\n",
      "/Users/DanielChung/.julia/conda/3/lib/python3.9/site-packages/sklearn/linear_model/_logistic.py:1113: UserWarning: Setting penalty='none' will ignore the C and l1_ratio parameters\n",
      "  warnings.warn(\n",
      "/Users/DanielChung/.julia/conda/3/lib/python3.9/site-packages/sklearn/linear_model/_logistic.py:1113: UserWarning: Setting penalty='none' will ignore the C and l1_ratio parameters\n",
      "  warnings.warn(\n",
      "/Users/DanielChung/.julia/conda/3/lib/python3.9/site-packages/sklearn/linear_model/_logistic.py:1113: UserWarning: Setting penalty='none' will ignore the C and l1_ratio parameters\n",
      "  warnings.warn(\n",
      "/Users/DanielChung/.julia/conda/3/lib/python3.9/site-packages/sklearn/linear_model/_logistic.py:1113: UserWarning: Setting penalty='none' will ignore the C and l1_ratio parameters\n",
      "  warnings.warn(\n",
      "/Users/DanielChung/.julia/conda/3/lib/python3.9/site-packages/sklearn/linear_model/_logistic.py:1113: UserWarning: Setting penalty='none' will ignore the C and l1_ratio parameters\n",
      "  warnings.warn(\n",
      "/Users/DanielChung/.julia/conda/3/lib/python3.9/site-packages/sklearn/linear_model/_logistic.py:1113: UserWarning: Setting penalty='none' will ignore the C and l1_ratio parameters\n",
      "  warnings.warn(\n",
      "/Users/DanielChung/.julia/conda/3/lib/python3.9/site-packages/sklearn/linear_model/_logistic.py:1113: UserWarning: Setting penalty='none' will ignore the C and l1_ratio parameters\n",
      "  warnings.warn(\n",
      "/Users/DanielChung/.julia/conda/3/lib/python3.9/site-packages/sklearn/linear_model/_logistic.py:1113: UserWarning: Setting penalty='none' will ignore the C and l1_ratio parameters\n",
      "  warnings.warn(\n",
      "/Users/DanielChung/.julia/conda/3/lib/python3.9/site-packages/sklearn/linear_model/_logistic.py:1113: UserWarning: Setting penalty='none' will ignore the C and l1_ratio parameters\n",
      "  warnings.warn(\n",
      "/Users/DanielChung/.julia/conda/3/lib/python3.9/site-packages/sklearn/linear_model/_logistic.py:1113: UserWarning: Setting penalty='none' will ignore the C and l1_ratio parameters\n",
      "  warnings.warn(\n",
      "/Users/DanielChung/.julia/conda/3/lib/python3.9/site-packages/sklearn/linear_model/_logistic.py:1113: UserWarning: Setting penalty='none' will ignore the C and l1_ratio parameters\n",
      "  warnings.warn(\n",
      "/Users/DanielChung/.julia/conda/3/lib/python3.9/site-packages/sklearn/linear_model/_logistic.py:1113: UserWarning: Setting penalty='none' will ignore the C and l1_ratio parameters\n",
      "  warnings.warn(\n",
      "/Users/DanielChung/.julia/conda/3/lib/python3.9/site-packages/sklearn/linear_model/_logistic.py:1113: UserWarning: Setting penalty='none' will ignore the C and l1_ratio parameters\n",
      "  warnings.warn(\n",
      "/Users/DanielChung/.julia/conda/3/lib/python3.9/site-packages/sklearn/linear_model/_logistic.py:1113: UserWarning: Setting penalty='none' will ignore the C and l1_ratio parameters\n",
      "  warnings.warn(\n",
      "/Users/DanielChung/.julia/conda/3/lib/python3.9/site-packages/sklearn/linear_model/_logistic.py:1113: UserWarning: Setting penalty='none' will ignore the C and l1_ratio parameters\n",
      "  warnings.warn(\n",
      "/Users/DanielChung/.julia/conda/3/lib/python3.9/site-packages/sklearn/linear_model/_logistic.py:1113: UserWarning: Setting penalty='none' will ignore the C and l1_ratio parameters\n",
      "  warnings.warn(\n",
      "/Users/DanielChung/.julia/conda/3/lib/python3.9/site-packages/sklearn/linear_model/_logistic.py:1113: UserWarning: Setting penalty='none' will ignore the C and l1_ratio parameters\n",
      "  warnings.warn(\n",
      "/Users/DanielChung/.julia/conda/3/lib/python3.9/site-packages/sklearn/linear_model/_logistic.py:1113: UserWarning: Setting penalty='none' will ignore the C and l1_ratio parameters\n",
      "  warnings.warn(\n",
      "/Users/DanielChung/.julia/conda/3/lib/python3.9/site-packages/sklearn/linear_model/_logistic.py:1113: UserWarning: Setting penalty='none' will ignore the C and l1_ratio parameters\n",
      "  warnings.warn(\n",
      "/Users/DanielChung/.julia/conda/3/lib/python3.9/site-packages/sklearn/linear_model/_logistic.py:1113: UserWarning: Setting penalty='none' will ignore the C and l1_ratio parameters\n",
      "  warnings.warn(\n",
      "/Users/DanielChung/.julia/conda/3/lib/python3.9/site-packages/sklearn/linear_model/_logistic.py:1113: UserWarning: Setting penalty='none' will ignore the C and l1_ratio parameters\n",
      "  warnings.warn(\n",
      "/Users/DanielChung/.julia/conda/3/lib/python3.9/site-packages/sklearn/linear_model/_logistic.py:1113: UserWarning: Setting penalty='none' will ignore the C and l1_ratio parameters\n",
      "  warnings.warn(\n",
      "/Users/DanielChung/.julia/conda/3/lib/python3.9/site-packages/sklearn/linear_model/_logistic.py:1113: UserWarning: Setting penalty='none' will ignore the C and l1_ratio parameters\n",
      "  warnings.warn(\n",
      "/Users/DanielChung/.julia/conda/3/lib/python3.9/site-packages/sklearn/linear_model/_logistic.py:1113: UserWarning: Setting penalty='none' will ignore the C and l1_ratio parameters\n",
      "  warnings.warn(\n",
      "/Users/DanielChung/.julia/conda/3/lib/python3.9/site-packages/sklearn/linear_model/_logistic.py:1113: UserWarning: Setting penalty='none' will ignore the C and l1_ratio parameters\n",
      "  warnings.warn(\n",
      "/Users/DanielChung/.julia/conda/3/lib/python3.9/site-packages/sklearn/linear_model/_logistic.py:1113: UserWarning: Setting penalty='none' will ignore the C and l1_ratio parameters\n",
      "  warnings.warn(\n",
      "/Users/DanielChung/.julia/conda/3/lib/python3.9/site-packages/sklearn/linear_model/_logistic.py:1113: UserWarning: Setting penalty='none' will ignore the C and l1_ratio parameters\n",
      "  warnings.warn(\n",
      "/Users/DanielChung/.julia/conda/3/lib/python3.9/site-packages/sklearn/linear_model/_logistic.py:1113: UserWarning: Setting penalty='none' will ignore the C and l1_ratio parameters\n",
      "  warnings.warn(\n",
      "/Users/DanielChung/.julia/conda/3/lib/python3.9/site-packages/sklearn/linear_model/_logistic.py:1113: UserWarning: Setting penalty='none' will ignore the C and l1_ratio parameters\n",
      "  warnings.warn(\n",
      "/Users/DanielChung/.julia/conda/3/lib/python3.9/site-packages/sklearn/linear_model/_logistic.py:1113: UserWarning: Setting penalty='none' will ignore the C and l1_ratio parameters\n",
      "  warnings.warn(\n",
      "/Users/DanielChung/.julia/conda/3/lib/python3.9/site-packages/sklearn/linear_model/_logistic.py:1113: UserWarning: Setting penalty='none' will ignore the C and l1_ratio parameters\n",
      "  warnings.warn(\n",
      "/Users/DanielChung/.julia/conda/3/lib/python3.9/site-packages/sklearn/linear_model/_logistic.py:1113: UserWarning: Setting penalty='none' will ignore the C and l1_ratio parameters\n",
      "  warnings.warn(\n",
      "/Users/DanielChung/.julia/conda/3/lib/python3.9/site-packages/sklearn/linear_model/_logistic.py:1113: UserWarning: Setting penalty='none' will ignore the C and l1_ratio parameters\n",
      "  warnings.warn(\n",
      "/Users/DanielChung/.julia/conda/3/lib/python3.9/site-packages/sklearn/linear_model/_logistic.py:1113: UserWarning: Setting penalty='none' will ignore the C and l1_ratio parameters\n",
      "  warnings.warn(\n",
      "/Users/DanielChung/.julia/conda/3/lib/python3.9/site-packages/sklearn/linear_model/_logistic.py:1113: UserWarning: Setting penalty='none' will ignore the C and l1_ratio parameters\n",
      "  warnings.warn(\n",
      "/Users/DanielChung/.julia/conda/3/lib/python3.9/site-packages/sklearn/linear_model/_logistic.py:1113: UserWarning: Setting penalty='none' will ignore the C and l1_ratio parameters\n",
      "  warnings.warn(\n",
      "/Users/DanielChung/.julia/conda/3/lib/python3.9/site-packages/sklearn/linear_model/_logistic.py:1113: UserWarning: Setting penalty='none' will ignore the C and l1_ratio parameters\n",
      "  warnings.warn(\n",
      "/Users/DanielChung/.julia/conda/3/lib/python3.9/site-packages/sklearn/linear_model/_logistic.py:1113: UserWarning: Setting penalty='none' will ignore the C and l1_ratio parameters\n",
      "  warnings.warn(\n",
      "/Users/DanielChung/.julia/conda/3/lib/python3.9/site-packages/sklearn/linear_model/_logistic.py:1113: UserWarning: Setting penalty='none' will ignore the C and l1_ratio parameters\n",
      "  warnings.warn(\n"
     ]
    },
    {
     "name": "stderr",
     "output_type": "stream",
     "text": [
      "/Users/DanielChung/.julia/conda/3/lib/python3.9/site-packages/sklearn/linear_model/_logistic.py:1113: UserWarning: Setting penalty='none' will ignore the C and l1_ratio parameters\n",
      "  warnings.warn(\n",
      "/Users/DanielChung/.julia/conda/3/lib/python3.9/site-packages/sklearn/linear_model/_logistic.py:1113: UserWarning: Setting penalty='none' will ignore the C and l1_ratio parameters\n",
      "  warnings.warn(\n",
      "/Users/DanielChung/.julia/conda/3/lib/python3.9/site-packages/sklearn/linear_model/_logistic.py:1113: UserWarning: Setting penalty='none' will ignore the C and l1_ratio parameters\n",
      "  warnings.warn(\n",
      "/Users/DanielChung/.julia/conda/3/lib/python3.9/site-packages/sklearn/linear_model/_logistic.py:1113: UserWarning: Setting penalty='none' will ignore the C and l1_ratio parameters\n",
      "  warnings.warn(\n",
      "/Users/DanielChung/.julia/conda/3/lib/python3.9/site-packages/sklearn/linear_model/_logistic.py:1113: UserWarning: Setting penalty='none' will ignore the C and l1_ratio parameters\n",
      "  warnings.warn(\n",
      "/Users/DanielChung/.julia/conda/3/lib/python3.9/site-packages/sklearn/linear_model/_logistic.py:1113: UserWarning: Setting penalty='none' will ignore the C and l1_ratio parameters\n",
      "  warnings.warn(\n",
      "/Users/DanielChung/.julia/conda/3/lib/python3.9/site-packages/sklearn/linear_model/_logistic.py:1113: UserWarning: Setting penalty='none' will ignore the C and l1_ratio parameters\n",
      "  warnings.warn(\n",
      "/Users/DanielChung/.julia/conda/3/lib/python3.9/site-packages/sklearn/linear_model/_logistic.py:1113: UserWarning: Setting penalty='none' will ignore the C and l1_ratio parameters\n",
      "  warnings.warn(\n",
      "/Users/DanielChung/.julia/conda/3/lib/python3.9/site-packages/sklearn/linear_model/_logistic.py:1113: UserWarning: Setting penalty='none' will ignore the C and l1_ratio parameters\n",
      "  warnings.warn(\n",
      "/Users/DanielChung/.julia/conda/3/lib/python3.9/site-packages/sklearn/linear_model/_logistic.py:1113: UserWarning: Setting penalty='none' will ignore the C and l1_ratio parameters\n",
      "  warnings.warn(\n",
      "/Users/DanielChung/.julia/conda/3/lib/python3.9/site-packages/sklearn/linear_model/_logistic.py:1113: UserWarning: Setting penalty='none' will ignore the C and l1_ratio parameters\n",
      "  warnings.warn(\n",
      "/Users/DanielChung/.julia/conda/3/lib/python3.9/site-packages/sklearn/linear_model/_logistic.py:1113: UserWarning: Setting penalty='none' will ignore the C and l1_ratio parameters\n",
      "  warnings.warn(\n",
      "/Users/DanielChung/.julia/conda/3/lib/python3.9/site-packages/sklearn/linear_model/_logistic.py:1113: UserWarning: Setting penalty='none' will ignore the C and l1_ratio parameters\n",
      "  warnings.warn(\n",
      "/Users/DanielChung/.julia/conda/3/lib/python3.9/site-packages/sklearn/linear_model/_logistic.py:1113: UserWarning: Setting penalty='none' will ignore the C and l1_ratio parameters\n",
      "  warnings.warn(\n",
      "/Users/DanielChung/.julia/conda/3/lib/python3.9/site-packages/sklearn/linear_model/_logistic.py:1113: UserWarning: Setting penalty='none' will ignore the C and l1_ratio parameters\n",
      "  warnings.warn(\n",
      "/Users/DanielChung/.julia/conda/3/lib/python3.9/site-packages/sklearn/linear_model/_logistic.py:1113: UserWarning: Setting penalty='none' will ignore the C and l1_ratio parameters\n",
      "  warnings.warn(\n",
      "/Users/DanielChung/.julia/conda/3/lib/python3.9/site-packages/sklearn/linear_model/_logistic.py:1113: UserWarning: Setting penalty='none' will ignore the C and l1_ratio parameters\n",
      "  warnings.warn(\n",
      "/Users/DanielChung/.julia/conda/3/lib/python3.9/site-packages/sklearn/linear_model/_logistic.py:1113: UserWarning: Setting penalty='none' will ignore the C and l1_ratio parameters\n",
      "  warnings.warn(\n",
      "/Users/DanielChung/.julia/conda/3/lib/python3.9/site-packages/sklearn/linear_model/_logistic.py:1113: UserWarning: Setting penalty='none' will ignore the C and l1_ratio parameters\n",
      "  warnings.warn(\n",
      "/Users/DanielChung/.julia/conda/3/lib/python3.9/site-packages/sklearn/linear_model/_logistic.py:1113: UserWarning: Setting penalty='none' will ignore the C and l1_ratio parameters\n",
      "  warnings.warn(\n",
      "/Users/DanielChung/.julia/conda/3/lib/python3.9/site-packages/sklearn/linear_model/_logistic.py:1113: UserWarning: Setting penalty='none' will ignore the C and l1_ratio parameters\n",
      "  warnings.warn(\n",
      "/Users/DanielChung/.julia/conda/3/lib/python3.9/site-packages/sklearn/linear_model/_logistic.py:1113: UserWarning: Setting penalty='none' will ignore the C and l1_ratio parameters\n",
      "  warnings.warn(\n",
      "/Users/DanielChung/.julia/conda/3/lib/python3.9/site-packages/sklearn/linear_model/_logistic.py:1113: UserWarning: Setting penalty='none' will ignore the C and l1_ratio parameters\n",
      "  warnings.warn(\n",
      "/Users/DanielChung/.julia/conda/3/lib/python3.9/site-packages/sklearn/linear_model/_logistic.py:1113: UserWarning: Setting penalty='none' will ignore the C and l1_ratio parameters\n",
      "  warnings.warn(\n",
      "/Users/DanielChung/.julia/conda/3/lib/python3.9/site-packages/sklearn/linear_model/_logistic.py:1113: UserWarning: Setting penalty='none' will ignore the C and l1_ratio parameters\n",
      "  warnings.warn(\n",
      "/Users/DanielChung/.julia/conda/3/lib/python3.9/site-packages/sklearn/linear_model/_logistic.py:1113: UserWarning: Setting penalty='none' will ignore the C and l1_ratio parameters\n",
      "  warnings.warn(\n",
      "/Users/DanielChung/.julia/conda/3/lib/python3.9/site-packages/sklearn/linear_model/_logistic.py:1113: UserWarning: Setting penalty='none' will ignore the C and l1_ratio parameters\n",
      "  warnings.warn(\n",
      "/Users/DanielChung/.julia/conda/3/lib/python3.9/site-packages/sklearn/linear_model/_logistic.py:1113: UserWarning: Setting penalty='none' will ignore the C and l1_ratio parameters\n",
      "  warnings.warn(\n",
      "/Users/DanielChung/.julia/conda/3/lib/python3.9/site-packages/sklearn/linear_model/_logistic.py:1113: UserWarning: Setting penalty='none' will ignore the C and l1_ratio parameters\n",
      "  warnings.warn(\n",
      "/Users/DanielChung/.julia/conda/3/lib/python3.9/site-packages/sklearn/linear_model/_logistic.py:1113: UserWarning: Setting penalty='none' will ignore the C and l1_ratio parameters\n",
      "  warnings.warn(\n",
      "/Users/DanielChung/.julia/conda/3/lib/python3.9/site-packages/sklearn/linear_model/_logistic.py:1113: UserWarning: Setting penalty='none' will ignore the C and l1_ratio parameters\n",
      "  warnings.warn(\n",
      "/Users/DanielChung/.julia/conda/3/lib/python3.9/site-packages/sklearn/linear_model/_logistic.py:1113: UserWarning: Setting penalty='none' will ignore the C and l1_ratio parameters\n",
      "  warnings.warn(\n",
      "/Users/DanielChung/.julia/conda/3/lib/python3.9/site-packages/sklearn/linear_model/_logistic.py:1113: UserWarning: Setting penalty='none' will ignore the C and l1_ratio parameters\n",
      "  warnings.warn(\n",
      "/Users/DanielChung/.julia/conda/3/lib/python3.9/site-packages/sklearn/linear_model/_logistic.py:1113: UserWarning: Setting penalty='none' will ignore the C and l1_ratio parameters\n",
      "  warnings.warn(\n",
      "/Users/DanielChung/.julia/conda/3/lib/python3.9/site-packages/sklearn/model_selection/_validation.py:378: FitFailedWarning: \n",
      "135 fits failed out of a total of 300.\n",
      "The score on these train-test partitions for these parameters will be set to nan.\n",
      "If these failures are not expected, you can try to debug them by setting error_score='raise'.\n",
      "\n",
      "Below are more details about the failures:\n",
      "--------------------------------------------------------------------------------\n",
      "87 fits failed with the following error:\n",
      "Traceback (most recent call last):\n",
      "  File \"/Users/DanielChung/.julia/conda/3/lib/python3.9/site-packages/sklearn/model_selection/_validation.py\", line 686, in _fit_and_score\n",
      "    estimator.fit(X_train, y_train, **fit_params)\n",
      "  File \"/Users/DanielChung/.julia/conda/3/lib/python3.9/site-packages/sklearn/linear_model/_logistic.py\", line 1091, in fit\n",
      "    solver = _check_solver(self.solver, self.penalty, self.dual)\n",
      "  File \"/Users/DanielChung/.julia/conda/3/lib/python3.9/site-packages/sklearn/linear_model/_logistic.py\", line 61, in _check_solver\n",
      "    raise ValueError(\n",
      "ValueError: Solver lbfgs supports only 'l2' or 'none' penalties, got l1 penalty.\n",
      "\n",
      "--------------------------------------------------------------------------------\n",
      "48 fits failed with the following error:\n",
      "Traceback (most recent call last):\n",
      "  File \"/Users/DanielChung/.julia/conda/3/lib/python3.9/site-packages/sklearn/model_selection/_validation.py\", line 686, in _fit_and_score\n",
      "    estimator.fit(X_train, y_train, **fit_params)\n",
      "  File \"/Users/DanielChung/.julia/conda/3/lib/python3.9/site-packages/sklearn/linear_model/_logistic.py\", line 1091, in fit\n",
      "    solver = _check_solver(self.solver, self.penalty, self.dual)\n",
      "  File \"/Users/DanielChung/.julia/conda/3/lib/python3.9/site-packages/sklearn/linear_model/_logistic.py\", line 55, in _check_solver\n",
      "    raise ValueError(\n",
      "ValueError: Logistic Regression supports only penalties in ['l1', 'l2', 'elasticnet', 'none'], got elaticnet.\n",
      "\n",
      "  warnings.warn(some_fits_failed_message, FitFailedWarning)\n",
      "/Users/DanielChung/.julia/conda/3/lib/python3.9/site-packages/sklearn/model_selection/_search.py:953: UserWarning: One or more of the test scores are non-finite: [0.59785505 0.59792166 0.59785505        nan 0.59785505 0.59792166\n",
      " 0.59785505        nan        nan        nan 0.59785505 0.59785505\n",
      " 0.59792166 0.59792166 0.59792166        nan        nan 0.59792166\n",
      "        nan 0.59785505 0.59785505        nan        nan        nan\n",
      " 0.59792166 0.59792166        nan 0.59785505        nan 0.59792166\n",
      "        nan 0.59785505 0.59785505 0.59785505 0.59792166 0.59792166\n",
      " 0.59785505        nan        nan 0.59785505 0.59785505        nan\n",
      " 0.59792166 0.59785505        nan        nan 0.59792166 0.59785505\n",
      "        nan 0.59785505        nan 0.59785505        nan        nan\n",
      "        nan        nan        nan 0.59792166        nan 0.59792166\n",
      " 0.59792166        nan        nan        nan 0.59785505        nan\n",
      " 0.59792166 0.59792166        nan 0.59785505 0.59792166 0.59792166\n",
      " 0.59785505 0.59785505 0.59792166        nan        nan 0.59785505\n",
      " 0.59792166 0.59785505        nan        nan        nan        nan\n",
      "        nan        nan 0.59792166 0.59785505 0.59792166        nan\n",
      " 0.59785505        nan        nan 0.59792166 0.59792166        nan\n",
      " 0.59785505 0.59792166        nan        nan]\n",
      "  warnings.warn(\n",
      "/Users/DanielChung/.julia/conda/3/lib/python3.9/site-packages/sklearn/linear_model/_logistic.py:1113: UserWarning: Setting penalty='none' will ignore the C and l1_ratio parameters\n",
      "  warnings.warn(\n"
     ]
    }
   ],
   "source": [
    "# random grid search\n",
    "lr_model4 = LogisticRegression();\n",
    "# random search of parameters, using 3 fold cross validation, \n",
    "# search across 100 different combinations, and use all available cores\n",
    "lr_model4_rcv = RandomizedSearchCV(estimator = lr_model4, param_distributions = random_grid, \n",
    "                                   n_iter = 100, cv = 3, verbose=2, random_state=42, n_jobs = -1);\n",
    "lr_model4_rcv.fit(x_train_signif, y_train_imputed);"
   ]
  },
  {
   "cell_type": "code",
   "execution_count": 121,
   "id": "576ecbfe",
   "metadata": {
    "scrolled": true
   },
   "outputs": [
    {
     "name": "stdout",
     "output_type": "stream",
     "text": [
      "{'C': 0.7070707070707072, 'penalty': 'none'}\n"
     ]
    }
   ],
   "source": [
    "# cross-validated hyperparams\n",
    "pprint(lr_model4_rcv.best_params_)"
   ]
  },
  {
   "cell_type": "code",
   "execution_count": 122,
   "id": "0f765508",
   "metadata": {},
   "outputs": [
    {
     "name": "stderr",
     "output_type": "stream",
     "text": [
      "/Users/DanielChung/.julia/conda/3/lib/python3.9/site-packages/sklearn/linear_model/_logistic.py:1113: UserWarning: Setting penalty='none' will ignore the C and l1_ratio parameters\n",
      "  warnings.warn(\n"
     ]
    },
    {
     "data": {
      "text/html": [
       "<style>#sk-container-id-9 {color: black;background-color: white;}#sk-container-id-9 pre{padding: 0;}#sk-container-id-9 div.sk-toggleable {background-color: white;}#sk-container-id-9 label.sk-toggleable__label {cursor: pointer;display: block;width: 100%;margin-bottom: 0;padding: 0.3em;box-sizing: border-box;text-align: center;}#sk-container-id-9 label.sk-toggleable__label-arrow:before {content: \"▸\";float: left;margin-right: 0.25em;color: #696969;}#sk-container-id-9 label.sk-toggleable__label-arrow:hover:before {color: black;}#sk-container-id-9 div.sk-estimator:hover label.sk-toggleable__label-arrow:before {color: black;}#sk-container-id-9 div.sk-toggleable__content {max-height: 0;max-width: 0;overflow: hidden;text-align: left;background-color: #f0f8ff;}#sk-container-id-9 div.sk-toggleable__content pre {margin: 0.2em;color: black;border-radius: 0.25em;background-color: #f0f8ff;}#sk-container-id-9 input.sk-toggleable__control:checked~div.sk-toggleable__content {max-height: 200px;max-width: 100%;overflow: auto;}#sk-container-id-9 input.sk-toggleable__control:checked~label.sk-toggleable__label-arrow:before {content: \"▾\";}#sk-container-id-9 div.sk-estimator input.sk-toggleable__control:checked~label.sk-toggleable__label {background-color: #d4ebff;}#sk-container-id-9 div.sk-label input.sk-toggleable__control:checked~label.sk-toggleable__label {background-color: #d4ebff;}#sk-container-id-9 input.sk-hidden--visually {border: 0;clip: rect(1px 1px 1px 1px);clip: rect(1px, 1px, 1px, 1px);height: 1px;margin: -1px;overflow: hidden;padding: 0;position: absolute;width: 1px;}#sk-container-id-9 div.sk-estimator {font-family: monospace;background-color: #f0f8ff;border: 1px dotted black;border-radius: 0.25em;box-sizing: border-box;margin-bottom: 0.5em;}#sk-container-id-9 div.sk-estimator:hover {background-color: #d4ebff;}#sk-container-id-9 div.sk-parallel-item::after {content: \"\";width: 100%;border-bottom: 1px solid gray;flex-grow: 1;}#sk-container-id-9 div.sk-label:hover label.sk-toggleable__label {background-color: #d4ebff;}#sk-container-id-9 div.sk-serial::before {content: \"\";position: absolute;border-left: 1px solid gray;box-sizing: border-box;top: 0;bottom: 0;left: 50%;z-index: 0;}#sk-container-id-9 div.sk-serial {display: flex;flex-direction: column;align-items: center;background-color: white;padding-right: 0.2em;padding-left: 0.2em;position: relative;}#sk-container-id-9 div.sk-item {position: relative;z-index: 1;}#sk-container-id-9 div.sk-parallel {display: flex;align-items: stretch;justify-content: center;background-color: white;position: relative;}#sk-container-id-9 div.sk-item::before, #sk-container-id-9 div.sk-parallel-item::before {content: \"\";position: absolute;border-left: 1px solid gray;box-sizing: border-box;top: 0;bottom: 0;left: 50%;z-index: -1;}#sk-container-id-9 div.sk-parallel-item {display: flex;flex-direction: column;z-index: 1;position: relative;background-color: white;}#sk-container-id-9 div.sk-parallel-item:first-child::after {align-self: flex-end;width: 50%;}#sk-container-id-9 div.sk-parallel-item:last-child::after {align-self: flex-start;width: 50%;}#sk-container-id-9 div.sk-parallel-item:only-child::after {width: 0;}#sk-container-id-9 div.sk-dashed-wrapped {border: 1px dashed gray;margin: 0 0.4em 0.5em 0.4em;box-sizing: border-box;padding-bottom: 0.4em;background-color: white;}#sk-container-id-9 div.sk-label label {font-family: monospace;font-weight: bold;display: inline-block;line-height: 1.2em;}#sk-container-id-9 div.sk-label-container {text-align: center;}#sk-container-id-9 div.sk-container {/* jupyter's `normalize.less` sets `[hidden] { display: none; }` but bootstrap.min.css set `[hidden] { display: none !important; }` so we also need the `!important` here to be able to override the default hidden behavior on the sphinx rendered scikit-learn.org. See: https://github.com/scikit-learn/scikit-learn/issues/21755 */display: inline-block !important;position: relative;}#sk-container-id-9 div.sk-text-repr-fallback {display: none;}</style><div id=\"sk-container-id-9\" class=\"sk-top-container\"><div class=\"sk-text-repr-fallback\"><pre>LogisticRegression(C=0.7070707070707072, penalty=&#x27;none&#x27;)</pre><b>In a Jupyter environment, please rerun this cell to show the HTML representation or trust the notebook. <br />On GitHub, the HTML representation is unable to render, please try loading this page with nbviewer.org.</b></div><div class=\"sk-container\" hidden><div class=\"sk-item\"><div class=\"sk-estimator sk-toggleable\"><input class=\"sk-toggleable__control sk-hidden--visually\" id=\"sk-estimator-id-9\" type=\"checkbox\" checked><label for=\"sk-estimator-id-9\" class=\"sk-toggleable__label sk-toggleable__label-arrow\">LogisticRegression</label><div class=\"sk-toggleable__content\"><pre>LogisticRegression(C=0.7070707070707072, penalty=&#x27;none&#x27;)</pre></div></div></div></div></div>"
      ],
      "text/plain": [
       "LogisticRegression(C=0.7070707070707072, penalty='none')"
      ]
     },
     "execution_count": 122,
     "metadata": {},
     "output_type": "execute_result"
    }
   ],
   "source": [
    "# using cross-validation coefficients\n",
    "lr_model4 = LogisticRegression(penalty='none',C=0.7070707070707072)\n",
    "lr_model4.fit(x_train_signif, y_train_imputed)"
   ]
  },
  {
   "cell_type": "code",
   "execution_count": 172,
   "id": "5447c43a",
   "metadata": {},
   "outputs": [
    {
     "name": "stderr",
     "output_type": "stream",
     "text": [
      "/Users/DanielChung/.julia/conda/3/lib/python3.9/site-packages/sklearn/metrics/_classification.py:1334: UndefinedMetricWarning: Precision is ill-defined and being set to 0.0 due to no predicted samples. Use `zero_division` parameter to control this behavior.\n",
      "  _warn_prf(average, modifier, msg_start, len(result))\n"
     ]
    },
    {
     "data": {
      "image/png": "[encoded data removed]",
      "text/plain": [
       "<Figure size 1000x600 with 1 Axes>"
      ]
     },
     "metadata": {},
     "output_type": "display_data"
    }
   ],
   "source": [
    "visualize_thresholds(\"sparse, cross-validated lr model\",\n",
    "                     lr_model4,x_train_signif,y_train_imputed,x_test_signif,y_test_imputed,\n",
    "                    0.499)"
   ]
  },
  {
   "cell_type": "code",
   "execution_count": 206,
   "id": "2bd1f9e1",
   "metadata": {},
   "outputs": [],
   "source": [
    "# predictions\n",
    "lr_model4_preds = lr_model4_rcv.predict(x_test_signif)\n",
    "# FIXME DELETME?\n",
    "lr_model4_preds = (lr_model4.predict_proba(x_test_signif)[:,1] >= 0.4982).astype(int)"
   ]
  },
  {
   "cell_type": "markdown",
   "id": "31c0439b",
   "metadata": {},
   "source": [
    "### Results"
   ]
  },
  {
   "cell_type": "markdown",
   "id": "933dc349",
   "metadata": {},
   "source": [
    "New accuracy"
   ]
  },
  {
   "cell_type": "code",
   "execution_count": 207,
   "id": "292301ee",
   "metadata": {},
   "outputs": [
    {
     "data": {
      "text/plain": [
       "0.5015232292460016"
      ]
     },
     "execution_count": 207,
     "metadata": {},
     "output_type": "execute_result"
    }
   ],
   "source": [
    "accuracy_score(lr_model4_preds, y_test_imputed)"
   ]
  },
  {
   "cell_type": "markdown",
   "id": "ded4e903",
   "metadata": {},
   "source": [
    "Confusion Matrix"
   ]
  },
  {
   "cell_type": "code",
   "execution_count": 208,
   "id": "eba7d5f6",
   "metadata": {},
   "outputs": [
    {
     "name": "stdout",
     "output_type": "stream",
     "text": [
      "[[1245 1257]\n",
      " [  52   72]]\n"
     ]
    }
   ],
   "source": [
    "cm = metrics.confusion_matrix(y_test_imputed, lr_model4_preds)\n",
    "print(cm)"
   ]
  },
  {
   "cell_type": "markdown",
   "id": "029bc88d",
   "metadata": {},
   "source": [
    "Precision, Recall, F Score"
   ]
  },
  {
   "cell_type": "code",
   "execution_count": 209,
   "id": "588fdfd4",
   "metadata": {},
   "outputs": [
    {
     "name": "stdout",
     "output_type": "stream",
     "text": [
      "Precision: 0.05417607223476298\n",
      "Recall: 0.5806451612903226\n",
      "F Score: 0.09910529938059189\n"
     ]
    }
   ],
   "source": [
    "lr_model4_results = precision_recall_fscore_support(y_test_imputed, lr_model4_preds, pos_label=1)\n",
    "lr_model4_precision, lr_model4_recall, lr_model4_fscore, lr_model4_support = lr_model4_results\n",
    "print(\"Precision: \" + str(lr_model4_precision[1]))\n",
    "print(\"Recall: \" + str(lr_model4_recall[1]))\n",
    "print(\"F Score: \" + str(lr_model4_fscore[1]))"
   ]
  },
  {
   "cell_type": "markdown",
   "id": "9d0fbb18",
   "metadata": {},
   "source": [
    "AUC"
   ]
  },
  {
   "cell_type": "code",
   "execution_count": 65,
   "id": "8905b90f",
   "metadata": {},
   "outputs": [
    {
     "data": {
      "image/png": "[encoded data removed]",
      "text/plain": [
       "<Figure size 640x480 with 1 Axes>"
      ]
     },
     "metadata": {},
     "output_type": "display_data"
    },
    {
     "name": "stdout",
     "output_type": "stream",
     "text": [
      "AUC:\n"
     ]
    },
    {
     "data": {
      "text/plain": [
       "0.5785919651375675"
      ]
     },
     "execution_count": 65,
     "metadata": {},
     "output_type": "execute_result"
    }
   ],
   "source": [
    "y_pred_proba = lr_model2.predict_proba(x_test_signif)[::,1]\n",
    "fpr, tpr, _ = metrics.roc_curve(y_test_imputed,  y_pred_proba)\n",
    "\n",
    "# plotting ROC curve\n",
    "plt.plot(fpr,tpr)\n",
    "plt.ylabel('True Positive Rate')\n",
    "plt.xlabel('False Positive Rate')\n",
    "plt.show()\n",
    "\n",
    "print(\"AUC:\")\n",
    "roc_auc_score(y_test_imputed, lr_model4.predict_proba(x_test_signif)[:,1])"
   ]
  },
  {
   "cell_type": "markdown",
   "id": "bba5f0f3",
   "metadata": {},
   "source": [
    "PRAUC:"
   ]
  },
  {
   "cell_type": "code",
   "execution_count": 66,
   "id": "3e245f01",
   "metadata": {},
   "outputs": [
    {
     "data": {
      "text/plain": [
       "0.06323150573388689"
      ]
     },
     "execution_count": 66,
     "metadata": {},
     "output_type": "execute_result"
    }
   ],
   "source": [
    "lr_model4_probas = lr_model4.predict_proba(x_test_signif)\n",
    "average_precision_score(y_test_imputed, lr_model4_probas[:,1],pos_label=1)"
   ]
  },
  {
   "cell_type": "markdown",
   "id": "156aafbb",
   "metadata": {},
   "source": [
    "### Interpretation"
   ]
  },
  {
   "cell_type": "markdown",
   "id": "84b24246",
   "metadata": {},
   "source": [
    "Coefficient Importance"
   ]
  },
  {
   "cell_type": "code",
   "execution_count": 224,
   "id": "ca6a5911",
   "metadata": {},
   "outputs": [
    {
     "data": {
      "image/png": "[encoded data removed]",
      "text/plain": [
       "<Figure size 1450x450 with 1 Axes>"
      ]
     },
     "metadata": {},
     "output_type": "display_data"
    }
   ],
   "source": [
    "# creating a dataframe where rows are features\n",
    "# and columns are logistic regression coef\n",
    "to_plot = pd.DataFrame([15,27,55,60,64],columns=[\"attr\"])\n",
    "to_plot[\"coef\"] = lr_model4.coef_[0]\n",
    "\n",
    "# plotting feature coefs (and by extension, feature importance)\n",
    "fig, ax = plt.subplots()\n",
    "fig.set_size_inches(14.5, 4.5)\n",
    "\n",
    "to_plot['sign'] = to_plot['coef'] > 0\n",
    "to_plot['coef'].plot(kind='bar', color=to_plot.sign.map({True: (1.0, 0, 0, 0.7), False: (0, 0.6, 0, 0.7)}), \n",
    "                      ax=ax)\n",
    "ax.set_xticklabels([\"(total liabilities * 365)/ \\n (gross profit + depreciation)\",\n",
    "                    \"[profit on operating activities/ \\n finnancial expenses\",\n",
    "                    attributes[55],attributes[60],attributes[64]], rotation = 0);\n",
    "ax.axhline(0, color='k');\n",
    "ax.set_xlabel(\"attribute\");\n",
    "ax.set_ylabel(\"logistic regression coef\");\n",
    "ax.set_title(\"Significant and Cross-Validated Logistic Regression Coefficients, Bankrupcy Classifier\");"
   ]
  },
  {
   "cell_type": "code",
   "execution_count": 68,
   "id": "9dbb04e8",
   "metadata": {},
   "outputs": [
    {
     "name": "stdout",
     "output_type": "stream",
     "text": [
      "significant attributes that decrease predicted probability of bankrupcy (in desc order of coef size):\n",
      "====\n",
      "sales / inventory\n"
     ]
    }
   ],
   "source": [
    "print(\"significant attributes that decrease predicted probability of bankrupcy (in desc order of coef size):\")\n",
    "print(\"====\")\n",
    "print(attributes[60])"
   ]
  },
  {
   "cell_type": "code",
   "execution_count": 69,
   "id": "bb61abe7",
   "metadata": {},
   "outputs": [
    {
     "name": "stdout",
     "output_type": "stream",
     "text": [
      "significant attributes that increase predicted probability of bankrupcy (in desc order of coef size):\n",
      "====\n",
      "sales / fixed assets\n"
     ]
    }
   ],
   "source": [
    "print(\"significant attributes that increase predicted probability of bankrupcy (in desc order of coef size):\")\n",
    "print(\"====\")\n",
    "print(attributes[64])"
   ]
  },
  {
   "cell_type": "markdown",
   "id": "c5f5f70c",
   "metadata": {},
   "source": [
    "# CART"
   ]
  },
  {
   "cell_type": "markdown",
   "id": "56e19f15",
   "metadata": {},
   "source": [
    "## Initial Model"
   ]
  },
  {
   "cell_type": "markdown",
   "id": "cd87d6e6",
   "metadata": {},
   "source": [
    "### Fit"
   ]
  },
  {
   "cell_type": "code",
   "execution_count": 70,
   "id": "9fd26ed0",
   "metadata": {},
   "outputs": [],
   "source": [
    "from sklearn.tree import DecisionTreeClassifier"
   ]
  },
  {
   "cell_type": "code",
   "execution_count": 71,
   "id": "3d303c06",
   "metadata": {},
   "outputs": [],
   "source": [
    "cart_model = DecisionTreeClassifier(random_state=42)"
   ]
  },
  {
   "cell_type": "code",
   "execution_count": 72,
   "id": "e5c75575",
   "metadata": {},
   "outputs": [
    {
     "data": {
      "text/html": [
       "<style>#sk-container-id-5 {color: black;background-color: white;}#sk-container-id-5 pre{padding: 0;}#sk-container-id-5 div.sk-toggleable {background-color: white;}#sk-container-id-5 label.sk-toggleable__label {cursor: pointer;display: block;width: 100%;margin-bottom: 0;padding: 0.3em;box-sizing: border-box;text-align: center;}#sk-container-id-5 label.sk-toggleable__label-arrow:before {content: \"▸\";float: left;margin-right: 0.25em;color: #696969;}#sk-container-id-5 label.sk-toggleable__label-arrow:hover:before {color: black;}#sk-container-id-5 div.sk-estimator:hover label.sk-toggleable__label-arrow:before {color: black;}#sk-container-id-5 div.sk-toggleable__content {max-height: 0;max-width: 0;overflow: hidden;text-align: left;background-color: #f0f8ff;}#sk-container-id-5 div.sk-toggleable__content pre {margin: 0.2em;color: black;border-radius: 0.25em;background-color: #f0f8ff;}#sk-container-id-5 input.sk-toggleable__control:checked~div.sk-toggleable__content {max-height: 200px;max-width: 100%;overflow: auto;}#sk-container-id-5 input.sk-toggleable__control:checked~label.sk-toggleable__label-arrow:before {content: \"▾\";}#sk-container-id-5 div.sk-estimator input.sk-toggleable__control:checked~label.sk-toggleable__label {background-color: #d4ebff;}#sk-container-id-5 div.sk-label input.sk-toggleable__control:checked~label.sk-toggleable__label {background-color: #d4ebff;}#sk-container-id-5 input.sk-hidden--visually {border: 0;clip: rect(1px 1px 1px 1px);clip: rect(1px, 1px, 1px, 1px);height: 1px;margin: -1px;overflow: hidden;padding: 0;position: absolute;width: 1px;}#sk-container-id-5 div.sk-estimator {font-family: monospace;background-color: #f0f8ff;border: 1px dotted black;border-radius: 0.25em;box-sizing: border-box;margin-bottom: 0.5em;}#sk-container-id-5 div.sk-estimator:hover {background-color: #d4ebff;}#sk-container-id-5 div.sk-parallel-item::after {content: \"\";width: 100%;border-bottom: 1px solid gray;flex-grow: 1;}#sk-container-id-5 div.sk-label:hover label.sk-toggleable__label {background-color: #d4ebff;}#sk-container-id-5 div.sk-serial::before {content: \"\";position: absolute;border-left: 1px solid gray;box-sizing: border-box;top: 0;bottom: 0;left: 50%;z-index: 0;}#sk-container-id-5 div.sk-serial {display: flex;flex-direction: column;align-items: center;background-color: white;padding-right: 0.2em;padding-left: 0.2em;position: relative;}#sk-container-id-5 div.sk-item {position: relative;z-index: 1;}#sk-container-id-5 div.sk-parallel {display: flex;align-items: stretch;justify-content: center;background-color: white;position: relative;}#sk-container-id-5 div.sk-item::before, #sk-container-id-5 div.sk-parallel-item::before {content: \"\";position: absolute;border-left: 1px solid gray;box-sizing: border-box;top: 0;bottom: 0;left: 50%;z-index: -1;}#sk-container-id-5 div.sk-parallel-item {display: flex;flex-direction: column;z-index: 1;position: relative;background-color: white;}#sk-container-id-5 div.sk-parallel-item:first-child::after {align-self: flex-end;width: 50%;}#sk-container-id-5 div.sk-parallel-item:last-child::after {align-self: flex-start;width: 50%;}#sk-container-id-5 div.sk-parallel-item:only-child::after {width: 0;}#sk-container-id-5 div.sk-dashed-wrapped {border: 1px dashed gray;margin: 0 0.4em 0.5em 0.4em;box-sizing: border-box;padding-bottom: 0.4em;background-color: white;}#sk-container-id-5 div.sk-label label {font-family: monospace;font-weight: bold;display: inline-block;line-height: 1.2em;}#sk-container-id-5 div.sk-label-container {text-align: center;}#sk-container-id-5 div.sk-container {/* jupyter's `normalize.less` sets `[hidden] { display: none; }` but bootstrap.min.css set `[hidden] { display: none !important; }` so we also need the `!important` here to be able to override the default hidden behavior on the sphinx rendered scikit-learn.org. See: https://github.com/scikit-learn/scikit-learn/issues/21755 */display: inline-block !important;position: relative;}#sk-container-id-5 div.sk-text-repr-fallback {display: none;}</style><div id=\"sk-container-id-5\" class=\"sk-top-container\"><div class=\"sk-text-repr-fallback\"><pre>DecisionTreeClassifier(random_state=42)</pre><b>In a Jupyter environment, please rerun this cell to show the HTML representation or trust the notebook. <br />On GitHub, the HTML representation is unable to render, please try loading this page with nbviewer.org.</b></div><div class=\"sk-container\" hidden><div class=\"sk-item\"><div class=\"sk-estimator sk-toggleable\"><input class=\"sk-toggleable__control sk-hidden--visually\" id=\"sk-estimator-id-5\" type=\"checkbox\" checked><label for=\"sk-estimator-id-5\" class=\"sk-toggleable__label sk-toggleable__label-arrow\">DecisionTreeClassifier</label><div class=\"sk-toggleable__content\"><pre>DecisionTreeClassifier(random_state=42)</pre></div></div></div></div></div>"
      ],
      "text/plain": [
       "DecisionTreeClassifier(random_state=42)"
      ]
     },
     "execution_count": 72,
     "metadata": {},
     "output_type": "execute_result"
    }
   ],
   "source": [
    "cart_model.fit(x_train_imputed,y_train_imputed)"
   ]
  },
  {
   "cell_type": "code",
   "execution_count": 73,
   "id": "8c0be6e2",
   "metadata": {},
   "outputs": [],
   "source": [
    "# predictions\n",
    "cart_model_preds = cart_model.predict(x_test_imputed)"
   ]
  },
  {
   "cell_type": "markdown",
   "id": "5f849986",
   "metadata": {},
   "source": [
    "### Results"
   ]
  },
  {
   "cell_type": "markdown",
   "id": "03489373",
   "metadata": {},
   "source": [
    "Accuracy"
   ]
  },
  {
   "cell_type": "code",
   "execution_count": 74,
   "id": "6c546179",
   "metadata": {},
   "outputs": [
    {
     "data": {
      "text/plain": [
       "0.9295506473724295"
      ]
     },
     "execution_count": 74,
     "metadata": {},
     "output_type": "execute_result"
    }
   ],
   "source": [
    "cart_model.score(x_test_imputed,y_test_imputed)"
   ]
  },
  {
   "cell_type": "markdown",
   "id": "23f7bd63",
   "metadata": {},
   "source": [
    "Confusion Matrix"
   ]
  },
  {
   "cell_type": "code",
   "execution_count": 75,
   "id": "e6943507",
   "metadata": {
    "scrolled": true
   },
   "outputs": [
    {
     "name": "stdout",
     "output_type": "stream",
     "text": [
      "[[2418   84]\n",
      " [ 101   23]]\n"
     ]
    }
   ],
   "source": [
    "cm = metrics.confusion_matrix(y_test_imputed, cart_model_preds)\n",
    "print(cm)"
   ]
  },
  {
   "cell_type": "markdown",
   "id": "ef19012c",
   "metadata": {},
   "source": [
    "Precision, Recall, F Score"
   ]
  },
  {
   "cell_type": "code",
   "execution_count": 76,
   "id": "531fb964",
   "metadata": {},
   "outputs": [
    {
     "name": "stdout",
     "output_type": "stream",
     "text": [
      "Precision: 0.5874289975624506\n",
      "Recall: 0.5759553647404657\n",
      "F Score: 0.5811444745919949\n"
     ]
    }
   ],
   "source": [
    "cart_model_results = precision_recall_fscore_support(y_test_imputed, cart_model_preds, average='macro')\n",
    "cart_model_precision, cart_model_recall, cart_model_fscore, cart_model_support = cart_model_results\n",
    "print(\"Precision: \" + str(cart_model_precision))\n",
    "print(\"Recall: \" + str(cart_model_recall))\n",
    "print(\"F Score: \" + str(cart_model_fscore))"
   ]
  },
  {
   "cell_type": "markdown",
   "id": "3943aef4",
   "metadata": {},
   "source": [
    "AUC"
   ]
  },
  {
   "cell_type": "code",
   "execution_count": 83,
   "id": "b7040837",
   "metadata": {},
   "outputs": [
    {
     "data": {
      "image/png": "[encoded data removed]",
      "text/plain": [
       "<Figure size 640x480 with 1 Axes>"
      ]
     },
     "metadata": {},
     "output_type": "display_data"
    },
    {
     "name": "stdout",
     "output_type": "stream",
     "text": [
      "AUC:\n"
     ]
    },
    {
     "data": {
      "text/plain": [
       "0.5759553647404657"
      ]
     },
     "execution_count": 83,
     "metadata": {},
     "output_type": "execute_result"
    }
   ],
   "source": [
    "y_pred_proba = cart_model.predict_proba(x_test_imputed)[::,1]\n",
    "fpr, tpr, _ = metrics.roc_curve(y_test_imputed,  y_pred_proba)\n",
    "\n",
    "# plotting ROC curve\n",
    "plt.plot(fpr,tpr)\n",
    "plt.ylabel('True Positive Rate')\n",
    "plt.xlabel('False Positive Rate')\n",
    "plt.show()\n",
    "\n",
    "print(\"AUC:\")\n",
    "roc_auc_score(y_test_imputed, cart_model.predict_proba(x_test_imputed)[:,1])"
   ]
  },
  {
   "cell_type": "markdown",
   "id": "d6e2700a",
   "metadata": {},
   "source": [
    "PRAUC"
   ]
  },
  {
   "cell_type": "code",
   "execution_count": 84,
   "id": "220f6594",
   "metadata": {},
   "outputs": [
    {
     "data": {
      "text/plain": [
       "0.078331903248997"
      ]
     },
     "execution_count": 84,
     "metadata": {},
     "output_type": "execute_result"
    }
   ],
   "source": [
    "cart_model_probas = cart_model.predict_proba(x_test_imputed)\n",
    "average_precision_score(y_test_imputed, cart_model_probas[:,1],pos_label=1)"
   ]
  },
  {
   "cell_type": "markdown",
   "id": "22bb10c1",
   "metadata": {},
   "source": [
    "### Interpretation"
   ]
  },
  {
   "cell_type": "code",
   "execution_count": 85,
   "id": "20b6e816",
   "metadata": {},
   "outputs": [],
   "source": [
    "from sklearn.tree import plot_tree"
   ]
  },
  {
   "cell_type": "code",
   "execution_count": 86,
   "id": "2726ee09",
   "metadata": {},
   "outputs": [],
   "source": [
    "# from user bharys on stack overflow:\n",
    "def dt_feature_importance(model,normalize=True):\n",
    "\n",
    "    left_c = model.tree_.children_left\n",
    "    right_c = model.tree_.children_right\n",
    "\n",
    "    impurity = model.tree_.impurity    \n",
    "    node_samples = model.tree_.weighted_n_node_samples \n",
    "\n",
    "    # Initialize the feature importance, those not used remain zero\n",
    "    feature_importance = np.zeros((model.tree_.n_features,))\n",
    "\n",
    "    for idx,node in enumerate(model.tree_.feature):\n",
    "        if node >= 0:\n",
    "            # Accumulate the feature importance over all the nodes where it's used\n",
    "            feature_importance[node]+=impurity[idx]*node_samples[idx]- \\\n",
    "                                   impurity[left_c[idx]]*node_samples[left_c[idx]]-\\\n",
    "                                   impurity[right_c[idx]]*node_samples[right_c[idx]]\n",
    "\n",
    "    # Number of samples at the root node\n",
    "    feature_importance/=node_samples[0]\n",
    "\n",
    "    if normalize:\n",
    "        normalizer = feature_importance.sum()\n",
    "        if normalizer > 0:\n",
    "            feature_importance/=normalizer\n",
    "\n",
    "    return feature_importance"
   ]
  },
  {
   "cell_type": "code",
   "execution_count": 87,
   "id": "da5e9a74",
   "metadata": {
    "scrolled": true
   },
   "outputs": [],
   "source": [
    "cart_model_importances = dt_feature_importance(cart_model)"
   ]
  },
  {
   "cell_type": "code",
   "execution_count": 88,
   "id": "55d9646b",
   "metadata": {},
   "outputs": [
    {
     "data": {
      "image/png": "[encoded data removed]",
      "text/plain": [
       "<Figure size 1850x450 with 1 Axes>"
      ]
     },
     "metadata": {},
     "output_type": "display_data"
    }
   ],
   "source": [
    "# creating a dataframe where rows are features\n",
    "# and columns are logistic regression coef\n",
    "to_plot = pd.DataFrame(range(1,65),columns=[\"attr\"])\n",
    "to_plot[\"coef\"] = cart_model_importances\n",
    "\n",
    "# plotting feature coefs (and by extension, feature importance)\n",
    "fig, ax = plt.subplots()\n",
    "fig.set_size_inches(18.5, 4.5)\n",
    "\n",
    "to_plot['sign'] = to_plot['coef'] > 0\n",
    "to_plot['coef'].plot(kind='bar', color=to_plot.sign.map({True: (1.0, 0, 0, 0.7), False: (0, 0.6, 0, 0.7)}), \n",
    "                      ax=ax)\n",
    "ax.set_xticklabels(range(1,65), rotation = 0);\n",
    "ax.axhline(0, color='k');\n",
    "ax.set_xlabel(\"attribute\");\n",
    "ax.set_ylabel(\"CART attribute importance\");\n",
    "ax.set_title(\"CART attribute importances (Intercept Excluded), Bankrupcy Classifier\");"
   ]
  },
  {
   "cell_type": "code",
   "execution_count": 89,
   "id": "cb4b883a",
   "metadata": {},
   "outputs": [
    {
     "name": "stdout",
     "output_type": "stream",
     "text": [
      "attribues that decrease predicted probability of bankrupcy (in desc order of coef importance):\n",
      "====\n",
      "gross profit (in 3 years) / total assets\n",
      "(net profit + depreciation) / total liabilities\n"
     ]
    }
   ],
   "source": [
    "print(\"attribues that decrease predicted probability of bankrupcy (in desc order of coef importance):\")\n",
    "print(\"====\")\n",
    "print(attributes[24])\n",
    "print(attributes[26])"
   ]
  },
  {
   "cell_type": "markdown",
   "id": "fcf80ed9",
   "metadata": {},
   "source": [
    "## Cross-Validated Model *"
   ]
  },
  {
   "cell_type": "markdown",
   "id": "c1883136",
   "metadata": {},
   "source": [
    "### Fit"
   ]
  },
  {
   "cell_type": "code",
   "execution_count": 90,
   "id": "4b1c8f85",
   "metadata": {},
   "outputs": [],
   "source": [
    "# creating random grid\n",
    "criterion = [\"gini\", \"entropy\", \"log_loss\"]\n",
    "max_depth = range(1,10)\n",
    "min_samples_split = range(1,5)\n",
    "min_samples_leaf = range(1,5)\n",
    "ccp_alpha = np.linspace(0,1,18)\n",
    "\n",
    "# random grid\n",
    "random_grid = {'criterion': criterion,\n",
    "               'max_depth': max_depth,\n",
    "               'min_samples_split': min_samples_split,\n",
    "               'min_samples_leaf': min_samples_leaf,\n",
    "               'ccp_alpha': ccp_alpha}"
   ]
  },
  {
   "cell_type": "code",
   "execution_count": 91,
   "id": "525b90ae",
   "metadata": {
    "scrolled": true
   },
   "outputs": [
    {
     "name": "stdout",
     "output_type": "stream",
     "text": [
      "Fitting 3 folds for each of 100 candidates, totalling 300 fits\n"
     ]
    },
    {
     "name": "stderr",
     "output_type": "stream",
     "text": [
      "/Users/DanielChung/.julia/conda/3/lib/python3.9/site-packages/sklearn/model_selection/_validation.py:378: FitFailedWarning: \n",
      "84 fits failed out of a total of 300.\n",
      "The score on these train-test partitions for these parameters will be set to nan.\n",
      "If these failures are not expected, you can try to debug them by setting error_score='raise'.\n",
      "\n",
      "Below are more details about the failures:\n",
      "--------------------------------------------------------------------------------\n",
      "84 fits failed with the following error:\n",
      "Traceback (most recent call last):\n",
      "  File \"/Users/DanielChung/.julia/conda/3/lib/python3.9/site-packages/sklearn/model_selection/_validation.py\", line 686, in _fit_and_score\n",
      "    estimator.fit(X_train, y_train, **fit_params)\n",
      "  File \"/Users/DanielChung/.julia/conda/3/lib/python3.9/site-packages/sklearn/tree/_classes.py\", line 969, in fit\n",
      "    super().fit(\n",
      "  File \"/Users/DanielChung/.julia/conda/3/lib/python3.9/site-packages/sklearn/tree/_classes.py\", line 265, in fit\n",
      "    check_scalar(\n",
      "  File \"/Users/DanielChung/.julia/conda/3/lib/python3.9/site-packages/sklearn/utils/validation.py\", line 1480, in check_scalar\n",
      "    raise ValueError(\n",
      "ValueError: min_samples_split == 1, must be >= 2.\n",
      "\n",
      "  warnings.warn(some_fits_failed_message, FitFailedWarning)\n",
      "/Users/DanielChung/.julia/conda/3/lib/python3.9/site-packages/sklearn/model_selection/_search.py:953: UserWarning: One or more of the test scores are non-finite: [0.5               nan 0.5        0.5        0.5               nan\n",
      "        nan 0.67812417 0.5               nan 0.5        0.5\n",
      "        nan 0.5        0.5               nan 0.5               nan\n",
      " 0.5               nan 0.5        0.5               nan 0.70443645\n",
      "        nan 0.67466027 0.67466027 0.67812417        nan 0.5\n",
      "        nan 0.5               nan        nan 0.5        0.5\n",
      "        nan 0.5        0.5        0.5        0.5        0.5\n",
      " 0.5        0.5               nan 0.5        0.5        0.5\n",
      " 0.5        0.5        0.5        0.5        0.5        0.5\n",
      "        nan 0.5        0.5        0.5               nan        nan\n",
      " 0.5        0.5        0.5        0.5        0.83186784 0.5\n",
      " 0.87270184 0.5        0.5        0.5        0.67466027        nan\n",
      " 0.67812417        nan 0.5               nan 0.5        0.5\n",
      " 0.5               nan 0.5               nan 0.5        0.5\n",
      " 0.5        0.5        0.5        0.5        0.82374101 0.5\n",
      " 0.5        0.5               nan 0.67466027        nan 0.5\n",
      "        nan 0.5        0.5               nan]\n",
      "  warnings.warn(\n"
     ]
    }
   ],
   "source": [
    "# random grid search\n",
    "cart_model2 = DecisionTreeClassifier();\n",
    "# random search of parameters, using 3 fold cross validation, \n",
    "# search across 100 different combinations, and use all available cores\n",
    "cart_model2_rcv = RandomizedSearchCV(estimator = cart_model2, param_distributions = random_grid, \n",
    "                                   n_iter = 100, cv = 3, verbose=2, random_state=42, n_jobs = -1);\n",
    "cart_model2_rcv.fit(x_train_imputed, y_train_imputed);"
   ]
  },
  {
   "cell_type": "code",
   "execution_count": 92,
   "id": "a112bcca",
   "metadata": {},
   "outputs": [
    {
     "name": "stdout",
     "output_type": "stream",
     "text": [
      "{'ccp_alpha': 0.0,\n",
      " 'criterion': 'log_loss',\n",
      " 'max_depth': 9,\n",
      " 'min_samples_leaf': 4,\n",
      " 'min_samples_split': 2}\n"
     ]
    }
   ],
   "source": [
    "# cross-validated hyperparams\n",
    "pprint(cart_model2_rcv.best_params_)"
   ]
  },
  {
   "cell_type": "code",
   "execution_count": 93,
   "id": "9fab2fbd",
   "metadata": {},
   "outputs": [],
   "source": [
    "# predictions\n",
    "cart_model2_preds = cart_model2_rcv.predict(x_test_imputed)"
   ]
  },
  {
   "cell_type": "markdown",
   "id": "2907baa6",
   "metadata": {},
   "source": [
    "### Results"
   ]
  },
  {
   "cell_type": "code",
   "execution_count": 94,
   "id": "2b3cab53",
   "metadata": {},
   "outputs": [
    {
     "data": {
      "text/html": [
       "<style>#sk-container-id-6 {color: black;background-color: white;}#sk-container-id-6 pre{padding: 0;}#sk-container-id-6 div.sk-toggleable {background-color: white;}#sk-container-id-6 label.sk-toggleable__label {cursor: pointer;display: block;width: 100%;margin-bottom: 0;padding: 0.3em;box-sizing: border-box;text-align: center;}#sk-container-id-6 label.sk-toggleable__label-arrow:before {content: \"▸\";float: left;margin-right: 0.25em;color: #696969;}#sk-container-id-6 label.sk-toggleable__label-arrow:hover:before {color: black;}#sk-container-id-6 div.sk-estimator:hover label.sk-toggleable__label-arrow:before {color: black;}#sk-container-id-6 div.sk-toggleable__content {max-height: 0;max-width: 0;overflow: hidden;text-align: left;background-color: #f0f8ff;}#sk-container-id-6 div.sk-toggleable__content pre {margin: 0.2em;color: black;border-radius: 0.25em;background-color: #f0f8ff;}#sk-container-id-6 input.sk-toggleable__control:checked~div.sk-toggleable__content {max-height: 200px;max-width: 100%;overflow: auto;}#sk-container-id-6 input.sk-toggleable__control:checked~label.sk-toggleable__label-arrow:before {content: \"▾\";}#sk-container-id-6 div.sk-estimator input.sk-toggleable__control:checked~label.sk-toggleable__label {background-color: #d4ebff;}#sk-container-id-6 div.sk-label input.sk-toggleable__control:checked~label.sk-toggleable__label {background-color: #d4ebff;}#sk-container-id-6 input.sk-hidden--visually {border: 0;clip: rect(1px 1px 1px 1px);clip: rect(1px, 1px, 1px, 1px);height: 1px;margin: -1px;overflow: hidden;padding: 0;position: absolute;width: 1px;}#sk-container-id-6 div.sk-estimator {font-family: monospace;background-color: #f0f8ff;border: 1px dotted black;border-radius: 0.25em;box-sizing: border-box;margin-bottom: 0.5em;}#sk-container-id-6 div.sk-estimator:hover {background-color: #d4ebff;}#sk-container-id-6 div.sk-parallel-item::after {content: \"\";width: 100%;border-bottom: 1px solid gray;flex-grow: 1;}#sk-container-id-6 div.sk-label:hover label.sk-toggleable__label {background-color: #d4ebff;}#sk-container-id-6 div.sk-serial::before {content: \"\";position: absolute;border-left: 1px solid gray;box-sizing: border-box;top: 0;bottom: 0;left: 50%;z-index: 0;}#sk-container-id-6 div.sk-serial {display: flex;flex-direction: column;align-items: center;background-color: white;padding-right: 0.2em;padding-left: 0.2em;position: relative;}#sk-container-id-6 div.sk-item {position: relative;z-index: 1;}#sk-container-id-6 div.sk-parallel {display: flex;align-items: stretch;justify-content: center;background-color: white;position: relative;}#sk-container-id-6 div.sk-item::before, #sk-container-id-6 div.sk-parallel-item::before {content: \"\";position: absolute;border-left: 1px solid gray;box-sizing: border-box;top: 0;bottom: 0;left: 50%;z-index: -1;}#sk-container-id-6 div.sk-parallel-item {display: flex;flex-direction: column;z-index: 1;position: relative;background-color: white;}#sk-container-id-6 div.sk-parallel-item:first-child::after {align-self: flex-end;width: 50%;}#sk-container-id-6 div.sk-parallel-item:last-child::after {align-self: flex-start;width: 50%;}#sk-container-id-6 div.sk-parallel-item:only-child::after {width: 0;}#sk-container-id-6 div.sk-dashed-wrapped {border: 1px dashed gray;margin: 0 0.4em 0.5em 0.4em;box-sizing: border-box;padding-bottom: 0.4em;background-color: white;}#sk-container-id-6 div.sk-label label {font-family: monospace;font-weight: bold;display: inline-block;line-height: 1.2em;}#sk-container-id-6 div.sk-label-container {text-align: center;}#sk-container-id-6 div.sk-container {/* jupyter's `normalize.less` sets `[hidden] { display: none; }` but bootstrap.min.css set `[hidden] { display: none !important; }` so we also need the `!important` here to be able to override the default hidden behavior on the sphinx rendered scikit-learn.org. See: https://github.com/scikit-learn/scikit-learn/issues/21755 */display: inline-block !important;position: relative;}#sk-container-id-6 div.sk-text-repr-fallback {display: none;}</style><div id=\"sk-container-id-6\" class=\"sk-top-container\"><div class=\"sk-text-repr-fallback\"><pre>DecisionTreeClassifier(max_depth=7, min_samples_leaf=2, random_state=42)</pre><b>In a Jupyter environment, please rerun this cell to show the HTML representation or trust the notebook. <br />On GitHub, the HTML representation is unable to render, please try loading this page with nbviewer.org.</b></div><div class=\"sk-container\" hidden><div class=\"sk-item\"><div class=\"sk-estimator sk-toggleable\"><input class=\"sk-toggleable__control sk-hidden--visually\" id=\"sk-estimator-id-6\" type=\"checkbox\" checked><label for=\"sk-estimator-id-6\" class=\"sk-toggleable__label sk-toggleable__label-arrow\">DecisionTreeClassifier</label><div class=\"sk-toggleable__content\"><pre>DecisionTreeClassifier(max_depth=7, min_samples_leaf=2, random_state=42)</pre></div></div></div></div></div>"
      ],
      "text/plain": [
       "DecisionTreeClassifier(max_depth=7, min_samples_leaf=2, random_state=42)"
      ]
     },
     "execution_count": 94,
     "metadata": {},
     "output_type": "execute_result"
    }
   ],
   "source": [
    "cart_model2 = DecisionTreeClassifier(ccp_alpha=0.0,\n",
    "                                     criterion='gini',\n",
    "                                     max_depth=7,\n",
    "                                     min_samples_leaf=2,\n",
    "                                     min_samples_split=2,\n",
    "                                     random_state=42)\n",
    "cart_model2.fit(x_train_imputed, y_train_imputed)"
   ]
  },
  {
   "cell_type": "markdown",
   "id": "711e8581",
   "metadata": {},
   "source": [
    "New Accuracy"
   ]
  },
  {
   "cell_type": "code",
   "execution_count": 95,
   "id": "d5c36352",
   "metadata": {},
   "outputs": [
    {
     "data": {
      "text/plain": [
       "0.7311500380807312"
      ]
     },
     "execution_count": 95,
     "metadata": {},
     "output_type": "execute_result"
    }
   ],
   "source": [
    "cart_model2.score(x_test_imputed, y_test_imputed)"
   ]
  },
  {
   "cell_type": "markdown",
   "id": "1371a94e",
   "metadata": {},
   "source": [
    "Confusion Matrix"
   ]
  },
  {
   "cell_type": "code",
   "execution_count": 96,
   "id": "c0399540",
   "metadata": {},
   "outputs": [
    {
     "name": "stdout",
     "output_type": "stream",
     "text": [
      "[[1926  576]\n",
      " [  53   71]]\n"
     ]
    }
   ],
   "source": [
    "cm = metrics.confusion_matrix(y_test_imputed, cart_model2_preds)\n",
    "print(cm)"
   ]
  },
  {
   "cell_type": "markdown",
   "id": "ecfd7803",
   "metadata": {},
   "source": [
    "Precision, Recall, F Score"
   ]
  },
  {
   "cell_type": "code",
   "execution_count": 97,
   "id": "20c7c54a",
   "metadata": {
    "scrolled": true
   },
   "outputs": [
    {
     "name": "stdout",
     "output_type": "stream",
     "text": [
      "Precision: 0.541478023106607\n",
      "Recall: 0.6711824089115804\n",
      "F Score: 0.5219029706346237\n"
     ]
    }
   ],
   "source": [
    "cart_model2_results = precision_recall_fscore_support(y_test_imputed, cart_model2_preds, average='macro')\n",
    "cart_model2_precision, cart_model2_recall, cart_model2_fscore, cart_model2_support = cart_model2_results\n",
    "print(\"Precision: \" + str(cart_model2_precision))\n",
    "print(\"Recall: \" + str(cart_model2_recall))\n",
    "print(\"F Score: \" + str(cart_model2_fscore))"
   ]
  },
  {
   "cell_type": "markdown",
   "id": "73b30b23",
   "metadata": {},
   "source": [
    "AUC"
   ]
  },
  {
   "cell_type": "code",
   "execution_count": 99,
   "id": "9687da4b",
   "metadata": {},
   "outputs": [
    {
     "data": {
      "image/png": "[encoded data removed]",
      "text/plain": [
       "<Figure size 640x480 with 1 Axes>"
      ]
     },
     "metadata": {},
     "output_type": "display_data"
    },
    {
     "name": "stdout",
     "output_type": "stream",
     "text": [
      "AUC:\n"
     ]
    },
    {
     "data": {
      "text/plain": [
       "0.7273052525721357"
      ]
     },
     "execution_count": 99,
     "metadata": {},
     "output_type": "execute_result"
    }
   ],
   "source": [
    "y_pred_proba = cart_model2.predict_proba(x_test_imputed)[::,1]\n",
    "fpr, tpr, _ = metrics.roc_curve(y_test_imputed,  y_pred_proba)\n",
    "\n",
    "# plotting ROC curve\n",
    "plt.plot(fpr,tpr)\n",
    "plt.ylabel('True Positive Rate')\n",
    "plt.xlabel('False Positive Rate')\n",
    "plt.show()\n",
    "\n",
    "print(\"AUC:\")\n",
    "roc_auc_score(y_test_imputed, cart_model2.predict_proba(x_test_imputed)[:,1])"
   ]
  },
  {
   "cell_type": "markdown",
   "id": "ed3de58e",
   "metadata": {},
   "source": [
    "PRAUC"
   ]
  },
  {
   "cell_type": "code",
   "execution_count": 100,
   "id": "b3e3493a",
   "metadata": {},
   "outputs": [
    {
     "data": {
      "text/plain": [
       "0.11397072534390072"
      ]
     },
     "execution_count": 100,
     "metadata": {},
     "output_type": "execute_result"
    },
    {
     "name": "stdout",
     "output_type": "stream",
     "text": [
      "[CV] END ..................C=0.08080808080808081, penalty=l2; total time=   0.2s\n",
      "[CV] END ................C=0.21212121212121213, penalty=none; total time=   0.2s\n",
      "[CV] END .................C=0.020202020202020204, penalty=l2; total time=   0.2s\n",
      "[CV] END ................C=0.18181818181818182, penalty=none; total time=   0.2s\n",
      "[CV] END ....................C=0.696969696969697, penalty=l1; total time=   0.0s\n",
      "[CV] END ...................C=0.9696969696969697, penalty=l2; total time=   0.2s\n",
      "[CV] END ................................C=0.0, penalty=none; total time=   0.2s\n",
      "[CV] END ................................C=0.0, penalty=none; total time=   0.2s\n",
      "[CV] END ..................C=0.14141414141414144, penalty=l2; total time=   0.2s\n",
      "[CV] END ..................C=0.14141414141414144, penalty=l2; total time=   0.2s\n",
      "[CV] END ..................C=0.20202020202020204, penalty=l1; total time=   0.0s\n",
      "[CV] END ..................C=0.20202020202020204, penalty=l1; total time=   0.0s\n",
      "[CV] END ..................C=0.20202020202020204, penalty=l1; total time=   0.0s\n",
      "[CV] END ...................C=0.9595959595959597, penalty=l1; total time=   0.0s\n",
      "[CV] END ................C=0.37373737373737376, penalty=none; total time=   0.2s\n",
      "[CV] END ...................C=0.4545454545454546, penalty=l2; total time=   0.2s\n",
      "[CV] END ...................C=0.4545454545454546, penalty=l2; total time=   0.2s\n",
      "[CV] END ...................C=0.4545454545454546, penalty=l2; total time=   0.2s\n",
      "[CV] END ..................C=0.25252525252525254, penalty=l2; total time=   0.2s\n",
      "[CV] END ..................C=0.25252525252525254, penalty=l2; total time=   0.3s\n",
      "[CV] END ..................C=0.25252525252525254, penalty=l2; total time=   0.2s\n",
      "[CV] END ...........C=0.07070707070707072, penalty=elaticnet; total time=   0.0s\n",
      "[CV] END ...........................C=0.0, penalty=elaticnet; total time=   0.0s\n",
      "[CV] END ...........................C=0.0, penalty=elaticnet; total time=   0.0s\n",
      "[CV] END ...........................C=0.0, penalty=elaticnet; total time=   0.0s\n",
      "[CV] END ..................C=0.04040404040404041, penalty=l1; total time=   0.0s\n",
      "[CV] END ..................C=0.04040404040404041, penalty=l1; total time=   0.0s\n",
      "[CV] END ..................C=0.04040404040404041, penalty=l1; total time=   0.0s\n",
      "[CV] END ...................C=0.5050505050505051, penalty=l1; total time=   0.0s\n",
      "[CV] END ...................C=0.5050505050505051, penalty=l1; total time=   0.0s\n",
      "[CV] END ....................C=0.686868686868687, penalty=l1; total time=   0.0s\n",
      "[CV] END ....................C=0.686868686868687, penalty=l1; total time=   0.0s\n",
      "[CV] END ....................C=0.686868686868687, penalty=l1; total time=   0.0s\n",
      "[CV] END ...........C=0.15151515151515152, penalty=elaticnet; total time=   0.0s\n",
      "[CV] END .................C=0.6262626262626263, penalty=none; total time=   0.2s\n",
      "[CV] END ...................C=0.7575757575757577, penalty=l2; total time=   0.3s\n",
      "[CV] END ...................C=0.7575757575757577, penalty=l2; total time=   0.2s\n",
      "[CV] END ...................C=0.7575757575757577, penalty=l2; total time=   0.2s\n",
      "[CV] END .................C=0.7070707070707072, penalty=none; total time=   0.0s\n",
      "[CV] END ................C=0.21212121212121213, penalty=none; total time=   0.0s\n",
      "[CV] END ...................C=0.6666666666666667, penalty=l1; total time=   0.0s\n",
      "[CV] END ...................C=0.6666666666666667, penalty=l1; total time=   0.0s\n",
      "[CV] END ..................C=0.31313131313131315, penalty=l1; total time=   0.0s\n",
      "[CV] END ..................C=0.31313131313131315, penalty=l1; total time=   0.0s\n",
      "[CV] END ................C=0.18181818181818182, penalty=none; total time=   0.0s\n",
      "[CV] END ................C=0.18181818181818182, penalty=none; total time=   0.0s\n",
      "[CV] END ..............C=0.98989898989899, penalty=elaticnet; total time=   0.0s\n",
      "[CV] END ..................C=0.48484848484848486, penalty=l2; total time=   0.0s\n",
      "[CV] END ..................C=0.48484848484848486, penalty=l2; total time=   0.0s\n",
      "[CV] END ..................C=0.48484848484848486, penalty=l2; total time=   0.0s\n",
      "[CV] END ...................C=0.9595959595959597, penalty=l1; total time=   0.0s\n",
      "[CV] END ...................C=0.9595959595959597, penalty=l1; total time=   0.0s\n",
      "[CV] END ................C=0.37373737373737376, penalty=none; total time=   0.0s\n",
      "[CV] END ................C=0.37373737373737376, penalty=none; total time=   0.0s\n",
      "[CV] END ................C=0.37373737373737376, penalty=none; total time=   0.0s\n",
      "[CV] END ...................C=0.4545454545454546, penalty=l2; total time=   0.0s\n",
      "[CV] END ...................C=0.4545454545454546, penalty=l2; total time=   0.0s\n",
      "[CV] END ...................C=0.4545454545454546, penalty=l2; total time=   0.0s\n",
      "[CV] END .................C=0.9797979797979799, penalty=none; total time=   0.0s\n",
      "[CV] END ...................C=0.6161616161616162, penalty=l1; total time=   0.0s\n",
      "[CV] END ...................C=0.6161616161616162, penalty=l1; total time=   0.0s\n",
      "[CV] END ...................C=0.6161616161616162, penalty=l1; total time=   0.0s\n",
      "[CV] END ............C=0.5656565656565657, penalty=elaticnet; total time=   0.0s\n",
      "[CV] END ............C=0.5656565656565657, penalty=elaticnet; total time=   0.0s\n",
      "[CV] END ............C=0.5656565656565657, penalty=elaticnet; total time=   0.0s\n",
      "[CV] END ...................C=0.9292929292929294, penalty=l2; total time=   0.0s\n",
      "[CV] END ...................C=0.6262626262626263, penalty=l1; total time=   0.0s\n",
      "[CV] END ...................C=0.6262626262626263, penalty=l1; total time=   0.0s\n",
      "[CV] END ....................C=0.686868686868687, penalty=l1; total time=   0.0s\n",
      "[CV] END .................C=0.6262626262626263, penalty=none; total time=   0.0s\n",
      "[CV] END ................C=0.27272727272727276, penalty=none; total time=   0.0s\n",
      "[CV] END ..................C=0.22222222222222224, penalty=l1; total time=   0.0s\n",
      "[CV] END .............C=0.595959595959596, penalty=elaticnet; total time=   0.0s\n",
      "[CV] END .............C=0.595959595959596, penalty=elaticnet; total time=   0.0s\n",
      "[CV] END ...........C=0.18181818181818182, penalty=elaticnet; total time=   0.0s\n",
      "[CV] END ccp_alpha=0.1764705882352941, criterion=gini, max_depth=8, min_samples_leaf=4, min_samples_split=2; total time=   0.4s\n",
      "[CV] END ccp_alpha=0.6470588235294118, criterion=entropy, max_depth=7, min_samples_leaf=2, min_samples_split=1; total time=   0.0s\n",
      "[CV] END ccp_alpha=0.6470588235294118, criterion=entropy, max_depth=7, min_samples_leaf=2, min_samples_split=1; total time=   0.0s\n",
      "[CV] END ccp_alpha=0.6470588235294118, criterion=gini, max_depth=4, min_samples_leaf=1, min_samples_split=1; total time=   0.0s\n",
      "[CV] END ccp_alpha=0.6470588235294118, criterion=gini, max_depth=4, min_samples_leaf=1, min_samples_split=1; total time=   0.0s\n",
      "[CV] END ccp_alpha=0.0, criterion=log_loss, max_depth=2, min_samples_leaf=4, min_samples_split=4; total time=   0.1s\n",
      "[CV] END ccp_alpha=0.11764705882352941, criterion=gini, max_depth=9, min_samples_leaf=1, min_samples_split=3; total time=   0.4s\n",
      "[CV] END ccp_alpha=0.4117647058823529, criterion=log_loss, max_depth=4, min_samples_leaf=1, min_samples_split=3; total time=   0.3s\n",
      "[CV] END ccp_alpha=0.5294117647058824, criterion=entropy, max_depth=7, min_samples_leaf=1, min_samples_split=2; total time=   0.5s\n",
      "[CV] END ccp_alpha=0.6470588235294118, criterion=gini, max_depth=9, min_samples_leaf=3, min_samples_split=1; total time=   0.0s\n",
      "[CV] END ccp_alpha=0.6470588235294118, criterion=gini, max_depth=9, min_samples_leaf=3, min_samples_split=1; total time=   0.0s\n",
      "[CV] END ccp_alpha=0.058823529411764705, criterion=gini, max_depth=5, min_samples_leaf=2, min_samples_split=4; total time=   0.3s\n",
      "[CV] END ccp_alpha=0.8823529411764706, criterion=gini, max_depth=1, min_samples_leaf=1, min_samples_split=3; total time=   0.1s\n",
      "[CV] END ccp_alpha=0.4117647058823529, criterion=log_loss, max_depth=7, min_samples_leaf=2, min_samples_split=1; total time=   0.0s\n",
      "[CV] END ccp_alpha=0.4117647058823529, criterion=log_loss, max_depth=7, min_samples_leaf=2, min_samples_split=1; total time=   0.0s\n",
      "[CV] END ccp_alpha=0.47058823529411764, criterion=gini, max_depth=2, min_samples_leaf=3, min_samples_split=1; total time=   0.0s\n",
      "[CV] END ccp_alpha=0.47058823529411764, criterion=gini, max_depth=2, min_samples_leaf=3, min_samples_split=1; total time=   0.0s\n",
      "[CV] END ccp_alpha=0.4117647058823529, criterion=entropy, max_depth=6, min_samples_leaf=4, min_samples_split=3; total time=   0.5s\n",
      "[CV] END ccp_alpha=0.7647058823529411, criterion=entropy, max_depth=2, min_samples_leaf=2, min_samples_split=3; total time=   0.2s\n",
      "[CV] END ccp_alpha=0.5294117647058824, criterion=entropy, max_depth=8, min_samples_leaf=4, min_samples_split=2; total time=   0.5s\n",
      "[CV] END ccp_alpha=0.23529411764705882, criterion=entropy, max_depth=4, min_samples_leaf=1, min_samples_split=3; total time=   0.3s\n",
      "[CV] END ccp_alpha=0.23529411764705882, criterion=entropy, max_depth=4, min_samples_leaf=1, min_samples_split=3; total time=   0.2s\n",
      "[CV] END ccp_alpha=0.7058823529411764, criterion=log_loss, max_depth=9, min_samples_leaf=1, min_samples_split=2; total time=   0.4s\n",
      "[CV] END ccp_alpha=0.5882352941176471, criterion=log_loss, max_depth=1, min_samples_leaf=3, min_samples_split=3; total time=   0.1s\n",
      "[CV] END ccp_alpha=0.4117647058823529, criterion=log_loss, max_depth=5, min_samples_leaf=1, min_samples_split=3; total time=   0.3s\n",
      "[CV] END ccp_alpha=0.4117647058823529, criterion=log_loss, max_depth=5, min_samples_leaf=1, min_samples_split=3; total time=   0.3s\n",
      "[CV] END ccp_alpha=0.0, criterion=gini, max_depth=7, min_samples_leaf=2, min_samples_split=2; total time=   0.3s\n",
      "[CV] END ccp_alpha=0.0, criterion=gini, max_depth=7, min_samples_leaf=2, min_samples_split=2; total time=   0.4s\n",
      "[CV] END ccp_alpha=0.5882352941176471, criterion=log_loss, max_depth=7, min_samples_leaf=3, min_samples_split=1; total time=   0.0s\n",
      "[CV] END ccp_alpha=0.5882352941176471, criterion=log_loss, max_depth=7, min_samples_leaf=3, min_samples_split=1; total time=   0.0s\n",
      "[CV] END ccp_alpha=0.0, criterion=log_loss, max_depth=2, min_samples_leaf=4, min_samples_split=3; total time=   0.1s\n",
      "[CV] END ccp_alpha=0.0, criterion=log_loss, max_depth=2, min_samples_leaf=4, min_samples_split=3; total time=   0.1s\n",
      "[CV] END ccp_alpha=0.29411764705882354, criterion=entropy, max_depth=6, min_samples_leaf=4, min_samples_split=4; total time=   0.3s\n",
      "[CV] END ccp_alpha=0.8235294117647058, criterion=gini, max_depth=1, min_samples_leaf=2, min_samples_split=2; total time=   0.1s\n",
      "[CV] END ccp_alpha=0.5882352941176471, criterion=entropy, max_depth=8, min_samples_leaf=1, min_samples_split=2; total time=   0.4s\n",
      "[CV] END ccp_alpha=0.11764705882352941, criterion=gini, max_depth=7, min_samples_leaf=2, min_samples_split=2; total time=   0.3s\n",
      "[CV] END ccp_alpha=0.4117647058823529, criterion=log_loss, max_depth=9, min_samples_leaf=4, min_samples_split=3; total time=   0.4s\n",
      "[CV] END ccp_alpha=0.4117647058823529, criterion=log_loss, max_depth=9, min_samples_leaf=4, min_samples_split=3; total time=   0.5s\n",
      "[CV] END ccp_alpha=0.9411764705882353, criterion=log_loss, max_depth=6, min_samples_leaf=2, min_samples_split=1; total time=   0.0s\n",
      "[CV] END ccp_alpha=0.9411764705882353, criterion=log_loss, max_depth=6, min_samples_leaf=2, min_samples_split=1; total time=   0.0s\n",
      "[CV] END ccp_alpha=0.8823529411764706, criterion=entropy, max_depth=2, min_samples_leaf=1, min_samples_split=4; total time=   0.1s\n",
      "[CV] END ccp_alpha=0.3529411764705882, criterion=log_loss, max_depth=6, min_samples_leaf=3, min_samples_split=1; total time=   0.0s\n",
      "[CV] END ...................C=0.5252525252525253, penalty=l2; total time=   0.1s\n",
      "[CV] END ...................C=0.5252525252525253, penalty=l1; total time=   0.0s\n",
      "[CV] END ...................C=0.5252525252525253, penalty=l1; total time=   0.0s\n",
      "[CV] END ...................C=0.5252525252525253, penalty=l1; total time=   0.0s\n",
      "[CV] END ..................C=0.23232323232323235, penalty=l2; total time=   0.2s\n",
      "[CV] END ...................C=0.8282828282828284, penalty=l2; total time=   0.2s\n",
      "[CV] END ................C=0.14141414141414144, penalty=none; total time=   0.2s\n",
      "[CV] END ................C=0.33333333333333337, penalty=none; total time=   0.2s\n",
      "[CV] END .................C=0.9494949494949496, penalty=none; total time=   0.2s\n",
      "[CV] END ..................C=0.19191919191919193, penalty=l2; total time=   0.1s\n",
      "[CV] END ..............C=0.98989898989899, penalty=elaticnet; total time=   0.0s\n",
      "[CV] END ..............C=0.98989898989899, penalty=elaticnet; total time=   0.0s\n",
      "[CV] END ..............C=0.98989898989899, penalty=elaticnet; total time=   0.0s\n",
      "[CV] END ..................C=0.48484848484848486, penalty=l2; total time=   0.2s\n",
      "[CV] END ...................C=0.6565656565656566, penalty=l2; total time=   0.2s\n",
      "[CV] END ..................C=0.14141414141414144, penalty=l2; total time=   0.2s\n",
      "[CV] END ................C=0.19191919191919193, penalty=none; total time=   0.3s\n",
      "[CV] END ..................C=0.06060606060606061, penalty=l2; total time=   0.2s\n",
      "[CV] END ..................C=0.06060606060606061, penalty=l2; total time=   0.2s\n",
      "[CV] END ..................C=0.06060606060606061, penalty=l2; total time=   0.2s\n",
      "[CV] END .....................C=0.98989898989899, penalty=l1; total time=   0.0s\n",
      "[CV] END .....................C=0.98989898989899, penalty=l1; total time=   0.0s\n",
      "[CV] END .....................C=0.98989898989899, penalty=l1; total time=   0.0s\n",
      "[CV] END ..................C=0.18181818181818182, penalty=l2; total time=   0.2s\n",
      "[CV] END .................C=0.010101010101010102, penalty=l2; total time=   0.2s\n",
      "[CV] END .................C=0.010101010101010102, penalty=l2; total time=   0.2s\n",
      "[CV] END .................C=0.010101010101010102, penalty=l2; total time=   0.2s\n",
      "[CV] END ..................C=0.11111111111111112, penalty=l2; total time=   0.2s\n",
      "[CV] END ..................C=0.22222222222222224, penalty=l1; total time=   0.0s\n",
      "[CV] END ..................C=0.22222222222222224, penalty=l1; total time=   0.0s\n",
      "[CV] END ...................C=0.5858585858585859, penalty=l2; total time=   0.2s\n",
      "[CV] END ...................C=0.5858585858585859, penalty=l2; total time=   0.2s\n",
      "[CV] END .............C=0.595959595959596, penalty=elaticnet; total time=   0.0s\n",
      "[CV] END ...................C=0.5252525252525253, penalty=l2; total time=   0.0s\n",
      "[CV] END .................C=0.7070707070707072, penalty=none; total time=   0.0s\n",
      "[CV] END ...................C=0.5252525252525253, penalty=l1; total time=   0.0s\n",
      "[CV] END ..................C=0.23232323232323235, penalty=l2; total time=   0.0s\n",
      "[CV] END ...................C=0.6666666666666667, penalty=l1; total time=   0.0s\n",
      "[CV] END ..................C=0.31313131313131315, penalty=l1; total time=   0.0s\n",
      "[CV] END ................C=0.14141414141414144, penalty=none; total time=   0.0s\n",
      "[CV] END ................C=0.18181818181818182, penalty=none; total time=   0.0s\n",
      "[CV] END ....................C=0.696969696969697, penalty=l1; total time=   0.0s\n",
      "[CV] END ....................C=0.696969696969697, penalty=l1; total time=   0.0s\n",
      "[CV] END ....................C=0.696969696969697, penalty=l1; total time=   0.0s\n",
      "[CV] END .................C=0.9494949494949496, penalty=none; total time=   0.0s\n",
      "[CV] END ................................C=1.0, penalty=none; total time=   0.0s\n",
      "[CV] END ................................C=1.0, penalty=none; total time=   0.0s\n",
      "[CV] END ...................C=0.2828282828282829, penalty=l1; total time=   0.0s\n",
      "[CV] END ...................C=0.2828282828282829, penalty=l1; total time=   0.0s\n",
      "[CV] END .................C=0.5858585858585859, penalty=none; total time=   0.0s\n",
      "[CV] END ................C=0.29292929292929293, penalty=none; total time=   0.0s\n",
      "[CV] END ................C=0.29292929292929293, penalty=none; total time=   0.0s\n",
      "[CV] END ................C=0.29292929292929293, penalty=none; total time=   0.0s\n",
      "[CV] END ............C=0.5555555555555556, penalty=elaticnet; total time=   0.0s\n",
      "[CV] END ............C=0.5555555555555556, penalty=elaticnet; total time=   0.0s\n",
      "[CV] END ............C=0.5555555555555556, penalty=elaticnet; total time=   0.0s\n",
      "[CV] END ................C=0.43434343434343436, penalty=none; total time=   0.0s\n",
      "[CV] END ................C=0.43434343434343436, penalty=none; total time=   0.0s\n",
      "[CV] END ................C=0.43434343434343436, penalty=none; total time=   0.0s\n",
      "[CV] END ..................C=0.07070707070707072, penalty=l1; total time=   0.0s\n",
      "[CV] END ..................C=0.07070707070707072, penalty=l1; total time=   0.0s\n",
      "[CV] END ...................C=0.9292929292929294, penalty=l2; total time=   0.0s\n",
      "[CV] END ...................C=0.9292929292929294, penalty=l2; total time=   0.0s\n",
      "[CV] END .................C=0.4444444444444445, penalty=none; total time=   0.0s\n",
      "[CV] END .................C=0.4444444444444445, penalty=none; total time=   0.0s\n",
      "[CV] END .................C=0.4444444444444445, penalty=none; total time=   0.0s\n",
      "[CV] END ...................C=0.7272727272727273, penalty=l2; total time=   0.0s\n",
      "[CV] END ...................C=0.7272727272727273, penalty=l2; total time=   0.0s\n",
      "[CV] END ...................C=0.7272727272727273, penalty=l2; total time=   0.0s\n",
      "[CV] END ............C=0.8383838383838385, penalty=elaticnet; total time=   0.0s\n",
      "[CV] END ..................C=0.29292929292929293, penalty=l1; total time=   0.0s\n",
      "[CV] END .................C=0.5555555555555556, penalty=none; total time=   0.0s\n",
      "[CV] END ....................C=0.787878787878788, penalty=l1; total time=   0.0s\n",
      "[CV] END ....................C=0.787878787878788, penalty=l1; total time=   0.0s\n",
      "[CV] END ...................C=0.9393939393939394, penalty=l2; total time=   0.0s\n",
      "[CV] END ccp_alpha=0.1764705882352941, criterion=gini, max_depth=8, min_samples_leaf=4, min_samples_split=2; total time=   0.4s\n",
      "[CV] END ccp_alpha=0.6470588235294118, criterion=entropy, max_depth=7, min_samples_leaf=2, min_samples_split=1; total time=   0.0s\n",
      "[CV] END ccp_alpha=0.6470588235294118, criterion=gini, max_depth=4, min_samples_leaf=1, min_samples_split=1; total time=   0.0s\n",
      "[CV] END ccp_alpha=0.0, criterion=log_loss, max_depth=2, min_samples_leaf=4, min_samples_split=4; total time=   0.1s\n",
      "[CV] END ccp_alpha=0.11764705882352941, criterion=gini, max_depth=9, min_samples_leaf=1, min_samples_split=3; total time=   0.3s\n",
      "[CV] END ccp_alpha=0.4117647058823529, criterion=log_loss, max_depth=4, min_samples_leaf=1, min_samples_split=3; total time=   0.3s\n",
      "[CV] END ccp_alpha=0.47058823529411764, criterion=entropy, max_depth=6, min_samples_leaf=3, min_samples_split=1; total time=   0.0s\n",
      "[CV] END ccp_alpha=0.5294117647058824, criterion=entropy, max_depth=7, min_samples_leaf=1, min_samples_split=2; total time=   0.5s\n",
      "[CV] END ccp_alpha=0.058823529411764705, criterion=gini, max_depth=5, min_samples_leaf=2, min_samples_split=4; total time=   0.3s\n",
      "[CV] END ccp_alpha=0.9411764705882353, criterion=gini, max_depth=2, min_samples_leaf=1, min_samples_split=1; total time=   0.0s\n",
      "[CV] END ccp_alpha=0.9411764705882353, criterion=gini, max_depth=2, min_samples_leaf=1, min_samples_split=1; total time=   0.0s\n",
      "[CV] END ccp_alpha=0.8823529411764706, criterion=gini, max_depth=1, min_samples_leaf=1, min_samples_split=3; total time=   0.1s\n",
      "[CV] END ccp_alpha=0.4117647058823529, criterion=log_loss, max_depth=7, min_samples_leaf=2, min_samples_split=1; total time=   0.0s\n",
      "[CV] END ccp_alpha=0.47058823529411764, criterion=gini, max_depth=2, min_samples_leaf=3, min_samples_split=1; total time=   0.0s\n",
      "[CV] END ccp_alpha=0.4117647058823529, criterion=entropy, max_depth=6, min_samples_leaf=4, min_samples_split=3; total time=   0.7s\n",
      "[CV] END ccp_alpha=0.5294117647058824, criterion=entropy, max_depth=8, min_samples_leaf=4, min_samples_split=2; total time=   0.5s\n",
      "[CV] END ccp_alpha=0.5294117647058824, criterion=entropy, max_depth=8, min_samples_leaf=4, min_samples_split=2; total time=   0.4s\n",
      "[CV] END ccp_alpha=0.5882352941176471, criterion=gini, max_depth=9, min_samples_leaf=2, min_samples_split=2; total time=   0.4s\n",
      "[CV] END ccp_alpha=0.11764705882352941, criterion=log_loss, max_depth=3, min_samples_leaf=3, min_samples_split=2; total time=   0.2s\n",
      "[CV] END ccp_alpha=0.11764705882352941, criterion=gini, max_depth=9, min_samples_leaf=2, min_samples_split=2; total time=   0.3s\n",
      "[CV] END ccp_alpha=0.11764705882352941, criterion=gini, max_depth=9, min_samples_leaf=2, min_samples_split=2; total time=   0.4s\n",
      "[CV] END ccp_alpha=0.0, criterion=gini, max_depth=7, min_samples_leaf=2, min_samples_split=2; total time=   0.3s\n",
      "[CV] END ccp_alpha=0.8823529411764706, criterion=log_loss, max_depth=2, min_samples_leaf=1, min_samples_split=4; total time=   0.1s\n",
      "[CV] END ccp_alpha=0.058823529411764705, criterion=entropy, max_depth=9, min_samples_leaf=1, min_samples_split=3; total time=   0.4s\n",
      "[CV] END ccp_alpha=0.058823529411764705, criterion=entropy, max_depth=9, min_samples_leaf=1, min_samples_split=3; total time=   0.4s\n",
      "[CV] END ccp_alpha=0.3529411764705882, criterion=log_loss, max_depth=5, min_samples_leaf=3, min_samples_split=1; total time=   0.0s\n",
      "[CV] END ccp_alpha=0.3529411764705882, criterion=log_loss, max_depth=5, min_samples_leaf=3, min_samples_split=1; total time=   0.0s\n",
      "[CV] END ccp_alpha=0.5882352941176471, criterion=entropy, max_depth=8, min_samples_leaf=1, min_samples_split=2; total time=   0.4s\n",
      "[CV] END ccp_alpha=0.5882352941176471, criterion=entropy, max_depth=8, min_samples_leaf=1, min_samples_split=2; total time=   0.4s\n",
      "[CV] END ccp_alpha=0.0, criterion=entropy, max_depth=7, min_samples_leaf=3, min_samples_split=4; total time=   0.4s\n",
      "[CV] END ccp_alpha=0.1764705882352941, criterion=entropy, max_depth=8, min_samples_leaf=3, min_samples_split=3; total time=   0.4s\n",
      "[CV] END ccp_alpha=0.8823529411764706, criterion=entropy, max_depth=2, min_samples_leaf=1, min_samples_split=4; total time=   0.1s\n"
     ]
    },
    {
     "name": "stdout",
     "output_type": "stream",
     "text": [
      "[CV] END .................C=0.7070707070707072, penalty=none; total time=   0.2s\n",
      "[CV] END ................C=0.21212121212121213, penalty=none; total time=   0.2s\n",
      "[CV] END .................C=0.020202020202020204, penalty=l2; total time=   0.2s\n",
      "[CV] END ................C=0.33333333333333337, penalty=none; total time=   0.2s\n",
      "[CV] END ....................C=0.696969696969697, penalty=l1; total time=   0.0s\n",
      "[CV] END ............C=0.5757575757575758, penalty=elaticnet; total time=   0.0s\n",
      "[CV] END ...................C=0.9696969696969697, penalty=l2; total time=   0.2s\n",
      "[CV] END ............C=0.9797979797979799, penalty=elaticnet; total time=   0.0s\n",
      "[CV] END ............C=0.6767676767676768, penalty=elaticnet; total time=   0.0s\n",
      "[CV] END ................................C=1.0, penalty=none; total time=   0.2s\n",
      "[CV] END ................................C=1.0, penalty=none; total time=   0.2s\n",
      "[CV] END .................C=0.5858585858585859, penalty=none; total time=   0.2s\n",
      "[CV] END ................C=0.29292929292929293, penalty=none; total time=   0.2s\n",
      "[CV] END ................C=0.29292929292929293, penalty=none; total time=   0.2s\n",
      "[CV] END ................C=0.29292929292929293, penalty=none; total time=   0.2s\n",
      "[CV] END ...................C=0.8484848484848485, penalty=l1; total time=   0.0s\n",
      "[CV] END ...................C=0.8484848484848485, penalty=l1; total time=   0.0s\n",
      "[CV] END ...................C=0.8484848484848485, penalty=l1; total time=   0.0s\n",
      "[CV] END ..................C=0.17171717171717174, penalty=l1; total time=   0.0s\n",
      "[CV] END ............C=0.5555555555555556, penalty=elaticnet; total time=   0.0s\n",
      "[CV] END ............C=0.5555555555555556, penalty=elaticnet; total time=   0.0s\n",
      "[CV] END ............C=0.5555555555555556, penalty=elaticnet; total time=   0.0s\n",
      "[CV] END ................C=0.43434343434343436, penalty=none; total time=   0.2s\n",
      "[CV] END ...................C=0.7373737373737375, penalty=l1; total time=   0.0s\n",
      "[CV] END ...................C=0.7373737373737375, penalty=l1; total time=   0.0s\n",
      "[CV] END ............C=0.6363636363636365, penalty=elaticnet; total time=   0.0s\n",
      "[CV] END ............C=0.6363636363636365, penalty=elaticnet; total time=   0.0s\n",
      "[CV] END ..................C=0.888888888888889, penalty=none; total time=   0.2s\n",
      "[CV] END .................C=0.6767676767676768, penalty=none; total time=   0.3s\n",
      "[CV] END .................C=0.6767676767676768, penalty=none; total time=   0.2s\n",
      "[CV] END .................C=0.6767676767676768, penalty=none; total time=   0.2s\n",
      "[CV] END ................C=0.27272727272727276, penalty=none; total time=   0.2s\n",
      "[CV] END ................C=0.27272727272727276, penalty=none; total time=   0.2s\n",
      "[CV] END ................C=0.27272727272727276, penalty=none; total time=   0.2s\n",
      "[CV] END ..................C=0.22222222222222224, penalty=l1; total time=   0.0s\n",
      "[CV] END .................C=0.9595959595959597, penalty=none; total time=   0.1s\n",
      "[CV] END .................C=0.9595959595959597, penalty=none; total time=   0.1s\n",
      "[CV] END .............C=0.595959595959596, penalty=elaticnet; total time=   0.0s\n",
      "[CV] END .............C=0.595959595959596, penalty=elaticnet; total time=   0.0s\n",
      "[CV] END ...................C=0.5252525252525253, penalty=l1; total time=   0.0s\n",
      "[CV] END ...................C=0.8282828282828284, penalty=l2; total time=   0.0s\n",
      "[CV] END ..................C=0.23232323232323235, penalty=l1; total time=   0.0s\n",
      "[CV] END ...................C=0.9090909090909092, penalty=l2; total time=   0.0s\n",
      "[CV] END ...................C=0.9090909090909092, penalty=l2; total time=   0.0s\n",
      "[CV] END .................C=0.9494949494949496, penalty=none; total time=   0.0s\n",
      "[CV] END .................C=0.9494949494949496, penalty=none; total time=   0.0s\n",
      "[CV] END ............C=0.5757575757575758, penalty=elaticnet; total time=   0.0s\n",
      "[CV] END ............C=0.5757575757575758, penalty=elaticnet; total time=   0.0s\n",
      "[CV] END ................C=0.26262626262626265, penalty=none; total time=   0.0s\n",
      "[CV] END ................C=0.26262626262626265, penalty=none; total time=   0.0s\n",
      "[CV] END ..............C=0.98989898989899, penalty=elaticnet; total time=   0.0s\n",
      "[CV] END ..............C=0.98989898989899, penalty=elaticnet; total time=   0.0s\n",
      "[CV] END ...................C=0.9595959595959597, penalty=l2; total time=   0.0s\n",
      "[CV] END ...................C=0.9595959595959597, penalty=l2; total time=   0.0s\n",
      "[CV] END ...................C=0.9595959595959597, penalty=l2; total time=   0.0s\n",
      "[CV] END ...........C=0.13131313131313133, penalty=elaticnet; total time=   0.0s\n",
      "[CV] END ...........C=0.13131313131313133, penalty=elaticnet; total time=   0.0s\n",
      "[CV] END ...........C=0.13131313131313133, penalty=elaticnet; total time=   0.0s\n",
      "[CV] END ................C=0.19191919191919193, penalty=none; total time=   0.0s\n",
      "[CV] END ................C=0.19191919191919193, penalty=none; total time=   0.0s\n",
      "[CV] END .................C=0.010101010101010102, penalty=l2; total time=   0.0s\n",
      "[CV] END .................C=0.010101010101010102, penalty=l2; total time=   0.0s\n",
      "[CV] END .................C=0.010101010101010102, penalty=l2; total time=   0.0s\n",
      "[CV] END ..................C=0.11111111111111112, penalty=l2; total time=   0.0s\n",
      "[CV] END ..................C=0.11111111111111112, penalty=l2; total time=   0.0s\n",
      "[CV] END ..................C=0.11111111111111112, penalty=l2; total time=   0.0s\n",
      "[CV] END .................C=0.9797979797979799, penalty=none; total time=   0.0s\n",
      "[CV] END .................C=0.9797979797979799, penalty=none; total time=   0.0s\n",
      "[CV] END ..................C=0.22222222222222224, penalty=l1; total time=   0.0s\n",
      "[CV] END ............C=0.8383838383838385, penalty=elaticnet; total time=   0.0s\n",
      "[CV] END ............C=0.8383838383838385, penalty=elaticnet; total time=   0.0s\n",
      "[CV] END .................C=0.5555555555555556, penalty=none; total time=   0.0s\n",
      "[CV] END ccp_alpha=0.47058823529411764, criterion=gini, max_depth=2, min_samples_leaf=1, min_samples_split=4; total time=   0.1s\n",
      "[CV] END ccp_alpha=0.6470588235294118, criterion=entropy, max_depth=9, min_samples_leaf=1, min_samples_split=4; total time=   0.4s\n",
      "[CV] END ccp_alpha=0.29411764705882354, criterion=gini, max_depth=7, min_samples_leaf=4, min_samples_split=1; total time=   0.0s\n",
      "[CV] END ccp_alpha=0.6470588235294118, criterion=gini, max_depth=5, min_samples_leaf=3, min_samples_split=2; total time=   0.2s\n",
      "[CV] END ccp_alpha=0.4117647058823529, criterion=gini, max_depth=6, min_samples_leaf=3, min_samples_split=3; total time=   0.3s\n",
      "[CV] END ccp_alpha=0.7647058823529411, criterion=gini, max_depth=6, min_samples_leaf=4, min_samples_split=2; total time=   0.3s\n",
      "[CV] END ccp_alpha=0.4117647058823529, criterion=gini, max_depth=7, min_samples_leaf=4, min_samples_split=1; total time=   0.0s\n",
      "[CV] END ccp_alpha=0.4117647058823529, criterion=gini, max_depth=7, min_samples_leaf=4, min_samples_split=1; total time=   0.0s\n",
      "[CV] END ccp_alpha=0.4117647058823529, criterion=gini, max_depth=7, min_samples_leaf=4, min_samples_split=1; total time=   0.0s\n",
      "[CV] END ccp_alpha=0.0, criterion=log_loss, max_depth=3, min_samples_leaf=4, min_samples_split=3; total time=   0.2s\n",
      "[CV] END ccp_alpha=0.6470588235294118, criterion=gini, max_depth=9, min_samples_leaf=3, min_samples_split=1; total time=   0.0s\n",
      "[CV] END ccp_alpha=0.058823529411764705, criterion=gini, max_depth=5, min_samples_leaf=2, min_samples_split=4; total time=   0.2s\n",
      "[CV] END ccp_alpha=0.0, criterion=gini, max_depth=2, min_samples_leaf=2, min_samples_split=4; total time=   0.1s\n",
      "[CV] END ccp_alpha=0.8235294117647058, criterion=gini, max_depth=8, min_samples_leaf=1, min_samples_split=3; total time=   0.5s\n",
      "[CV] END ccp_alpha=0.11764705882352941, criterion=log_loss, max_depth=2, min_samples_leaf=4, min_samples_split=1; total time=   0.0s\n",
      "[CV] END ccp_alpha=0.11764705882352941, criterion=entropy, max_depth=3, min_samples_leaf=2, min_samples_split=3; total time=   0.2s\n",
      "[CV] END ccp_alpha=0.8823529411764706, criterion=log_loss, max_depth=5, min_samples_leaf=3, min_samples_split=3; total time=   0.3s\n",
      "[CV] END ccp_alpha=0.8823529411764706, criterion=log_loss, max_depth=5, min_samples_leaf=3, min_samples_split=3; total time=   0.4s\n",
      "[CV] END ccp_alpha=0.29411764705882354, criterion=entropy, max_depth=9, min_samples_leaf=4, min_samples_split=2; total time=   0.4s\n",
      "[CV] END ccp_alpha=0.29411764705882354, criterion=entropy, max_depth=9, min_samples_leaf=4, min_samples_split=2; total time=   0.4s\n",
      "[CV] END ccp_alpha=0.3529411764705882, criterion=gini, max_depth=6, min_samples_leaf=2, min_samples_split=1; total time=   0.0s\n",
      "[CV] END ccp_alpha=0.3529411764705882, criterion=gini, max_depth=6, min_samples_leaf=2, min_samples_split=1; total time=   0.0s\n",
      "[CV] END ccp_alpha=0.3529411764705882, criterion=gini, max_depth=6, min_samples_leaf=2, min_samples_split=1; total time=   0.0s\n",
      "[CV] END ccp_alpha=0.11764705882352941, criterion=gini, max_depth=9, min_samples_leaf=2, min_samples_split=2; total time=   0.4s\n",
      "[CV] END ccp_alpha=0.29411764705882354, criterion=gini, max_depth=8, min_samples_leaf=2, min_samples_split=1; total time=   0.0s\n",
      "[CV] END ccp_alpha=0.29411764705882354, criterion=gini, max_depth=8, min_samples_leaf=2, min_samples_split=1; total time=   0.0s\n",
      "[CV] END ccp_alpha=0.23529411764705882, criterion=entropy, max_depth=7, min_samples_leaf=3, min_samples_split=4; total time=   0.3s\n",
      "[CV] END ccp_alpha=0.23529411764705882, criterion=entropy, max_depth=7, min_samples_leaf=3, min_samples_split=4; total time=   0.4s\n",
      "[CV] END ccp_alpha=0.6470588235294118, criterion=gini, max_depth=1, min_samples_leaf=3, min_samples_split=4; total time=   0.1s\n",
      "[CV] END ccp_alpha=0.6470588235294118, criterion=gini, max_depth=1, min_samples_leaf=3, min_samples_split=4; total time=   0.1s\n",
      "[CV] END ccp_alpha=0.058823529411764705, criterion=entropy, max_depth=9, min_samples_leaf=1, min_samples_split=3; total time=   0.4s\n",
      "[CV] END ccp_alpha=0.5882352941176471, criterion=log_loss, max_depth=7, min_samples_leaf=3, min_samples_split=1; total time=   0.0s\n",
      "[CV] END ccp_alpha=0.9411764705882353, criterion=log_loss, max_depth=7, min_samples_leaf=2, min_samples_split=2; total time=   0.4s\n",
      "[CV] END ccp_alpha=0.7058823529411764, criterion=log_loss, max_depth=7, min_samples_leaf=3, min_samples_split=1; total time=   0.0s\n",
      "[CV] END ccp_alpha=0.11764705882352941, criterion=gini, max_depth=7, min_samples_leaf=2, min_samples_split=2; total time=   0.3s\n",
      "[CV] END ccp_alpha=0.11764705882352941, criterion=gini, max_depth=7, min_samples_leaf=2, min_samples_split=2; total time=   0.3s\n",
      "[CV] END ccp_alpha=0.0, criterion=entropy, max_depth=7, min_samples_leaf=3, min_samples_split=4; total time=   0.3s\n",
      "[CV] END ccp_alpha=0.0, criterion=entropy, max_depth=7, min_samples_leaf=3, min_samples_split=4; total time=   0.4s\n",
      "[CV] END ccp_alpha=0.5294117647058824, criterion=log_loss, max_depth=9, min_samples_leaf=4, min_samples_split=1; total time=   0.0s\n",
      "[CV] END ccp_alpha=0.5294117647058824, criterion=log_loss, max_depth=9, min_samples_leaf=4, min_samples_split=1; total time=   0.0s\n",
      "[CV] END ccp_alpha=0.5294117647058824, criterion=log_loss, max_depth=9, min_samples_leaf=4, min_samples_split=1; total time=   0.0s\n",
      "[CV] END ccp_alpha=0.29411764705882354, criterion=gini, max_depth=6, min_samples_leaf=2, min_samples_split=2; total time=   0.3s\n",
      "[CV] END ccp_alpha=0.3529411764705882, criterion=log_loss, max_depth=6, min_samples_leaf=3, min_samples_split=1; total time=   0.0s\n",
      "[CV] END ccp_alpha=0.3529411764705882, criterion=log_loss, max_depth=6, min_samples_leaf=3, min_samples_split=1; total time=   0.0s\n",
      "[CV] END .................C=0.7070707070707072, penalty=none; total time=   0.2s\n",
      "[CV] END ................C=0.21212121212121213, penalty=none; total time=   0.4s\n",
      "[CV] END ................C=0.14141414141414144, penalty=none; total time=   0.2s\n",
      "[CV] END ..................C=0.10101010101010102, penalty=l1; total time=   0.0s\n",
      "[CV] END .................C=0.9494949494949496, penalty=none; total time=   0.2s\n",
      "[CV] END ..........C=0.030303030303030304, penalty=elaticnet; total time=   0.0s\n",
      "[CV] END ...................C=0.6565656565656566, penalty=l1; total time=   0.0s\n",
      "[CV] END ...................C=0.6565656565656566, penalty=l1; total time=   0.0s\n",
      "[CV] END ................C=0.26262626262626265, penalty=none; total time=   0.2s\n",
      "[CV] END ................C=0.26262626262626265, penalty=none; total time=   0.2s\n",
      "[CV] END ...................C=0.8585858585858587, penalty=l1; total time=   0.0s\n",
      "[CV] END ...................C=0.8585858585858587, penalty=l1; total time=   0.0s\n",
      "[CV] END ....................C=0.393939393939394, penalty=l1; total time=   0.0s\n",
      "[CV] END ....................C=0.393939393939394, penalty=l1; total time=   0.0s\n",
      "[CV] END ....................C=0.393939393939394, penalty=l1; total time=   0.0s\n",
      "[CV] END ...................C=0.3535353535353536, penalty=l2; total time=   0.2s\n",
      "[CV] END ...................C=0.3535353535353536, penalty=l2; total time=   0.2s\n",
      "[CV] END ...................C=0.3535353535353536, penalty=l2; total time=   0.2s\n",
      "[CV] END ..................C=0.11111111111111112, penalty=l1; total time=   0.0s\n",
      "[CV] END ...................C=0.8080808080808082, penalty=l2; total time=   0.2s\n",
      "[CV] END ...................C=0.8080808080808082, penalty=l2; total time=   0.2s\n",
      "[CV] END ...................C=0.8080808080808082, penalty=l2; total time=   0.2s\n",
      "[CV] END .................C=0.8080808080808082, penalty=none; total time=   0.3s\n",
      "[CV] END .................C=0.3535353535353536, penalty=none; total time=   0.2s\n",
      "[CV] END .................C=0.3535353535353536, penalty=none; total time=   0.2s\n",
      "[CV] END .................C=0.3535353535353536, penalty=none; total time=   0.2s\n",
      "[CV] END ...................C=0.5858585858585859, penalty=l2; total time=   0.2s\n",
      "[CV] END ............C=0.8383838383838385, penalty=elaticnet; total time=   0.0s\n",
      "[CV] END ............C=0.8383838383838385, penalty=elaticnet; total time=   0.0s\n",
      "[CV] END ............C=0.8383838383838385, penalty=elaticnet; total time=   0.0s\n",
      "[CV] END .................C=0.4545454545454546, penalty=none; total time=   0.2s\n",
      "[CV] END ....................C=0.787878787878788, penalty=l1; total time=   0.0s\n",
      "[CV] END ....................C=0.787878787878788, penalty=l1; total time=   0.0s\n",
      "[CV] END ....................C=0.787878787878788, penalty=l1; total time=   0.0s\n",
      "[CV] END ..................C=0.08080808080808081, penalty=l2; total time=   0.0s\n",
      "[CV] END ...................C=0.8282828282828284, penalty=l2; total time=   0.0s\n",
      "[CV] END ...................C=0.8282828282828284, penalty=l2; total time=   0.0s\n",
      "[CV] END ................C=0.14141414141414144, penalty=none; total time=   0.0s\n",
      "[CV] END ................C=0.14141414141414144, penalty=none; total time=   0.0s\n",
      "[CV] END ............C=0.9797979797979799, penalty=elaticnet; total time=   0.0s\n",
      "[CV] END ............C=0.6767676767676768, penalty=elaticnet; total time=   0.0s\n",
      "[CV] END ............C=0.6767676767676768, penalty=elaticnet; total time=   0.0s\n",
      "[CV] END ............C=0.6767676767676768, penalty=elaticnet; total time=   0.0s\n",
      "[CV] END ...................C=0.6565656565656566, penalty=l1; total time=   0.0s\n",
      "[CV] END ...................C=0.6565656565656566, penalty=l1; total time=   0.0s\n",
      "[CV] END ...................C=0.6565656565656566, penalty=l1; total time=   0.0s\n",
      "[CV] END ................C=0.26262626262626265, penalty=none; total time=   0.0s\n",
      "[CV] END ...................C=0.6565656565656566, penalty=l2; total time=   0.0s\n",
      "[CV] END ...................C=0.6565656565656566, penalty=l2; total time=   0.0s\n",
      "[CV] END ...................C=0.6565656565656566, penalty=l2; total time=   0.0s\n",
      "[CV] END ..................C=0.14141414141414144, penalty=l2; total time=   0.0s\n",
      "[CV] END ..................C=0.11111111111111112, penalty=l1; total time=   0.0s\n",
      "[CV] END ...................C=0.8080808080808082, penalty=l2; total time=   0.0s\n",
      "[CV] END ...................C=0.8080808080808082, penalty=l2; total time=   0.0s\n",
      "[CV] END ...................C=0.8080808080808082, penalty=l2; total time=   0.0s\n",
      "[CV] END ...................C=0.8484848484848485, penalty=l1; total time=   0.0s\n",
      "[CV] END ...................C=0.8484848484848485, penalty=l1; total time=   0.0s\n",
      "[CV] END ...................C=0.8484848484848485, penalty=l1; total time=   0.0s\n",
      "[CV] END ..................C=0.17171717171717174, penalty=l1; total time=   0.0s\n",
      "[CV] END ..................C=0.18181818181818182, penalty=l2; total time=   0.0s\n",
      "[CV] END ..................C=0.18181818181818182, penalty=l2; total time=   0.0s\n",
      "[CV] END .................C=0.8080808080808082, penalty=none; total time=   0.0s\n",
      "[CV] END .................C=0.8080808080808082, penalty=none; total time=   0.0s\n",
      "[CV] END .................C=0.8080808080808082, penalty=none; total time=   0.0s\n",
      "[CV] END .................C=0.3535353535353536, penalty=none; total time=   0.0s\n",
      "[CV] END .................C=0.3535353535353536, penalty=none; total time=   0.0s\n",
      "[CV] END .................C=0.3535353535353536, penalty=none; total time=   0.0s\n",
      "[CV] END ..................C=0.29292929292929293, penalty=l1; total time=   0.0s\n",
      "[CV] END ..................C=0.29292929292929293, penalty=l1; total time=   0.0s\n",
      "[CV] END .................C=0.5555555555555556, penalty=none; total time=   0.0s\n",
      "[CV] END ....................C=0.787878787878788, penalty=l1; total time=   0.0s\n",
      "[CV] END ...................C=0.9393939393939394, penalty=l2; total time=   0.0s\n",
      "[CV] END .............C=0.595959595959596, penalty=elaticnet; total time=   0.0s\n",
      "[CV] END ...........C=0.18181818181818182, penalty=elaticnet; total time=   0.0s\n",
      "[CV] END ccp_alpha=0.3529411764705882, criterion=entropy, max_depth=1, min_samples_leaf=4, min_samples_split=1; total time=   0.0s\n",
      "[CV] END ccp_alpha=0.47058823529411764, criterion=gini, max_depth=2, min_samples_leaf=1, min_samples_split=4; total time=   0.2s\n",
      "[CV] END ccp_alpha=0.3529411764705882, criterion=log_loss, max_depth=8, min_samples_leaf=3, min_samples_split=3; total time=   0.4s\n",
      "[CV] END ccp_alpha=0.29411764705882354, criterion=gini, max_depth=7, min_samples_leaf=4, min_samples_split=1; total time=   0.0s\n",
      "[CV] END ccp_alpha=0.29411764705882354, criterion=gini, max_depth=7, min_samples_leaf=4, min_samples_split=1; total time=   0.0s\n",
      "[CV] END ccp_alpha=0.6470588235294118, criterion=gini, max_depth=5, min_samples_leaf=3, min_samples_split=2; total time=   0.3s\n",
      "[CV] END ccp_alpha=0.7647058823529411, criterion=log_loss, max_depth=5, min_samples_leaf=2, min_samples_split=1; total time=   0.0s\n",
      "[CV] END ccp_alpha=0.7647058823529411, criterion=log_loss, max_depth=5, min_samples_leaf=2, min_samples_split=1; total time=   0.0s\n",
      "[CV] END ccp_alpha=0.9411764705882353, criterion=log_loss, max_depth=4, min_samples_leaf=1, min_samples_split=2; total time=   0.3s\n",
      "[CV] END ccp_alpha=0.47058823529411764, criterion=entropy, max_depth=6, min_samples_leaf=3, min_samples_split=1; total time=   0.0s\n",
      "[CV] END ccp_alpha=0.47058823529411764, criterion=entropy, max_depth=6, min_samples_leaf=3, min_samples_split=1; total time=   0.0s\n",
      "[CV] END ccp_alpha=0.058823529411764705, criterion=gini, max_depth=3, min_samples_leaf=3, min_samples_split=1; total time=   0.0s\n",
      "[CV] END ccp_alpha=0.058823529411764705, criterion=gini, max_depth=3, min_samples_leaf=3, min_samples_split=1; total time=   0.0s\n",
      "[CV] END ccp_alpha=0.058823529411764705, criterion=gini, max_depth=3, min_samples_leaf=3, min_samples_split=1; total time=   0.0s\n",
      "[CV] END ccp_alpha=0.8823529411764706, criterion=log_loss, max_depth=3, min_samples_leaf=1, min_samples_split=3; total time=   0.2s\n",
      "[CV] END ccp_alpha=0.9411764705882353, criterion=log_loss, max_depth=9, min_samples_leaf=3, min_samples_split=4; total time=   0.4s\n",
      "[CV] END ccp_alpha=0.0, criterion=gini, max_depth=2, min_samples_leaf=2, min_samples_split=4; total time=   0.1s\n",
      "[CV] END ccp_alpha=0.8823529411764706, criterion=gini, max_depth=1, min_samples_leaf=1, min_samples_split=3; total time=   0.1s\n",
      "[CV] END ccp_alpha=0.8235294117647058, criterion=gini, max_depth=8, min_samples_leaf=1, min_samples_split=3; total time=   0.5s\n",
      "[CV] END ccp_alpha=0.11764705882352941, criterion=log_loss, max_depth=2, min_samples_leaf=4, min_samples_split=1; total time=   0.0s\n",
      "[CV] END ccp_alpha=0.11764705882352941, criterion=entropy, max_depth=3, min_samples_leaf=2, min_samples_split=3; total time=   0.2s\n",
      "[CV] END ccp_alpha=0.11764705882352941, criterion=entropy, max_depth=3, min_samples_leaf=2, min_samples_split=3; total time=   0.2s\n",
      "[CV] END ccp_alpha=0.8823529411764706, criterion=log_loss, max_depth=5, min_samples_leaf=3, min_samples_split=3; total time=   0.4s\n",
      "[CV] END ccp_alpha=0.5294117647058824, criterion=log_loss, max_depth=8, min_samples_leaf=4, min_samples_split=2; total time=   0.4s\n",
      "[CV] END ccp_alpha=0.7058823529411764, criterion=log_loss, max_depth=9, min_samples_leaf=1, min_samples_split=2; total time=   0.4s\n",
      "[CV] END ccp_alpha=0.7058823529411764, criterion=log_loss, max_depth=9, min_samples_leaf=1, min_samples_split=2; total time=   0.4s\n",
      "[CV] END ccp_alpha=0.9411764705882353, criterion=log_loss, max_depth=4, min_samples_leaf=4, min_samples_split=1; total time=   0.0s\n",
      "[CV] END ccp_alpha=0.9411764705882353, criterion=log_loss, max_depth=4, min_samples_leaf=4, min_samples_split=1; total time=   0.0s\n",
      "[CV] END ccp_alpha=0.9411764705882353, criterion=log_loss, max_depth=4, min_samples_leaf=4, min_samples_split=1; total time=   0.0s\n",
      "[CV] END ccp_alpha=0.29411764705882354, criterion=gini, max_depth=8, min_samples_leaf=2, min_samples_split=1; total time=   0.0s\n",
      "[CV] END ccp_alpha=0.7647058823529411, criterion=entropy, max_depth=3, min_samples_leaf=4, min_samples_split=2; total time=   0.2s\n",
      "[CV] END ccp_alpha=0.23529411764705882, criterion=entropy, max_depth=7, min_samples_leaf=3, min_samples_split=4; total time=   0.3s\n",
      "[CV] END ccp_alpha=0.0, criterion=log_loss, max_depth=9, min_samples_leaf=4, min_samples_split=2; total time=   0.4s\n",
      "[CV] END ccp_alpha=0.0, criterion=log_loss, max_depth=9, min_samples_leaf=4, min_samples_split=2; total time=   0.4s\n",
      "[CV] END ccp_alpha=0.9411764705882353, criterion=log_loss, max_depth=7, min_samples_leaf=2, min_samples_split=2; total time=   0.3s\n",
      "[CV] END ccp_alpha=0.9411764705882353, criterion=log_loss, max_depth=7, min_samples_leaf=2, min_samples_split=2; total time=   0.3s\n",
      "[CV] END ccp_alpha=0.5294117647058824, criterion=entropy, max_depth=8, min_samples_leaf=2, min_samples_split=2; total time=   0.4s\n",
      "[CV] END ccp_alpha=0.5294117647058824, criterion=entropy, max_depth=8, min_samples_leaf=2, min_samples_split=2; total time=   0.4s\n",
      "[CV] END ccp_alpha=0.9411764705882353, criterion=entropy, max_depth=1, min_samples_leaf=1, min_samples_split=4; total time=   0.1s\n",
      "[CV] END ccp_alpha=0.9411764705882353, criterion=entropy, max_depth=1, min_samples_leaf=1, min_samples_split=4; total time=   0.1s\n",
      "[CV] END ccp_alpha=0.058823529411764705, criterion=entropy, max_depth=5, min_samples_leaf=2, min_samples_split=4; total time=   0.3s\n",
      "[CV] END ccp_alpha=0.058823529411764705, criterion=entropy, max_depth=5, min_samples_leaf=2, min_samples_split=4; total time=   0.3s\n"
     ]
    },
    {
     "name": "stdout",
     "output_type": "stream",
     "text": [
      "[CV] END ...................C=0.5252525252525253, penalty=l2; total time=   0.2s\n",
      "[CV] END ..................C=0.23232323232323235, penalty=l2; total time=   0.2s\n",
      "[CV] END ..................C=0.23232323232323235, penalty=l1; total time=   0.0s\n",
      "[CV] END ..................C=0.23232323232323235, penalty=l1; total time=   0.0s\n",
      "[CV] END ..................C=0.23232323232323235, penalty=l1; total time=   0.0s\n",
      "[CV] END ...................C=0.6666666666666667, penalty=l1; total time=   0.0s\n",
      "[CV] END ...................C=0.6666666666666667, penalty=l1; total time=   0.0s\n",
      "[CV] END ..................C=0.31313131313131315, penalty=l1; total time=   0.0s\n",
      "[CV] END ...................C=0.9090909090909092, penalty=l2; total time=   0.2s\n",
      "[CV] END ................C=0.14141414141414144, penalty=none; total time=   0.2s\n",
      "[CV] END ..................C=0.10101010101010102, penalty=l1; total time=   0.0s\n",
      "[CV] END ....................C=0.696969696969697, penalty=l1; total time=   0.0s\n",
      "[CV] END ............C=0.5757575757575758, penalty=elaticnet; total time=   0.0s\n",
      "[CV] END ..................C=0.19191919191919193, penalty=l2; total time=   0.2s\n",
      "[CV] END ............C=0.9797979797979799, penalty=elaticnet; total time=   0.0s\n",
      "[CV] END ............C=0.6767676767676768, penalty=elaticnet; total time=   0.0s\n",
      "[CV] END ...................C=0.5656565656565657, penalty=l2; total time=   0.2s\n",
      "[CV] END ...................C=0.5656565656565657, penalty=l2; total time=   0.2s\n",
      "[CV] END .................C=0.5858585858585859, penalty=none; total time=   0.2s\n",
      "[CV] END .................C=0.5858585858585859, penalty=none; total time=   0.2s\n",
      "[CV] END ...................C=0.9595959595959597, penalty=l1; total time=   0.0s\n",
      "[CV] END ...................C=0.9595959595959597, penalty=l1; total time=   0.0s\n",
      "[CV] END ................C=0.37373737373737376, penalty=none; total time=   0.2s\n",
      "[CV] END ................C=0.37373737373737376, penalty=none; total time=   0.2s\n",
      "[CV] END ..................C=0.17171717171717174, penalty=l1; total time=   0.0s\n",
      "[CV] END ..................C=0.17171717171717174, penalty=l1; total time=   0.0s\n",
      "[CV] END ...................C=0.9393939393939394, penalty=l1; total time=   0.0s\n",
      "[CV] END ...................C=0.9393939393939394, penalty=l1; total time=   0.0s\n",
      "[CV] END ...................C=0.9393939393939394, penalty=l1; total time=   0.0s\n",
      "[CV] END ...........C=0.09090909090909091, penalty=elaticnet; total time=   0.0s\n",
      "[CV] END ...........C=0.09090909090909091, penalty=elaticnet; total time=   0.0s\n",
      "[CV] END ...........C=0.09090909090909091, penalty=elaticnet; total time=   0.0s\n",
      "[CV] END ................C=0.43434343434343436, penalty=none; total time=   0.2s\n",
      "[CV] END ................C=0.43434343434343436, penalty=none; total time=   0.1s\n",
      "[CV] END ..................C=0.07070707070707072, penalty=l1; total time=   0.0s\n",
      "[CV] END ..................C=0.07070707070707072, penalty=l1; total time=   0.0s\n",
      "[CV] END ..................C=0.18181818181818182, penalty=l2; total time=   0.3s\n",
      "[CV] END ..................C=0.18181818181818182, penalty=l2; total time=   0.1s\n",
      "[CV] END .................C=0.8080808080808082, penalty=none; total time=   0.1s\n",
      "[CV] END .................C=0.8080808080808082, penalty=none; total time=   0.2s\n",
      "[CV] END ...................C=0.5050505050505051, penalty=l1; total time=   0.0s\n",
      "[CV] END ...................C=0.6262626262626263, penalty=l1; total time=   0.0s\n",
      "[CV] END ...................C=0.6262626262626263, penalty=l1; total time=   0.0s\n",
      "[CV] END ...................C=0.6262626262626263, penalty=l1; total time=   0.0s\n",
      "[CV] END ...........C=0.15151515151515152, penalty=elaticnet; total time=   0.0s\n",
      "[CV] END ...........C=0.15151515151515152, penalty=elaticnet; total time=   0.0s\n",
      "[CV] END .................C=0.6262626262626263, penalty=none; total time=   0.3s\n",
      "[CV] END .................C=0.6262626262626263, penalty=none; total time=   0.2s\n",
      "[CV] END .................C=0.5555555555555556, penalty=none; total time=   0.2s\n",
      "[CV] END .................C=0.5555555555555556, penalty=none; total time=   0.1s\n",
      "[CV] END .................C=0.4545454545454546, penalty=none; total time=   0.1s\n",
      "[CV] END .................C=0.4545454545454546, penalty=none; total time=   0.1s\n",
      "[CV] END .................C=0.7070707070707072, penalty=none; total time=   0.1s\n",
      "[CV] END ...................C=0.5252525252525253, penalty=l1; total time=   0.0s\n",
      "[CV] END ..................C=0.23232323232323235, penalty=l2; total time=   0.0s\n",
      "[CV] END .................C=0.020202020202020204, penalty=l2; total time=   0.0s\n",
      "[CV] END .................C=0.020202020202020204, penalty=l2; total time=   0.0s\n",
      "[CV] END ..................C=0.10101010101010102, penalty=l1; total time=   0.0s\n",
      "[CV] END ..................C=0.10101010101010102, penalty=l1; total time=   0.0s\n",
      "[CV] END ..........C=0.030303030303030304, penalty=elaticnet; total time=   0.0s\n",
      "[CV] END ..........C=0.030303030303030304, penalty=elaticnet; total time=   0.0s\n",
      "[CV] END ............C=0.9797979797979799, penalty=elaticnet; total time=   0.0s\n",
      "[CV] END ............C=0.9797979797979799, penalty=elaticnet; total time=   0.0s\n",
      "[CV] END ...................C=0.2828282828282829, penalty=l1; total time=   0.0s\n",
      "[CV] END ...................C=0.5656565656565657, penalty=l2; total time=   0.0s\n",
      "[CV] END ...................C=0.5656565656565657, penalty=l2; total time=   0.0s\n",
      "[CV] END ...................C=0.5656565656565657, penalty=l2; total time=   0.0s\n",
      "[CV] END ...................C=0.8585858585858587, penalty=l1; total time=   0.0s\n",
      "[CV] END ...................C=0.8585858585858587, penalty=l1; total time=   0.0s\n",
      "[CV] END ....................C=0.393939393939394, penalty=l1; total time=   0.0s\n",
      "[CV] END ....................C=0.393939393939394, penalty=l1; total time=   0.0s\n",
      "[CV] END ....................C=0.393939393939394, penalty=l1; total time=   0.0s\n",
      "[CV] END ...................C=0.3535353535353536, penalty=l2; total time=   0.0s\n",
      "[CV] END ...................C=0.3535353535353536, penalty=l2; total time=   0.0s\n",
      "[CV] END ...................C=0.3535353535353536, penalty=l2; total time=   0.0s\n",
      "[CV] END ...................C=0.7373737373737375, penalty=l1; total time=   0.0s\n",
      "[CV] END ...................C=0.7373737373737375, penalty=l1; total time=   0.0s\n",
      "[CV] END ............C=0.6363636363636365, penalty=elaticnet; total time=   0.0s\n",
      "[CV] END ............C=0.6363636363636365, penalty=elaticnet; total time=   0.0s\n",
      "[CV] END ............C=0.6363636363636365, penalty=elaticnet; total time=   0.0s\n",
      "[CV] END ..................C=0.19191919191919193, penalty=l1; total time=   0.0s\n",
      "[CV] END ..................C=0.19191919191919193, penalty=l1; total time=   0.0s\n",
      "[CV] END ..................C=0.19191919191919193, penalty=l1; total time=   0.0s\n",
      "[CV] END ..................C=0.25252525252525254, penalty=l2; total time=   0.0s\n",
      "[CV] END ..................C=0.25252525252525254, penalty=l2; total time=   0.0s\n",
      "[CV] END ..................C=0.25252525252525254, penalty=l2; total time=   0.0s\n",
      "[CV] END ...........C=0.07070707070707072, penalty=elaticnet; total time=   0.0s\n",
      "[CV] END ...........C=0.07070707070707072, penalty=elaticnet; total time=   0.0s\n",
      "[CV] END ...........C=0.07070707070707072, penalty=elaticnet; total time=   0.0s\n",
      "[CV] END ..................C=0.888888888888889, penalty=none; total time=   0.0s\n",
      "[CV] END ..................C=0.888888888888889, penalty=none; total time=   0.0s\n",
      "[CV] END ...........C=0.15151515151515152, penalty=elaticnet; total time=   0.0s\n",
      "[CV] END ...................C=0.7575757575757577, penalty=l2; total time=   0.0s\n",
      "[CV] END ..................C=0.22222222222222224, penalty=l1; total time=   0.0s\n",
      "[CV] END ...................C=0.5858585858585859, penalty=l2; total time=   0.0s\n",
      "[CV] END .................C=0.4545454545454546, penalty=none; total time=   0.0s\n",
      "[CV] END .................C=0.9595959595959597, penalty=none; total time=   0.0s\n",
      "[CV] END ...........C=0.18181818181818182, penalty=elaticnet; total time=   0.0s\n",
      "[CV] END ccp_alpha=0.1764705882352941, criterion=gini, max_depth=8, min_samples_leaf=4, min_samples_split=2; total time=   0.4s\n",
      "[CV] END ccp_alpha=0.3529411764705882, criterion=log_loss, max_depth=8, min_samples_leaf=3, min_samples_split=3; total time=   0.3s\n",
      "[CV] END ccp_alpha=0.6470588235294118, criterion=gini, max_depth=5, min_samples_leaf=3, min_samples_split=2; total time=   0.2s\n",
      "[CV] END ccp_alpha=0.7647058823529411, criterion=log_loss, max_depth=5, min_samples_leaf=2, min_samples_split=1; total time=   0.0s\n",
      "[CV] END ccp_alpha=0.9411764705882353, criterion=log_loss, max_depth=4, min_samples_leaf=1, min_samples_split=2; total time=   0.3s\n",
      "[CV] END ccp_alpha=0.7647058823529411, criterion=gini, max_depth=6, min_samples_leaf=4, min_samples_split=2; total time=   0.3s\n",
      "[CV] END ccp_alpha=0.8823529411764706, criterion=log_loss, max_depth=3, min_samples_leaf=1, min_samples_split=3; total time=   0.2s\n",
      "[CV] END ccp_alpha=0.0, criterion=log_loss, max_depth=3, min_samples_leaf=4, min_samples_split=3; total time=   0.2s\n",
      "[CV] END ccp_alpha=0.058823529411764705, criterion=log_loss, max_depth=5, min_samples_leaf=1, min_samples_split=3; total time=   0.4s\n",
      "[CV] END ccp_alpha=0.47058823529411764, criterion=log_loss, max_depth=3, min_samples_leaf=4, min_samples_split=3; total time=   0.4s\n",
      "[CV] END ccp_alpha=0.1764705882352941, criterion=gini, max_depth=6, min_samples_leaf=2, min_samples_split=4; total time=   0.4s\n",
      "[CV] END ccp_alpha=0.8823529411764706, criterion=entropy, max_depth=5, min_samples_leaf=4, min_samples_split=3; total time=   0.4s\n",
      "[CV] END ccp_alpha=0.7058823529411764, criterion=entropy, max_depth=3, min_samples_leaf=4, min_samples_split=4; total time=   0.2s\n",
      "[CV] END ccp_alpha=0.7058823529411764, criterion=entropy, max_depth=3, min_samples_leaf=4, min_samples_split=4; total time=   0.2s\n",
      "[CV] END ccp_alpha=0.11764705882352941, criterion=log_loss, max_depth=3, min_samples_leaf=3, min_samples_split=2; total time=   0.2s\n",
      "[CV] END ccp_alpha=0.11764705882352941, criterion=log_loss, max_depth=3, min_samples_leaf=3, min_samples_split=2; total time=   0.2s\n",
      "[CV] END ccp_alpha=0.7647058823529411, criterion=entropy, max_depth=4, min_samples_leaf=2, min_samples_split=3; total time=   0.2s\n",
      "[CV] END ccp_alpha=0.7647058823529411, criterion=entropy, max_depth=4, min_samples_leaf=2, min_samples_split=3; total time=   0.3s\n",
      "[CV] END ccp_alpha=0.7058823529411764, criterion=gini, max_depth=1, min_samples_leaf=4, min_samples_split=4; total time=   0.1s\n",
      "[CV] END ccp_alpha=0.7058823529411764, criterion=gini, max_depth=1, min_samples_leaf=4, min_samples_split=4; total time=   0.1s\n",
      "[CV] END ccp_alpha=0.11764705882352941, criterion=gini, max_depth=6, min_samples_leaf=4, min_samples_split=2; total time=   0.3s\n",
      "[CV] END ccp_alpha=0.8823529411764706, criterion=gini, max_depth=3, min_samples_leaf=4, min_samples_split=4; total time=   0.2s\n",
      "[CV] END ccp_alpha=0.8823529411764706, criterion=gini, max_depth=5, min_samples_leaf=1, min_samples_split=4; total time=   0.3s\n",
      "[CV] END ccp_alpha=0.8823529411764706, criterion=gini, max_depth=5, min_samples_leaf=1, min_samples_split=4; total time=   0.3s\n",
      "[CV] END ccp_alpha=0.058823529411764705, criterion=log_loss, max_depth=2, min_samples_leaf=1, min_samples_split=1; total time=   0.0s\n",
      "[CV] END ccp_alpha=0.058823529411764705, criterion=log_loss, max_depth=2, min_samples_leaf=1, min_samples_split=1; total time=   0.0s\n",
      "[CV] END ccp_alpha=0.29411764705882354, criterion=entropy, max_depth=7, min_samples_leaf=1, min_samples_split=3; total time=   0.3s\n",
      "[CV] END ccp_alpha=0.29411764705882354, criterion=entropy, max_depth=7, min_samples_leaf=1, min_samples_split=3; total time=   0.4s\n",
      "[CV] END ccp_alpha=0.11764705882352941, criterion=log_loss, max_depth=9, min_samples_leaf=4, min_samples_split=4; total time=   0.4s\n",
      "[CV] END ccp_alpha=0.11764705882352941, criterion=log_loss, max_depth=9, min_samples_leaf=4, min_samples_split=4; total time=   0.4s\n",
      "[CV] END ccp_alpha=0.8235294117647058, criterion=entropy, max_depth=6, min_samples_leaf=2, min_samples_split=2; total time=   0.3s\n",
      "[CV] END ccp_alpha=0.9411764705882353, criterion=entropy, max_depth=1, min_samples_leaf=1, min_samples_split=4; total time=   0.1s\n",
      "[CV] END ccp_alpha=0.29411764705882354, criterion=gini, max_depth=6, min_samples_leaf=2, min_samples_split=2; total time=   0.3s\n",
      "[CV] END ccp_alpha=0.29411764705882354, criterion=gini, max_depth=6, min_samples_leaf=2, min_samples_split=2; total time=   0.2s\n",
      "[CV] END ..................C=0.08080808080808081, penalty=l2; total time=   0.2s\n",
      "[CV] END ...................C=0.8282828282828284, penalty=l2; total time=   0.2s\n",
      "[CV] END ...................C=0.9090909090909092, penalty=l2; total time=   0.2s\n",
      "[CV] END ................C=0.33333333333333337, penalty=none; total time=   0.2s\n",
      "[CV] END ............C=0.5757575757575758, penalty=elaticnet; total time=   0.0s\n",
      "[CV] END ...................C=0.9696969696969697, penalty=l2; total time=   0.2s\n",
      "[CV] END ..........C=0.030303030303030304, penalty=elaticnet; total time=   0.0s\n",
      "[CV] END ...................C=0.2828282828282829, penalty=l1; total time=   0.0s\n",
      "[CV] END ...................C=0.5656565656565657, penalty=l2; total time=   0.2s\n",
      "[CV] END ..................C=0.48484848484848486, penalty=l2; total time=   0.2s\n",
      "[CV] END ..................C=0.48484848484848486, penalty=l2; total time=   0.2s\n",
      "[CV] END ...........C=0.13131313131313133, penalty=elaticnet; total time=   0.0s\n",
      "[CV] END ...........C=0.13131313131313133, penalty=elaticnet; total time=   0.0s\n",
      "[CV] END ................C=0.19191919191919193, penalty=none; total time=   0.2s\n",
      "[CV] END ................C=0.19191919191919193, penalty=none; total time=   0.2s\n",
      "[CV] END ..................C=0.05050505050505051, penalty=l1; total time=   0.0s\n",
      "[CV] END ..................C=0.05050505050505051, penalty=l1; total time=   0.0s\n",
      "[CV] END ..................C=0.05050505050505051, penalty=l1; total time=   0.0s\n",
      "[CV] END ..................C=0.43434343434343436, penalty=l2; total time=   0.2s\n",
      "[CV] END ..................C=0.07070707070707072, penalty=l1; total time=   0.0s\n",
      "[CV] END ................C=0.38383838383838387, penalty=none; total time=   0.2s\n",
      "[CV] END ................C=0.38383838383838387, penalty=none; total time=   0.2s\n",
      "[CV] END ................C=0.38383838383838387, penalty=none; total time=   0.3s\n",
      "[CV] END ..................C=0.11111111111111112, penalty=l2; total time=   0.2s\n",
      "[CV] END ..................C=0.11111111111111112, penalty=l2; total time=   0.2s\n",
      "[CV] END .................C=0.9797979797979799, penalty=none; total time=   0.2s\n",
      "[CV] END .................C=0.9797979797979799, penalty=none; total time=   0.2s\n",
      "[CV] END ..................C=0.29292929292929293, penalty=l1; total time=   0.0s\n",
      "[CV] END ..................C=0.29292929292929293, penalty=l1; total time=   0.0s\n",
      "[CV] END ..................C=0.29292929292929293, penalty=l1; total time=   0.0s\n",
      "[CV] END .................C=0.5555555555555556, penalty=none; total time=   0.2s\n",
      "[CV] END ...................C=0.9393939393939394, penalty=l2; total time=   0.2s\n",
      "[CV] END ...................C=0.9393939393939394, penalty=l2; total time=   0.1s\n",
      "[CV] END ...................C=0.9393939393939394, penalty=l2; total time=   0.1s\n",
      "[CV] END .................C=0.9595959595959597, penalty=none; total time=   0.1s\n",
      "[CV] END ...................C=0.5252525252525253, penalty=l2; total time=   0.1s\n",
      "[CV] END ..................C=0.08080808080808081, penalty=l2; total time=   0.0s\n",
      "[CV] END ..................C=0.23232323232323235, penalty=l1; total time=   0.0s\n",
      "[CV] END ..................C=0.23232323232323235, penalty=l1; total time=   0.0s\n",
      "[CV] END .................C=0.020202020202020204, penalty=l2; total time=   0.0s\n",
      "[CV] END ...................C=0.9090909090909092, penalty=l2; total time=   0.0s\n",
      "[CV] END ..................C=0.19191919191919193, penalty=l2; total time=   0.0s\n",
      "[CV] END ..................C=0.19191919191919193, penalty=l2; total time=   0.0s\n",
      "[CV] END ..................C=0.19191919191919193, penalty=l2; total time=   0.0s\n",
      "[CV] END ..........C=0.030303030303030304, penalty=elaticnet; total time=   0.0s\n",
      "[CV] END ...................C=0.2828282828282829, penalty=l2; total time=   0.0s\n",
      "[CV] END ...................C=0.2828282828282829, penalty=l2; total time=   0.0s\n",
      "[CV] END ...................C=0.2828282828282829, penalty=l2; total time=   0.0s\n",
      "[CV] END ...................C=0.8585858585858587, penalty=l1; total time=   0.0s\n",
      "[CV] END ..................C=0.17171717171717174, penalty=l1; total time=   0.0s\n",
      "[CV] END ..................C=0.17171717171717174, penalty=l1; total time=   0.0s\n",
      "[CV] END ...................C=0.9393939393939394, penalty=l1; total time=   0.0s\n",
      "[CV] END ...................C=0.9393939393939394, penalty=l1; total time=   0.0s\n",
      "[CV] END ...................C=0.9393939393939394, penalty=l1; total time=   0.0s\n",
      "[CV] END ...........C=0.09090909090909091, penalty=elaticnet; total time=   0.0s\n",
      "[CV] END ...........C=0.09090909090909091, penalty=elaticnet; total time=   0.0s\n",
      "[CV] END ...........C=0.09090909090909091, penalty=elaticnet; total time=   0.0s\n",
      "[CV] END ..................C=0.07070707070707072, penalty=l1; total time=   0.0s\n",
      "[CV] END ................C=0.38383838383838387, penalty=none; total time=   0.0s\n",
      "[CV] END ................C=0.38383838383838387, penalty=none; total time=   0.0s\n",
      "[CV] END ................C=0.38383838383838387, penalty=none; total time=   0.0s\n",
      "[CV] END ................C=0.31313131313131315, penalty=none; total time=   0.0s\n",
      "[CV] END ................C=0.31313131313131315, penalty=none; total time=   0.0s\n",
      "[CV] END ................C=0.31313131313131315, penalty=none; total time=   0.0s\n",
      "[CV] END ...................C=0.7373737373737375, penalty=l1; total time=   0.0s\n",
      "[CV] END .................C=0.6262626262626263, penalty=none; total time=   0.0s\n",
      "[CV] END ...................C=0.7575757575757577, penalty=l2; total time=   0.0s\n",
      "[CV] END .................C=0.9595959595959597, penalty=none; total time=   0.0s\n",
      "[CV] END ccp_alpha=0.3529411764705882, criterion=entropy, max_depth=1, min_samples_leaf=4, min_samples_split=1; total time=   0.0s\n",
      "[CV] END ccp_alpha=0.6470588235294118, criterion=entropy, max_depth=9, min_samples_leaf=1, min_samples_split=4; total time=   0.4s\n",
      "[CV] END ccp_alpha=0.0, criterion=log_loss, max_depth=2, min_samples_leaf=4, min_samples_split=4; total time=   0.2s\n",
      "[CV] END ccp_alpha=0.4117647058823529, criterion=gini, max_depth=6, min_samples_leaf=3, min_samples_split=3; total time=   0.3s\n",
      "[CV] END ccp_alpha=0.4117647058823529, criterion=log_loss, max_depth=4, min_samples_leaf=1, min_samples_split=3; total time=   0.3s\n",
      "[CV] END ccp_alpha=0.8823529411764706, criterion=log_loss, max_depth=3, min_samples_leaf=1, min_samples_split=3; total time=   0.2s\n",
      "[CV] END ccp_alpha=0.9411764705882353, criterion=log_loss, max_depth=9, min_samples_leaf=3, min_samples_split=4; total time=   0.4s\n",
      "[CV] END ccp_alpha=0.0, criterion=gini, max_depth=2, min_samples_leaf=2, min_samples_split=4; total time=   0.1s\n",
      "[CV] END ccp_alpha=0.9411764705882353, criterion=gini, max_depth=2, min_samples_leaf=1, min_samples_split=1; total time=   0.0s\n",
      "[CV] END ccp_alpha=0.5294117647058824, criterion=entropy, max_depth=7, min_samples_leaf=1, min_samples_split=1; total time=   0.0s\n",
      "[CV] END ccp_alpha=0.5294117647058824, criterion=entropy, max_depth=7, min_samples_leaf=1, min_samples_split=1; total time=   0.0s\n",
      "[CV] END ccp_alpha=0.5294117647058824, criterion=entropy, max_depth=7, min_samples_leaf=1, min_samples_split=1; total time=   0.0s\n",
      "[CV] END ccp_alpha=0.8235294117647058, criterion=gini, max_depth=8, min_samples_leaf=1, min_samples_split=3; total time=   0.5s\n",
      "[CV] END ccp_alpha=0.11764705882352941, criterion=log_loss, max_depth=2, min_samples_leaf=4, min_samples_split=1; total time=   0.0s\n",
      "[CV] END ccp_alpha=0.1764705882352941, criterion=gini, max_depth=6, min_samples_leaf=2, min_samples_split=4; total time=   0.4s\n",
      "[CV] END ccp_alpha=0.1764705882352941, criterion=gini, max_depth=6, min_samples_leaf=2, min_samples_split=4; total time=   0.4s\n",
      "[CV] END ccp_alpha=0.6470588235294118, criterion=log_loss, max_depth=8, min_samples_leaf=4, min_samples_split=1; total time=   0.0s\n",
      "[CV] END ccp_alpha=0.6470588235294118, criterion=log_loss, max_depth=8, min_samples_leaf=4, min_samples_split=1; total time=   0.0s\n",
      "[CV] END ccp_alpha=0.6470588235294118, criterion=log_loss, max_depth=8, min_samples_leaf=4, min_samples_split=1; total time=   0.0s\n",
      "[CV] END ccp_alpha=0.23529411764705882, criterion=entropy, max_depth=4, min_samples_leaf=1, min_samples_split=3; total time=   0.3s\n",
      "[CV] END ccp_alpha=0.5882352941176471, criterion=gini, max_depth=9, min_samples_leaf=2, min_samples_split=2; total time=   0.4s\n",
      "[CV] END ccp_alpha=0.5882352941176471, criterion=gini, max_depth=9, min_samples_leaf=2, min_samples_split=2; total time=   0.4s\n",
      "[CV] END ccp_alpha=0.4117647058823529, criterion=log_loss, max_depth=5, min_samples_leaf=1, min_samples_split=3; total time=   0.3s\n",
      "[CV] END ccp_alpha=0.7058823529411764, criterion=gini, max_depth=1, min_samples_leaf=4, min_samples_split=4; total time=   0.1s\n",
      "[CV] END ccp_alpha=0.7647058823529411, criterion=entropy, max_depth=3, min_samples_leaf=4, min_samples_split=2; total time=   0.2s\n",
      "[CV] END ccp_alpha=0.7647058823529411, criterion=entropy, max_depth=3, min_samples_leaf=4, min_samples_split=2; total time=   0.2s\n",
      "[CV] END ccp_alpha=0.8823529411764706, criterion=log_loss, max_depth=2, min_samples_leaf=1, min_samples_split=4; total time=   0.1s\n",
      "[CV] END ccp_alpha=0.8823529411764706, criterion=log_loss, max_depth=2, min_samples_leaf=1, min_samples_split=4; total time=   0.2s\n",
      "[CV] END ccp_alpha=0.29411764705882354, criterion=gini, max_depth=6, min_samples_leaf=3, min_samples_split=2; total time=   0.3s\n",
      "[CV] END ccp_alpha=0.6470588235294118, criterion=gini, max_depth=1, min_samples_leaf=3, min_samples_split=4; total time=   0.1s\n",
      "[CV] END ccp_alpha=0.0, criterion=log_loss, max_depth=2, min_samples_leaf=4, min_samples_split=3; total time=   0.1s\n",
      "[CV] END ccp_alpha=0.058823529411764705, criterion=log_loss, max_depth=2, min_samples_leaf=1, min_samples_split=1; total time=   0.0s\n",
      "[CV] END ccp_alpha=0.29411764705882354, criterion=entropy, max_depth=7, min_samples_leaf=1, min_samples_split=3; total time=   0.4s\n",
      "[CV] END ccp_alpha=0.3529411764705882, criterion=gini, max_depth=5, min_samples_leaf=1, min_samples_split=1; total time=   0.0s\n",
      "[CV] END ccp_alpha=0.7647058823529411, criterion=log_loss, max_depth=9, min_samples_leaf=1, min_samples_split=2; total time=   0.4s\n",
      "[CV] END ccp_alpha=0.3529411764705882, criterion=log_loss, max_depth=5, min_samples_leaf=3, min_samples_split=1; total time=   0.0s\n",
      "[CV] END ccp_alpha=0.7647058823529411, criterion=entropy, max_depth=4, min_samples_leaf=3, min_samples_split=2; total time=   0.3s\n",
      "[CV] END ccp_alpha=0.7647058823529411, criterion=entropy, max_depth=4, min_samples_leaf=3, min_samples_split=2; total time=   0.3s\n",
      "[CV] END ccp_alpha=0.1764705882352941, criterion=entropy, max_depth=8, min_samples_leaf=3, min_samples_split=3; total time=   0.4s\n",
      "[CV] END ccp_alpha=0.1764705882352941, criterion=entropy, max_depth=8, min_samples_leaf=3, min_samples_split=3; total time=   0.4s\n",
      "[CV] END ccp_alpha=1.0, criterion=log_loss, max_depth=7, min_samples_leaf=2, min_samples_split=2; total time=   0.3s\n",
      "[CV] END ...................C=0.5252525252525253, penalty=l2; total time=   0.1s\n",
      "[CV] END ..................C=0.08080808080808081, penalty=l2; total time=   0.2s\n",
      "[CV] END ..................C=0.23232323232323235, penalty=l2; total time=   0.2s\n",
      "[CV] END ...................C=0.6666666666666667, penalty=l1; total time=   0.0s\n",
      "[CV] END ..................C=0.31313131313131315, penalty=l1; total time=   0.0s\n",
      "[CV] END ..................C=0.31313131313131315, penalty=l1; total time=   0.0s\n",
      "[CV] END .................C=0.020202020202020204, penalty=l2; total time=   0.2s\n",
      "[CV] END ................C=0.18181818181818182, penalty=none; total time=   0.2s\n",
      "[CV] END ..................C=0.10101010101010102, penalty=l1; total time=   0.0s\n",
      "[CV] END ..................C=0.19191919191919193, penalty=l2; total time=   0.2s\n",
      "[CV] END ............C=0.6767676767676768, penalty=elaticnet; total time=   0.0s\n",
      "[CV] END ...................C=0.2828282828282829, penalty=l1; total time=   0.0s\n",
      "[CV] END ...................C=0.2828282828282829, penalty=l1; total time=   0.0s\n",
      "[CV] END ...................C=0.6565656565656566, penalty=l1; total time=   0.0s\n",
      "[CV] END ................C=0.26262626262626265, penalty=none; total time=   0.2s\n",
      "[CV] END ...................C=0.6565656565656566, penalty=l2; total time=   0.2s\n",
      "[CV] END ...................C=0.6565656565656566, penalty=l2; total time=   0.2s\n",
      "[CV] END ...................C=0.9595959595959597, penalty=l2; total time=   0.2s\n",
      "[CV] END ...................C=0.9595959595959597, penalty=l2; total time=   0.2s\n",
      "[CV] END ...................C=0.9595959595959597, penalty=l2; total time=   0.3s\n",
      "[CV] END ...........C=0.13131313131313133, penalty=elaticnet; total time=   0.0s\n",
      "[CV] END ................C=0.31313131313131315, penalty=none; total time=   0.2s\n",
      "[CV] END ................C=0.31313131313131315, penalty=none; total time=   0.2s\n",
      "[CV] END ................C=0.31313131313131315, penalty=none; total time=   0.3s\n",
      "[CV] END ...................C=0.7373737373737375, penalty=l1; total time=   0.0s\n",
      "[CV] END .................C=0.9797979797979799, penalty=none; total time=   0.2s\n",
      "[CV] END ...................C=0.6161616161616162, penalty=l1; total time=   0.0s\n",
      "[CV] END ...................C=0.6161616161616162, penalty=l1; total time=   0.0s\n",
      "[CV] END ...................C=0.6161616161616162, penalty=l1; total time=   0.0s\n",
      "[CV] END ...................C=0.9292929292929294, penalty=l2; total time=   0.2s\n",
      "[CV] END ...................C=0.9292929292929294, penalty=l2; total time=   0.2s\n",
      "[CV] END .................C=0.4444444444444445, penalty=none; total time=   0.2s\n",
      "[CV] END .................C=0.4444444444444445, penalty=none; total time=   0.2s\n",
      "[CV] END ...........C=0.18181818181818182, penalty=elaticnet; total time=   0.0s\n",
      "[CV] END ...........C=0.18181818181818182, penalty=elaticnet; total time=   0.0s\n",
      "[CV] END ...........C=0.18181818181818182, penalty=elaticnet; total time=   0.0s\n",
      "[CV] END ...................C=0.5252525252525253, penalty=l2; total time=   0.0s\n",
      "[CV] END ..................C=0.08080808080808081, penalty=l2; total time=   0.0s\n",
      "[CV] END ................C=0.21212121212121213, penalty=none; total time=   0.0s\n",
      "[CV] END ................C=0.21212121212121213, penalty=none; total time=   0.0s\n",
      "[CV] END ................C=0.33333333333333337, penalty=none; total time=   0.0s\n",
      "[CV] END ................C=0.33333333333333337, penalty=none; total time=   0.0s\n",
      "[CV] END ................................C=0.0, penalty=none; total time=   0.0s\n",
      "[CV] END ................................C=0.0, penalty=none; total time=   0.0s\n",
      "[CV] END ................................C=0.0, penalty=none; total time=   0.0s\n",
      "[CV] END ................................C=1.0, penalty=none; total time=   0.0s\n",
      "[CV] END ................C=0.19191919191919193, penalty=none; total time=   0.0s\n",
      "[CV] END ..................C=0.06060606060606061, penalty=l2; total time=   0.0s\n",
      "[CV] END ..................C=0.06060606060606061, penalty=l2; total time=   0.0s\n",
      "[CV] END ..................C=0.06060606060606061, penalty=l2; total time=   0.0s\n",
      "[CV] END ..................C=0.20202020202020204, penalty=l1; total time=   0.0s\n",
      "[CV] END ..................C=0.20202020202020204, penalty=l1; total time=   0.0s\n",
      "[CV] END ..................C=0.20202020202020204, penalty=l1; total time=   0.0s\n",
      "[CV] END ...................C=0.9595959595959597, penalty=l1; total time=   0.0s\n",
      "[CV] END ..................C=0.888888888888889, penalty=none; total time=   0.0s\n",
      "[CV] END .................C=0.6767676767676768, penalty=none; total time=   0.0s\n",
      "[CV] END .................C=0.6767676767676768, penalty=none; total time=   0.0s\n",
      "[CV] END .................C=0.6767676767676768, penalty=none; total time=   0.0s\n",
      "[CV] END .....................C=0.98989898989899, penalty=l1; total time=   0.0s\n",
      "[CV] END .....................C=0.98989898989899, penalty=l1; total time=   0.0s\n",
      "[CV] END .....................C=0.98989898989899, penalty=l1; total time=   0.0s\n",
      "[CV] END ..................C=0.18181818181818182, penalty=l2; total time=   0.0s\n",
      "[CV] END ...................C=0.7575757575757577, penalty=l2; total time=   0.0s\n",
      "[CV] END ................C=0.27272727272727276, penalty=none; total time=   0.0s\n",
      "[CV] END ...................C=0.5858585858585859, penalty=l2; total time=   0.0s\n",
      "[CV] END .................C=0.4545454545454546, penalty=none; total time=   0.0s\n",
      "[CV] END .................C=0.9595959595959597, penalty=none; total time=   0.0s\n",
      "[CV] END ccp_alpha=0.47058823529411764, criterion=gini, max_depth=2, min_samples_leaf=1, min_samples_split=4; total time=   0.1s\n",
      "[CV] END ccp_alpha=0.3529411764705882, criterion=log_loss, max_depth=8, min_samples_leaf=3, min_samples_split=3; total time=   0.5s\n",
      "[CV] END ccp_alpha=0.4117647058823529, criterion=gini, max_depth=6, min_samples_leaf=3, min_samples_split=3; total time=   0.3s\n",
      "[CV] END ccp_alpha=0.0, criterion=log_loss, max_depth=8, min_samples_leaf=3, min_samples_split=1; total time=   0.0s\n",
      "[CV] END ccp_alpha=0.0, criterion=log_loss, max_depth=8, min_samples_leaf=3, min_samples_split=1; total time=   0.0s\n",
      "[CV] END ccp_alpha=0.0, criterion=log_loss, max_depth=8, min_samples_leaf=3, min_samples_split=1; total time=   0.0s\n",
      "[CV] END ccp_alpha=0.7647058823529411, criterion=gini, max_depth=6, min_samples_leaf=4, min_samples_split=2; total time=   0.3s\n",
      "[CV] END ccp_alpha=0.9411764705882353, criterion=log_loss, max_depth=9, min_samples_leaf=3, min_samples_split=4; total time=   0.4s\n",
      "[CV] END ccp_alpha=0.058823529411764705, criterion=log_loss, max_depth=5, min_samples_leaf=1, min_samples_split=3; total time=   0.3s\n",
      "[CV] END ccp_alpha=0.47058823529411764, criterion=log_loss, max_depth=3, min_samples_leaf=4, min_samples_split=3; total time=   0.3s\n",
      "[CV] END ccp_alpha=0.47058823529411764, criterion=log_loss, max_depth=3, min_samples_leaf=4, min_samples_split=3; total time=   0.3s\n",
      "[CV] END ccp_alpha=0.7647058823529411, criterion=entropy, max_depth=2, min_samples_leaf=2, min_samples_split=3; total time=   0.2s\n",
      "[CV] END ccp_alpha=0.7647058823529411, criterion=entropy, max_depth=2, min_samples_leaf=2, min_samples_split=3; total time=   0.1s\n",
      "[CV] END ccp_alpha=0.5294117647058824, criterion=log_loss, max_depth=8, min_samples_leaf=4, min_samples_split=2; total time=   0.5s\n",
      "[CV] END ccp_alpha=0.5294117647058824, criterion=log_loss, max_depth=8, min_samples_leaf=4, min_samples_split=2; total time=   0.4s\n",
      "[CV] END ccp_alpha=0.5882352941176471, criterion=log_loss, max_depth=1, min_samples_leaf=3, min_samples_split=3; total time=   0.1s\n",
      "[CV] END ccp_alpha=0.5882352941176471, criterion=log_loss, max_depth=1, min_samples_leaf=3, min_samples_split=3; total time=   0.1s\n",
      "[CV] END ccp_alpha=0.5882352941176471, criterion=log_loss, max_depth=9, min_samples_leaf=2, min_samples_split=4; total time=   0.4s\n",
      "[CV] END ccp_alpha=0.5882352941176471, criterion=log_loss, max_depth=9, min_samples_leaf=2, min_samples_split=4; total time=   0.4s\n",
      "[CV] END ccp_alpha=0.8823529411764706, criterion=gini, max_depth=3, min_samples_leaf=4, min_samples_split=4; total time=   0.2s\n",
      "[CV] END ccp_alpha=0.8823529411764706, criterion=gini, max_depth=3, min_samples_leaf=4, min_samples_split=4; total time=   0.2s\n",
      "[CV] END ccp_alpha=0.0, criterion=log_loss, max_depth=9, min_samples_leaf=4, min_samples_split=2; total time=   0.5s\n",
      "[CV] END ccp_alpha=0.8823529411764706, criterion=gini, max_depth=5, min_samples_leaf=1, min_samples_split=4; total time=   0.3s\n",
      "[CV] END ccp_alpha=0.8235294117647058, criterion=gini, max_depth=1, min_samples_leaf=2, min_samples_split=2; total time=   0.1s\n",
      "[CV] END ccp_alpha=0.8235294117647058, criterion=gini, max_depth=1, min_samples_leaf=2, min_samples_split=2; total time=   0.1s\n",
      "[CV] END ccp_alpha=0.7058823529411764, criterion=log_loss, max_depth=7, min_samples_leaf=3, min_samples_split=1; total time=   0.0s\n",
      "[CV] END ccp_alpha=0.7058823529411764, criterion=log_loss, max_depth=7, min_samples_leaf=3, min_samples_split=1; total time=   0.0s\n",
      "[CV] END ccp_alpha=0.7647058823529411, criterion=log_loss, max_depth=9, min_samples_leaf=1, min_samples_split=2; total time=   0.4s\n",
      "[CV] END ccp_alpha=0.7647058823529411, criterion=log_loss, max_depth=9, min_samples_leaf=1, min_samples_split=2; total time=   0.4s\n",
      "[CV] END ccp_alpha=0.7647058823529411, criterion=entropy, max_depth=4, min_samples_leaf=3, min_samples_split=2; total time=   0.2s\n",
      "[CV] END ccp_alpha=0.4117647058823529, criterion=log_loss, max_depth=9, min_samples_leaf=4, min_samples_split=3; total time=   0.4s\n",
      "[CV] END ccp_alpha=0.3529411764705882, criterion=gini, max_depth=4, min_samples_leaf=2, min_samples_split=1; total time=   0.0s\n",
      "[CV] END ccp_alpha=0.3529411764705882, criterion=gini, max_depth=4, min_samples_leaf=2, min_samples_split=1; total time=   0.0s\n",
      "[CV] END ccp_alpha=0.3529411764705882, criterion=gini, max_depth=4, min_samples_leaf=2, min_samples_split=1; total time=   0.0s\n",
      "[CV] END ccp_alpha=0.058823529411764705, criterion=entropy, max_depth=5, min_samples_leaf=2, min_samples_split=4; total time=   0.3s\n",
      "[CV] END ccp_alpha=0.9411764705882353, criterion=log_loss, max_depth=6, min_samples_leaf=2, min_samples_split=1; total time=   0.0s\n",
      "[CV] END ccp_alpha=0.8823529411764706, criterion=entropy, max_depth=2, min_samples_leaf=1, min_samples_split=4; total time=   0.1s\n",
      "[CV] END ccp_alpha=1.0, criterion=log_loss, max_depth=7, min_samples_leaf=2, min_samples_split=2; total time=   0.3s\n"
     ]
    },
    {
     "name": "stdout",
     "output_type": "stream",
     "text": [
      "[CV] END .................C=0.7070707070707072, penalty=none; total time=   0.2s\n",
      "[CV] END ...................C=0.8282828282828284, penalty=l2; total time=   0.2s\n",
      "[CV] END ...................C=0.9090909090909092, penalty=l2; total time=   0.2s\n",
      "[CV] END ................C=0.18181818181818182, penalty=none; total time=   0.2s\n",
      "[CV] END .................C=0.9494949494949496, penalty=none; total time=   0.2s\n",
      "[CV] END ..........C=0.030303030303030304, penalty=elaticnet; total time=   0.0s\n",
      "[CV] END ............C=0.9797979797979799, penalty=elaticnet; total time=   0.0s\n",
      "[CV] END ................................C=0.0, penalty=none; total time=   0.2s\n",
      "[CV] END ................................C=1.0, penalty=none; total time=   0.2s\n",
      "[CV] END ...................C=0.2828282828282829, penalty=l2; total time=   0.2s\n",
      "[CV] END ...................C=0.2828282828282829, penalty=l2; total time=   0.2s\n",
      "[CV] END ...................C=0.2828282828282829, penalty=l2; total time=   0.2s\n",
      "[CV] END ...................C=0.8585858585858587, penalty=l1; total time=   0.0s\n",
      "[CV] END ..................C=0.43434343434343436, penalty=l2; total time=   0.2s\n",
      "[CV] END ..................C=0.43434343434343436, penalty=l2; total time=   0.2s\n",
      "[CV] END ..................C=0.11111111111111112, penalty=l1; total time=   0.0s\n",
      "[CV] END ..................C=0.11111111111111112, penalty=l1; total time=   0.0s\n",
      "[CV] END ............C=0.6363636363636365, penalty=elaticnet; total time=   0.0s\n",
      "[CV] END ..................C=0.19191919191919193, penalty=l1; total time=   0.0s\n",
      "[CV] END ..................C=0.19191919191919193, penalty=l1; total time=   0.0s\n",
      "[CV] END ..................C=0.19191919191919193, penalty=l1; total time=   0.0s\n",
      "[CV] END ...........C=0.07070707070707072, penalty=elaticnet; total time=   0.0s\n",
      "[CV] END ...........C=0.07070707070707072, penalty=elaticnet; total time=   0.0s\n",
      "[CV] END ..................C=0.888888888888889, penalty=none; total time=   0.2s\n",
      "[CV] END ..................C=0.888888888888889, penalty=none; total time=   0.3s\n",
      "[CV] END ............C=0.5656565656565657, penalty=elaticnet; total time=   0.0s\n",
      "[CV] END ............C=0.5656565656565657, penalty=elaticnet; total time=   0.0s\n",
      "[CV] END ............C=0.5656565656565657, penalty=elaticnet; total time=   0.0s\n",
      "[CV] END ...................C=0.9292929292929294, penalty=l2; total time=   0.2s\n",
      "[CV] END .................C=0.4444444444444445, penalty=none; total time=   0.2s\n",
      "[CV] END ...................C=0.7272727272727273, penalty=l2; total time=   0.3s\n",
      "[CV] END ...................C=0.7272727272727273, penalty=l2; total time=   0.2s\n",
      "[CV] END ...................C=0.7272727272727273, penalty=l2; total time=   0.2s\n",
      "[CV] END ..................C=0.23232323232323235, penalty=l2; total time=   0.0s\n",
      "[CV] END ................C=0.33333333333333337, penalty=none; total time=   0.0s\n",
      "[CV] END ..................C=0.10101010101010102, penalty=l1; total time=   0.0s\n",
      "[CV] END ............C=0.5757575757575758, penalty=elaticnet; total time=   0.0s\n",
      "[CV] END ...................C=0.9696969696969697, penalty=l2; total time=   0.0s\n",
      "[CV] END ...................C=0.9696969696969697, penalty=l2; total time=   0.0s\n",
      "[CV] END ...................C=0.9696969696969697, penalty=l2; total time=   0.0s\n",
      "[CV] END ..................C=0.14141414141414144, penalty=l2; total time=   0.0s\n",
      "[CV] END ..................C=0.14141414141414144, penalty=l2; total time=   0.0s\n",
      "[CV] END .................C=0.5858585858585859, penalty=none; total time=   0.0s\n",
      "[CV] END .................C=0.5858585858585859, penalty=none; total time=   0.0s\n",
      "[CV] END ..................C=0.05050505050505051, penalty=l1; total time=   0.0s\n",
      "[CV] END ..................C=0.05050505050505051, penalty=l1; total time=   0.0s\n",
      "[CV] END ..................C=0.05050505050505051, penalty=l1; total time=   0.0s\n",
      "[CV] END ..................C=0.43434343434343436, penalty=l2; total time=   0.0s\n",
      "[CV] END ..................C=0.43434343434343436, penalty=l2; total time=   0.0s\n",
      "[CV] END ..................C=0.43434343434343436, penalty=l2; total time=   0.0s\n",
      "[CV] END ..................C=0.11111111111111112, penalty=l1; total time=   0.0s\n",
      "[CV] END ..................C=0.11111111111111112, penalty=l1; total time=   0.0s\n",
      "[CV] END ...........................C=0.0, penalty=elaticnet; total time=   0.0s\n",
      "[CV] END ...........................C=0.0, penalty=elaticnet; total time=   0.0s\n",
      "[CV] END ...........................C=0.0, penalty=elaticnet; total time=   0.0s\n",
      "[CV] END ..................C=0.04040404040404041, penalty=l1; total time=   0.0s\n",
      "[CV] END ..................C=0.04040404040404041, penalty=l1; total time=   0.0s\n",
      "[CV] END ..................C=0.04040404040404041, penalty=l1; total time=   0.0s\n",
      "[CV] END ...................C=0.5050505050505051, penalty=l1; total time=   0.0s\n",
      "[CV] END ...................C=0.5050505050505051, penalty=l1; total time=   0.0s\n",
      "[CV] END ...................C=0.5050505050505051, penalty=l1; total time=   0.0s\n",
      "[CV] END ...................C=0.6262626262626263, penalty=l1; total time=   0.0s\n",
      "[CV] END ....................C=0.686868686868687, penalty=l1; total time=   0.0s\n",
      "[CV] END ....................C=0.686868686868687, penalty=l1; total time=   0.0s\n",
      "[CV] END ...........C=0.15151515151515152, penalty=elaticnet; total time=   0.0s\n",
      "[CV] END ...........C=0.15151515151515152, penalty=elaticnet; total time=   0.0s\n",
      "[CV] END .................C=0.6262626262626263, penalty=none; total time=   0.0s\n",
      "[CV] END ................C=0.27272727272727276, penalty=none; total time=   0.0s\n",
      "[CV] END ...................C=0.5858585858585859, penalty=l2; total time=   0.0s\n",
      "[CV] END .................C=0.4545454545454546, penalty=none; total time=   0.0s\n",
      "[CV] END ...................C=0.9393939393939394, penalty=l2; total time=   0.0s\n",
      "[CV] END ccp_alpha=0.3529411764705882, criterion=entropy, max_depth=1, min_samples_leaf=4, min_samples_split=1; total time=   0.0s\n",
      "[CV] END ccp_alpha=0.6470588235294118, criterion=entropy, max_depth=9, min_samples_leaf=1, min_samples_split=4; total time=   0.4s\n",
      "[CV] END ccp_alpha=0.11764705882352941, criterion=gini, max_depth=9, min_samples_leaf=1, min_samples_split=3; total time=   0.4s\n",
      "[CV] END ccp_alpha=0.9411764705882353, criterion=log_loss, max_depth=4, min_samples_leaf=1, min_samples_split=2; total time=   0.3s\n",
      "[CV] END ccp_alpha=0.5294117647058824, criterion=entropy, max_depth=7, min_samples_leaf=1, min_samples_split=2; total time=   0.4s\n",
      "[CV] END ccp_alpha=0.0, criterion=log_loss, max_depth=3, min_samples_leaf=4, min_samples_split=3; total time=   0.2s\n",
      "[CV] END ccp_alpha=0.058823529411764705, criterion=log_loss, max_depth=5, min_samples_leaf=1, min_samples_split=3; total time=   0.3s\n",
      "[CV] END ccp_alpha=0.4117647058823529, criterion=entropy, max_depth=6, min_samples_leaf=4, min_samples_split=3; total time=   0.5s\n",
      "[CV] END ccp_alpha=0.8823529411764706, criterion=entropy, max_depth=5, min_samples_leaf=4, min_samples_split=3; total time=   0.4s\n",
      "[CV] END ccp_alpha=0.8823529411764706, criterion=entropy, max_depth=5, min_samples_leaf=4, min_samples_split=3; total time=   0.3s\n",
      "[CV] END ccp_alpha=0.7058823529411764, criterion=entropy, max_depth=3, min_samples_leaf=4, min_samples_split=4; total time=   0.2s\n",
      "[CV] END ccp_alpha=0.29411764705882354, criterion=entropy, max_depth=9, min_samples_leaf=4, min_samples_split=2; total time=   0.4s\n",
      "[CV] END ccp_alpha=0.5882352941176471, criterion=log_loss, max_depth=9, min_samples_leaf=2, min_samples_split=4; total time=   0.4s\n",
      "[CV] END ccp_alpha=0.7647058823529411, criterion=entropy, max_depth=4, min_samples_leaf=2, min_samples_split=3; total time=   0.2s\n",
      "[CV] END ccp_alpha=0.11764705882352941, criterion=gini, max_depth=6, min_samples_leaf=4, min_samples_split=2; total time=   0.3s\n",
      "[CV] END ccp_alpha=0.11764705882352941, criterion=gini, max_depth=6, min_samples_leaf=4, min_samples_split=2; total time=   0.3s\n",
      "[CV] END ccp_alpha=0.29411764705882354, criterion=gini, max_depth=6, min_samples_leaf=3, min_samples_split=2; total time=   0.3s\n",
      "[CV] END ccp_alpha=0.29411764705882354, criterion=gini, max_depth=6, min_samples_leaf=3, min_samples_split=2; total time=   0.3s\n",
      "[CV] END ccp_alpha=0.3529411764705882, criterion=gini, max_depth=5, min_samples_leaf=1, min_samples_split=1; total time=   0.0s\n",
      "[CV] END ccp_alpha=0.3529411764705882, criterion=gini, max_depth=5, min_samples_leaf=1, min_samples_split=1; total time=   0.0s\n",
      "[CV] END ccp_alpha=0.29411764705882354, criterion=entropy, max_depth=6, min_samples_leaf=4, min_samples_split=4; total time=   0.3s\n",
      "[CV] END ccp_alpha=0.29411764705882354, criterion=entropy, max_depth=6, min_samples_leaf=4, min_samples_split=4; total time=   0.4s\n",
      "[CV] END ccp_alpha=0.11764705882352941, criterion=log_loss, max_depth=9, min_samples_leaf=4, min_samples_split=4; total time=   0.4s\n",
      "[CV] END ccp_alpha=0.5294117647058824, criterion=entropy, max_depth=8, min_samples_leaf=2, min_samples_split=2; total time=   0.4s\n",
      "[CV] END ccp_alpha=0.8235294117647058, criterion=entropy, max_depth=6, min_samples_leaf=2, min_samples_split=2; total time=   0.3s\n",
      "[CV] END ccp_alpha=0.8235294117647058, criterion=entropy, max_depth=6, min_samples_leaf=2, min_samples_split=2; total time=   0.3s\n",
      "[CV] END ccp_alpha=1.0, criterion=log_loss, max_depth=7, min_samples_leaf=2, min_samples_split=2; total time=   0.3s\n"
     ]
    }
   ],
   "source": [
    "cart_model2_probas = cart_model2.predict_proba(x_test_imputed)\n",
    "average_precision_score(y_test_imputed, cart_model2_probas[:,1],pos_label=1)"
   ]
  },
  {
   "cell_type": "markdown",
   "id": "ba7c3e79",
   "metadata": {},
   "source": [
    "### Interpretation"
   ]
  },
  {
   "cell_type": "markdown",
   "id": "01865349",
   "metadata": {},
   "source": [
    "Coefficient Importances"
   ]
  },
  {
   "cell_type": "code",
   "execution_count": 107,
   "id": "3e800587",
   "metadata": {},
   "outputs": [],
   "source": [
    "cart_model2_importances = dt_feature_importance(cart_model2)"
   ]
  },
  {
   "cell_type": "code",
   "execution_count": 108,
   "id": "0398de6b",
   "metadata": {},
   "outputs": [
    {
     "data": {
      "text/plain": [
       "[Text(171.6721875, 203.85, '(net profit + depreciation) / total liabilities <= 0.218\\ngini = 0.5\\nsamples = 15012\\nvalue = [7506, 7506]'),\n",
       " Text(91.546875, 176.67000000000002, 'gross profit (in 3 years) / total assets <= 0.054\\ngini = 0.465\\nsamples = 9944\\nvalue = [3661, 6283]'),\n",
       " Text(46.7325, 149.49, 'profit on sales / sales <= 0.082\\ngini = 0.413\\nsamples = 6555\\nvalue = [1908, 4647]'),\n",
       " Text(26.505, 122.31, '(current assets - inventory) / short-term liabilities <= 0.482\\ngini = 0.402\\nsamples = 6397\\nvalue = [1785, 4612]'),\n",
       " Text(8.370000000000001, 95.13, 'rotation receivables + inventory turnover in days <= 27.097\\ngini = 0.323\\nsamples = 3085\\nvalue = [626, 2459]'),\n",
       " Text(5.58, 67.94999999999999, 'gini = 0.0\\nsamples = 39\\nvalue = [39, 0]'),\n",
       " Text(11.16, 67.94999999999999, '[(cash + short-term securities + receivables - short-term liabilities) / (operating expenses - depreciation)] * 365 <= -61.066\\ngini = 0.311\\nsamples = 3046\\nvalue = [587, 2459]'),\n",
       " Text(5.58, 40.77000000000001, '(short-term liabilities * 365) / cost of products sold) <= 0.271\\ngini = 0.375\\nsamples = 2037\\nvalue = [510, 1527]'),\n",
       " Text(2.79, 13.590000000000003, 'gini = 0.0\\nsamples = 28\\nvalue = [28, 0]'),\n",
       " Text(8.370000000000001, 13.590000000000003, 'gini = 0.365\\nsamples = 2009\\nvalue = [482, 1527]'),\n",
       " Text(16.740000000000002, 40.77000000000001, '[(cash + short-term securities + receivables - short-term liabilities) / (operating expenses - depreciation)] * 365 <= 159.188\\ngini = 0.141\\nsamples = 1009\\nvalue = [77, 932]'),\n",
       " Text(13.95, 13.590000000000003, 'gini = 0.09\\nsamples = 949\\nvalue = [45, 904]'),\n",
       " Text(19.53, 13.590000000000003, 'gini = 0.498\\nsamples = 60\\nvalue = [32, 28]'),\n",
       " Text(44.64, 95.13, 'equity / fixed assets <= 0.173\\ngini = 0.455\\nsamples = 3312\\nvalue = [1159, 2153]'),\n",
       " Text(33.480000000000004, 67.94999999999999, 'equity / total assets <= -1.057\\ngini = 0.445\\nsamples = 275\\nvalue = [183, 92]'),\n",
       " Text(27.9, 40.77000000000001, 'retained earnings / total assets <= -1.174\\ngini = 0.18\\nsamples = 70\\nvalue = [7, 63]'),\n",
       " Text(25.11, 13.590000000000003, 'gini = 0.0\\nsamples = 7\\nvalue = [7, 0]'),\n",
       " Text(30.69, 13.590000000000003, 'gini = 0.0\\nsamples = 63\\nvalue = [0, 63]'),\n",
       " Text(39.06, 40.77000000000001, '(inventory * 365) / sales <= 295.485\\ngini = 0.243\\nsamples = 205\\nvalue = [176, 29]'),\n",
       " Text(36.27, 13.590000000000003, 'gini = 0.074\\nsamples = 181\\nvalue = [174, 7]'),\n",
       " Text(41.85, 13.590000000000003, 'gini = 0.153\\nsamples = 24\\nvalue = [2, 22]'),\n",
       " Text(55.8, 67.94999999999999, '(net profit + depreciation) / total liabilities <= 0.111\\ngini = 0.436\\nsamples = 3037\\nvalue = [976, 2061]'),\n",
       " Text(50.22, 40.77000000000001, 'sales / receivables <= 1.663\\ngini = 0.411\\nsamples = 2678\\nvalue = [773, 1905]'),\n",
       " Text(47.43, 13.590000000000003, 'gini = 0.0\\nsamples = 50\\nvalue = [50, 0]'),\n",
       " Text(53.01, 13.590000000000003, 'gini = 0.399\\nsamples = 2628\\nvalue = [723, 1905]'),\n",
       " Text(61.38, 40.77000000000001, 'retained earnings / total assets <= 0.001\\ngini = 0.491\\nsamples = 359\\nvalue = [203, 156]'),\n",
       " Text(58.59, 13.590000000000003, 'gini = 0.299\\nsamples = 191\\nvalue = [156, 35]'),\n",
       " Text(64.17, 13.590000000000003, 'gini = 0.403\\nsamples = 168\\nvalue = [47, 121]'),\n",
       " Text(66.96000000000001, 122.31, '(sales - cost of products sold) / sales <= -0.082\\ngini = 0.345\\nsamples = 158\\nvalue = [123, 35]'),\n",
       " Text(64.17, 95.13, 'equity / total assets <= 0.172\\ngini = 0.145\\nsamples = 38\\nvalue = [3, 35]'),\n",
       " Text(61.38, 67.94999999999999, 'gini = 0.0\\nsamples = 3\\nvalue = [3, 0]'),\n",
       " Text(66.96000000000001, 67.94999999999999, 'gini = 0.0\\nsamples = 35\\nvalue = [0, 35]'),\n",
       " Text(69.75, 95.13, 'gini = 0.0\\nsamples = 120\\nvalue = [120, 0]'),\n",
       " Text(136.36125, 149.49, '(gross profit + interest) / total assets <= 0.111\\ngini = 0.499\\nsamples = 3389\\nvalue = [1753, 1636]'),\n",
       " Text(110.9025, 122.31, '(current assets - inventory) / short-term liabilities <= 1.044\\ngini = 0.484\\nsamples = 2762\\nvalue = [1627, 1135]'),\n",
       " Text(89.28, 95.13, 'operating expenses / total liabilities <= 1.326\\ngini = 0.5\\nsamples = 1995\\nvalue = [1005, 990]'),\n",
       " Text(78.12, 67.94999999999999, 'net profit / total assets <= 0.056\\ngini = 0.382\\nsamples = 571\\nvalue = [424, 147]'),\n",
       " Text(72.54, 40.77000000000001, 'profit on sales / sales <= -1.929\\ngini = 0.118\\nsamples = 381\\nvalue = [357, 24]'),\n",
       " Text(69.75, 13.590000000000003, 'gini = 0.077\\nsamples = 25\\nvalue = [1, 24]'),\n",
       " Text(75.33, 13.590000000000003, 'gini = 0.0\\nsamples = 356\\nvalue = [356, 0]'),\n",
       " Text(83.7, 40.77000000000001, 'gross profit (in 3 years) / total assets <= 0.085\\ngini = 0.457\\nsamples = 190\\nvalue = [67, 123]'),\n",
       " Text(80.91, 13.590000000000003, 'gini = 0.127\\nsamples = 132\\nvalue = [9, 123]'),\n",
       " Text(86.49, 13.590000000000003, 'gini = 0.0\\nsamples = 58\\nvalue = [58, 0]'),\n",
       " Text(100.44, 67.94999999999999, '(net profit + depreciation) / total liabilities <= 0.038\\ngini = 0.483\\nsamples = 1424\\nvalue = [581, 843]'),\n",
       " Text(94.86, 40.77000000000001, 'equity / fixed assets <= 0.39\\ngini = 0.317\\nsamples = 537\\nvalue = [106, 431]'),\n",
       " Text(92.07000000000001, 13.590000000000003, 'gini = 0.0\\nsamples = 16\\nvalue = [16, 0]'),\n",
       " Text(97.65, 13.590000000000003, 'gini = 0.286\\nsamples = 521\\nvalue = [90, 431]'),\n",
       " Text(106.02, 40.77000000000001, 'total costs /total sales <= 0.991\\ngini = 0.497\\nsamples = 887\\nvalue = [475, 412]'),\n",
       " Text(103.23, 13.590000000000003, 'gini = 0.498\\nsamples = 775\\nvalue = [363, 412]'),\n",
       " Text(108.81, 13.590000000000003, 'gini = 0.0\\nsamples = 112\\nvalue = [112, 0]'),\n",
       " Text(132.525, 95.13, '(gross profit + depreciation) / sales <= 0.012\\ngini = 0.307\\nsamples = 767\\nvalue = [622, 145]'),\n",
       " Text(122.76, 67.94999999999999, '(current assets - inventory - receivables) / short-term liabilities <= 0.049\\ngini = 0.475\\nsamples = 325\\nvalue = [199, 126]'),\n",
       " Text(117.18, 40.77000000000001, '[(cash + short-term securities + receivables - short-term liabilities) / (operating expenses - depreciation)] * 365 <= -0.217\\ngini = 0.239\\nsamples = 72\\nvalue = [10, 62]'),\n",
       " Text(114.39, 13.590000000000003, 'gini = 0.031\\nsamples = 63\\nvalue = [1, 62]'),\n",
       " Text(119.97, 13.590000000000003, 'gini = 0.0\\nsamples = 9\\nvalue = [9, 0]'),\n",
       " Text(128.34, 40.77000000000001, '(gross profit + depreciation) / sales <= -0.093\\ngini = 0.378\\nsamples = 253\\nvalue = [189, 64]'),\n",
       " Text(125.55, 13.590000000000003, 'gini = 0.465\\nsamples = 76\\nvalue = [28, 48]'),\n",
       " Text(131.13, 13.590000000000003, 'gini = 0.164\\nsamples = 177\\nvalue = [161, 16]'),\n",
       " Text(142.29, 67.94999999999999, 'gross profit (in 3 years) / total assets <= 0.067\\ngini = 0.082\\nsamples = 442\\nvalue = [423, 19]'),\n",
       " Text(139.5, 40.77000000000001, 'gross profit / total assets <= 0.066\\ngini = 0.499\\nsamples = 40\\nvalue = [21, 19]'),\n",
       " Text(136.71, 13.590000000000003, 'gini = 0.0\\nsamples = 21\\nvalue = [21, 0]'),\n",
       " Text(142.29, 13.590000000000003, 'gini = 0.0\\nsamples = 19\\nvalue = [0, 19]'),\n",
       " Text(145.08, 40.77000000000001, 'gini = 0.0\\nsamples = 402\\nvalue = [402, 0]'),\n",
       " Text(161.82, 122.31, 'retained earnings / total assets <= 0.118\\ngini = 0.321\\nsamples = 627\\nvalue = [126, 501]'),\n",
       " Text(156.24, 95.13, '(current assets - inventory) / short-term liabilities <= 1.205\\ngini = 0.265\\nsamples = 578\\nvalue = [91, 487]'),\n",
       " Text(153.45, 67.94999999999999, '(gross profit + interest) / sales <= 0.155\\ngini = 0.224\\nsamples = 559\\nvalue = [72, 487]'),\n",
       " Text(150.66, 40.77000000000001, 'profit on sales / total assets <= 0.229\\ngini = 0.195\\nsamples = 547\\nvalue = [60, 487]'),\n",
       " Text(147.87, 13.590000000000003, 'gini = 0.172\\nsamples = 538\\nvalue = [51, 487]'),\n",
       " Text(153.45, 13.590000000000003, 'gini = 0.0\\nsamples = 9\\nvalue = [9, 0]'),\n",
       " Text(156.24, 40.77000000000001, 'gini = 0.0\\nsamples = 12\\nvalue = [12, 0]'),\n",
       " Text(159.03, 67.94999999999999, 'gini = 0.0\\nsamples = 19\\nvalue = [19, 0]'),\n",
       " Text(167.4, 95.13, '(net profit + depreciation) / total liabilities <= 0.044\\ngini = 0.408\\nsamples = 49\\nvalue = [35, 14]'),\n",
       " Text(164.61, 67.94999999999999, 'gini = 0.0\\nsamples = 14\\nvalue = [0, 14]'),\n",
       " Text(170.19, 67.94999999999999, 'gini = 0.0\\nsamples = 35\\nvalue = [35, 0]'),\n",
       " Text(251.7975, 176.67000000000002, 'sales / fixed assets <= 8.542\\ngini = 0.366\\nsamples = 5068\\nvalue = [3845, 1223]'),\n",
       " Text(208.90125, 149.49, 'profit on sales / total assets <= -0.01\\ngini = 0.271\\nsamples = 3235\\nvalue = [2712, 523]'),\n",
       " Text(184.14000000000001, 122.31, '(total liabilities - cash) / sales <= 0.195\\ngini = 0.486\\nsamples = 303\\nvalue = [126, 177]'),\n",
       " Text(181.35, 95.13, 'working capital / total assets <= 0.18\\ngini = 0.431\\nsamples = 258\\nvalue = [81, 177]'),\n",
       " Text(175.77, 67.94999999999999, 'EBITDA (profit on operating activities - depreciation) / total assets <= -0.114\\ngini = 0.169\\nsamples = 150\\nvalue = [14, 136]'),\n",
       " Text(172.98, 40.77000000000001, 'gini = 0.0\\nsamples = 7\\nvalue = [7, 0]'),\n",
       " Text(178.56, 40.77000000000001, '(current liabilities * 365) / cost of products sold <= 38.028\\ngini = 0.093\\nsamples = 143\\nvalue = [7, 136]'),\n",
       " Text(175.77, 13.590000000000003, 'gini = 0.0\\nsamples = 5\\nvalue = [5, 0]'),\n",
       " Text(181.35, 13.590000000000003, 'gini = 0.029\\nsamples = 138\\nvalue = [2, 136]'),\n",
       " Text(186.93, 67.94999999999999, '(gross profit + depreciation) / sales <= 0.136\\ngini = 0.471\\nsamples = 108\\nvalue = [67, 41]'),\n",
       " Text(184.14000000000001, 40.77000000000001, 'gini = 0.0\\nsamples = 49\\nvalue = [49, 0]'),\n",
       " Text(189.72, 40.77000000000001, '(gross profit + depreciation) / sales <= 0.143\\ngini = 0.424\\nsamples = 59\\nvalue = [18, 41]'),\n",
       " Text(186.93, 13.590000000000003, 'gini = 0.0\\nsamples = 41\\nvalue = [0, 41]'),\n",
       " Text(192.51, 13.590000000000003, 'gini = 0.0\\nsamples = 18\\nvalue = [18, 0]'),\n",
       " Text(186.93, 95.13, 'gini = 0.0\\nsamples = 45\\nvalue = [45, 0]'),\n",
       " Text(233.6625, 122.31, 'gross profit (in 3 years) / total assets <= 0.227\\ngini = 0.208\\nsamples = 2932\\nvalue = [2586, 346]'),\n",
       " Text(217.62, 95.13, 'profit on operating activities / financial expenses <= 8.941\\ngini = 0.358\\nsamples = 1187\\nvalue = [910, 277]'),\n",
       " Text(206.46, 67.94999999999999, '(current assets - inventory - receivables) / short-term liabilities <= 0.122\\ngini = 0.263\\nsamples = 926\\nvalue = [782, 144]'),\n",
       " Text(200.88, 40.77000000000001, 'sales / total assets <= 1.087\\ngini = 0.416\\nsamples = 417\\nvalue = [294, 123]'),\n",
       " Text(198.09, 13.590000000000003, 'gini = 0.498\\nsamples = 261\\nvalue = [138, 123]'),\n",
       " Text(203.67000000000002, 13.590000000000003, 'gini = 0.0\\nsamples = 156\\nvalue = [156, 0]'),\n",
       " Text(212.04, 40.77000000000001, 'current assets / total liabilities <= 8.01\\ngini = 0.079\\nsamples = 509\\nvalue = [488, 21]'),\n",
       " Text(209.25, 13.590000000000003, 'gini = 0.0\\nsamples = 447\\nvalue = [447, 0]'),\n",
       " Text(214.83, 13.590000000000003, 'gini = 0.448\\nsamples = 62\\nvalue = [41, 21]'),\n",
       " Text(228.78, 67.94999999999999, '(inventory * 365) / sales <= 38.212\\ngini = 0.5\\nsamples = 261\\nvalue = [128, 133]'),\n",
       " Text(223.2, 40.77000000000001, 'operating expenses / total liabilities <= 1.125\\ngini = 0.231\\nsamples = 90\\nvalue = [78, 12]'),\n",
       " Text(220.41, 13.590000000000003, 'gini = 0.32\\nsamples = 15\\nvalue = [3, 12]'),\n",
       " Text(225.99, 13.590000000000003, 'gini = 0.0\\nsamples = 75\\nvalue = [75, 0]'),\n",
       " Text(234.36, 40.77000000000001, '(current assets - inventories) / long-term liabilities <= 4.492\\ngini = 0.414\\nsamples = 171\\nvalue = [50, 121]'),\n",
       " Text(231.57, 13.590000000000003, 'gini = 0.0\\nsamples = 22\\nvalue = [22, 0]'),\n",
       " Text(237.15, 13.590000000000003, 'gini = 0.305\\nsamples = 149\\nvalue = [28, 121]'),\n",
       " Text(249.705, 95.13, 'retained earnings / total assets <= -0.131\\ngini = 0.076\\nsamples = 1745\\nvalue = [1676, 69]'),\n",
       " Text(242.73, 67.94999999999999, 'constant capital / fixed assets <= 2.26\\ngini = 0.467\\nsamples = 35\\nvalue = [13, 22]'),\n",
       " Text(239.94, 40.77000000000001, 'gini = 0.0\\nsamples = 13\\nvalue = [13, 0]'),\n",
       " Text(245.52, 40.77000000000001, 'gini = 0.0\\nsamples = 22\\nvalue = [0, 22]'),\n",
       " Text(256.68, 67.94999999999999, 'profit on operating activities / financial expenses <= 1071.15\\ngini = 0.053\\nsamples = 1710\\nvalue = [1663, 47]'),\n",
       " Text(251.1, 40.77000000000001, 'working capital <= 68717.5\\ngini = 0.028\\nsamples = 1635\\nvalue = [1612, 23]'),\n",
       " Text(248.31, 13.590000000000003, 'gini = 0.0\\nsamples = 1529\\nvalue = [1529, 0]'),\n",
       " Text(253.89000000000001, 13.590000000000003, 'gini = 0.34\\nsamples = 106\\nvalue = [83, 23]'),\n",
       " Text(262.26, 40.77000000000001, '(net profit + depreciation) / total liabilities <= 0.375\\ngini = 0.435\\nsamples = 75\\nvalue = [51, 24]'),\n",
       " Text(259.47, 13.590000000000003, 'gini = 0.0\\nsamples = 24\\nvalue = [0, 24]'),\n",
       " Text(265.05, 13.590000000000003, 'gini = 0.0\\nsamples = 51\\nvalue = [51, 0]'),\n",
       " Text(294.69375, 149.49, '(current assets - inventory) / short-term liabilities <= 1.34\\ngini = 0.472\\nsamples = 1833\\nvalue = [1133, 700]'),\n",
       " Text(270.63, 122.31, 'profit on operating activities / financial expenses <= 1.244\\ngini = 0.491\\nsamples = 826\\nvalue = [358, 468]'),\n",
       " Text(265.05, 95.13, '(current assets - inventories) / long-term liabilities <= 0.593\\ngini = 0.17\\nsamples = 149\\nvalue = [135, 14]'),\n",
       " Text(262.26, 67.94999999999999, 'gini = 0.0\\nsamples = 14\\nvalue = [0, 14]'),\n",
       " Text(267.84000000000003, 67.94999999999999, 'gini = 0.0\\nsamples = 135\\nvalue = [135, 0]'),\n",
       " Text(276.21, 95.13, '(current assets - inventory - receivables) / short-term liabilities <= 0.039\\ngini = 0.442\\nsamples = 677\\nvalue = [223, 454]'),\n",
       " Text(273.42, 67.94999999999999, 'gini = 0.0\\nsamples = 46\\nvalue = [46, 0]'),\n",
       " Text(279.0, 67.94999999999999, '(inventory * 365) / cost of products sold <= 52.419\\ngini = 0.404\\nsamples = 631\\nvalue = [177, 454]'),\n",
       " Text(273.42, 40.77000000000001, '[(cash + short-term securities + receivables - short-term liabilities) / (operating expenses - depreciation)] * 365 <= -27.472\\ngini = 0.343\\nsamples = 556\\nvalue = [122, 434]'),\n",
       " Text(270.63, 13.590000000000003, 'gini = 0.0\\nsamples = 27\\nvalue = [27, 0]'),\n",
       " Text(276.21, 13.590000000000003, 'gini = 0.295\\nsamples = 529\\nvalue = [95, 434]'),\n",
       " Text(284.58, 40.77000000000001, 'sales / total assets <= 1.178\\ngini = 0.391\\nsamples = 75\\nvalue = [55, 20]'),\n",
       " Text(281.79, 13.590000000000003, 'gini = 0.091\\nsamples = 21\\nvalue = [1, 20]'),\n",
       " Text(287.37, 13.590000000000003, 'gini = 0.0\\nsamples = 54\\nvalue = [54, 0]'),\n",
       " Text(318.7575, 122.31, 'working capital / total assets <= 0.84\\ngini = 0.355\\nsamples = 1007\\nvalue = [775, 232]'),\n",
       " Text(308.295, 95.13, 'working capital <= 70930.5\\ngini = 0.198\\nsamples = 779\\nvalue = [692, 87]'),\n",
       " Text(301.32, 67.94999999999999, 'sales / fixed assets <= 8.872\\ngini = 0.146\\nsamples = 744\\nvalue = [685, 59]'),\n",
       " Text(295.74, 40.77000000000001, '(equity - share capital) / total assets <= 0.293\\ngini = 0.484\\nsamples = 56\\nvalue = [23, 33]'),\n",
       " Text(292.95, 13.590000000000003, 'gini = 0.057\\nsamples = 34\\nvalue = [1, 33]'),\n",
       " Text(298.53000000000003, 13.590000000000003, 'gini = 0.0\\nsamples = 22\\nvalue = [22, 0]'),\n",
       " Text(306.9, 40.77000000000001, 'profit on sales / total assets <= 0.751\\ngini = 0.073\\nsamples = 688\\nvalue = [662, 26]'),\n",
       " Text(304.11, 13.590000000000003, 'gini = 0.0\\nsamples = 638\\nvalue = [638, 0]'),\n",
       " Text(309.69, 13.590000000000003, 'gini = 0.499\\nsamples = 50\\nvalue = [24, 26]'),\n",
       " Text(315.27, 67.94999999999999, 'sales / receivables <= 3.527\\ngini = 0.32\\nsamples = 35\\nvalue = [7, 28]'),\n",
       " Text(312.48, 40.77000000000001, 'gini = 0.0\\nsamples = 28\\nvalue = [0, 28]'),\n",
       " Text(318.06, 40.77000000000001, 'gini = 0.0\\nsamples = 7\\nvalue = [7, 0]'),\n",
       " Text(329.22, 95.13, '(net profit + depreciation) / total liabilities <= 2.731\\ngini = 0.463\\nsamples = 228\\nvalue = [83, 145]'),\n",
       " Text(326.43, 67.94999999999999, '(gross profit + extraordinary items + financial expenses) / total assets <= 0.171\\ngini = 0.29\\nsamples = 176\\nvalue = [31, 145]'),\n",
       " Text(323.64, 40.77000000000001, 'gini = 0.0\\nsamples = 22\\nvalue = [22, 0]'),\n",
       " Text(329.22, 40.77000000000001, 'total sales / total assets <= 2.889\\ngini = 0.11\\nsamples = 154\\nvalue = [9, 145]'),\n",
       " Text(326.43, 13.590000000000003, 'gini = 0.064\\nsamples = 150\\nvalue = [5, 145]'),\n",
       " Text(332.01, 13.590000000000003, 'gini = 0.0\\nsamples = 4\\nvalue = [4, 0]'),\n",
       " Text(332.01, 67.94999999999999, 'gini = 0.0\\nsamples = 52\\nvalue = [52, 0]')]"
      ]
     },
     "execution_count": 108,
     "metadata": {},
     "output_type": "execute_result"
    },
    {
     "data": {
      "image/png": "[encoded data removed]",
      "text/plain": [
       "<Figure size 432x288 with 1 Axes>"
      ]
     },
     "metadata": {
      "needs_background": "light"
     },
     "output_type": "display_data"
    }
   ],
   "source": [
    "plot_tree(cart_model2, feature_names=list(attributes.values()))"
   ]
  },
  {
   "cell_type": "code",
   "execution_count": 109,
   "id": "d21c0117",
   "metadata": {},
   "outputs": [
    {
     "data": {
      "image/png": "[encoded data removed]",
      "text/plain": [
       "<Figure size 1332x324 with 1 Axes>"
      ]
     },
     "metadata": {
      "needs_background": "light"
     },
     "output_type": "display_data"
    }
   ],
   "source": [
    "# creating a dataframe where rows are features\n",
    "# and columns are logistic regression coef\n",
    "to_plot = pd.DataFrame(range(1,65),columns=[\"attr\"])\n",
    "to_plot[\"coef\"] = cart_model2_importances\n",
    "\n",
    "# plotting feature coefs (and by extension, feature importance)\n",
    "fig, ax = plt.subplots()\n",
    "fig.set_size_inches(18.5, 4.5)\n",
    "\n",
    "to_plot['sign'] = to_plot['coef'] > 0\n",
    "to_plot['coef'].plot(kind='bar', color=to_plot.sign.map({True: (1.0, 0, 0, 0.7), False: (0, 0.6, 0, 0.7)}), \n",
    "                      ax=ax)\n",
    "ax.set_xticklabels(range(1,65), rotation = 0);\n",
    "ax.axhline(0, color='k');\n",
    "ax.set_xlabel(\"attribute\");\n",
    "ax.set_ylabel(\"CART attribute importance\");\n",
    "ax.set_title(\"CART attribute importances (Intercept Excluded), Bankrupcy Classifier\");"
   ]
  },
  {
   "cell_type": "code",
   "execution_count": 116,
   "id": "56f2814d",
   "metadata": {},
   "outputs": [
    {
     "name": "stdout",
     "output_type": "stream",
     "text": [
      "significant attributes for bankrupcy:\n",
      "====\n",
      "(net profit + depreciation) / total liabilities\n"
     ]
    }
   ],
   "source": [
    "print(\"significant attributes for bankrupcy:\")\n",
    "print(\"====\")\n",
    "print(attributes[26])"
   ]
  },
  {
   "cell_type": "code",
   "execution_count": null,
   "id": "90e607ee",
   "metadata": {},
   "outputs": [],
   "source": []
  }
 ],
 "metadata": {
  "kernelspec": {
   "display_name": "Python 3 (ipykernel)",
   "language": "python",
   "name": "python3"
  },
  "language_info": {
   "codemirror_mode": {
    "name": "ipython",
    "version": 3
   },
   "file_extension": ".py",
   "mimetype": "text/x-python",
   "name": "python",
   "nbconvert_exporter": "python",
   "pygments_lexer": "ipython3",
   "version": "3.9.13"
  },
  "toc": {
   "base_numbering": 1,
   "nav_menu": {},
   "number_sections": true,
   "sideBar": true,
   "skip_h1_title": false,
   "title_cell": "Table of Contents",
   "title_sidebar": "Contents",
   "toc_cell": false,
   "toc_position": {
    "height": "calc(100% - 180px)",
    "left": "10px",
    "top": "150px",
    "width": "287.797px"
   },
   "toc_section_display": true,
   "toc_window_display": true
  }
 },
 "nbformat": 4,
 "nbformat_minor": 5
}
