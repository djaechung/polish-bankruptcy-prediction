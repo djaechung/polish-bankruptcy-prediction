{
 "cells": [
  {
   "cell_type": "code",
   "execution_count": 138,
   "id": "8026685b",
   "metadata": {},
   "outputs": [],
   "source": [
    "import numpy as np\n",
    "import pandas as pd\n",
    "import matplotlib.pyplot as plt\n",
    "import seaborn as sns\n",
    "from scipy.stats.mstats import winsorize\n",
    "import statsmodels.api as sm\n",
    "from scipy.stats import norm"
   ]
  },
  {
   "cell_type": "code",
   "execution_count": 234,
   "id": "b1c0fac7",
   "metadata": {},
   "outputs": [],
   "source": [
    "from sklearn import metrics\n",
    "from sklearn.model_selection import cross_val_score\n",
    "from sklearn.metrics import precision_recall_fscore_support\n",
    "from sklearn.metrics import average_precision_score\n",
    "from sklearn.metrics import precision_score\n",
    "from sklearn.metrics import recall_score\n",
    "from sklearn.model_selection import RandomizedSearchCV\n",
    "from sklearn.metrics import accuracy_score\n",
    "from sklearn.metrics import roc_auc_score\n",
    "from pprint import pprint"
   ]
  },
  {
   "cell_type": "markdown",
   "id": "8d302309",
   "metadata": {},
   "source": [
    "# Loading Data"
   ]
  },
  {
   "cell_type": "markdown",
   "id": "9ca3686a",
   "metadata": {},
   "source": [
    "Credit: Ahmad Hussein, Mohammed Ali"
   ]
  },
  {
   "cell_type": "code",
   "execution_count": 190,
   "id": "5078bc29",
   "metadata": {},
   "outputs": [],
   "source": [
    "# reading data from csv files\n",
    "train_imputed= pd.read_csv(\"train_imputed.csv\")\n",
    "train_undersampled_imputed= pd.read_csv(\"train_undersampled_imputed.csv\")\n",
    "train_oversampled_imputed= pd.read_csv(\"train_oversampled_imputed.csv\")\n",
    "\n",
    "test_imputed= pd.read_csv(\"test_imputed.csv\")"
   ]
  },
  {
   "cell_type": "code",
   "execution_count": 191,
   "id": "fab3c687",
   "metadata": {},
   "outputs": [],
   "source": [
    "# data processing  -- NOTE: we now call train_undersampled_imputed just train_imputed for succinctness\n",
    "y_train_imputed = train_undersampled_imputed.iloc[:,64]\n",
    "x_train_imputed = train_undersampled_imputed.drop('class', inplace=True, axis=1)\n",
    "x_train_imputed = train_undersampled_imputed.copy()\n",
    "\n",
    "y_test_imputed = test_imputed.iloc[:,64]\n",
    "x_test_imputed = test_imputed.drop('class', inplace=True, axis=1)\n",
    "x_test_imputed = test_imputed.copy()"
   ]
  },
  {
   "cell_type": "code",
   "execution_count": 192,
   "id": "b1c9c0ea",
   "metadata": {},
   "outputs": [],
   "source": [
    "# winsorizing\n",
    "for i in range(0,64):\n",
    "        winsorize(x_train_imputed.iloc[:,0], limits=[0.1, 0.1])\n",
    "        winsorize(x_test_imputed.iloc[:,0], limits=[0.1, 0.1])\n",
    "        \n",
    "x_train_imputed.describe();\n",
    "x_test_imputed.describe();"
   ]
  },
  {
   "cell_type": "markdown",
   "id": "c3859ca7",
   "metadata": {},
   "source": [
    "# Helper Functions and Reference Variables"
   ]
  },
  {
   "cell_type": "markdown",
   "id": "7fb94575",
   "metadata": {},
   "source": [
    "Attribute dictionary for reference"
   ]
  },
  {
   "cell_type": "code",
   "execution_count": 193,
   "id": "af5d001c",
   "metadata": {},
   "outputs": [],
   "source": [
    "attributes = {1: \"net profit / total assets\",\n",
    "              2: \"total liabilities / total assets\",\n",
    "              3: \"working capital / total assets\",\n",
    "              4: \"current assets / short-term liabilities\",\n",
    "              5: \"[(cash + short-term securities + receivables - short-term liabilities) / (operating expenses - depreciation)] * 365\",\n",
    "              6: \"retained earnings / total assets\",\n",
    "              7: \"EBIT / total assets\",\n",
    "              8: \"book value of equity / total liabilities\",\n",
    "              9: \"sales / total assets\",\n",
    "             10: \"equity / total assets\",\n",
    "             11: \"(gross profit + extraordinary items + financial expenses) / total assets\",\n",
    "             12: \"gross profit / short-term liabilities\",\n",
    "             13: \"(gross profit + depreciation) / sales\",\n",
    "             14: \"(gross profit + interest) / total assets\",\n",
    "             15: \"(total liabilities * 365) / (gross profit + depreciation)\",\n",
    "             16: \"(gross profit + depreciation) / total liabilities\",\n",
    "             17: \"total assets / total liabilities\",\n",
    "             18: \"gross profit / total assets\",\n",
    "             19: \"gross profit / sales\",\n",
    "             20: \"(inventory * 365) / sales\",\n",
    "             21: \"sales (n) / sales (n-1)\",\n",
    "             22: \"profit on operating activities / total assets\",\n",
    "             23: \"net profit / sales\",\n",
    "             24: \"gross profit (in 3 years) / total assets\",\n",
    "             25: \"(equity - share capital) / total assets\",\n",
    "             26: \"(net profit + depreciation) / total liabilities\",\n",
    "             27: \"profit on operating activities / financial expenses\",\n",
    "             28: \"working capital / fixed assets\",\n",
    "             29: \"logarithm of total assets\",\n",
    "             30: \"(total liabilities - cash) / sales\",\n",
    "             31: \"(gross profit + interest) / sales\",\n",
    "             32: \"(current liabilities * 365) / cost of products sold\",\n",
    "             33: \"operating expenses / short-term liabilities\",\n",
    "             34: \"operating expenses / total liabilities\",\n",
    "             35: \"profit on sales / total assets\",\n",
    "             36: \"total sales / total assets\",\n",
    "             37: \"(current assets - inventories) / long-term liabilities\",\n",
    "             38: \"constant capital / total assets\",\n",
    "             39: \"profit on sales / sales\",\n",
    "             40: \"(current assets - inventory - receivables) / short-term liabilities\",\n",
    "             41: \"total liabilities / ((profit on operating activities + depreciation) * (12/365))\",\n",
    "             42: \"profit on operating activities / sales\",\n",
    "             43: \"rotation receivables + inventory turnover in days\",\n",
    "             44: \"(receivables * 365) / sales\",\n",
    "             45: \"net profit / inventory\",\n",
    "             46: \"(current assets - inventory) / short-term liabilities\",\n",
    "             47: \"(inventory * 365) / cost of products sold\",\n",
    "             48: \"EBITDA (profit on operating activities - depreciation) / total assets\",\n",
    "             49: \"EBITDA (profit on operating activities - depreciation) / sales\",\n",
    "             50: \"current assets / total liabilities\",\n",
    "             51: \"short-term liabilities / total assets\",\n",
    "             52: \"(short-term liabilities * 365) / cost of products sold)\",\n",
    "             53: \"equity / fixed assets\",\n",
    "             54: \"constant capital / fixed assets\",\n",
    "             55: \"working capital\",\n",
    "             56: \"(sales - cost of products sold) / sales\",\n",
    "             57: \"(current assets - inventory - short-term liabilities) / (sales - gross profit - depreciation)\",\n",
    "             58: \"total costs /total sales\",\n",
    "             59: \"long-term liabilities / equity\",\n",
    "             60: \"sales / inventory\",\n",
    "             61: \"sales / receivables\",\n",
    "             62: \"(short-term liabilities *365) / sales\",\n",
    "             63: \"sales / short-term liabilities\",\n",
    "             64: \"sales / fixed assets\"}"
   ]
  },
  {
   "cell_type": "markdown",
   "id": "0ddf97a2",
   "metadata": {},
   "source": [
    "Code for a plotting function to help select classification threshold"
   ]
  },
  {
   "cell_type": "code",
   "execution_count": 252,
   "id": "eb84fde7",
   "metadata": {},
   "outputs": [],
   "source": [
    "def visualize_thresholds(name, model, x_train, y_train, x_test, y_test, try_threshold):\n",
    "    precisions = []\n",
    "    recalls = []\n",
    "    accuracies = []\n",
    "    thresholds = np.linspace(0,1,100)\n",
    "    # for each potential threshold:\n",
    "    for threshold in thresholds:\n",
    "        # make predictions based on that threshold\n",
    "        y_pred_proba = model.predict_proba(x_test)[:,1]\n",
    "        preds = (y_pred_proba >= threshold).astype(int)\n",
    "        # calculate precision and store that\n",
    "        precision = precision_score(y_test, preds)\n",
    "        precisions.append(precision)\n",
    "        # calculate recall and store that\n",
    "        recall = recall_score(y_test, preds)\n",
    "        recalls.append(recall)\n",
    "        # calculate accuracy and store that\n",
    "        accuracy = accuracy_score(y_test, preds)\n",
    "        accuracies.append(accuracy)\n",
    "        \n",
    "    # plot it all!\n",
    "    plt.figure(figsize=[10,6])\n",
    "    plt.plot(precisions,label=\"precision\")\n",
    "    plt.plot(recalls,label=\"recall\")\n",
    "    plt.plot(accuracies,label=\"accuracy\")\n",
    "    plt.axvline(x = try_threshold*100, color = 'b', label = 'threshold ='+str(try_threshold))\n",
    "    plt.title(\"Model Metrics for Different Threshold Values, \" + name)\n",
    "    plt.legend()"
   ]
  },
  {
   "cell_type": "markdown",
   "id": "ccdf6bb4",
   "metadata": {},
   "source": [
    "# Baseline: Always Predict 0"
   ]
  },
  {
   "cell_type": "code",
   "execution_count": 195,
   "id": "dc9fc8c4",
   "metadata": {},
   "outputs": [],
   "source": [
    "# baseline predictions\n",
    "baseline_preds = np.zeros(len(y_test_imputed))"
   ]
  },
  {
   "cell_type": "markdown",
   "id": "62f011f9",
   "metadata": {},
   "source": [
    "## Results"
   ]
  },
  {
   "cell_type": "markdown",
   "id": "6e40e2dd",
   "metadata": {},
   "source": [
    "Accuracy"
   ]
  },
  {
   "cell_type": "code",
   "execution_count": 196,
   "id": "06cdae2a",
   "metadata": {},
   "outputs": [
    {
     "data": {
      "text/plain": [
       "0.9527798933739527"
      ]
     },
     "execution_count": 196,
     "metadata": {},
     "output_type": "execute_result"
    }
   ],
   "source": [
    "accuracy_score(baseline_preds, y_test_imputed)"
   ]
  },
  {
   "cell_type": "markdown",
   "id": "6dcbbbc1",
   "metadata": {},
   "source": [
    "Confusion Matrix"
   ]
  },
  {
   "cell_type": "code",
   "execution_count": 197,
   "id": "007eed2e",
   "metadata": {},
   "outputs": [
    {
     "name": "stdout",
     "output_type": "stream",
     "text": [
      "[[2502    0]\n",
      " [ 124    0]]\n"
     ]
    }
   ],
   "source": [
    "cm = metrics.confusion_matrix(y_test_imputed, baseline_preds)\n",
    "print(cm)"
   ]
  },
  {
   "cell_type": "markdown",
   "id": "72b7a9ba",
   "metadata": {},
   "source": [
    "Precision, Recall, F Score"
   ]
  },
  {
   "cell_type": "code",
   "execution_count": 198,
   "id": "032eee20",
   "metadata": {
    "scrolled": true
   },
   "outputs": [
    {
     "name": "stdout",
     "output_type": "stream",
     "text": [
      "Precision: 0.4763899466869764\n",
      "Recall: 0.5\n",
      "F Score: 0.4879095163806553\n"
     ]
    },
    {
     "name": "stderr",
     "output_type": "stream",
     "text": [
      "/Users/DanielChung/.julia/conda/3/lib/python3.9/site-packages/sklearn/metrics/_classification.py:1334: UndefinedMetricWarning: Precision and F-score are ill-defined and being set to 0.0 in labels with no predicted samples. Use `zero_division` parameter to control this behavior.\n",
      "  _warn_prf(average, modifier, msg_start, len(result))\n"
     ]
    }
   ],
   "source": [
    "baseline_results = precision_recall_fscore_support(y_test_imputed, baseline_preds, average='macro')\n",
    "baseline_precision, baseline_recall, baseline_fscore, baseline_support = baseline_results\n",
    "print(\"Precision: \" + str(baseline_precision))\n",
    "print(\"Recall: \" + str(baseline_recall))\n",
    "print(\"F Score: \" + str(baseline_fscore))"
   ]
  },
  {
   "cell_type": "markdown",
   "id": "ba3b595a",
   "metadata": {},
   "source": [
    "AUC"
   ]
  },
  {
   "cell_type": "code",
   "execution_count": 199,
   "id": "eb5d7565",
   "metadata": {},
   "outputs": [
    {
     "data": {
      "image/png": "[encoded data removed]",
      "text/plain": [
       "<Figure size 640x480 with 1 Axes>"
      ]
     },
     "metadata": {},
     "output_type": "display_data"
    },
    {
     "name": "stdout",
     "output_type": "stream",
     "text": [
      "AUC:\n"
     ]
    },
    {
     "data": {
      "text/plain": [
       "0.5"
      ]
     },
     "execution_count": 199,
     "metadata": {},
     "output_type": "execute_result"
    }
   ],
   "source": [
    "y_pred_proba = baseline_preds\n",
    "fpr, tpr, _ = metrics.roc_curve(y_test_imputed,  y_pred_proba)\n",
    "\n",
    "# plotting ROC curve\n",
    "plt.plot(fpr,tpr)\n",
    "plt.ylabel('True Positive Rate')\n",
    "plt.xlabel('False Positive Rate')\n",
    "plt.show()\n",
    "\n",
    "print(\"AUC:\")\n",
    "roc_auc_score(y_test_imputed, baseline_preds)"
   ]
  },
  {
   "cell_type": "markdown",
   "id": "57554eb6",
   "metadata": {},
   "source": [
    "PRAUC"
   ]
  },
  {
   "cell_type": "code",
   "execution_count": 200,
   "id": "03e12d8e",
   "metadata": {},
   "outputs": [
    {
     "data": {
      "text/plain": [
       "0.04722010662604722"
      ]
     },
     "execution_count": 200,
     "metadata": {},
     "output_type": "execute_result"
    }
   ],
   "source": [
    "baseline_probas = baseline_preds\n",
    "average_precision_score(y_test_imputed, baseline_probas, pos_label=1)"
   ]
  },
  {
   "cell_type": "markdown",
   "id": "80cc6b2c",
   "metadata": {},
   "source": [
    "# Logistic Regression"
   ]
  },
  {
   "cell_type": "markdown",
   "id": "8a3cf3e8",
   "metadata": {},
   "source": [
    "## Initial Model"
   ]
  },
  {
   "cell_type": "markdown",
   "id": "44ef1418",
   "metadata": {},
   "source": [
    "### Fit"
   ]
  },
  {
   "cell_type": "code",
   "execution_count": 201,
   "id": "d219b870",
   "metadata": {},
   "outputs": [],
   "source": [
    "from sklearn.linear_model import LogisticRegression"
   ]
  },
  {
   "cell_type": "code",
   "execution_count": 202,
   "id": "f18f6b2b",
   "metadata": {},
   "outputs": [],
   "source": [
    "lr_model = LogisticRegression()"
   ]
  },
  {
   "cell_type": "code",
   "execution_count": 203,
   "id": "c43e8c0d",
   "metadata": {
    "scrolled": false
   },
   "outputs": [
    {
     "name": "stderr",
     "output_type": "stream",
     "text": [
      "/Users/DanielChung/.julia/conda/3/lib/python3.9/site-packages/sklearn/linear_model/_logistic.py:444: ConvergenceWarning: lbfgs failed to converge (status=1):\n",
      "STOP: TOTAL NO. of ITERATIONS REACHED LIMIT.\n",
      "\n",
      "Increase the number of iterations (max_iter) or scale the data as shown in:\n",
      "    https://scikit-learn.org/stable/modules/preprocessing.html\n",
      "Please also refer to the documentation for alternative solver options:\n",
      "    https://scikit-learn.org/stable/modules/linear_model.html#logistic-regression\n",
      "  n_iter_i = _check_optimize_result(\n"
     ]
    },
    {
     "data": {
      "text/html": [
       "<style>#sk-container-id-10 {color: black;background-color: white;}#sk-container-id-10 pre{padding: 0;}#sk-container-id-10 div.sk-toggleable {background-color: white;}#sk-container-id-10 label.sk-toggleable__label {cursor: pointer;display: block;width: 100%;margin-bottom: 0;padding: 0.3em;box-sizing: border-box;text-align: center;}#sk-container-id-10 label.sk-toggleable__label-arrow:before {content: \"▸\";float: left;margin-right: 0.25em;color: #696969;}#sk-container-id-10 label.sk-toggleable__label-arrow:hover:before {color: black;}#sk-container-id-10 div.sk-estimator:hover label.sk-toggleable__label-arrow:before {color: black;}#sk-container-id-10 div.sk-toggleable__content {max-height: 0;max-width: 0;overflow: hidden;text-align: left;background-color: #f0f8ff;}#sk-container-id-10 div.sk-toggleable__content pre {margin: 0.2em;color: black;border-radius: 0.25em;background-color: #f0f8ff;}#sk-container-id-10 input.sk-toggleable__control:checked~div.sk-toggleable__content {max-height: 200px;max-width: 100%;overflow: auto;}#sk-container-id-10 input.sk-toggleable__control:checked~label.sk-toggleable__label-arrow:before {content: \"▾\";}#sk-container-id-10 div.sk-estimator input.sk-toggleable__control:checked~label.sk-toggleable__label {background-color: #d4ebff;}#sk-container-id-10 div.sk-label input.sk-toggleable__control:checked~label.sk-toggleable__label {background-color: #d4ebff;}#sk-container-id-10 input.sk-hidden--visually {border: 0;clip: rect(1px 1px 1px 1px);clip: rect(1px, 1px, 1px, 1px);height: 1px;margin: -1px;overflow: hidden;padding: 0;position: absolute;width: 1px;}#sk-container-id-10 div.sk-estimator {font-family: monospace;background-color: #f0f8ff;border: 1px dotted black;border-radius: 0.25em;box-sizing: border-box;margin-bottom: 0.5em;}#sk-container-id-10 div.sk-estimator:hover {background-color: #d4ebff;}#sk-container-id-10 div.sk-parallel-item::after {content: \"\";width: 100%;border-bottom: 1px solid gray;flex-grow: 1;}#sk-container-id-10 div.sk-label:hover label.sk-toggleable__label {background-color: #d4ebff;}#sk-container-id-10 div.sk-serial::before {content: \"\";position: absolute;border-left: 1px solid gray;box-sizing: border-box;top: 0;bottom: 0;left: 50%;z-index: 0;}#sk-container-id-10 div.sk-serial {display: flex;flex-direction: column;align-items: center;background-color: white;padding-right: 0.2em;padding-left: 0.2em;position: relative;}#sk-container-id-10 div.sk-item {position: relative;z-index: 1;}#sk-container-id-10 div.sk-parallel {display: flex;align-items: stretch;justify-content: center;background-color: white;position: relative;}#sk-container-id-10 div.sk-item::before, #sk-container-id-10 div.sk-parallel-item::before {content: \"\";position: absolute;border-left: 1px solid gray;box-sizing: border-box;top: 0;bottom: 0;left: 50%;z-index: -1;}#sk-container-id-10 div.sk-parallel-item {display: flex;flex-direction: column;z-index: 1;position: relative;background-color: white;}#sk-container-id-10 div.sk-parallel-item:first-child::after {align-self: flex-end;width: 50%;}#sk-container-id-10 div.sk-parallel-item:last-child::after {align-self: flex-start;width: 50%;}#sk-container-id-10 div.sk-parallel-item:only-child::after {width: 0;}#sk-container-id-10 div.sk-dashed-wrapped {border: 1px dashed gray;margin: 0 0.4em 0.5em 0.4em;box-sizing: border-box;padding-bottom: 0.4em;background-color: white;}#sk-container-id-10 div.sk-label label {font-family: monospace;font-weight: bold;display: inline-block;line-height: 1.2em;}#sk-container-id-10 div.sk-label-container {text-align: center;}#sk-container-id-10 div.sk-container {/* jupyter's `normalize.less` sets `[hidden] { display: none; }` but bootstrap.min.css set `[hidden] { display: none !important; }` so we also need the `!important` here to be able to override the default hidden behavior on the sphinx rendered scikit-learn.org. See: https://github.com/scikit-learn/scikit-learn/issues/21755 */display: inline-block !important;position: relative;}#sk-container-id-10 div.sk-text-repr-fallback {display: none;}</style><div id=\"sk-container-id-10\" class=\"sk-top-container\"><div class=\"sk-text-repr-fallback\"><pre>LogisticRegression()</pre><b>In a Jupyter environment, please rerun this cell to show the HTML representation or trust the notebook. <br />On GitHub, the HTML representation is unable to render, please try loading this page with nbviewer.org.</b></div><div class=\"sk-container\" hidden><div class=\"sk-item\"><div class=\"sk-estimator sk-toggleable\"><input class=\"sk-toggleable__control sk-hidden--visually\" id=\"sk-estimator-id-10\" type=\"checkbox\" checked><label for=\"sk-estimator-id-10\" class=\"sk-toggleable__label sk-toggleable__label-arrow\">LogisticRegression</label><div class=\"sk-toggleable__content\"><pre>LogisticRegression()</pre></div></div></div></div></div>"
      ],
      "text/plain": [
       "LogisticRegression()"
      ]
     },
     "execution_count": 203,
     "metadata": {},
     "output_type": "execute_result"
    }
   ],
   "source": [
    "lr_model.fit(x_train_imputed, y_train_imputed)"
   ]
  },
  {
   "cell_type": "code",
   "execution_count": 204,
   "id": "710d03b8",
   "metadata": {},
   "outputs": [],
   "source": [
    "# predictions\n",
    "lr_model_preds = lr_model.predict(x_test_imputed)"
   ]
  },
  {
   "cell_type": "markdown",
   "id": "780c8def",
   "metadata": {},
   "source": [
    "### Results"
   ]
  },
  {
   "cell_type": "markdown",
   "id": "6f5a4fcb",
   "metadata": {},
   "source": [
    "Accuracy"
   ]
  },
  {
   "cell_type": "code",
   "execution_count": 205,
   "id": "b4bc5615",
   "metadata": {
    "scrolled": false
   },
   "outputs": [
    {
     "data": {
      "text/plain": [
       "0.2814166031987814"
      ]
     },
     "execution_count": 205,
     "metadata": {},
     "output_type": "execute_result"
    }
   ],
   "source": [
    "lr_model.score(x_test_imputed, y_test_imputed)"
   ]
  },
  {
   "cell_type": "markdown",
   "id": "d77ff6ce",
   "metadata": {},
   "source": [
    "Confusion Matrix"
   ]
  },
  {
   "cell_type": "code",
   "execution_count": 206,
   "id": "f160955d",
   "metadata": {
    "scrolled": true
   },
   "outputs": [
    {
     "name": "stdout",
     "output_type": "stream",
     "text": [
      "[[ 632 1870]\n",
      " [  17  107]]\n"
     ]
    }
   ],
   "source": [
    "cm = metrics.confusion_matrix(y_test_imputed, lr_model_preds)\n",
    "print(cm)"
   ]
  },
  {
   "cell_type": "markdown",
   "id": "307dcefe",
   "metadata": {},
   "source": [
    "Precision, Recall, F Score"
   ]
  },
  {
   "cell_type": "code",
   "execution_count": 207,
   "id": "edbc4ba5",
   "metadata": {
    "scrolled": false
   },
   "outputs": [
    {
     "name": "stdout",
     "output_type": "stream",
     "text": [
      "Precision: 0.5139641314251021\n",
      "Recall: 0.5577505737345607\n",
      "F Score: 0.2514993766852646\n"
     ]
    }
   ],
   "source": [
    "lr_model_results = precision_recall_fscore_support(y_test_imputed, lr_model_preds, average='macro')\n",
    "lr_model_precision, lr_model_recall, lr_model_fscore, lr_model_support = lr_model_results\n",
    "print(\"Precision: \" + str(lr_model_precision))\n",
    "print(\"Recall: \" + str(lr_model_recall))\n",
    "print(\"F Score: \" + str(lr_model_fscore))"
   ]
  },
  {
   "cell_type": "markdown",
   "id": "3a1ca0a1",
   "metadata": {},
   "source": [
    "AUC"
   ]
  },
  {
   "cell_type": "code",
   "execution_count": 208,
   "id": "7ccf10ed",
   "metadata": {},
   "outputs": [
    {
     "data": {
      "image/png": "[encoded data removed]",
      "text/plain": [
       "<Figure size 640x480 with 1 Axes>"
      ]
     },
     "metadata": {},
     "output_type": "display_data"
    },
    {
     "name": "stdout",
     "output_type": "stream",
     "text": [
      "AUC:\n"
     ]
    },
    {
     "data": {
      "text/plain": [
       "0.5974156158943812"
      ]
     },
     "execution_count": 208,
     "metadata": {},
     "output_type": "execute_result"
    }
   ],
   "source": [
    "y_pred_proba = lr_model.predict_proba(x_test_imputed)[::,1]\n",
    "fpr, tpr, _ = metrics.roc_curve(y_test_imputed,  y_pred_proba)\n",
    "\n",
    "# plotting ROC curve\n",
    "plt.plot(fpr,tpr)\n",
    "plt.ylabel('True Positive Rate')\n",
    "plt.xlabel('False Positive Rate')\n",
    "plt.show()\n",
    "\n",
    "print(\"AUC:\")\n",
    "roc_auc_score(y_test_imputed, lr_model.predict_proba(x_test_imputed)[:,1])"
   ]
  },
  {
   "cell_type": "markdown",
   "id": "dc1ec3c3",
   "metadata": {},
   "source": [
    "PRAUC"
   ]
  },
  {
   "cell_type": "code",
   "execution_count": 209,
   "id": "66acae7f",
   "metadata": {},
   "outputs": [
    {
     "data": {
      "text/plain": [
       "0.06577973855637502"
      ]
     },
     "execution_count": 209,
     "metadata": {},
     "output_type": "execute_result"
    }
   ],
   "source": [
    "lr_model_probas = lr_model.predict_proba(x_test_imputed)\n",
    "average_precision_score(y_test_imputed, lr_model_probas[:,1],pos_label=1)"
   ]
  },
  {
   "cell_type": "markdown",
   "id": "b276e2b9",
   "metadata": {},
   "source": [
    "### Interpretation"
   ]
  },
  {
   "cell_type": "markdown",
   "id": "ec6771be",
   "metadata": {},
   "source": [
    "Coefficient magnitude:"
   ]
  },
  {
   "cell_type": "code",
   "execution_count": 210,
   "id": "1bb22b83",
   "metadata": {
    "scrolled": true
   },
   "outputs": [
    {
     "data": {
      "image/png": "[encoded data removed]",
      "text/plain": [
       "<Figure size 1850x450 with 1 Axes>"
      ]
     },
     "metadata": {},
     "output_type": "display_data"
    }
   ],
   "source": [
    "# creating a dataframe where rows are features\n",
    "# and columns are logistic regression coef\n",
    "to_plot = pd.DataFrame(range(1,65),columns=[\"attr\"])\n",
    "to_plot[\"coef\"] = lr_model.coef_[0]\n",
    "\n",
    "# plotting feature coefs (and by extension, feature importance)\n",
    "fig, ax = plt.subplots()\n",
    "fig.set_size_inches(18.5, 4.5)\n",
    "\n",
    "to_plot['sign'] = to_plot['coef'] > 0\n",
    "to_plot['coef'].plot(kind='bar', color=to_plot.sign.map({True: (1.0, 0, 0, 0.7), False: (0, 0.6, 0, 0.7)}), \n",
    "                      ax=ax)\n",
    "ax.set_xticklabels(range(1,65), rotation = 0);\n",
    "ax.axhline(0, color='k');\n",
    "ax.set_xlabel(\"attribute\");\n",
    "ax.set_ylabel(\"logistic regression coef\");\n",
    "ax.set_title(\"Logistic Regression Coefficients (Intercept Excluded), Bankrupcy Classifier\");"
   ]
  },
  {
   "cell_type": "code",
   "execution_count": 211,
   "id": "7c939af3",
   "metadata": {
    "scrolled": true
   },
   "outputs": [
    {
     "name": "stdout",
     "output_type": "stream",
     "text": [
      "attribues that decrease predicted probability of bankrupcy (in desc order of coef size):\n",
      "====\n",
      "book value of equity / total liabilities\n",
      "total assets / total liabilities\n"
     ]
    }
   ],
   "source": [
    "print(\"attribues that decrease predicted probability of bankrupcy (in desc order of coef size):\")\n",
    "print(\"====\")\n",
    "print(attributes[8])\n",
    "print(attributes[17])"
   ]
  },
  {
   "cell_type": "code",
   "execution_count": 212,
   "id": "4b99bff6",
   "metadata": {},
   "outputs": [
    {
     "name": "stdout",
     "output_type": "stream",
     "text": [
      "attribues that increase predicted probability of bankrupcy (in desc order of coef size):\n",
      "====\n",
      "(current liabilities * 365) / cost of products sold\n",
      "sales / fixed assets\n"
     ]
    }
   ],
   "source": [
    "print(\"attribues that increase predicted probability of bankrupcy (in desc order of coef size):\")\n",
    "print(\"====\")\n",
    "print(attributes[32])\n",
    "print(attributes[64])"
   ]
  },
  {
   "cell_type": "markdown",
   "id": "d655d769",
   "metadata": {},
   "source": [
    "Coefficient significance:"
   ]
  },
  {
   "cell_type": "code",
   "execution_count": 213,
   "id": "12625885",
   "metadata": {},
   "outputs": [],
   "source": [
    "# significanc helper function, from user David Dale, stack overflow\n",
    "def logit_pvalue(model, x):\n",
    "    \"\"\" Calculate z-scores for scikit-learn LogisticRegression.\n",
    "    parameters:\n",
    "        model: fitted sklearn.linear_model.LogisticRegression with intercept and large C\n",
    "        x:     matrix on which the model was fit\n",
    "    This function uses asymtptics for maximum likelihood estimates.\n",
    "    \"\"\"\n",
    "    p = model.predict_proba(x)\n",
    "    n = len(p)\n",
    "    m = len(model.coef_[0]) + 1\n",
    "    coefs = np.concatenate([model.intercept_, model.coef_[0]])\n",
    "    x_full = np.matrix(np.insert(np.array(x), 0, 1, axis = 1))\n",
    "    ans = np.zeros((m, m))\n",
    "    for i in range(n):\n",
    "        ans = ans + np.dot(np.transpose(x_full[i, :]), x_full[i, :]) * p[i,1] * p[i, 0]\n",
    "    vcov = np.linalg.inv(np.matrix(ans))\n",
    "    se = np.sqrt(np.diag(vcov))\n",
    "    t =  coefs/se  \n",
    "    p = (1 - norm.cdf(abs(t))) * 2\n",
    "    return p"
   ]
  },
  {
   "cell_type": "code",
   "execution_count": 214,
   "id": "cb5d9221",
   "metadata": {},
   "outputs": [
    {
     "name": "stderr",
     "output_type": "stream",
     "text": [
      "/var/folders/_k/mx9qq9x94y3bdxqvpj9jc8qh0000gn/T/ipykernel_15322/65202168.py:18: RuntimeWarning: invalid value encountered in sqrt\n",
      "  se = np.sqrt(np.diag(vcov))\n"
     ]
    }
   ],
   "source": [
    "# finding coefficient significance\n",
    "lr_model_sigs = logit_pvalue(lr_model, x_train_imputed)"
   ]
  },
  {
   "cell_type": "code",
   "execution_count": 215,
   "id": "bc82e1e2",
   "metadata": {},
   "outputs": [
    {
     "data": {
      "image/png": "[encoded data removed]",
      "text/plain": [
       "<Figure size 1850x450 with 1 Axes>"
      ]
     },
     "metadata": {},
     "output_type": "display_data"
    }
   ],
   "source": [
    "# creating a dataframe where rows are features\n",
    "# and columns are logistic regression coef\n",
    "to_plot = pd.DataFrame(range(0,65),columns=[\"attr\"])\n",
    "to_plot[\"significance\"] = lr_model_sigs\n",
    "\n",
    "# plotting feature coefs (and by extension, feature importance)\n",
    "fig, ax = plt.subplots()\n",
    "fig.set_size_inches(18.5, 4.5)\n",
    "\n",
    "to_plot['sign'] = to_plot['significance'] > 0\n",
    "to_plot['significance'].plot(kind='bar', color=to_plot.sign.map({True: (1.0, 0, 0, 0.7), False: (0, 0.6, 0, 0.7)}), \n",
    "                      ax=ax)\n",
    "ax.set_xticklabels(range(0,65), rotation = 0);\n",
    "ax.axhline(0, color='k');\n",
    "ax.set_xlabel(\"attribute (0 = intercept)\");\n",
    "ax.set_ylabel(\"logistic regression coef significance\");\n",
    "ax.set_title(\"Cross-Validated Logistic Regression Coefficient Significance, Bankrupcy Classifier\");\n",
    "ax.axhline(0.05);"
   ]
  },
  {
   "cell_type": "code",
   "execution_count": 216,
   "id": "3ce53b04",
   "metadata": {},
   "outputs": [
    {
     "name": "stdout",
     "output_type": "stream",
     "text": [
      "attibutes with significant (p<=0.05) regression coefficients:\n",
      "====\n",
      "(gross profit + interest) / total assets\n",
      "gross profit / sales\n",
      "(inventory * 365) / sales\n",
      "profit on operating activities / sales\n",
      "rotation receivables + inventory turnover in days\n",
      "(receivables * 365) / sales\n",
      "EBITDA (profit on operating activities - depreciation) / sales\n"
     ]
    }
   ],
   "source": [
    "print(\"attibutes with significant (p<=0.05) regression coefficients:\")\n",
    "print(\"====\")\n",
    "print(attributes[14])\n",
    "print(attributes[19])\n",
    "print(attributes[20])\n",
    "print(attributes[42])\n",
    "print(attributes[43])\n",
    "print(attributes[44])\n",
    "print(attributes[49])"
   ]
  },
  {
   "cell_type": "markdown",
   "id": "872427a8",
   "metadata": {},
   "source": [
    "## Sparse Model"
   ]
  },
  {
   "cell_type": "markdown",
   "id": "94540ad5",
   "metadata": {},
   "source": [
    "Retraining using only significant coefficients"
   ]
  },
  {
   "cell_type": "markdown",
   "id": "ceca4149",
   "metadata": {},
   "source": [
    "### Fit"
   ]
  },
  {
   "cell_type": "code",
   "execution_count": 217,
   "id": "3f688f7b",
   "metadata": {},
   "outputs": [],
   "source": [
    "lr_model2 = LogisticRegression()"
   ]
  },
  {
   "cell_type": "code",
   "execution_count": 218,
   "id": "d9488f06",
   "metadata": {},
   "outputs": [],
   "source": [
    "# x imputed with only significant regression coefficients included\n",
    "x_train_signif = x_train_imputed[[\"Attr14\",\"Attr19\",\"Attr20\",\"Attr42\",\"Attr43\",\"Attr44\",\"Attr49\"]]\n",
    "x_test_signif = x_test_imputed[[\"Attr14\",\"Attr19\",\"Attr20\",\"Attr42\",\"Attr43\",\"Attr44\",\"Attr49\"]]"
   ]
  },
  {
   "cell_type": "code",
   "execution_count": 219,
   "id": "a4e0cb59",
   "metadata": {
    "scrolled": false
   },
   "outputs": [
    {
     "data": {
      "text/html": [
       "<style>#sk-container-id-11 {color: black;background-color: white;}#sk-container-id-11 pre{padding: 0;}#sk-container-id-11 div.sk-toggleable {background-color: white;}#sk-container-id-11 label.sk-toggleable__label {cursor: pointer;display: block;width: 100%;margin-bottom: 0;padding: 0.3em;box-sizing: border-box;text-align: center;}#sk-container-id-11 label.sk-toggleable__label-arrow:before {content: \"▸\";float: left;margin-right: 0.25em;color: #696969;}#sk-container-id-11 label.sk-toggleable__label-arrow:hover:before {color: black;}#sk-container-id-11 div.sk-estimator:hover label.sk-toggleable__label-arrow:before {color: black;}#sk-container-id-11 div.sk-toggleable__content {max-height: 0;max-width: 0;overflow: hidden;text-align: left;background-color: #f0f8ff;}#sk-container-id-11 div.sk-toggleable__content pre {margin: 0.2em;color: black;border-radius: 0.25em;background-color: #f0f8ff;}#sk-container-id-11 input.sk-toggleable__control:checked~div.sk-toggleable__content {max-height: 200px;max-width: 100%;overflow: auto;}#sk-container-id-11 input.sk-toggleable__control:checked~label.sk-toggleable__label-arrow:before {content: \"▾\";}#sk-container-id-11 div.sk-estimator input.sk-toggleable__control:checked~label.sk-toggleable__label {background-color: #d4ebff;}#sk-container-id-11 div.sk-label input.sk-toggleable__control:checked~label.sk-toggleable__label {background-color: #d4ebff;}#sk-container-id-11 input.sk-hidden--visually {border: 0;clip: rect(1px 1px 1px 1px);clip: rect(1px, 1px, 1px, 1px);height: 1px;margin: -1px;overflow: hidden;padding: 0;position: absolute;width: 1px;}#sk-container-id-11 div.sk-estimator {font-family: monospace;background-color: #f0f8ff;border: 1px dotted black;border-radius: 0.25em;box-sizing: border-box;margin-bottom: 0.5em;}#sk-container-id-11 div.sk-estimator:hover {background-color: #d4ebff;}#sk-container-id-11 div.sk-parallel-item::after {content: \"\";width: 100%;border-bottom: 1px solid gray;flex-grow: 1;}#sk-container-id-11 div.sk-label:hover label.sk-toggleable__label {background-color: #d4ebff;}#sk-container-id-11 div.sk-serial::before {content: \"\";position: absolute;border-left: 1px solid gray;box-sizing: border-box;top: 0;bottom: 0;left: 50%;z-index: 0;}#sk-container-id-11 div.sk-serial {display: flex;flex-direction: column;align-items: center;background-color: white;padding-right: 0.2em;padding-left: 0.2em;position: relative;}#sk-container-id-11 div.sk-item {position: relative;z-index: 1;}#sk-container-id-11 div.sk-parallel {display: flex;align-items: stretch;justify-content: center;background-color: white;position: relative;}#sk-container-id-11 div.sk-item::before, #sk-container-id-11 div.sk-parallel-item::before {content: \"\";position: absolute;border-left: 1px solid gray;box-sizing: border-box;top: 0;bottom: 0;left: 50%;z-index: -1;}#sk-container-id-11 div.sk-parallel-item {display: flex;flex-direction: column;z-index: 1;position: relative;background-color: white;}#sk-container-id-11 div.sk-parallel-item:first-child::after {align-self: flex-end;width: 50%;}#sk-container-id-11 div.sk-parallel-item:last-child::after {align-self: flex-start;width: 50%;}#sk-container-id-11 div.sk-parallel-item:only-child::after {width: 0;}#sk-container-id-11 div.sk-dashed-wrapped {border: 1px dashed gray;margin: 0 0.4em 0.5em 0.4em;box-sizing: border-box;padding-bottom: 0.4em;background-color: white;}#sk-container-id-11 div.sk-label label {font-family: monospace;font-weight: bold;display: inline-block;line-height: 1.2em;}#sk-container-id-11 div.sk-label-container {text-align: center;}#sk-container-id-11 div.sk-container {/* jupyter's `normalize.less` sets `[hidden] { display: none; }` but bootstrap.min.css set `[hidden] { display: none !important; }` so we also need the `!important` here to be able to override the default hidden behavior on the sphinx rendered scikit-learn.org. See: https://github.com/scikit-learn/scikit-learn/issues/21755 */display: inline-block !important;position: relative;}#sk-container-id-11 div.sk-text-repr-fallback {display: none;}</style><div id=\"sk-container-id-11\" class=\"sk-top-container\"><div class=\"sk-text-repr-fallback\"><pre>LogisticRegression()</pre><b>In a Jupyter environment, please rerun this cell to show the HTML representation or trust the notebook. <br />On GitHub, the HTML representation is unable to render, please try loading this page with nbviewer.org.</b></div><div class=\"sk-container\" hidden><div class=\"sk-item\"><div class=\"sk-estimator sk-toggleable\"><input class=\"sk-toggleable__control sk-hidden--visually\" id=\"sk-estimator-id-11\" type=\"checkbox\" checked><label for=\"sk-estimator-id-11\" class=\"sk-toggleable__label sk-toggleable__label-arrow\">LogisticRegression</label><div class=\"sk-toggleable__content\"><pre>LogisticRegression()</pre></div></div></div></div></div>"
      ],
      "text/plain": [
       "LogisticRegression()"
      ]
     },
     "execution_count": 219,
     "metadata": {},
     "output_type": "execute_result"
    }
   ],
   "source": [
    " lr_model2.fit(x_train_signif, y_train_imputed)"
   ]
  },
  {
   "cell_type": "code",
   "execution_count": 220,
   "id": "02c671de",
   "metadata": {},
   "outputs": [],
   "source": [
    "# predictions\n",
    "lr_model2_preds = lr_model2.predict(x_test_signif)"
   ]
  },
  {
   "cell_type": "markdown",
   "id": "fbb0a0d9",
   "metadata": {},
   "source": [
    "### Results"
   ]
  },
  {
   "cell_type": "markdown",
   "id": "2f8dcdbd",
   "metadata": {},
   "source": [
    "Accuracy"
   ]
  },
  {
   "cell_type": "code",
   "execution_count": 221,
   "id": "59ab8075",
   "metadata": {},
   "outputs": [
    {
     "data": {
      "text/plain": [
       "0.32444782939832445"
      ]
     },
     "execution_count": 221,
     "metadata": {},
     "output_type": "execute_result"
    }
   ],
   "source": [
    "lr_model2.score(x_test_signif, y_test_imputed)"
   ]
  },
  {
   "cell_type": "markdown",
   "id": "e8276cfb",
   "metadata": {},
   "source": [
    "Confusion Matrix"
   ]
  },
  {
   "cell_type": "code",
   "execution_count": 222,
   "id": "c6a538e5",
   "metadata": {},
   "outputs": [
    {
     "name": "stdout",
     "output_type": "stream",
     "text": [
      "[[ 769 1733]\n",
      " [  41   83]]\n"
     ]
    }
   ],
   "source": [
    "cm = metrics.confusion_matrix(y_test_imputed, lr_model2_preds)\n",
    "print(cm)"
   ]
  },
  {
   "cell_type": "markdown",
   "id": "39db375f",
   "metadata": {},
   "source": [
    "Precision, Recall, F Score"
   ]
  },
  {
   "cell_type": "code",
   "execution_count": 223,
   "id": "ef9c54b2",
   "metadata": {
    "scrolled": false
   },
   "outputs": [
    {
     "name": "stdout",
     "output_type": "stream",
     "text": [
      "Precision: 0.4975437809321804\n",
      "Recall: 0.48835447770815604\n",
      "F Score: 0.2749694954928034\n"
     ]
    }
   ],
   "source": [
    "lr_model2_results = precision_recall_fscore_support(y_test_imputed, lr_model2_preds, average='macro')\n",
    "lr_model2_precision, lr_model2_recall, lr_model2_fscore, lr_model2_support = lr_model2_results\n",
    "print(\"Precision: \" + str(lr_model2_precision))\n",
    "print(\"Recall: \" + str(lr_model2_recall))\n",
    "print(\"F Score: \" + str(lr_model2_fscore))"
   ]
  },
  {
   "cell_type": "markdown",
   "id": "9956bd05",
   "metadata": {},
   "source": [
    "AUC"
   ]
  },
  {
   "cell_type": "code",
   "execution_count": 224,
   "id": "d8d4899c",
   "metadata": {},
   "outputs": [
    {
     "data": {
      "image/png": "[encoded data removed]",
      "text/plain": [
       "<Figure size 640x480 with 1 Axes>"
      ]
     },
     "metadata": {},
     "output_type": "display_data"
    },
    {
     "name": "stdout",
     "output_type": "stream",
     "text": [
      "AUC:\n"
     ]
    },
    {
     "data": {
      "text/plain": [
       "0.5239244088600088"
      ]
     },
     "execution_count": 224,
     "metadata": {},
     "output_type": "execute_result"
    }
   ],
   "source": [
    "y_pred_proba = lr_model2.predict_proba(x_test_signif)[::,1]\n",
    "fpr, tpr, _ = metrics.roc_curve(y_test_imputed,  y_pred_proba)\n",
    "\n",
    "# plotting ROC curve\n",
    "plt.plot(fpr,tpr)\n",
    "plt.ylabel('True Positive Rate')\n",
    "plt.xlabel('False Positive Rate')\n",
    "plt.show()\n",
    "\n",
    "print(\"AUC:\")\n",
    "roc_auc_score(y_test_imputed, lr_model2.predict_proba(x_test_signif)[:,1])"
   ]
  },
  {
   "cell_type": "markdown",
   "id": "989e227e",
   "metadata": {},
   "source": [
    "PRAUC"
   ]
  },
  {
   "cell_type": "code",
   "execution_count": 225,
   "id": "87d91db9",
   "metadata": {},
   "outputs": [
    {
     "data": {
      "text/plain": [
       "0.05706846234996341"
      ]
     },
     "execution_count": 225,
     "metadata": {},
     "output_type": "execute_result"
    }
   ],
   "source": [
    "lr_model2_probas = lr_model2.predict_proba(x_test_signif)\n",
    "average_precision_score(y_test_imputed, lr_model2_probas[:,1],pos_label=1)"
   ]
  },
  {
   "cell_type": "markdown",
   "id": "682b2440",
   "metadata": {},
   "source": [
    "### Interpretation"
   ]
  },
  {
   "cell_type": "markdown",
   "id": "0f19922b",
   "metadata": {},
   "source": [
    "Coefficient magnitude:"
   ]
  },
  {
   "cell_type": "code",
   "execution_count": 226,
   "id": "eec0faf1",
   "metadata": {},
   "outputs": [
    {
     "data": {
      "image/png": "[encoded data removed]",
      "text/plain": [
       "<Figure size 1850x450 with 1 Axes>"
      ]
     },
     "metadata": {},
     "output_type": "display_data"
    }
   ],
   "source": [
    "# creating a dataframe where rows are features\n",
    "# and columns are logistic regression coef\n",
    "to_plot = pd.DataFrame([14,19,20,42,43,44,49],columns=[\"attr\"])\n",
    "to_plot[\"coef\"] = lr_model2.coef_[0]\n",
    "\n",
    "# plotting feature coefs (and by extension, feature importance)\n",
    "fig, ax = plt.subplots()\n",
    "fig.set_size_inches(18.5, 4.5)\n",
    "\n",
    "to_plot['sign'] = to_plot['coef'] > 0\n",
    "to_plot['coef'].plot(kind='bar', color=to_plot.sign.map({True: (1.0, 0, 0, 0.7), False: (0, 0.6, 0, 0.7)}), \n",
    "                      ax=ax)\n",
    "ax.set_xticklabels([14,19,20,42,43,44,49], rotation = 0);\n",
    "ax.axhline(0, color='k');\n",
    "ax.set_xlabel(\"attribute\");\n",
    "ax.set_ylabel(\"logistic regression coef\");\n",
    "ax.set_title(\"Significant Logistic Regression Coefficients (Intercept Excluded), Bankrupcy Classifier\");"
   ]
  },
  {
   "cell_type": "code",
   "execution_count": 227,
   "id": "0c6eb5cc",
   "metadata": {},
   "outputs": [
    {
     "name": "stdout",
     "output_type": "stream",
     "text": [
      "significant attribues that decrease predicted probability of bankrupcy (in desc order of coef size):\n",
      "====\n",
      "(gross profit + interest) / total assets\n"
     ]
    }
   ],
   "source": [
    "print(\"significant attribues that decrease predicted probability of bankrupcy (in desc order of coef size):\")\n",
    "print(\"====\")\n",
    "print(attributes[14])"
   ]
  },
  {
   "cell_type": "markdown",
   "id": "994a4876",
   "metadata": {},
   "source": [
    "## Cross-Validated Model *"
   ]
  },
  {
   "cell_type": "markdown",
   "id": "29d7da6e",
   "metadata": {},
   "source": [
    "### Fit"
   ]
  },
  {
   "cell_type": "markdown",
   "id": "638c4c44",
   "metadata": {},
   "source": [
    "Improving model performance using Regularization"
   ]
  },
  {
   "cell_type": "code",
   "execution_count": 235,
   "id": "2b761d74",
   "metadata": {},
   "outputs": [],
   "source": [
    "# creating random grid\n",
    "penalty = ['none','l2','l1','elaticnet']\n",
    "lam = [x for x in np.linspace(start = 0, stop = 1, num = 100)]\n",
    "\n",
    "# random grid\n",
    "random_grid = {'penalty': penalty,'C':lam}"
   ]
  },
  {
   "cell_type": "code",
   "execution_count": 236,
   "id": "3e936626",
   "metadata": {
    "scrolled": true
   },
   "outputs": [
    {
     "name": "stdout",
     "output_type": "stream",
     "text": [
      "Fitting 3 folds for each of 100 candidates, totalling 300 fits\n"
     ]
    },
    {
     "name": "stderr",
     "output_type": "stream",
     "text": [
      "/Users/DanielChung/.julia/conda/3/lib/python3.9/site-packages/sklearn/linear_model/_logistic.py:1113: UserWarning: Setting penalty='none' will ignore the C and l1_ratio parameters\n",
      "  warnings.warn(\n",
      "/Users/DanielChung/.julia/conda/3/lib/python3.9/site-packages/sklearn/linear_model/_logistic.py:1113: UserWarning: Setting penalty='none' will ignore the C and l1_ratio parameters\n",
      "  warnings.warn(\n",
      "/Users/DanielChung/.julia/conda/3/lib/python3.9/site-packages/sklearn/linear_model/_logistic.py:444: ConvergenceWarning: lbfgs failed to converge (status=1):\n",
      "STOP: TOTAL NO. of ITERATIONS REACHED LIMIT.\n",
      "\n",
      "Increase the number of iterations (max_iter) or scale the data as shown in:\n",
      "    https://scikit-learn.org/stable/modules/preprocessing.html\n",
      "Please also refer to the documentation for alternative solver options:\n",
      "    https://scikit-learn.org/stable/modules/linear_model.html#logistic-regression\n",
      "  n_iter_i = _check_optimize_result(\n",
      "/Users/DanielChung/.julia/conda/3/lib/python3.9/site-packages/sklearn/linear_model/_logistic.py:444: ConvergenceWarning: lbfgs failed to converge (status=1):\n",
      "STOP: TOTAL NO. of ITERATIONS REACHED LIMIT.\n",
      "\n",
      "Increase the number of iterations (max_iter) or scale the data as shown in:\n",
      "    https://scikit-learn.org/stable/modules/preprocessing.html\n",
      "Please also refer to the documentation for alternative solver options:\n",
      "    https://scikit-learn.org/stable/modules/linear_model.html#logistic-regression\n",
      "  n_iter_i = _check_optimize_result(\n",
      "/Users/DanielChung/.julia/conda/3/lib/python3.9/site-packages/sklearn/linear_model/_logistic.py:444: ConvergenceWarning: lbfgs failed to converge (status=1):\n",
      "STOP: TOTAL NO. of ITERATIONS REACHED LIMIT.\n",
      "\n",
      "Increase the number of iterations (max_iter) or scale the data as shown in:\n",
      "    https://scikit-learn.org/stable/modules/preprocessing.html\n",
      "Please also refer to the documentation for alternative solver options:\n",
      "    https://scikit-learn.org/stable/modules/linear_model.html#logistic-regression\n",
      "  n_iter_i = _check_optimize_result(\n",
      "/Users/DanielChung/.julia/conda/3/lib/python3.9/site-packages/sklearn/linear_model/_logistic.py:1113: UserWarning: Setting penalty='none' will ignore the C and l1_ratio parameters\n",
      "  warnings.warn(\n",
      "/Users/DanielChung/.julia/conda/3/lib/python3.9/site-packages/sklearn/linear_model/_logistic.py:444: ConvergenceWarning: lbfgs failed to converge (status=1):\n",
      "STOP: TOTAL NO. of ITERATIONS REACHED LIMIT.\n",
      "\n",
      "Increase the number of iterations (max_iter) or scale the data as shown in:\n",
      "    https://scikit-learn.org/stable/modules/preprocessing.html\n",
      "Please also refer to the documentation for alternative solver options:\n",
      "    https://scikit-learn.org/stable/modules/linear_model.html#logistic-regression\n",
      "  n_iter_i = _check_optimize_result(\n",
      "/Users/DanielChung/.julia/conda/3/lib/python3.9/site-packages/sklearn/linear_model/_logistic.py:444: ConvergenceWarning: lbfgs failed to converge (status=1):\n",
      "STOP: TOTAL NO. of ITERATIONS REACHED LIMIT.\n",
      "\n",
      "Increase the number of iterations (max_iter) or scale the data as shown in:\n",
      "    https://scikit-learn.org/stable/modules/preprocessing.html\n",
      "Please also refer to the documentation for alternative solver options:\n",
      "    https://scikit-learn.org/stable/modules/linear_model.html#logistic-regression\n",
      "  n_iter_i = _check_optimize_result(\n",
      "/Users/DanielChung/.julia/conda/3/lib/python3.9/site-packages/sklearn/linear_model/_logistic.py:444: ConvergenceWarning: lbfgs failed to converge (status=1):\n",
      "STOP: TOTAL NO. of ITERATIONS REACHED LIMIT.\n",
      "\n",
      "Increase the number of iterations (max_iter) or scale the data as shown in:\n",
      "    https://scikit-learn.org/stable/modules/preprocessing.html\n",
      "Please also refer to the documentation for alternative solver options:\n",
      "    https://scikit-learn.org/stable/modules/linear_model.html#logistic-regression\n",
      "  n_iter_i = _check_optimize_result(\n",
      "/Users/DanielChung/.julia/conda/3/lib/python3.9/site-packages/sklearn/linear_model/_logistic.py:444: ConvergenceWarning: lbfgs failed to converge (status=1):\n",
      "STOP: TOTAL NO. of ITERATIONS REACHED LIMIT.\n",
      "\n",
      "Increase the number of iterations (max_iter) or scale the data as shown in:\n",
      "    https://scikit-learn.org/stable/modules/preprocessing.html\n",
      "Please also refer to the documentation for alternative solver options:\n",
      "    https://scikit-learn.org/stable/modules/linear_model.html#logistic-regression\n",
      "  n_iter_i = _check_optimize_result(\n",
      "/Users/DanielChung/.julia/conda/3/lib/python3.9/site-packages/sklearn/linear_model/_logistic.py:444: ConvergenceWarning: lbfgs failed to converge (status=1):\n",
      "STOP: TOTAL NO. of ITERATIONS REACHED LIMIT.\n",
      "\n",
      "Increase the number of iterations (max_iter) or scale the data as shown in:\n",
      "    https://scikit-learn.org/stable/modules/preprocessing.html\n",
      "Please also refer to the documentation for alternative solver options:\n",
      "    https://scikit-learn.org/stable/modules/linear_model.html#logistic-regression\n",
      "  n_iter_i = _check_optimize_result(\n",
      "/Users/DanielChung/.julia/conda/3/lib/python3.9/site-packages/sklearn/linear_model/_logistic.py:444: ConvergenceWarning: lbfgs failed to converge (status=1):\n",
      "STOP: TOTAL NO. of ITERATIONS REACHED LIMIT.\n",
      "\n",
      "Increase the number of iterations (max_iter) or scale the data as shown in:\n",
      "    https://scikit-learn.org/stable/modules/preprocessing.html\n",
      "Please also refer to the documentation for alternative solver options:\n",
      "    https://scikit-learn.org/stable/modules/linear_model.html#logistic-regression\n",
      "  n_iter_i = _check_optimize_result(\n",
      "/Users/DanielChung/.julia/conda/3/lib/python3.9/site-packages/sklearn/linear_model/_logistic.py:1113: UserWarning: Setting penalty='none' will ignore the C and l1_ratio parameters\n",
      "  warnings.warn(\n",
      "/Users/DanielChung/.julia/conda/3/lib/python3.9/site-packages/sklearn/linear_model/_logistic.py:1113: UserWarning: Setting penalty='none' will ignore the C and l1_ratio parameters\n",
      "  warnings.warn(\n",
      "/Users/DanielChung/.julia/conda/3/lib/python3.9/site-packages/sklearn/linear_model/_logistic.py:444: ConvergenceWarning: lbfgs failed to converge (status=1):\n",
      "STOP: TOTAL NO. of ITERATIONS REACHED LIMIT.\n",
      "\n",
      "Increase the number of iterations (max_iter) or scale the data as shown in:\n",
      "    https://scikit-learn.org/stable/modules/preprocessing.html\n",
      "Please also refer to the documentation for alternative solver options:\n",
      "    https://scikit-learn.org/stable/modules/linear_model.html#logistic-regression\n",
      "  n_iter_i = _check_optimize_result(\n",
      "/Users/DanielChung/.julia/conda/3/lib/python3.9/site-packages/sklearn/linear_model/_logistic.py:444: ConvergenceWarning: lbfgs failed to converge (status=1):\n",
      "STOP: TOTAL NO. of ITERATIONS REACHED LIMIT.\n",
      "\n",
      "Increase the number of iterations (max_iter) or scale the data as shown in:\n",
      "    https://scikit-learn.org/stable/modules/preprocessing.html\n",
      "Please also refer to the documentation for alternative solver options:\n",
      "    https://scikit-learn.org/stable/modules/linear_model.html#logistic-regression\n",
      "  n_iter_i = _check_optimize_result(\n",
      "/Users/DanielChung/.julia/conda/3/lib/python3.9/site-packages/sklearn/linear_model/_logistic.py:444: ConvergenceWarning: lbfgs failed to converge (status=1):\n",
      "STOP: TOTAL NO. of ITERATIONS REACHED LIMIT.\n",
      "\n",
      "Increase the number of iterations (max_iter) or scale the data as shown in:\n",
      "    https://scikit-learn.org/stable/modules/preprocessing.html\n",
      "Please also refer to the documentation for alternative solver options:\n",
      "    https://scikit-learn.org/stable/modules/linear_model.html#logistic-regression\n",
      "  n_iter_i = _check_optimize_result(\n",
      "/Users/DanielChung/.julia/conda/3/lib/python3.9/site-packages/sklearn/linear_model/_logistic.py:444: ConvergenceWarning: lbfgs failed to converge (status=1):\n",
      "STOP: TOTAL NO. of ITERATIONS REACHED LIMIT.\n",
      "\n",
      "Increase the number of iterations (max_iter) or scale the data as shown in:\n",
      "    https://scikit-learn.org/stable/modules/preprocessing.html\n",
      "Please also refer to the documentation for alternative solver options:\n",
      "    https://scikit-learn.org/stable/modules/linear_model.html#logistic-regression\n",
      "  n_iter_i = _check_optimize_result(\n",
      "/Users/DanielChung/.julia/conda/3/lib/python3.9/site-packages/sklearn/linear_model/_logistic.py:444: ConvergenceWarning: lbfgs failed to converge (status=1):\n",
      "STOP: TOTAL NO. of ITERATIONS REACHED LIMIT.\n",
      "\n",
      "Increase the number of iterations (max_iter) or scale the data as shown in:\n",
      "    https://scikit-learn.org/stable/modules/preprocessing.html\n",
      "Please also refer to the documentation for alternative solver options:\n",
      "    https://scikit-learn.org/stable/modules/linear_model.html#logistic-regression\n",
      "  n_iter_i = _check_optimize_result(\n",
      "/Users/DanielChung/.julia/conda/3/lib/python3.9/site-packages/sklearn/linear_model/_logistic.py:1113: UserWarning: Setting penalty='none' will ignore the C and l1_ratio parameters\n",
      "  warnings.warn(\n",
      "/Users/DanielChung/.julia/conda/3/lib/python3.9/site-packages/sklearn/linear_model/_logistic.py:444: ConvergenceWarning: lbfgs failed to converge (status=1):\n",
      "STOP: TOTAL NO. of ITERATIONS REACHED LIMIT.\n",
      "\n",
      "Increase the number of iterations (max_iter) or scale the data as shown in:\n",
      "    https://scikit-learn.org/stable/modules/preprocessing.html\n",
      "Please also refer to the documentation for alternative solver options:\n",
      "    https://scikit-learn.org/stable/modules/linear_model.html#logistic-regression\n",
      "  n_iter_i = _check_optimize_result(\n",
      "/Users/DanielChung/.julia/conda/3/lib/python3.9/site-packages/sklearn/linear_model/_logistic.py:444: ConvergenceWarning: lbfgs failed to converge (status=1):\n",
      "STOP: TOTAL NO. of ITERATIONS REACHED LIMIT.\n",
      "\n",
      "Increase the number of iterations (max_iter) or scale the data as shown in:\n",
      "    https://scikit-learn.org/stable/modules/preprocessing.html\n",
      "Please also refer to the documentation for alternative solver options:\n",
      "    https://scikit-learn.org/stable/modules/linear_model.html#logistic-regression\n",
      "  n_iter_i = _check_optimize_result(\n",
      "/Users/DanielChung/.julia/conda/3/lib/python3.9/site-packages/sklearn/linear_model/_logistic.py:1113: UserWarning: Setting penalty='none' will ignore the C and l1_ratio parameters\n",
      "  warnings.warn(\n",
      "/Users/DanielChung/.julia/conda/3/lib/python3.9/site-packages/sklearn/linear_model/_logistic.py:444: ConvergenceWarning: lbfgs failed to converge (status=1):\n",
      "STOP: TOTAL NO. of ITERATIONS REACHED LIMIT.\n",
      "\n",
      "Increase the number of iterations (max_iter) or scale the data as shown in:\n",
      "    https://scikit-learn.org/stable/modules/preprocessing.html\n",
      "Please also refer to the documentation for alternative solver options:\n",
      "    https://scikit-learn.org/stable/modules/linear_model.html#logistic-regression\n",
      "  n_iter_i = _check_optimize_result(\n",
      "/Users/DanielChung/.julia/conda/3/lib/python3.9/site-packages/sklearn/linear_model/_logistic.py:444: ConvergenceWarning: lbfgs failed to converge (status=1):\n",
      "STOP: TOTAL NO. of ITERATIONS REACHED LIMIT.\n",
      "\n",
      "Increase the number of iterations (max_iter) or scale the data as shown in:\n",
      "    https://scikit-learn.org/stable/modules/preprocessing.html\n",
      "Please also refer to the documentation for alternative solver options:\n",
      "    https://scikit-learn.org/stable/modules/linear_model.html#logistic-regression\n",
      "  n_iter_i = _check_optimize_result(\n",
      "/Users/DanielChung/.julia/conda/3/lib/python3.9/site-packages/sklearn/linear_model/_logistic.py:1113: UserWarning: Setting penalty='none' will ignore the C and l1_ratio parameters\n",
      "  warnings.warn(\n",
      "/Users/DanielChung/.julia/conda/3/lib/python3.9/site-packages/sklearn/linear_model/_logistic.py:444: ConvergenceWarning: lbfgs failed to converge (status=1):\n",
      "STOP: TOTAL NO. of ITERATIONS REACHED LIMIT.\n",
      "\n",
      "Increase the number of iterations (max_iter) or scale the data as shown in:\n",
      "    https://scikit-learn.org/stable/modules/preprocessing.html\n",
      "Please also refer to the documentation for alternative solver options:\n",
      "    https://scikit-learn.org/stable/modules/linear_model.html#logistic-regression\n",
      "  n_iter_i = _check_optimize_result(\n",
      "/Users/DanielChung/.julia/conda/3/lib/python3.9/site-packages/sklearn/linear_model/_logistic.py:1113: UserWarning: Setting penalty='none' will ignore the C and l1_ratio parameters\n",
      "  warnings.warn(\n",
      "/Users/DanielChung/.julia/conda/3/lib/python3.9/site-packages/sklearn/linear_model/_logistic.py:444: ConvergenceWarning: lbfgs failed to converge (status=1):\n",
      "STOP: TOTAL NO. of ITERATIONS REACHED LIMIT.\n",
      "\n",
      "Increase the number of iterations (max_iter) or scale the data as shown in:\n",
      "    https://scikit-learn.org/stable/modules/preprocessing.html\n",
      "Please also refer to the documentation for alternative solver options:\n",
      "    https://scikit-learn.org/stable/modules/linear_model.html#logistic-regression\n",
      "  n_iter_i = _check_optimize_result(\n",
      "/Users/DanielChung/.julia/conda/3/lib/python3.9/site-packages/sklearn/linear_model/_logistic.py:1113: UserWarning: Setting penalty='none' will ignore the C and l1_ratio parameters\n",
      "  warnings.warn(\n",
      "/Users/DanielChung/.julia/conda/3/lib/python3.9/site-packages/sklearn/linear_model/_logistic.py:1113: UserWarning: Setting penalty='none' will ignore the C and l1_ratio parameters\n",
      "  warnings.warn(\n",
      "/Users/DanielChung/.julia/conda/3/lib/python3.9/site-packages/sklearn/linear_model/_logistic.py:444: ConvergenceWarning: lbfgs failed to converge (status=1):\n",
      "STOP: TOTAL NO. of ITERATIONS REACHED LIMIT.\n",
      "\n",
      "Increase the number of iterations (max_iter) or scale the data as shown in:\n",
      "    https://scikit-learn.org/stable/modules/preprocessing.html\n",
      "Please also refer to the documentation for alternative solver options:\n",
      "    https://scikit-learn.org/stable/modules/linear_model.html#logistic-regression\n",
      "  n_iter_i = _check_optimize_result(\n",
      "/Users/DanielChung/.julia/conda/3/lib/python3.9/site-packages/sklearn/linear_model/_logistic.py:444: ConvergenceWarning: lbfgs failed to converge (status=1):\n",
      "STOP: TOTAL NO. of ITERATIONS REACHED LIMIT.\n",
      "\n",
      "Increase the number of iterations (max_iter) or scale the data as shown in:\n",
      "    https://scikit-learn.org/stable/modules/preprocessing.html\n",
      "Please also refer to the documentation for alternative solver options:\n",
      "    https://scikit-learn.org/stable/modules/linear_model.html#logistic-regression\n",
      "  n_iter_i = _check_optimize_result(\n",
      "/Users/DanielChung/.julia/conda/3/lib/python3.9/site-packages/sklearn/linear_model/_logistic.py:444: ConvergenceWarning: lbfgs failed to converge (status=1):\n",
      "STOP: TOTAL NO. of ITERATIONS REACHED LIMIT.\n",
      "\n",
      "Increase the number of iterations (max_iter) or scale the data as shown in:\n",
      "    https://scikit-learn.org/stable/modules/preprocessing.html\n",
      "Please also refer to the documentation for alternative solver options:\n",
      "    https://scikit-learn.org/stable/modules/linear_model.html#logistic-regression\n",
      "  n_iter_i = _check_optimize_result(\n",
      "/Users/DanielChung/.julia/conda/3/lib/python3.9/site-packages/sklearn/linear_model/_logistic.py:444: ConvergenceWarning: lbfgs failed to converge (status=1):\n",
      "STOP: TOTAL NO. of ITERATIONS REACHED LIMIT.\n",
      "\n",
      "Increase the number of iterations (max_iter) or scale the data as shown in:\n",
      "    https://scikit-learn.org/stable/modules/preprocessing.html\n",
      "Please also refer to the documentation for alternative solver options:\n",
      "    https://scikit-learn.org/stable/modules/linear_model.html#logistic-regression\n",
      "  n_iter_i = _check_optimize_result(\n",
      "/Users/DanielChung/.julia/conda/3/lib/python3.9/site-packages/sklearn/linear_model/_logistic.py:1113: UserWarning: Setting penalty='none' will ignore the C and l1_ratio parameters\n",
      "  warnings.warn(\n",
      "/Users/DanielChung/.julia/conda/3/lib/python3.9/site-packages/sklearn/linear_model/_logistic.py:1113: UserWarning: Setting penalty='none' will ignore the C and l1_ratio parameters\n",
      "  warnings.warn(\n",
      "/Users/DanielChung/.julia/conda/3/lib/python3.9/site-packages/sklearn/linear_model/_logistic.py:444: ConvergenceWarning: lbfgs failed to converge (status=1):\n",
      "STOP: TOTAL NO. of ITERATIONS REACHED LIMIT.\n",
      "\n",
      "Increase the number of iterations (max_iter) or scale the data as shown in:\n",
      "    https://scikit-learn.org/stable/modules/preprocessing.html\n",
      "Please also refer to the documentation for alternative solver options:\n",
      "    https://scikit-learn.org/stable/modules/linear_model.html#logistic-regression\n",
      "  n_iter_i = _check_optimize_result(\n",
      "/Users/DanielChung/.julia/conda/3/lib/python3.9/site-packages/sklearn/linear_model/_logistic.py:1113: UserWarning: Setting penalty='none' will ignore the C and l1_ratio parameters\n",
      "  warnings.warn(\n",
      "/Users/DanielChung/.julia/conda/3/lib/python3.9/site-packages/sklearn/linear_model/_logistic.py:444: ConvergenceWarning: lbfgs failed to converge (status=1):\n",
      "STOP: TOTAL NO. of ITERATIONS REACHED LIMIT.\n",
      "\n",
      "Increase the number of iterations (max_iter) or scale the data as shown in:\n",
      "    https://scikit-learn.org/stable/modules/preprocessing.html\n",
      "Please also refer to the documentation for alternative solver options:\n",
      "    https://scikit-learn.org/stable/modules/linear_model.html#logistic-regression\n",
      "  n_iter_i = _check_optimize_result(\n",
      "/Users/DanielChung/.julia/conda/3/lib/python3.9/site-packages/sklearn/linear_model/_logistic.py:444: ConvergenceWarning: lbfgs failed to converge (status=1):\n",
      "STOP: TOTAL NO. of ITERATIONS REACHED LIMIT.\n",
      "\n",
      "Increase the number of iterations (max_iter) or scale the data as shown in:\n",
      "    https://scikit-learn.org/stable/modules/preprocessing.html\n",
      "Please also refer to the documentation for alternative solver options:\n",
      "    https://scikit-learn.org/stable/modules/linear_model.html#logistic-regression\n",
      "  n_iter_i = _check_optimize_result(\n",
      "/Users/DanielChung/.julia/conda/3/lib/python3.9/site-packages/sklearn/linear_model/_logistic.py:1113: UserWarning: Setting penalty='none' will ignore the C and l1_ratio parameters\n",
      "  warnings.warn(\n",
      "/Users/DanielChung/.julia/conda/3/lib/python3.9/site-packages/sklearn/linear_model/_logistic.py:444: ConvergenceWarning: lbfgs failed to converge (status=1):\n",
      "STOP: TOTAL NO. of ITERATIONS REACHED LIMIT.\n",
      "\n",
      "Increase the number of iterations (max_iter) or scale the data as shown in:\n",
      "    https://scikit-learn.org/stable/modules/preprocessing.html\n",
      "Please also refer to the documentation for alternative solver options:\n",
      "    https://scikit-learn.org/stable/modules/linear_model.html#logistic-regression\n",
      "  n_iter_i = _check_optimize_result(\n",
      "/Users/DanielChung/.julia/conda/3/lib/python3.9/site-packages/sklearn/linear_model/_logistic.py:444: ConvergenceWarning: lbfgs failed to converge (status=1):\n",
      "STOP: TOTAL NO. of ITERATIONS REACHED LIMIT.\n",
      "\n",
      "Increase the number of iterations (max_iter) or scale the data as shown in:\n",
      "    https://scikit-learn.org/stable/modules/preprocessing.html\n",
      "Please also refer to the documentation for alternative solver options:\n",
      "    https://scikit-learn.org/stable/modules/linear_model.html#logistic-regression\n",
      "  n_iter_i = _check_optimize_result(\n",
      "/Users/DanielChung/.julia/conda/3/lib/python3.9/site-packages/sklearn/linear_model/_logistic.py:1113: UserWarning: Setting penalty='none' will ignore the C and l1_ratio parameters\n",
      "  warnings.warn(\n",
      "/Users/DanielChung/.julia/conda/3/lib/python3.9/site-packages/sklearn/linear_model/_logistic.py:444: ConvergenceWarning: lbfgs failed to converge (status=1):\n",
      "STOP: TOTAL NO. of ITERATIONS REACHED LIMIT.\n",
      "\n",
      "Increase the number of iterations (max_iter) or scale the data as shown in:\n",
      "    https://scikit-learn.org/stable/modules/preprocessing.html\n",
      "Please also refer to the documentation for alternative solver options:\n",
      "    https://scikit-learn.org/stable/modules/linear_model.html#logistic-regression\n",
      "  n_iter_i = _check_optimize_result(\n",
      "/Users/DanielChung/.julia/conda/3/lib/python3.9/site-packages/sklearn/linear_model/_logistic.py:1113: UserWarning: Setting penalty='none' will ignore the C and l1_ratio parameters\n",
      "  warnings.warn(\n",
      "/Users/DanielChung/.julia/conda/3/lib/python3.9/site-packages/sklearn/linear_model/_logistic.py:444: ConvergenceWarning: lbfgs failed to converge (status=1):\n",
      "STOP: TOTAL NO. of ITERATIONS REACHED LIMIT.\n",
      "\n",
      "Increase the number of iterations (max_iter) or scale the data as shown in:\n",
      "    https://scikit-learn.org/stable/modules/preprocessing.html\n",
      "Please also refer to the documentation for alternative solver options:\n",
      "    https://scikit-learn.org/stable/modules/linear_model.html#logistic-regression\n",
      "  n_iter_i = _check_optimize_result(\n",
      "/Users/DanielChung/.julia/conda/3/lib/python3.9/site-packages/sklearn/linear_model/_logistic.py:444: ConvergenceWarning: lbfgs failed to converge (status=1):\n",
      "STOP: TOTAL NO. of ITERATIONS REACHED LIMIT.\n",
      "\n",
      "Increase the number of iterations (max_iter) or scale the data as shown in:\n",
      "    https://scikit-learn.org/stable/modules/preprocessing.html\n",
      "Please also refer to the documentation for alternative solver options:\n",
      "    https://scikit-learn.org/stable/modules/linear_model.html#logistic-regression\n",
      "  n_iter_i = _check_optimize_result(\n",
      "/Users/DanielChung/.julia/conda/3/lib/python3.9/site-packages/sklearn/linear_model/_logistic.py:444: ConvergenceWarning: lbfgs failed to converge (status=1):\n",
      "STOP: TOTAL NO. of ITERATIONS REACHED LIMIT.\n",
      "\n",
      "Increase the number of iterations (max_iter) or scale the data as shown in:\n",
      "    https://scikit-learn.org/stable/modules/preprocessing.html\n",
      "Please also refer to the documentation for alternative solver options:\n",
      "    https://scikit-learn.org/stable/modules/linear_model.html#logistic-regression\n",
      "  n_iter_i = _check_optimize_result(\n",
      "/Users/DanielChung/.julia/conda/3/lib/python3.9/site-packages/sklearn/linear_model/_logistic.py:444: ConvergenceWarning: lbfgs failed to converge (status=1):\n",
      "STOP: TOTAL NO. of ITERATIONS REACHED LIMIT.\n",
      "\n",
      "Increase the number of iterations (max_iter) or scale the data as shown in:\n",
      "    https://scikit-learn.org/stable/modules/preprocessing.html\n",
      "Please also refer to the documentation for alternative solver options:\n",
      "    https://scikit-learn.org/stable/modules/linear_model.html#logistic-regression\n",
      "  n_iter_i = _check_optimize_result(\n",
      "/Users/DanielChung/.julia/conda/3/lib/python3.9/site-packages/sklearn/linear_model/_logistic.py:444: ConvergenceWarning: lbfgs failed to converge (status=1):\n",
      "STOP: TOTAL NO. of ITERATIONS REACHED LIMIT.\n",
      "\n",
      "Increase the number of iterations (max_iter) or scale the data as shown in:\n",
      "    https://scikit-learn.org/stable/modules/preprocessing.html\n",
      "Please also refer to the documentation for alternative solver options:\n",
      "    https://scikit-learn.org/stable/modules/linear_model.html#logistic-regression\n",
      "  n_iter_i = _check_optimize_result(\n",
      "/Users/DanielChung/.julia/conda/3/lib/python3.9/site-packages/sklearn/linear_model/_logistic.py:1113: UserWarning: Setting penalty='none' will ignore the C and l1_ratio parameters\n",
      "  warnings.warn(\n",
      "/Users/DanielChung/.julia/conda/3/lib/python3.9/site-packages/sklearn/linear_model/_logistic.py:1113: UserWarning: Setting penalty='none' will ignore the C and l1_ratio parameters\n",
      "  warnings.warn(\n",
      "/Users/DanielChung/.julia/conda/3/lib/python3.9/site-packages/sklearn/linear_model/_logistic.py:444: ConvergenceWarning: lbfgs failed to converge (status=1):\n",
      "STOP: TOTAL NO. of ITERATIONS REACHED LIMIT.\n",
      "\n",
      "Increase the number of iterations (max_iter) or scale the data as shown in:\n",
      "    https://scikit-learn.org/stable/modules/preprocessing.html\n",
      "Please also refer to the documentation for alternative solver options:\n",
      "    https://scikit-learn.org/stable/modules/linear_model.html#logistic-regression\n",
      "  n_iter_i = _check_optimize_result(\n",
      "/Users/DanielChung/.julia/conda/3/lib/python3.9/site-packages/sklearn/linear_model/_logistic.py:444: ConvergenceWarning: lbfgs failed to converge (status=1):\n",
      "STOP: TOTAL NO. of ITERATIONS REACHED LIMIT.\n",
      "\n",
      "Increase the number of iterations (max_iter) or scale the data as shown in:\n",
      "    https://scikit-learn.org/stable/modules/preprocessing.html\n",
      "Please also refer to the documentation for alternative solver options:\n",
      "    https://scikit-learn.org/stable/modules/linear_model.html#logistic-regression\n",
      "  n_iter_i = _check_optimize_result(\n",
      "/Users/DanielChung/.julia/conda/3/lib/python3.9/site-packages/sklearn/linear_model/_logistic.py:444: ConvergenceWarning: lbfgs failed to converge (status=1):\n",
      "STOP: TOTAL NO. of ITERATIONS REACHED LIMIT.\n",
      "\n",
      "Increase the number of iterations (max_iter) or scale the data as shown in:\n",
      "    https://scikit-learn.org/stable/modules/preprocessing.html\n",
      "Please also refer to the documentation for alternative solver options:\n",
      "    https://scikit-learn.org/stable/modules/linear_model.html#logistic-regression\n",
      "  n_iter_i = _check_optimize_result(\n",
      "/Users/DanielChung/.julia/conda/3/lib/python3.9/site-packages/sklearn/linear_model/_logistic.py:444: ConvergenceWarning: lbfgs failed to converge (status=1):\n",
      "STOP: TOTAL NO. of ITERATIONS REACHED LIMIT.\n",
      "\n",
      "Increase the number of iterations (max_iter) or scale the data as shown in:\n",
      "    https://scikit-learn.org/stable/modules/preprocessing.html\n",
      "Please also refer to the documentation for alternative solver options:\n",
      "    https://scikit-learn.org/stable/modules/linear_model.html#logistic-regression\n",
      "  n_iter_i = _check_optimize_result(\n",
      "/Users/DanielChung/.julia/conda/3/lib/python3.9/site-packages/sklearn/linear_model/_logistic.py:1113: UserWarning: Setting penalty='none' will ignore the C and l1_ratio parameters\n",
      "  warnings.warn(\n",
      "/Users/DanielChung/.julia/conda/3/lib/python3.9/site-packages/sklearn/linear_model/_logistic.py:444: ConvergenceWarning: lbfgs failed to converge (status=1):\n",
      "STOP: TOTAL NO. of ITERATIONS REACHED LIMIT.\n",
      "\n",
      "Increase the number of iterations (max_iter) or scale the data as shown in:\n",
      "    https://scikit-learn.org/stable/modules/preprocessing.html\n",
      "Please also refer to the documentation for alternative solver options:\n",
      "    https://scikit-learn.org/stable/modules/linear_model.html#logistic-regression\n",
      "  n_iter_i = _check_optimize_result(\n",
      "/Users/DanielChung/.julia/conda/3/lib/python3.9/site-packages/sklearn/linear_model/_logistic.py:444: ConvergenceWarning: lbfgs failed to converge (status=1):\n",
      "STOP: TOTAL NO. of ITERATIONS REACHED LIMIT.\n",
      "\n",
      "Increase the number of iterations (max_iter) or scale the data as shown in:\n",
      "    https://scikit-learn.org/stable/modules/preprocessing.html\n",
      "Please also refer to the documentation for alternative solver options:\n",
      "    https://scikit-learn.org/stable/modules/linear_model.html#logistic-regression\n",
      "  n_iter_i = _check_optimize_result(\n",
      "/Users/DanielChung/.julia/conda/3/lib/python3.9/site-packages/sklearn/linear_model/_logistic.py:444: ConvergenceWarning: lbfgs failed to converge (status=1):\n",
      "STOP: TOTAL NO. of ITERATIONS REACHED LIMIT.\n",
      "\n",
      "Increase the number of iterations (max_iter) or scale the data as shown in:\n",
      "    https://scikit-learn.org/stable/modules/preprocessing.html\n",
      "Please also refer to the documentation for alternative solver options:\n",
      "    https://scikit-learn.org/stable/modules/linear_model.html#logistic-regression\n",
      "  n_iter_i = _check_optimize_result(\n",
      "/Users/DanielChung/.julia/conda/3/lib/python3.9/site-packages/sklearn/linear_model/_logistic.py:444: ConvergenceWarning: lbfgs failed to converge (status=1):\n",
      "STOP: TOTAL NO. of ITERATIONS REACHED LIMIT.\n",
      "\n",
      "Increase the number of iterations (max_iter) or scale the data as shown in:\n",
      "    https://scikit-learn.org/stable/modules/preprocessing.html\n",
      "Please also refer to the documentation for alternative solver options:\n",
      "    https://scikit-learn.org/stable/modules/linear_model.html#logistic-regression\n",
      "  n_iter_i = _check_optimize_result(\n",
      "/Users/DanielChung/.julia/conda/3/lib/python3.9/site-packages/sklearn/linear_model/_logistic.py:1113: UserWarning: Setting penalty='none' will ignore the C and l1_ratio parameters\n",
      "  warnings.warn(\n",
      "/Users/DanielChung/.julia/conda/3/lib/python3.9/site-packages/sklearn/linear_model/_logistic.py:444: ConvergenceWarning: lbfgs failed to converge (status=1):\n",
      "STOP: TOTAL NO. of ITERATIONS REACHED LIMIT.\n",
      "\n",
      "Increase the number of iterations (max_iter) or scale the data as shown in:\n",
      "    https://scikit-learn.org/stable/modules/preprocessing.html\n",
      "Please also refer to the documentation for alternative solver options:\n",
      "    https://scikit-learn.org/stable/modules/linear_model.html#logistic-regression\n",
      "  n_iter_i = _check_optimize_result(\n",
      "/Users/DanielChung/.julia/conda/3/lib/python3.9/site-packages/sklearn/linear_model/_logistic.py:444: ConvergenceWarning: lbfgs failed to converge (status=1):\n",
      "STOP: TOTAL NO. of ITERATIONS REACHED LIMIT.\n",
      "\n",
      "Increase the number of iterations (max_iter) or scale the data as shown in:\n",
      "    https://scikit-learn.org/stable/modules/preprocessing.html\n",
      "Please also refer to the documentation for alternative solver options:\n",
      "    https://scikit-learn.org/stable/modules/linear_model.html#logistic-regression\n",
      "  n_iter_i = _check_optimize_result(\n",
      "/Users/DanielChung/.julia/conda/3/lib/python3.9/site-packages/sklearn/linear_model/_logistic.py:1113: UserWarning: Setting penalty='none' will ignore the C and l1_ratio parameters\n",
      "  warnings.warn(\n",
      "/Users/DanielChung/.julia/conda/3/lib/python3.9/site-packages/sklearn/linear_model/_logistic.py:1113: UserWarning: Setting penalty='none' will ignore the C and l1_ratio parameters\n",
      "  warnings.warn(\n",
      "/Users/DanielChung/.julia/conda/3/lib/python3.9/site-packages/sklearn/linear_model/_logistic.py:444: ConvergenceWarning: lbfgs failed to converge (status=1):\n",
      "STOP: TOTAL NO. of ITERATIONS REACHED LIMIT.\n",
      "\n",
      "Increase the number of iterations (max_iter) or scale the data as shown in:\n",
      "    https://scikit-learn.org/stable/modules/preprocessing.html\n",
      "Please also refer to the documentation for alternative solver options:\n",
      "    https://scikit-learn.org/stable/modules/linear_model.html#logistic-regression\n",
      "  n_iter_i = _check_optimize_result(\n",
      "/Users/DanielChung/.julia/conda/3/lib/python3.9/site-packages/sklearn/linear_model/_logistic.py:444: ConvergenceWarning: lbfgs failed to converge (status=1):\n",
      "STOP: TOTAL NO. of ITERATIONS REACHED LIMIT.\n",
      "\n",
      "Increase the number of iterations (max_iter) or scale the data as shown in:\n",
      "    https://scikit-learn.org/stable/modules/preprocessing.html\n",
      "Please also refer to the documentation for alternative solver options:\n",
      "    https://scikit-learn.org/stable/modules/linear_model.html#logistic-regression\n",
      "  n_iter_i = _check_optimize_result(\n",
      "/Users/DanielChung/.julia/conda/3/lib/python3.9/site-packages/sklearn/linear_model/_logistic.py:444: ConvergenceWarning: lbfgs failed to converge (status=1):\n",
      "STOP: TOTAL NO. of ITERATIONS REACHED LIMIT.\n",
      "\n",
      "Increase the number of iterations (max_iter) or scale the data as shown in:\n",
      "    https://scikit-learn.org/stable/modules/preprocessing.html\n",
      "Please also refer to the documentation for alternative solver options:\n",
      "    https://scikit-learn.org/stable/modules/linear_model.html#logistic-regression\n",
      "  n_iter_i = _check_optimize_result(\n",
      "/Users/DanielChung/.julia/conda/3/lib/python3.9/site-packages/sklearn/linear_model/_logistic.py:444: ConvergenceWarning: lbfgs failed to converge (status=1):\n",
      "STOP: TOTAL NO. of ITERATIONS REACHED LIMIT.\n",
      "\n",
      "Increase the number of iterations (max_iter) or scale the data as shown in:\n",
      "    https://scikit-learn.org/stable/modules/preprocessing.html\n",
      "Please also refer to the documentation for alternative solver options:\n",
      "    https://scikit-learn.org/stable/modules/linear_model.html#logistic-regression\n",
      "  n_iter_i = _check_optimize_result(\n",
      "/Users/DanielChung/.julia/conda/3/lib/python3.9/site-packages/sklearn/linear_model/_logistic.py:1113: UserWarning: Setting penalty='none' will ignore the C and l1_ratio parameters\n",
      "  warnings.warn(\n",
      "/Users/DanielChung/.julia/conda/3/lib/python3.9/site-packages/sklearn/linear_model/_logistic.py:444: ConvergenceWarning: lbfgs failed to converge (status=1):\n",
      "STOP: TOTAL NO. of ITERATIONS REACHED LIMIT.\n",
      "\n",
      "Increase the number of iterations (max_iter) or scale the data as shown in:\n",
      "    https://scikit-learn.org/stable/modules/preprocessing.html\n",
      "Please also refer to the documentation for alternative solver options:\n",
      "    https://scikit-learn.org/stable/modules/linear_model.html#logistic-regression\n",
      "  n_iter_i = _check_optimize_result(\n",
      "/Users/DanielChung/.julia/conda/3/lib/python3.9/site-packages/sklearn/linear_model/_logistic.py:444: ConvergenceWarning: lbfgs failed to converge (status=1):\n",
      "STOP: TOTAL NO. of ITERATIONS REACHED LIMIT.\n",
      "\n",
      "Increase the number of iterations (max_iter) or scale the data as shown in:\n",
      "    https://scikit-learn.org/stable/modules/preprocessing.html\n",
      "Please also refer to the documentation for alternative solver options:\n",
      "    https://scikit-learn.org/stable/modules/linear_model.html#logistic-regression\n",
      "  n_iter_i = _check_optimize_result(\n",
      "/Users/DanielChung/.julia/conda/3/lib/python3.9/site-packages/sklearn/linear_model/_logistic.py:1113: UserWarning: Setting penalty='none' will ignore the C and l1_ratio parameters\n",
      "  warnings.warn(\n",
      "/Users/DanielChung/.julia/conda/3/lib/python3.9/site-packages/sklearn/linear_model/_logistic.py:444: ConvergenceWarning: lbfgs failed to converge (status=1):\n",
      "STOP: TOTAL NO. of ITERATIONS REACHED LIMIT.\n",
      "\n",
      "Increase the number of iterations (max_iter) or scale the data as shown in:\n",
      "    https://scikit-learn.org/stable/modules/preprocessing.html\n",
      "Please also refer to the documentation for alternative solver options:\n",
      "    https://scikit-learn.org/stable/modules/linear_model.html#logistic-regression\n",
      "  n_iter_i = _check_optimize_result(\n",
      "/Users/DanielChung/.julia/conda/3/lib/python3.9/site-packages/sklearn/linear_model/_logistic.py:1113: UserWarning: Setting penalty='none' will ignore the C and l1_ratio parameters\n",
      "  warnings.warn(\n",
      "/Users/DanielChung/.julia/conda/3/lib/python3.9/site-packages/sklearn/linear_model/_logistic.py:444: ConvergenceWarning: lbfgs failed to converge (status=1):\n",
      "STOP: TOTAL NO. of ITERATIONS REACHED LIMIT.\n",
      "\n",
      "Increase the number of iterations (max_iter) or scale the data as shown in:\n",
      "    https://scikit-learn.org/stable/modules/preprocessing.html\n",
      "Please also refer to the documentation for alternative solver options:\n",
      "    https://scikit-learn.org/stable/modules/linear_model.html#logistic-regression\n",
      "  n_iter_i = _check_optimize_result(\n",
      "/Users/DanielChung/.julia/conda/3/lib/python3.9/site-packages/sklearn/linear_model/_logistic.py:444: ConvergenceWarning: lbfgs failed to converge (status=1):\n",
      "STOP: TOTAL NO. of ITERATIONS REACHED LIMIT.\n",
      "\n",
      "Increase the number of iterations (max_iter) or scale the data as shown in:\n",
      "    https://scikit-learn.org/stable/modules/preprocessing.html\n",
      "Please also refer to the documentation for alternative solver options:\n",
      "    https://scikit-learn.org/stable/modules/linear_model.html#logistic-regression\n",
      "  n_iter_i = _check_optimize_result(\n",
      "/Users/DanielChung/.julia/conda/3/lib/python3.9/site-packages/sklearn/linear_model/_logistic.py:444: ConvergenceWarning: lbfgs failed to converge (status=1):\n",
      "STOP: TOTAL NO. of ITERATIONS REACHED LIMIT.\n",
      "\n",
      "Increase the number of iterations (max_iter) or scale the data as shown in:\n",
      "    https://scikit-learn.org/stable/modules/preprocessing.html\n",
      "Please also refer to the documentation for alternative solver options:\n",
      "    https://scikit-learn.org/stable/modules/linear_model.html#logistic-regression\n",
      "  n_iter_i = _check_optimize_result(\n",
      "/Users/DanielChung/.julia/conda/3/lib/python3.9/site-packages/sklearn/linear_model/_logistic.py:444: ConvergenceWarning: lbfgs failed to converge (status=1):\n",
      "STOP: TOTAL NO. of ITERATIONS REACHED LIMIT.\n",
      "\n",
      "Increase the number of iterations (max_iter) or scale the data as shown in:\n",
      "    https://scikit-learn.org/stable/modules/preprocessing.html\n",
      "Please also refer to the documentation for alternative solver options:\n",
      "    https://scikit-learn.org/stable/modules/linear_model.html#logistic-regression\n",
      "  n_iter_i = _check_optimize_result(\n",
      "/Users/DanielChung/.julia/conda/3/lib/python3.9/site-packages/sklearn/linear_model/_logistic.py:444: ConvergenceWarning: lbfgs failed to converge (status=1):\n",
      "STOP: TOTAL NO. of ITERATIONS REACHED LIMIT.\n",
      "\n",
      "Increase the number of iterations (max_iter) or scale the data as shown in:\n",
      "    https://scikit-learn.org/stable/modules/preprocessing.html\n",
      "Please also refer to the documentation for alternative solver options:\n",
      "    https://scikit-learn.org/stable/modules/linear_model.html#logistic-regression\n",
      "  n_iter_i = _check_optimize_result(\n",
      "/Users/DanielChung/.julia/conda/3/lib/python3.9/site-packages/sklearn/linear_model/_logistic.py:444: ConvergenceWarning: lbfgs failed to converge (status=1):\n",
      "STOP: TOTAL NO. of ITERATIONS REACHED LIMIT.\n",
      "\n",
      "Increase the number of iterations (max_iter) or scale the data as shown in:\n",
      "    https://scikit-learn.org/stable/modules/preprocessing.html\n",
      "Please also refer to the documentation for alternative solver options:\n",
      "    https://scikit-learn.org/stable/modules/linear_model.html#logistic-regression\n",
      "  n_iter_i = _check_optimize_result(\n",
      "/Users/DanielChung/.julia/conda/3/lib/python3.9/site-packages/sklearn/linear_model/_logistic.py:444: ConvergenceWarning: lbfgs failed to converge (status=1):\n",
      "STOP: TOTAL NO. of ITERATIONS REACHED LIMIT.\n",
      "\n",
      "Increase the number of iterations (max_iter) or scale the data as shown in:\n",
      "    https://scikit-learn.org/stable/modules/preprocessing.html\n",
      "Please also refer to the documentation for alternative solver options:\n",
      "    https://scikit-learn.org/stable/modules/linear_model.html#logistic-regression\n",
      "  n_iter_i = _check_optimize_result(\n",
      "/Users/DanielChung/.julia/conda/3/lib/python3.9/site-packages/sklearn/linear_model/_logistic.py:444: ConvergenceWarning: lbfgs failed to converge (status=1):\n",
      "STOP: TOTAL NO. of ITERATIONS REACHED LIMIT.\n",
      "\n",
      "Increase the number of iterations (max_iter) or scale the data as shown in:\n",
      "    https://scikit-learn.org/stable/modules/preprocessing.html\n",
      "Please also refer to the documentation for alternative solver options:\n",
      "    https://scikit-learn.org/stable/modules/linear_model.html#logistic-regression\n",
      "  n_iter_i = _check_optimize_result(\n",
      "/Users/DanielChung/.julia/conda/3/lib/python3.9/site-packages/sklearn/linear_model/_logistic.py:1113: UserWarning: Setting penalty='none' will ignore the C and l1_ratio parameters\n",
      "  warnings.warn(\n",
      "/Users/DanielChung/.julia/conda/3/lib/python3.9/site-packages/sklearn/linear_model/_logistic.py:1113: UserWarning: Setting penalty='none' will ignore the C and l1_ratio parameters\n",
      "  warnings.warn(\n",
      "/Users/DanielChung/.julia/conda/3/lib/python3.9/site-packages/sklearn/linear_model/_logistic.py:444: ConvergenceWarning: lbfgs failed to converge (status=1):\n",
      "STOP: TOTAL NO. of ITERATIONS REACHED LIMIT.\n",
      "\n",
      "Increase the number of iterations (max_iter) or scale the data as shown in:\n",
      "    https://scikit-learn.org/stable/modules/preprocessing.html\n",
      "Please also refer to the documentation for alternative solver options:\n",
      "    https://scikit-learn.org/stable/modules/linear_model.html#logistic-regression\n",
      "  n_iter_i = _check_optimize_result(\n",
      "/Users/DanielChung/.julia/conda/3/lib/python3.9/site-packages/sklearn/linear_model/_logistic.py:444: ConvergenceWarning: lbfgs failed to converge (status=1):\n",
      "STOP: TOTAL NO. of ITERATIONS REACHED LIMIT.\n",
      "\n",
      "Increase the number of iterations (max_iter) or scale the data as shown in:\n",
      "    https://scikit-learn.org/stable/modules/preprocessing.html\n",
      "Please also refer to the documentation for alternative solver options:\n",
      "    https://scikit-learn.org/stable/modules/linear_model.html#logistic-regression\n",
      "  n_iter_i = _check_optimize_result(\n",
      "/Users/DanielChung/.julia/conda/3/lib/python3.9/site-packages/sklearn/linear_model/_logistic.py:444: ConvergenceWarning: lbfgs failed to converge (status=1):\n",
      "STOP: TOTAL NO. of ITERATIONS REACHED LIMIT.\n",
      "\n",
      "Increase the number of iterations (max_iter) or scale the data as shown in:\n",
      "    https://scikit-learn.org/stable/modules/preprocessing.html\n",
      "Please also refer to the documentation for alternative solver options:\n",
      "    https://scikit-learn.org/stable/modules/linear_model.html#logistic-regression\n",
      "  n_iter_i = _check_optimize_result(\n",
      "/Users/DanielChung/.julia/conda/3/lib/python3.9/site-packages/sklearn/linear_model/_logistic.py:444: ConvergenceWarning: lbfgs failed to converge (status=1):\n",
      "STOP: TOTAL NO. of ITERATIONS REACHED LIMIT.\n",
      "\n",
      "Increase the number of iterations (max_iter) or scale the data as shown in:\n",
      "    https://scikit-learn.org/stable/modules/preprocessing.html\n",
      "Please also refer to the documentation for alternative solver options:\n",
      "    https://scikit-learn.org/stable/modules/linear_model.html#logistic-regression\n",
      "  n_iter_i = _check_optimize_result(\n",
      "/Users/DanielChung/.julia/conda/3/lib/python3.9/site-packages/sklearn/linear_model/_logistic.py:444: ConvergenceWarning: lbfgs failed to converge (status=1):\n",
      "STOP: TOTAL NO. of ITERATIONS REACHED LIMIT.\n",
      "\n",
      "Increase the number of iterations (max_iter) or scale the data as shown in:\n",
      "    https://scikit-learn.org/stable/modules/preprocessing.html\n",
      "Please also refer to the documentation for alternative solver options:\n",
      "    https://scikit-learn.org/stable/modules/linear_model.html#logistic-regression\n",
      "  n_iter_i = _check_optimize_result(\n",
      "/Users/DanielChung/.julia/conda/3/lib/python3.9/site-packages/sklearn/linear_model/_logistic.py:1113: UserWarning: Setting penalty='none' will ignore the C and l1_ratio parameters\n",
      "  warnings.warn(\n",
      "/Users/DanielChung/.julia/conda/3/lib/python3.9/site-packages/sklearn/linear_model/_logistic.py:1113: UserWarning: Setting penalty='none' will ignore the C and l1_ratio parameters\n",
      "  warnings.warn(\n",
      "/Users/DanielChung/.julia/conda/3/lib/python3.9/site-packages/sklearn/linear_model/_logistic.py:444: ConvergenceWarning: lbfgs failed to converge (status=1):\n",
      "STOP: TOTAL NO. of ITERATIONS REACHED LIMIT.\n",
      "\n",
      "Increase the number of iterations (max_iter) or scale the data as shown in:\n",
      "    https://scikit-learn.org/stable/modules/preprocessing.html\n",
      "Please also refer to the documentation for alternative solver options:\n",
      "    https://scikit-learn.org/stable/modules/linear_model.html#logistic-regression\n",
      "  n_iter_i = _check_optimize_result(\n",
      "/Users/DanielChung/.julia/conda/3/lib/python3.9/site-packages/sklearn/linear_model/_logistic.py:444: ConvergenceWarning: lbfgs failed to converge (status=1):\n",
      "STOP: TOTAL NO. of ITERATIONS REACHED LIMIT.\n",
      "\n",
      "Increase the number of iterations (max_iter) or scale the data as shown in:\n",
      "    https://scikit-learn.org/stable/modules/preprocessing.html\n",
      "Please also refer to the documentation for alternative solver options:\n",
      "    https://scikit-learn.org/stable/modules/linear_model.html#logistic-regression\n",
      "  n_iter_i = _check_optimize_result(\n",
      "/Users/DanielChung/.julia/conda/3/lib/python3.9/site-packages/sklearn/linear_model/_logistic.py:444: ConvergenceWarning: lbfgs failed to converge (status=1):\n",
      "STOP: TOTAL NO. of ITERATIONS REACHED LIMIT.\n",
      "\n",
      "Increase the number of iterations (max_iter) or scale the data as shown in:\n",
      "    https://scikit-learn.org/stable/modules/preprocessing.html\n",
      "Please also refer to the documentation for alternative solver options:\n",
      "    https://scikit-learn.org/stable/modules/linear_model.html#logistic-regression\n",
      "  n_iter_i = _check_optimize_result(\n",
      "/Users/DanielChung/.julia/conda/3/lib/python3.9/site-packages/sklearn/linear_model/_logistic.py:444: ConvergenceWarning: lbfgs failed to converge (status=1):\n",
      "STOP: TOTAL NO. of ITERATIONS REACHED LIMIT.\n",
      "\n",
      "Increase the number of iterations (max_iter) or scale the data as shown in:\n",
      "    https://scikit-learn.org/stable/modules/preprocessing.html\n",
      "Please also refer to the documentation for alternative solver options:\n",
      "    https://scikit-learn.org/stable/modules/linear_model.html#logistic-regression\n",
      "  n_iter_i = _check_optimize_result(\n",
      "/Users/DanielChung/.julia/conda/3/lib/python3.9/site-packages/sklearn/linear_model/_logistic.py:1113: UserWarning: Setting penalty='none' will ignore the C and l1_ratio parameters\n",
      "  warnings.warn(\n",
      "/Users/DanielChung/.julia/conda/3/lib/python3.9/site-packages/sklearn/linear_model/_logistic.py:444: ConvergenceWarning: lbfgs failed to converge (status=1):\n",
      "STOP: TOTAL NO. of ITERATIONS REACHED LIMIT.\n",
      "\n",
      "Increase the number of iterations (max_iter) or scale the data as shown in:\n",
      "    https://scikit-learn.org/stable/modules/preprocessing.html\n",
      "Please also refer to the documentation for alternative solver options:\n",
      "    https://scikit-learn.org/stable/modules/linear_model.html#logistic-regression\n",
      "  n_iter_i = _check_optimize_result(\n",
      "/Users/DanielChung/.julia/conda/3/lib/python3.9/site-packages/sklearn/linear_model/_logistic.py:1113: UserWarning: Setting penalty='none' will ignore the C and l1_ratio parameters\n",
      "  warnings.warn(\n",
      "/Users/DanielChung/.julia/conda/3/lib/python3.9/site-packages/sklearn/linear_model/_logistic.py:444: ConvergenceWarning: lbfgs failed to converge (status=1):\n",
      "STOP: TOTAL NO. of ITERATIONS REACHED LIMIT.\n",
      "\n",
      "Increase the number of iterations (max_iter) or scale the data as shown in:\n",
      "    https://scikit-learn.org/stable/modules/preprocessing.html\n",
      "Please also refer to the documentation for alternative solver options:\n",
      "    https://scikit-learn.org/stable/modules/linear_model.html#logistic-regression\n",
      "  n_iter_i = _check_optimize_result(\n",
      "/Users/DanielChung/.julia/conda/3/lib/python3.9/site-packages/sklearn/linear_model/_logistic.py:444: ConvergenceWarning: lbfgs failed to converge (status=1):\n",
      "STOP: TOTAL NO. of ITERATIONS REACHED LIMIT.\n",
      "\n",
      "Increase the number of iterations (max_iter) or scale the data as shown in:\n",
      "    https://scikit-learn.org/stable/modules/preprocessing.html\n",
      "Please also refer to the documentation for alternative solver options:\n",
      "    https://scikit-learn.org/stable/modules/linear_model.html#logistic-regression\n",
      "  n_iter_i = _check_optimize_result(\n",
      "/Users/DanielChung/.julia/conda/3/lib/python3.9/site-packages/sklearn/linear_model/_logistic.py:444: ConvergenceWarning: lbfgs failed to converge (status=1):\n",
      "STOP: TOTAL NO. of ITERATIONS REACHED LIMIT.\n",
      "\n",
      "Increase the number of iterations (max_iter) or scale the data as shown in:\n",
      "    https://scikit-learn.org/stable/modules/preprocessing.html\n",
      "Please also refer to the documentation for alternative solver options:\n",
      "    https://scikit-learn.org/stable/modules/linear_model.html#logistic-regression\n",
      "  n_iter_i = _check_optimize_result(\n",
      "/Users/DanielChung/.julia/conda/3/lib/python3.9/site-packages/sklearn/linear_model/_logistic.py:444: ConvergenceWarning: lbfgs failed to converge (status=1):\n",
      "STOP: TOTAL NO. of ITERATIONS REACHED LIMIT.\n",
      "\n",
      "Increase the number of iterations (max_iter) or scale the data as shown in:\n",
      "    https://scikit-learn.org/stable/modules/preprocessing.html\n",
      "Please also refer to the documentation for alternative solver options:\n",
      "    https://scikit-learn.org/stable/modules/linear_model.html#logistic-regression\n",
      "  n_iter_i = _check_optimize_result(\n",
      "/Users/DanielChung/.julia/conda/3/lib/python3.9/site-packages/sklearn/linear_model/_logistic.py:444: ConvergenceWarning: lbfgs failed to converge (status=1):\n",
      "STOP: TOTAL NO. of ITERATIONS REACHED LIMIT.\n",
      "\n",
      "Increase the number of iterations (max_iter) or scale the data as shown in:\n",
      "    https://scikit-learn.org/stable/modules/preprocessing.html\n",
      "Please also refer to the documentation for alternative solver options:\n",
      "    https://scikit-learn.org/stable/modules/linear_model.html#logistic-regression\n",
      "  n_iter_i = _check_optimize_result(\n",
      "/Users/DanielChung/.julia/conda/3/lib/python3.9/site-packages/sklearn/linear_model/_logistic.py:444: ConvergenceWarning: lbfgs failed to converge (status=1):\n",
      "STOP: TOTAL NO. of ITERATIONS REACHED LIMIT.\n",
      "\n",
      "Increase the number of iterations (max_iter) or scale the data as shown in:\n",
      "    https://scikit-learn.org/stable/modules/preprocessing.html\n",
      "Please also refer to the documentation for alternative solver options:\n",
      "    https://scikit-learn.org/stable/modules/linear_model.html#logistic-regression\n",
      "  n_iter_i = _check_optimize_result(\n",
      "/Users/DanielChung/.julia/conda/3/lib/python3.9/site-packages/sklearn/linear_model/_logistic.py:444: ConvergenceWarning: lbfgs failed to converge (status=1):\n",
      "STOP: TOTAL NO. of ITERATIONS REACHED LIMIT.\n",
      "\n",
      "Increase the number of iterations (max_iter) or scale the data as shown in:\n",
      "    https://scikit-learn.org/stable/modules/preprocessing.html\n",
      "Please also refer to the documentation for alternative solver options:\n",
      "    https://scikit-learn.org/stable/modules/linear_model.html#logistic-regression\n",
      "  n_iter_i = _check_optimize_result(\n",
      "/Users/DanielChung/.julia/conda/3/lib/python3.9/site-packages/sklearn/linear_model/_logistic.py:444: ConvergenceWarning: lbfgs failed to converge (status=1):\n",
      "STOP: TOTAL NO. of ITERATIONS REACHED LIMIT.\n",
      "\n",
      "Increase the number of iterations (max_iter) or scale the data as shown in:\n",
      "    https://scikit-learn.org/stable/modules/preprocessing.html\n",
      "Please also refer to the documentation for alternative solver options:\n",
      "    https://scikit-learn.org/stable/modules/linear_model.html#logistic-regression\n",
      "  n_iter_i = _check_optimize_result(\n",
      "/Users/DanielChung/.julia/conda/3/lib/python3.9/site-packages/sklearn/linear_model/_logistic.py:1113: UserWarning: Setting penalty='none' will ignore the C and l1_ratio parameters\n",
      "  warnings.warn(\n",
      "/Users/DanielChung/.julia/conda/3/lib/python3.9/site-packages/sklearn/linear_model/_logistic.py:444: ConvergenceWarning: lbfgs failed to converge (status=1):\n",
      "STOP: TOTAL NO. of ITERATIONS REACHED LIMIT.\n",
      "\n",
      "Increase the number of iterations (max_iter) or scale the data as shown in:\n",
      "    https://scikit-learn.org/stable/modules/preprocessing.html\n",
      "Please also refer to the documentation for alternative solver options:\n",
      "    https://scikit-learn.org/stable/modules/linear_model.html#logistic-regression\n",
      "  n_iter_i = _check_optimize_result(\n",
      "/Users/DanielChung/.julia/conda/3/lib/python3.9/site-packages/sklearn/linear_model/_logistic.py:444: ConvergenceWarning: lbfgs failed to converge (status=1):\n",
      "STOP: TOTAL NO. of ITERATIONS REACHED LIMIT.\n",
      "\n",
      "Increase the number of iterations (max_iter) or scale the data as shown in:\n",
      "    https://scikit-learn.org/stable/modules/preprocessing.html\n",
      "Please also refer to the documentation for alternative solver options:\n",
      "    https://scikit-learn.org/stable/modules/linear_model.html#logistic-regression\n",
      "  n_iter_i = _check_optimize_result(\n",
      "/Users/DanielChung/.julia/conda/3/lib/python3.9/site-packages/sklearn/linear_model/_logistic.py:444: ConvergenceWarning: lbfgs failed to converge (status=1):\n",
      "STOP: TOTAL NO. of ITERATIONS REACHED LIMIT.\n",
      "\n",
      "Increase the number of iterations (max_iter) or scale the data as shown in:\n",
      "    https://scikit-learn.org/stable/modules/preprocessing.html\n",
      "Please also refer to the documentation for alternative solver options:\n",
      "    https://scikit-learn.org/stable/modules/linear_model.html#logistic-regression\n",
      "  n_iter_i = _check_optimize_result(\n",
      "/Users/DanielChung/.julia/conda/3/lib/python3.9/site-packages/sklearn/linear_model/_logistic.py:1113: UserWarning: Setting penalty='none' will ignore the C and l1_ratio parameters\n",
      "  warnings.warn(\n",
      "/Users/DanielChung/.julia/conda/3/lib/python3.9/site-packages/sklearn/linear_model/_logistic.py:444: ConvergenceWarning: lbfgs failed to converge (status=1):\n",
      "STOP: TOTAL NO. of ITERATIONS REACHED LIMIT.\n",
      "\n",
      "Increase the number of iterations (max_iter) or scale the data as shown in:\n",
      "    https://scikit-learn.org/stable/modules/preprocessing.html\n",
      "Please also refer to the documentation for alternative solver options:\n",
      "    https://scikit-learn.org/stable/modules/linear_model.html#logistic-regression\n",
      "  n_iter_i = _check_optimize_result(\n",
      "/Users/DanielChung/.julia/conda/3/lib/python3.9/site-packages/sklearn/linear_model/_logistic.py:444: ConvergenceWarning: lbfgs failed to converge (status=1):\n",
      "STOP: TOTAL NO. of ITERATIONS REACHED LIMIT.\n",
      "\n",
      "Increase the number of iterations (max_iter) or scale the data as shown in:\n",
      "    https://scikit-learn.org/stable/modules/preprocessing.html\n",
      "Please also refer to the documentation for alternative solver options:\n",
      "    https://scikit-learn.org/stable/modules/linear_model.html#logistic-regression\n",
      "  n_iter_i = _check_optimize_result(\n",
      "/Users/DanielChung/.julia/conda/3/lib/python3.9/site-packages/sklearn/linear_model/_logistic.py:444: ConvergenceWarning: lbfgs failed to converge (status=1):\n",
      "STOP: TOTAL NO. of ITERATIONS REACHED LIMIT.\n",
      "\n",
      "Increase the number of iterations (max_iter) or scale the data as shown in:\n",
      "    https://scikit-learn.org/stable/modules/preprocessing.html\n",
      "Please also refer to the documentation for alternative solver options:\n",
      "    https://scikit-learn.org/stable/modules/linear_model.html#logistic-regression\n",
      "  n_iter_i = _check_optimize_result(\n",
      "/Users/DanielChung/.julia/conda/3/lib/python3.9/site-packages/sklearn/linear_model/_logistic.py:1113: UserWarning: Setting penalty='none' will ignore the C and l1_ratio parameters\n",
      "  warnings.warn(\n",
      "/Users/DanielChung/.julia/conda/3/lib/python3.9/site-packages/sklearn/linear_model/_logistic.py:1113: UserWarning: Setting penalty='none' will ignore the C and l1_ratio parameters\n",
      "  warnings.warn(\n",
      "/Users/DanielChung/.julia/conda/3/lib/python3.9/site-packages/sklearn/linear_model/_logistic.py:444: ConvergenceWarning: lbfgs failed to converge (status=1):\n",
      "STOP: TOTAL NO. of ITERATIONS REACHED LIMIT.\n",
      "\n",
      "Increase the number of iterations (max_iter) or scale the data as shown in:\n",
      "    https://scikit-learn.org/stable/modules/preprocessing.html\n",
      "Please also refer to the documentation for alternative solver options:\n",
      "    https://scikit-learn.org/stable/modules/linear_model.html#logistic-regression\n",
      "  n_iter_i = _check_optimize_result(\n",
      "/Users/DanielChung/.julia/conda/3/lib/python3.9/site-packages/sklearn/linear_model/_logistic.py:1113: UserWarning: Setting penalty='none' will ignore the C and l1_ratio parameters\n",
      "  warnings.warn(\n",
      "/Users/DanielChung/.julia/conda/3/lib/python3.9/site-packages/sklearn/linear_model/_logistic.py:444: ConvergenceWarning: lbfgs failed to converge (status=1):\n",
      "STOP: TOTAL NO. of ITERATIONS REACHED LIMIT.\n",
      "\n",
      "Increase the number of iterations (max_iter) or scale the data as shown in:\n",
      "    https://scikit-learn.org/stable/modules/preprocessing.html\n",
      "Please also refer to the documentation for alternative solver options:\n",
      "    https://scikit-learn.org/stable/modules/linear_model.html#logistic-regression\n",
      "  n_iter_i = _check_optimize_result(\n",
      "/Users/DanielChung/.julia/conda/3/lib/python3.9/site-packages/sklearn/linear_model/_logistic.py:444: ConvergenceWarning: lbfgs failed to converge (status=1):\n",
      "STOP: TOTAL NO. of ITERATIONS REACHED LIMIT.\n",
      "\n",
      "Increase the number of iterations (max_iter) or scale the data as shown in:\n",
      "    https://scikit-learn.org/stable/modules/preprocessing.html\n",
      "Please also refer to the documentation for alternative solver options:\n",
      "    https://scikit-learn.org/stable/modules/linear_model.html#logistic-regression\n",
      "  n_iter_i = _check_optimize_result(\n",
      "/Users/DanielChung/.julia/conda/3/lib/python3.9/site-packages/sklearn/linear_model/_logistic.py:444: ConvergenceWarning: lbfgs failed to converge (status=1):\n",
      "STOP: TOTAL NO. of ITERATIONS REACHED LIMIT.\n",
      "\n",
      "Increase the number of iterations (max_iter) or scale the data as shown in:\n",
      "    https://scikit-learn.org/stable/modules/preprocessing.html\n",
      "Please also refer to the documentation for alternative solver options:\n",
      "    https://scikit-learn.org/stable/modules/linear_model.html#logistic-regression\n",
      "  n_iter_i = _check_optimize_result(\n",
      "/Users/DanielChung/.julia/conda/3/lib/python3.9/site-packages/sklearn/linear_model/_logistic.py:444: ConvergenceWarning: lbfgs failed to converge (status=1):\n",
      "STOP: TOTAL NO. of ITERATIONS REACHED LIMIT.\n",
      "\n",
      "Increase the number of iterations (max_iter) or scale the data as shown in:\n",
      "    https://scikit-learn.org/stable/modules/preprocessing.html\n",
      "Please also refer to the documentation for alternative solver options:\n",
      "    https://scikit-learn.org/stable/modules/linear_model.html#logistic-regression\n",
      "  n_iter_i = _check_optimize_result(\n",
      "/Users/DanielChung/.julia/conda/3/lib/python3.9/site-packages/sklearn/linear_model/_logistic.py:1113: UserWarning: Setting penalty='none' will ignore the C and l1_ratio parameters\n",
      "  warnings.warn(\n",
      "/Users/DanielChung/.julia/conda/3/lib/python3.9/site-packages/sklearn/linear_model/_logistic.py:444: ConvergenceWarning: lbfgs failed to converge (status=1):\n",
      "STOP: TOTAL NO. of ITERATIONS REACHED LIMIT.\n",
      "\n",
      "Increase the number of iterations (max_iter) or scale the data as shown in:\n",
      "    https://scikit-learn.org/stable/modules/preprocessing.html\n",
      "Please also refer to the documentation for alternative solver options:\n",
      "    https://scikit-learn.org/stable/modules/linear_model.html#logistic-regression\n",
      "  n_iter_i = _check_optimize_result(\n"
     ]
    },
    {
     "name": "stderr",
     "output_type": "stream",
     "text": [
      "/Users/DanielChung/.julia/conda/3/lib/python3.9/site-packages/sklearn/linear_model/_logistic.py:444: ConvergenceWarning: lbfgs failed to converge (status=1):\n",
      "STOP: TOTAL NO. of ITERATIONS REACHED LIMIT.\n",
      "\n",
      "Increase the number of iterations (max_iter) or scale the data as shown in:\n",
      "    https://scikit-learn.org/stable/modules/preprocessing.html\n",
      "Please also refer to the documentation for alternative solver options:\n",
      "    https://scikit-learn.org/stable/modules/linear_model.html#logistic-regression\n",
      "  n_iter_i = _check_optimize_result(\n",
      "/Users/DanielChung/.julia/conda/3/lib/python3.9/site-packages/sklearn/linear_model/_logistic.py:1113: UserWarning: Setting penalty='none' will ignore the C and l1_ratio parameters\n",
      "  warnings.warn(\n",
      "/Users/DanielChung/.julia/conda/3/lib/python3.9/site-packages/sklearn/linear_model/_logistic.py:444: ConvergenceWarning: lbfgs failed to converge (status=1):\n",
      "STOP: TOTAL NO. of ITERATIONS REACHED LIMIT.\n",
      "\n",
      "Increase the number of iterations (max_iter) or scale the data as shown in:\n",
      "    https://scikit-learn.org/stable/modules/preprocessing.html\n",
      "Please also refer to the documentation for alternative solver options:\n",
      "    https://scikit-learn.org/stable/modules/linear_model.html#logistic-regression\n",
      "  n_iter_i = _check_optimize_result(\n",
      "/Users/DanielChung/.julia/conda/3/lib/python3.9/site-packages/sklearn/linear_model/_logistic.py:444: ConvergenceWarning: lbfgs failed to converge (status=1):\n",
      "STOP: TOTAL NO. of ITERATIONS REACHED LIMIT.\n",
      "\n",
      "Increase the number of iterations (max_iter) or scale the data as shown in:\n",
      "    https://scikit-learn.org/stable/modules/preprocessing.html\n",
      "Please also refer to the documentation for alternative solver options:\n",
      "    https://scikit-learn.org/stable/modules/linear_model.html#logistic-regression\n",
      "  n_iter_i = _check_optimize_result(\n",
      "/Users/DanielChung/.julia/conda/3/lib/python3.9/site-packages/sklearn/linear_model/_logistic.py:444: ConvergenceWarning: lbfgs failed to converge (status=1):\n",
      "STOP: TOTAL NO. of ITERATIONS REACHED LIMIT.\n",
      "\n",
      "Increase the number of iterations (max_iter) or scale the data as shown in:\n",
      "    https://scikit-learn.org/stable/modules/preprocessing.html\n",
      "Please also refer to the documentation for alternative solver options:\n",
      "    https://scikit-learn.org/stable/modules/linear_model.html#logistic-regression\n",
      "  n_iter_i = _check_optimize_result(\n",
      "/Users/DanielChung/.julia/conda/3/lib/python3.9/site-packages/sklearn/linear_model/_logistic.py:1113: UserWarning: Setting penalty='none' will ignore the C and l1_ratio parameters\n",
      "  warnings.warn(\n",
      "/Users/DanielChung/.julia/conda/3/lib/python3.9/site-packages/sklearn/linear_model/_logistic.py:444: ConvergenceWarning: lbfgs failed to converge (status=1):\n",
      "STOP: TOTAL NO. of ITERATIONS REACHED LIMIT.\n",
      "\n",
      "Increase the number of iterations (max_iter) or scale the data as shown in:\n",
      "    https://scikit-learn.org/stable/modules/preprocessing.html\n",
      "Please also refer to the documentation for alternative solver options:\n",
      "    https://scikit-learn.org/stable/modules/linear_model.html#logistic-regression\n",
      "  n_iter_i = _check_optimize_result(\n",
      "/Users/DanielChung/.julia/conda/3/lib/python3.9/site-packages/sklearn/linear_model/_logistic.py:444: ConvergenceWarning: lbfgs failed to converge (status=1):\n",
      "STOP: TOTAL NO. of ITERATIONS REACHED LIMIT.\n",
      "\n",
      "Increase the number of iterations (max_iter) or scale the data as shown in:\n",
      "    https://scikit-learn.org/stable/modules/preprocessing.html\n",
      "Please also refer to the documentation for alternative solver options:\n",
      "    https://scikit-learn.org/stable/modules/linear_model.html#logistic-regression\n",
      "  n_iter_i = _check_optimize_result(\n",
      "/Users/DanielChung/.julia/conda/3/lib/python3.9/site-packages/sklearn/linear_model/_logistic.py:444: ConvergenceWarning: lbfgs failed to converge (status=1):\n",
      "STOP: TOTAL NO. of ITERATIONS REACHED LIMIT.\n",
      "\n",
      "Increase the number of iterations (max_iter) or scale the data as shown in:\n",
      "    https://scikit-learn.org/stable/modules/preprocessing.html\n",
      "Please also refer to the documentation for alternative solver options:\n",
      "    https://scikit-learn.org/stable/modules/linear_model.html#logistic-regression\n",
      "  n_iter_i = _check_optimize_result(\n",
      "/Users/DanielChung/.julia/conda/3/lib/python3.9/site-packages/sklearn/linear_model/_logistic.py:1113: UserWarning: Setting penalty='none' will ignore the C and l1_ratio parameters\n",
      "  warnings.warn(\n",
      "/Users/DanielChung/.julia/conda/3/lib/python3.9/site-packages/sklearn/linear_model/_logistic.py:444: ConvergenceWarning: lbfgs failed to converge (status=1):\n",
      "STOP: TOTAL NO. of ITERATIONS REACHED LIMIT.\n",
      "\n",
      "Increase the number of iterations (max_iter) or scale the data as shown in:\n",
      "    https://scikit-learn.org/stable/modules/preprocessing.html\n",
      "Please also refer to the documentation for alternative solver options:\n",
      "    https://scikit-learn.org/stable/modules/linear_model.html#logistic-regression\n",
      "  n_iter_i = _check_optimize_result(\n",
      "/Users/DanielChung/.julia/conda/3/lib/python3.9/site-packages/sklearn/linear_model/_logistic.py:1113: UserWarning: Setting penalty='none' will ignore the C and l1_ratio parameters\n",
      "  warnings.warn(\n",
      "/Users/DanielChung/.julia/conda/3/lib/python3.9/site-packages/sklearn/linear_model/_logistic.py:444: ConvergenceWarning: lbfgs failed to converge (status=1):\n",
      "STOP: TOTAL NO. of ITERATIONS REACHED LIMIT.\n",
      "\n",
      "Increase the number of iterations (max_iter) or scale the data as shown in:\n",
      "    https://scikit-learn.org/stable/modules/preprocessing.html\n",
      "Please also refer to the documentation for alternative solver options:\n",
      "    https://scikit-learn.org/stable/modules/linear_model.html#logistic-regression\n",
      "  n_iter_i = _check_optimize_result(\n",
      "/Users/DanielChung/.julia/conda/3/lib/python3.9/site-packages/sklearn/linear_model/_logistic.py:444: ConvergenceWarning: lbfgs failed to converge (status=1):\n",
      "STOP: TOTAL NO. of ITERATIONS REACHED LIMIT.\n",
      "\n",
      "Increase the number of iterations (max_iter) or scale the data as shown in:\n",
      "    https://scikit-learn.org/stable/modules/preprocessing.html\n",
      "Please also refer to the documentation for alternative solver options:\n",
      "    https://scikit-learn.org/stable/modules/linear_model.html#logistic-regression\n",
      "  n_iter_i = _check_optimize_result(\n",
      "/Users/DanielChung/.julia/conda/3/lib/python3.9/site-packages/sklearn/linear_model/_logistic.py:1113: UserWarning: Setting penalty='none' will ignore the C and l1_ratio parameters\n",
      "  warnings.warn(\n",
      "/Users/DanielChung/.julia/conda/3/lib/python3.9/site-packages/sklearn/linear_model/_logistic.py:1113: UserWarning: Setting penalty='none' will ignore the C and l1_ratio parameters\n",
      "  warnings.warn(\n",
      "/Users/DanielChung/.julia/conda/3/lib/python3.9/site-packages/sklearn/linear_model/_logistic.py:444: ConvergenceWarning: lbfgs failed to converge (status=1):\n",
      "STOP: TOTAL NO. of ITERATIONS REACHED LIMIT.\n",
      "\n",
      "Increase the number of iterations (max_iter) or scale the data as shown in:\n",
      "    https://scikit-learn.org/stable/modules/preprocessing.html\n",
      "Please also refer to the documentation for alternative solver options:\n",
      "    https://scikit-learn.org/stable/modules/linear_model.html#logistic-regression\n",
      "  n_iter_i = _check_optimize_result(\n",
      "/Users/DanielChung/.julia/conda/3/lib/python3.9/site-packages/sklearn/linear_model/_logistic.py:444: ConvergenceWarning: lbfgs failed to converge (status=1):\n",
      "STOP: TOTAL NO. of ITERATIONS REACHED LIMIT.\n",
      "\n",
      "Increase the number of iterations (max_iter) or scale the data as shown in:\n",
      "    https://scikit-learn.org/stable/modules/preprocessing.html\n",
      "Please also refer to the documentation for alternative solver options:\n",
      "    https://scikit-learn.org/stable/modules/linear_model.html#logistic-regression\n",
      "  n_iter_i = _check_optimize_result(\n",
      "/Users/DanielChung/.julia/conda/3/lib/python3.9/site-packages/sklearn/linear_model/_logistic.py:1113: UserWarning: Setting penalty='none' will ignore the C and l1_ratio parameters\n",
      "  warnings.warn(\n",
      "/Users/DanielChung/.julia/conda/3/lib/python3.9/site-packages/sklearn/linear_model/_logistic.py:444: ConvergenceWarning: lbfgs failed to converge (status=1):\n",
      "STOP: TOTAL NO. of ITERATIONS REACHED LIMIT.\n",
      "\n",
      "Increase the number of iterations (max_iter) or scale the data as shown in:\n",
      "    https://scikit-learn.org/stable/modules/preprocessing.html\n",
      "Please also refer to the documentation for alternative solver options:\n",
      "    https://scikit-learn.org/stable/modules/linear_model.html#logistic-regression\n",
      "  n_iter_i = _check_optimize_result(\n",
      "/Users/DanielChung/.julia/conda/3/lib/python3.9/site-packages/sklearn/linear_model/_logistic.py:444: ConvergenceWarning: lbfgs failed to converge (status=1):\n",
      "STOP: TOTAL NO. of ITERATIONS REACHED LIMIT.\n",
      "\n",
      "Increase the number of iterations (max_iter) or scale the data as shown in:\n",
      "    https://scikit-learn.org/stable/modules/preprocessing.html\n",
      "Please also refer to the documentation for alternative solver options:\n",
      "    https://scikit-learn.org/stable/modules/linear_model.html#logistic-regression\n",
      "  n_iter_i = _check_optimize_result(\n",
      "/Users/DanielChung/.julia/conda/3/lib/python3.9/site-packages/sklearn/linear_model/_logistic.py:444: ConvergenceWarning: lbfgs failed to converge (status=1):\n",
      "STOP: TOTAL NO. of ITERATIONS REACHED LIMIT.\n",
      "\n",
      "Increase the number of iterations (max_iter) or scale the data as shown in:\n",
      "    https://scikit-learn.org/stable/modules/preprocessing.html\n",
      "Please also refer to the documentation for alternative solver options:\n",
      "    https://scikit-learn.org/stable/modules/linear_model.html#logistic-regression\n",
      "  n_iter_i = _check_optimize_result(\n",
      "/Users/DanielChung/.julia/conda/3/lib/python3.9/site-packages/sklearn/linear_model/_logistic.py:444: ConvergenceWarning: lbfgs failed to converge (status=1):\n",
      "STOP: TOTAL NO. of ITERATIONS REACHED LIMIT.\n",
      "\n",
      "Increase the number of iterations (max_iter) or scale the data as shown in:\n",
      "    https://scikit-learn.org/stable/modules/preprocessing.html\n",
      "Please also refer to the documentation for alternative solver options:\n",
      "    https://scikit-learn.org/stable/modules/linear_model.html#logistic-regression\n",
      "  n_iter_i = _check_optimize_result(\n",
      "/Users/DanielChung/.julia/conda/3/lib/python3.9/site-packages/sklearn/linear_model/_logistic.py:444: ConvergenceWarning: lbfgs failed to converge (status=1):\n",
      "STOP: TOTAL NO. of ITERATIONS REACHED LIMIT.\n",
      "\n",
      "Increase the number of iterations (max_iter) or scale the data as shown in:\n",
      "    https://scikit-learn.org/stable/modules/preprocessing.html\n",
      "Please also refer to the documentation for alternative solver options:\n",
      "    https://scikit-learn.org/stable/modules/linear_model.html#logistic-regression\n",
      "  n_iter_i = _check_optimize_result(\n",
      "/Users/DanielChung/.julia/conda/3/lib/python3.9/site-packages/sklearn/linear_model/_logistic.py:1113: UserWarning: Setting penalty='none' will ignore the C and l1_ratio parameters\n",
      "  warnings.warn(\n",
      "/Users/DanielChung/.julia/conda/3/lib/python3.9/site-packages/sklearn/linear_model/_logistic.py:1113: UserWarning: Setting penalty='none' will ignore the C and l1_ratio parameters\n",
      "  warnings.warn(\n",
      "/Users/DanielChung/.julia/conda/3/lib/python3.9/site-packages/sklearn/linear_model/_logistic.py:444: ConvergenceWarning: lbfgs failed to converge (status=1):\n",
      "STOP: TOTAL NO. of ITERATIONS REACHED LIMIT.\n",
      "\n",
      "Increase the number of iterations (max_iter) or scale the data as shown in:\n",
      "    https://scikit-learn.org/stable/modules/preprocessing.html\n",
      "Please also refer to the documentation for alternative solver options:\n",
      "    https://scikit-learn.org/stable/modules/linear_model.html#logistic-regression\n",
      "  n_iter_i = _check_optimize_result(\n",
      "/Users/DanielChung/.julia/conda/3/lib/python3.9/site-packages/sklearn/linear_model/_logistic.py:444: ConvergenceWarning: lbfgs failed to converge (status=1):\n",
      "STOP: TOTAL NO. of ITERATIONS REACHED LIMIT.\n",
      "\n",
      "Increase the number of iterations (max_iter) or scale the data as shown in:\n",
      "    https://scikit-learn.org/stable/modules/preprocessing.html\n",
      "Please also refer to the documentation for alternative solver options:\n",
      "    https://scikit-learn.org/stable/modules/linear_model.html#logistic-regression\n",
      "  n_iter_i = _check_optimize_result(\n",
      "/Users/DanielChung/.julia/conda/3/lib/python3.9/site-packages/sklearn/linear_model/_logistic.py:444: ConvergenceWarning: lbfgs failed to converge (status=1):\n",
      "STOP: TOTAL NO. of ITERATIONS REACHED LIMIT.\n",
      "\n",
      "Increase the number of iterations (max_iter) or scale the data as shown in:\n",
      "    https://scikit-learn.org/stable/modules/preprocessing.html\n",
      "Please also refer to the documentation for alternative solver options:\n",
      "    https://scikit-learn.org/stable/modules/linear_model.html#logistic-regression\n",
      "  n_iter_i = _check_optimize_result(\n",
      "/Users/DanielChung/.julia/conda/3/lib/python3.9/site-packages/sklearn/linear_model/_logistic.py:444: ConvergenceWarning: lbfgs failed to converge (status=1):\n",
      "STOP: TOTAL NO. of ITERATIONS REACHED LIMIT.\n",
      "\n",
      "Increase the number of iterations (max_iter) or scale the data as shown in:\n",
      "    https://scikit-learn.org/stable/modules/preprocessing.html\n",
      "Please also refer to the documentation for alternative solver options:\n",
      "    https://scikit-learn.org/stable/modules/linear_model.html#logistic-regression\n",
      "  n_iter_i = _check_optimize_result(\n",
      "/Users/DanielChung/.julia/conda/3/lib/python3.9/site-packages/sklearn/linear_model/_logistic.py:444: ConvergenceWarning: lbfgs failed to converge (status=1):\n",
      "STOP: TOTAL NO. of ITERATIONS REACHED LIMIT.\n",
      "\n",
      "Increase the number of iterations (max_iter) or scale the data as shown in:\n",
      "    https://scikit-learn.org/stable/modules/preprocessing.html\n",
      "Please also refer to the documentation for alternative solver options:\n",
      "    https://scikit-learn.org/stable/modules/linear_model.html#logistic-regression\n",
      "  n_iter_i = _check_optimize_result(\n",
      "/Users/DanielChung/.julia/conda/3/lib/python3.9/site-packages/sklearn/linear_model/_logistic.py:1113: UserWarning: Setting penalty='none' will ignore the C and l1_ratio parameters\n",
      "  warnings.warn(\n",
      "/Users/DanielChung/.julia/conda/3/lib/python3.9/site-packages/sklearn/linear_model/_logistic.py:444: ConvergenceWarning: lbfgs failed to converge (status=1):\n",
      "STOP: TOTAL NO. of ITERATIONS REACHED LIMIT.\n",
      "\n",
      "Increase the number of iterations (max_iter) or scale the data as shown in:\n",
      "    https://scikit-learn.org/stable/modules/preprocessing.html\n",
      "Please also refer to the documentation for alternative solver options:\n",
      "    https://scikit-learn.org/stable/modules/linear_model.html#logistic-regression\n",
      "  n_iter_i = _check_optimize_result(\n",
      "/Users/DanielChung/.julia/conda/3/lib/python3.9/site-packages/sklearn/linear_model/_logistic.py:1113: UserWarning: Setting penalty='none' will ignore the C and l1_ratio parameters\n",
      "  warnings.warn(\n",
      "/Users/DanielChung/.julia/conda/3/lib/python3.9/site-packages/sklearn/linear_model/_logistic.py:444: ConvergenceWarning: lbfgs failed to converge (status=1):\n",
      "STOP: TOTAL NO. of ITERATIONS REACHED LIMIT.\n",
      "\n",
      "Increase the number of iterations (max_iter) or scale the data as shown in:\n",
      "    https://scikit-learn.org/stable/modules/preprocessing.html\n",
      "Please also refer to the documentation for alternative solver options:\n",
      "    https://scikit-learn.org/stable/modules/linear_model.html#logistic-regression\n",
      "  n_iter_i = _check_optimize_result(\n",
      "/Users/DanielChung/.julia/conda/3/lib/python3.9/site-packages/sklearn/linear_model/_logistic.py:444: ConvergenceWarning: lbfgs failed to converge (status=1):\n",
      "STOP: TOTAL NO. of ITERATIONS REACHED LIMIT.\n",
      "\n",
      "Increase the number of iterations (max_iter) or scale the data as shown in:\n",
      "    https://scikit-learn.org/stable/modules/preprocessing.html\n",
      "Please also refer to the documentation for alternative solver options:\n",
      "    https://scikit-learn.org/stable/modules/linear_model.html#logistic-regression\n",
      "  n_iter_i = _check_optimize_result(\n",
      "/Users/DanielChung/.julia/conda/3/lib/python3.9/site-packages/sklearn/linear_model/_logistic.py:1113: UserWarning: Setting penalty='none' will ignore the C and l1_ratio parameters\n",
      "  warnings.warn(\n",
      "/Users/DanielChung/.julia/conda/3/lib/python3.9/site-packages/sklearn/linear_model/_logistic.py:444: ConvergenceWarning: lbfgs failed to converge (status=1):\n",
      "STOP: TOTAL NO. of ITERATIONS REACHED LIMIT.\n",
      "\n",
      "Increase the number of iterations (max_iter) or scale the data as shown in:\n",
      "    https://scikit-learn.org/stable/modules/preprocessing.html\n",
      "Please also refer to the documentation for alternative solver options:\n",
      "    https://scikit-learn.org/stable/modules/linear_model.html#logistic-regression\n",
      "  n_iter_i = _check_optimize_result(\n",
      "/Users/DanielChung/.julia/conda/3/lib/python3.9/site-packages/sklearn/linear_model/_logistic.py:1113: UserWarning: Setting penalty='none' will ignore the C and l1_ratio parameters\n",
      "  warnings.warn(\n",
      "/Users/DanielChung/.julia/conda/3/lib/python3.9/site-packages/sklearn/linear_model/_logistic.py:444: ConvergenceWarning: lbfgs failed to converge (status=1):\n",
      "STOP: TOTAL NO. of ITERATIONS REACHED LIMIT.\n",
      "\n",
      "Increase the number of iterations (max_iter) or scale the data as shown in:\n",
      "    https://scikit-learn.org/stable/modules/preprocessing.html\n",
      "Please also refer to the documentation for alternative solver options:\n",
      "    https://scikit-learn.org/stable/modules/linear_model.html#logistic-regression\n",
      "  n_iter_i = _check_optimize_result(\n",
      "/Users/DanielChung/.julia/conda/3/lib/python3.9/site-packages/sklearn/linear_model/_logistic.py:1113: UserWarning: Setting penalty='none' will ignore the C and l1_ratio parameters\n",
      "  warnings.warn(\n",
      "/Users/DanielChung/.julia/conda/3/lib/python3.9/site-packages/sklearn/linear_model/_logistic.py:444: ConvergenceWarning: lbfgs failed to converge (status=1):\n",
      "STOP: TOTAL NO. of ITERATIONS REACHED LIMIT.\n",
      "\n",
      "Increase the number of iterations (max_iter) or scale the data as shown in:\n",
      "    https://scikit-learn.org/stable/modules/preprocessing.html\n",
      "Please also refer to the documentation for alternative solver options:\n",
      "    https://scikit-learn.org/stable/modules/linear_model.html#logistic-regression\n",
      "  n_iter_i = _check_optimize_result(\n",
      "/Users/DanielChung/.julia/conda/3/lib/python3.9/site-packages/sklearn/linear_model/_logistic.py:444: ConvergenceWarning: lbfgs failed to converge (status=1):\n",
      "STOP: TOTAL NO. of ITERATIONS REACHED LIMIT.\n",
      "\n",
      "Increase the number of iterations (max_iter) or scale the data as shown in:\n",
      "    https://scikit-learn.org/stable/modules/preprocessing.html\n",
      "Please also refer to the documentation for alternative solver options:\n",
      "    https://scikit-learn.org/stable/modules/linear_model.html#logistic-regression\n",
      "  n_iter_i = _check_optimize_result(\n",
      "/Users/DanielChung/.julia/conda/3/lib/python3.9/site-packages/sklearn/linear_model/_logistic.py:444: ConvergenceWarning: lbfgs failed to converge (status=1):\n",
      "STOP: TOTAL NO. of ITERATIONS REACHED LIMIT.\n",
      "\n",
      "Increase the number of iterations (max_iter) or scale the data as shown in:\n",
      "    https://scikit-learn.org/stable/modules/preprocessing.html\n",
      "Please also refer to the documentation for alternative solver options:\n",
      "    https://scikit-learn.org/stable/modules/linear_model.html#logistic-regression\n",
      "  n_iter_i = _check_optimize_result(\n",
      "/Users/DanielChung/.julia/conda/3/lib/python3.9/site-packages/sklearn/linear_model/_logistic.py:1113: UserWarning: Setting penalty='none' will ignore the C and l1_ratio parameters\n",
      "  warnings.warn(\n",
      "/Users/DanielChung/.julia/conda/3/lib/python3.9/site-packages/sklearn/linear_model/_logistic.py:1113: UserWarning: Setting penalty='none' will ignore the C and l1_ratio parameters\n",
      "  warnings.warn(\n",
      "/Users/DanielChung/.julia/conda/3/lib/python3.9/site-packages/sklearn/linear_model/_logistic.py:444: ConvergenceWarning: lbfgs failed to converge (status=1):\n",
      "STOP: TOTAL NO. of ITERATIONS REACHED LIMIT.\n",
      "\n",
      "Increase the number of iterations (max_iter) or scale the data as shown in:\n",
      "    https://scikit-learn.org/stable/modules/preprocessing.html\n",
      "Please also refer to the documentation for alternative solver options:\n",
      "    https://scikit-learn.org/stable/modules/linear_model.html#logistic-regression\n",
      "  n_iter_i = _check_optimize_result(\n",
      "/Users/DanielChung/.julia/conda/3/lib/python3.9/site-packages/sklearn/linear_model/_logistic.py:1113: UserWarning: Setting penalty='none' will ignore the C and l1_ratio parameters\n",
      "  warnings.warn(\n",
      "/Users/DanielChung/.julia/conda/3/lib/python3.9/site-packages/sklearn/linear_model/_logistic.py:1113: UserWarning: Setting penalty='none' will ignore the C and l1_ratio parameters\n",
      "  warnings.warn(\n",
      "/Users/DanielChung/.julia/conda/3/lib/python3.9/site-packages/sklearn/linear_model/_logistic.py:444: ConvergenceWarning: lbfgs failed to converge (status=1):\n",
      "STOP: TOTAL NO. of ITERATIONS REACHED LIMIT.\n",
      "\n",
      "Increase the number of iterations (max_iter) or scale the data as shown in:\n",
      "    https://scikit-learn.org/stable/modules/preprocessing.html\n",
      "Please also refer to the documentation for alternative solver options:\n",
      "    https://scikit-learn.org/stable/modules/linear_model.html#logistic-regression\n",
      "  n_iter_i = _check_optimize_result(\n",
      "/Users/DanielChung/.julia/conda/3/lib/python3.9/site-packages/sklearn/linear_model/_logistic.py:444: ConvergenceWarning: lbfgs failed to converge (status=1):\n",
      "STOP: TOTAL NO. of ITERATIONS REACHED LIMIT.\n",
      "\n",
      "Increase the number of iterations (max_iter) or scale the data as shown in:\n",
      "    https://scikit-learn.org/stable/modules/preprocessing.html\n",
      "Please also refer to the documentation for alternative solver options:\n",
      "    https://scikit-learn.org/stable/modules/linear_model.html#logistic-regression\n",
      "  n_iter_i = _check_optimize_result(\n",
      "/Users/DanielChung/.julia/conda/3/lib/python3.9/site-packages/sklearn/linear_model/_logistic.py:1113: UserWarning: Setting penalty='none' will ignore the C and l1_ratio parameters\n",
      "  warnings.warn(\n",
      "/Users/DanielChung/.julia/conda/3/lib/python3.9/site-packages/sklearn/linear_model/_logistic.py:1113: UserWarning: Setting penalty='none' will ignore the C and l1_ratio parameters\n",
      "  warnings.warn(\n",
      "/Users/DanielChung/.julia/conda/3/lib/python3.9/site-packages/sklearn/linear_model/_logistic.py:1113: UserWarning: Setting penalty='none' will ignore the C and l1_ratio parameters\n",
      "  warnings.warn(\n",
      "/Users/DanielChung/.julia/conda/3/lib/python3.9/site-packages/sklearn/linear_model/_logistic.py:444: ConvergenceWarning: lbfgs failed to converge (status=1):\n",
      "STOP: TOTAL NO. of ITERATIONS REACHED LIMIT.\n",
      "\n",
      "Increase the number of iterations (max_iter) or scale the data as shown in:\n",
      "    https://scikit-learn.org/stable/modules/preprocessing.html\n",
      "Please also refer to the documentation for alternative solver options:\n",
      "    https://scikit-learn.org/stable/modules/linear_model.html#logistic-regression\n",
      "  n_iter_i = _check_optimize_result(\n",
      "/Users/DanielChung/.julia/conda/3/lib/python3.9/site-packages/sklearn/linear_model/_logistic.py:1113: UserWarning: Setting penalty='none' will ignore the C and l1_ratio parameters\n",
      "  warnings.warn(\n",
      "/Users/DanielChung/.julia/conda/3/lib/python3.9/site-packages/sklearn/linear_model/_logistic.py:444: ConvergenceWarning: lbfgs failed to converge (status=1):\n",
      "STOP: TOTAL NO. of ITERATIONS REACHED LIMIT.\n",
      "\n",
      "Increase the number of iterations (max_iter) or scale the data as shown in:\n",
      "    https://scikit-learn.org/stable/modules/preprocessing.html\n",
      "Please also refer to the documentation for alternative solver options:\n",
      "    https://scikit-learn.org/stable/modules/linear_model.html#logistic-regression\n",
      "  n_iter_i = _check_optimize_result(\n",
      "/Users/DanielChung/.julia/conda/3/lib/python3.9/site-packages/sklearn/linear_model/_logistic.py:444: ConvergenceWarning: lbfgs failed to converge (status=1):\n",
      "STOP: TOTAL NO. of ITERATIONS REACHED LIMIT.\n",
      "\n",
      "Increase the number of iterations (max_iter) or scale the data as shown in:\n",
      "    https://scikit-learn.org/stable/modules/preprocessing.html\n",
      "Please also refer to the documentation for alternative solver options:\n",
      "    https://scikit-learn.org/stable/modules/linear_model.html#logistic-regression\n",
      "  n_iter_i = _check_optimize_result(\n",
      "/Users/DanielChung/.julia/conda/3/lib/python3.9/site-packages/sklearn/linear_model/_logistic.py:444: ConvergenceWarning: lbfgs failed to converge (status=1):\n",
      "STOP: TOTAL NO. of ITERATIONS REACHED LIMIT.\n",
      "\n",
      "Increase the number of iterations (max_iter) or scale the data as shown in:\n",
      "    https://scikit-learn.org/stable/modules/preprocessing.html\n",
      "Please also refer to the documentation for alternative solver options:\n",
      "    https://scikit-learn.org/stable/modules/linear_model.html#logistic-regression\n",
      "  n_iter_i = _check_optimize_result(\n",
      "/Users/DanielChung/.julia/conda/3/lib/python3.9/site-packages/sklearn/linear_model/_logistic.py:1113: UserWarning: Setting penalty='none' will ignore the C and l1_ratio parameters\n",
      "  warnings.warn(\n",
      "/Users/DanielChung/.julia/conda/3/lib/python3.9/site-packages/sklearn/linear_model/_logistic.py:444: ConvergenceWarning: lbfgs failed to converge (status=1):\n",
      "STOP: TOTAL NO. of ITERATIONS REACHED LIMIT.\n",
      "\n",
      "Increase the number of iterations (max_iter) or scale the data as shown in:\n",
      "    https://scikit-learn.org/stable/modules/preprocessing.html\n",
      "Please also refer to the documentation for alternative solver options:\n",
      "    https://scikit-learn.org/stable/modules/linear_model.html#logistic-regression\n",
      "  n_iter_i = _check_optimize_result(\n",
      "/Users/DanielChung/.julia/conda/3/lib/python3.9/site-packages/sklearn/linear_model/_logistic.py:444: ConvergenceWarning: lbfgs failed to converge (status=1):\n",
      "STOP: TOTAL NO. of ITERATIONS REACHED LIMIT.\n",
      "\n",
      "Increase the number of iterations (max_iter) or scale the data as shown in:\n",
      "    https://scikit-learn.org/stable/modules/preprocessing.html\n",
      "Please also refer to the documentation for alternative solver options:\n",
      "    https://scikit-learn.org/stable/modules/linear_model.html#logistic-regression\n",
      "  n_iter_i = _check_optimize_result(\n",
      "/Users/DanielChung/.julia/conda/3/lib/python3.9/site-packages/sklearn/linear_model/_logistic.py:1113: UserWarning: Setting penalty='none' will ignore the C and l1_ratio parameters\n",
      "  warnings.warn(\n",
      "/Users/DanielChung/.julia/conda/3/lib/python3.9/site-packages/sklearn/linear_model/_logistic.py:444: ConvergenceWarning: lbfgs failed to converge (status=1):\n",
      "STOP: TOTAL NO. of ITERATIONS REACHED LIMIT.\n",
      "\n",
      "Increase the number of iterations (max_iter) or scale the data as shown in:\n",
      "    https://scikit-learn.org/stable/modules/preprocessing.html\n",
      "Please also refer to the documentation for alternative solver options:\n",
      "    https://scikit-learn.org/stable/modules/linear_model.html#logistic-regression\n",
      "  n_iter_i = _check_optimize_result(\n",
      "/Users/DanielChung/.julia/conda/3/lib/python3.9/site-packages/sklearn/linear_model/_logistic.py:444: ConvergenceWarning: lbfgs failed to converge (status=1):\n",
      "STOP: TOTAL NO. of ITERATIONS REACHED LIMIT.\n",
      "\n",
      "Increase the number of iterations (max_iter) or scale the data as shown in:\n",
      "    https://scikit-learn.org/stable/modules/preprocessing.html\n",
      "Please also refer to the documentation for alternative solver options:\n",
      "    https://scikit-learn.org/stable/modules/linear_model.html#logistic-regression\n",
      "  n_iter_i = _check_optimize_result(\n",
      "/Users/DanielChung/.julia/conda/3/lib/python3.9/site-packages/sklearn/linear_model/_logistic.py:444: ConvergenceWarning: lbfgs failed to converge (status=1):\n",
      "STOP: TOTAL NO. of ITERATIONS REACHED LIMIT.\n",
      "\n",
      "Increase the number of iterations (max_iter) or scale the data as shown in:\n",
      "    https://scikit-learn.org/stable/modules/preprocessing.html\n",
      "Please also refer to the documentation for alternative solver options:\n",
      "    https://scikit-learn.org/stable/modules/linear_model.html#logistic-regression\n",
      "  n_iter_i = _check_optimize_result(\n",
      "/Users/DanielChung/.julia/conda/3/lib/python3.9/site-packages/sklearn/linear_model/_logistic.py:444: ConvergenceWarning: lbfgs failed to converge (status=1):\n",
      "STOP: TOTAL NO. of ITERATIONS REACHED LIMIT.\n",
      "\n",
      "Increase the number of iterations (max_iter) or scale the data as shown in:\n",
      "    https://scikit-learn.org/stable/modules/preprocessing.html\n",
      "Please also refer to the documentation for alternative solver options:\n",
      "    https://scikit-learn.org/stable/modules/linear_model.html#logistic-regression\n",
      "  n_iter_i = _check_optimize_result(\n",
      "/Users/DanielChung/.julia/conda/3/lib/python3.9/site-packages/sklearn/linear_model/_logistic.py:1113: UserWarning: Setting penalty='none' will ignore the C and l1_ratio parameters\n",
      "  warnings.warn(\n",
      "/Users/DanielChung/.julia/conda/3/lib/python3.9/site-packages/sklearn/linear_model/_logistic.py:444: ConvergenceWarning: lbfgs failed to converge (status=1):\n",
      "STOP: TOTAL NO. of ITERATIONS REACHED LIMIT.\n",
      "\n",
      "Increase the number of iterations (max_iter) or scale the data as shown in:\n",
      "    https://scikit-learn.org/stable/modules/preprocessing.html\n",
      "Please also refer to the documentation for alternative solver options:\n",
      "    https://scikit-learn.org/stable/modules/linear_model.html#logistic-regression\n",
      "  n_iter_i = _check_optimize_result(\n",
      "/Users/DanielChung/.julia/conda/3/lib/python3.9/site-packages/sklearn/linear_model/_logistic.py:444: ConvergenceWarning: lbfgs failed to converge (status=1):\n",
      "STOP: TOTAL NO. of ITERATIONS REACHED LIMIT.\n",
      "\n",
      "Increase the number of iterations (max_iter) or scale the data as shown in:\n",
      "    https://scikit-learn.org/stable/modules/preprocessing.html\n",
      "Please also refer to the documentation for alternative solver options:\n",
      "    https://scikit-learn.org/stable/modules/linear_model.html#logistic-regression\n",
      "  n_iter_i = _check_optimize_result(\n",
      "/Users/DanielChung/.julia/conda/3/lib/python3.9/site-packages/sklearn/linear_model/_logistic.py:444: ConvergenceWarning: lbfgs failed to converge (status=1):\n",
      "STOP: TOTAL NO. of ITERATIONS REACHED LIMIT.\n",
      "\n",
      "Increase the number of iterations (max_iter) or scale the data as shown in:\n",
      "    https://scikit-learn.org/stable/modules/preprocessing.html\n",
      "Please also refer to the documentation for alternative solver options:\n",
      "    https://scikit-learn.org/stable/modules/linear_model.html#logistic-regression\n",
      "  n_iter_i = _check_optimize_result(\n",
      "/Users/DanielChung/.julia/conda/3/lib/python3.9/site-packages/sklearn/linear_model/_logistic.py:1113: UserWarning: Setting penalty='none' will ignore the C and l1_ratio parameters\n",
      "  warnings.warn(\n",
      "/Users/DanielChung/.julia/conda/3/lib/python3.9/site-packages/sklearn/linear_model/_logistic.py:444: ConvergenceWarning: lbfgs failed to converge (status=1):\n",
      "STOP: TOTAL NO. of ITERATIONS REACHED LIMIT.\n",
      "\n",
      "Increase the number of iterations (max_iter) or scale the data as shown in:\n",
      "    https://scikit-learn.org/stable/modules/preprocessing.html\n",
      "Please also refer to the documentation for alternative solver options:\n",
      "    https://scikit-learn.org/stable/modules/linear_model.html#logistic-regression\n",
      "  n_iter_i = _check_optimize_result(\n",
      "/Users/DanielChung/.julia/conda/3/lib/python3.9/site-packages/sklearn/linear_model/_logistic.py:444: ConvergenceWarning: lbfgs failed to converge (status=1):\n",
      "STOP: TOTAL NO. of ITERATIONS REACHED LIMIT.\n",
      "\n",
      "Increase the number of iterations (max_iter) or scale the data as shown in:\n",
      "    https://scikit-learn.org/stable/modules/preprocessing.html\n",
      "Please also refer to the documentation for alternative solver options:\n",
      "    https://scikit-learn.org/stable/modules/linear_model.html#logistic-regression\n",
      "  n_iter_i = _check_optimize_result(\n",
      "/Users/DanielChung/.julia/conda/3/lib/python3.9/site-packages/sklearn/linear_model/_logistic.py:1113: UserWarning: Setting penalty='none' will ignore the C and l1_ratio parameters\n",
      "  warnings.warn(\n",
      "/Users/DanielChung/.julia/conda/3/lib/python3.9/site-packages/sklearn/linear_model/_logistic.py:1113: UserWarning: Setting penalty='none' will ignore the C and l1_ratio parameters\n",
      "  warnings.warn(\n",
      "/Users/DanielChung/.julia/conda/3/lib/python3.9/site-packages/sklearn/linear_model/_logistic.py:444: ConvergenceWarning: lbfgs failed to converge (status=1):\n",
      "STOP: TOTAL NO. of ITERATIONS REACHED LIMIT.\n",
      "\n",
      "Increase the number of iterations (max_iter) or scale the data as shown in:\n",
      "    https://scikit-learn.org/stable/modules/preprocessing.html\n",
      "Please also refer to the documentation for alternative solver options:\n",
      "    https://scikit-learn.org/stable/modules/linear_model.html#logistic-regression\n",
      "  n_iter_i = _check_optimize_result(\n",
      "/Users/DanielChung/.julia/conda/3/lib/python3.9/site-packages/sklearn/linear_model/_logistic.py:444: ConvergenceWarning: lbfgs failed to converge (status=1):\n",
      "STOP: TOTAL NO. of ITERATIONS REACHED LIMIT.\n",
      "\n",
      "Increase the number of iterations (max_iter) or scale the data as shown in:\n",
      "    https://scikit-learn.org/stable/modules/preprocessing.html\n",
      "Please also refer to the documentation for alternative solver options:\n",
      "    https://scikit-learn.org/stable/modules/linear_model.html#logistic-regression\n",
      "  n_iter_i = _check_optimize_result(\n",
      "/Users/DanielChung/.julia/conda/3/lib/python3.9/site-packages/sklearn/linear_model/_logistic.py:444: ConvergenceWarning: lbfgs failed to converge (status=1):\n",
      "STOP: TOTAL NO. of ITERATIONS REACHED LIMIT.\n",
      "\n",
      "Increase the number of iterations (max_iter) or scale the data as shown in:\n",
      "    https://scikit-learn.org/stable/modules/preprocessing.html\n",
      "Please also refer to the documentation for alternative solver options:\n",
      "    https://scikit-learn.org/stable/modules/linear_model.html#logistic-regression\n",
      "  n_iter_i = _check_optimize_result(\n",
      "/Users/DanielChung/.julia/conda/3/lib/python3.9/site-packages/sklearn/linear_model/_logistic.py:1113: UserWarning: Setting penalty='none' will ignore the C and l1_ratio parameters\n",
      "  warnings.warn(\n",
      "/Users/DanielChung/.julia/conda/3/lib/python3.9/site-packages/sklearn/linear_model/_logistic.py:1113: UserWarning: Setting penalty='none' will ignore the C and l1_ratio parameters\n",
      "  warnings.warn(\n",
      "/Users/DanielChung/.julia/conda/3/lib/python3.9/site-packages/sklearn/linear_model/_logistic.py:444: ConvergenceWarning: lbfgs failed to converge (status=1):\n",
      "STOP: TOTAL NO. of ITERATIONS REACHED LIMIT.\n",
      "\n",
      "Increase the number of iterations (max_iter) or scale the data as shown in:\n",
      "    https://scikit-learn.org/stable/modules/preprocessing.html\n",
      "Please also refer to the documentation for alternative solver options:\n",
      "    https://scikit-learn.org/stable/modules/linear_model.html#logistic-regression\n",
      "  n_iter_i = _check_optimize_result(\n",
      "/Users/DanielChung/.julia/conda/3/lib/python3.9/site-packages/sklearn/linear_model/_logistic.py:444: ConvergenceWarning: lbfgs failed to converge (status=1):\n",
      "STOP: TOTAL NO. of ITERATIONS REACHED LIMIT.\n",
      "\n",
      "Increase the number of iterations (max_iter) or scale the data as shown in:\n",
      "    https://scikit-learn.org/stable/modules/preprocessing.html\n",
      "Please also refer to the documentation for alternative solver options:\n",
      "    https://scikit-learn.org/stable/modules/linear_model.html#logistic-regression\n",
      "  n_iter_i = _check_optimize_result(\n",
      "/Users/DanielChung/.julia/conda/3/lib/python3.9/site-packages/sklearn/linear_model/_logistic.py:444: ConvergenceWarning: lbfgs failed to converge (status=1):\n",
      "STOP: TOTAL NO. of ITERATIONS REACHED LIMIT.\n",
      "\n",
      "Increase the number of iterations (max_iter) or scale the data as shown in:\n",
      "    https://scikit-learn.org/stable/modules/preprocessing.html\n",
      "Please also refer to the documentation for alternative solver options:\n",
      "    https://scikit-learn.org/stable/modules/linear_model.html#logistic-regression\n",
      "  n_iter_i = _check_optimize_result(\n",
      "/Users/DanielChung/.julia/conda/3/lib/python3.9/site-packages/sklearn/linear_model/_logistic.py:444: ConvergenceWarning: lbfgs failed to converge (status=1):\n",
      "STOP: TOTAL NO. of ITERATIONS REACHED LIMIT.\n",
      "\n",
      "Increase the number of iterations (max_iter) or scale the data as shown in:\n",
      "    https://scikit-learn.org/stable/modules/preprocessing.html\n",
      "Please also refer to the documentation for alternative solver options:\n",
      "    https://scikit-learn.org/stable/modules/linear_model.html#logistic-regression\n",
      "  n_iter_i = _check_optimize_result(\n",
      "/Users/DanielChung/.julia/conda/3/lib/python3.9/site-packages/sklearn/linear_model/_logistic.py:1113: UserWarning: Setting penalty='none' will ignore the C and l1_ratio parameters\n",
      "  warnings.warn(\n",
      "/Users/DanielChung/.julia/conda/3/lib/python3.9/site-packages/sklearn/linear_model/_logistic.py:444: ConvergenceWarning: lbfgs failed to converge (status=1):\n",
      "STOP: TOTAL NO. of ITERATIONS REACHED LIMIT.\n",
      "\n",
      "Increase the number of iterations (max_iter) or scale the data as shown in:\n",
      "    https://scikit-learn.org/stable/modules/preprocessing.html\n",
      "Please also refer to the documentation for alternative solver options:\n",
      "    https://scikit-learn.org/stable/modules/linear_model.html#logistic-regression\n",
      "  n_iter_i = _check_optimize_result(\n",
      "/Users/DanielChung/.julia/conda/3/lib/python3.9/site-packages/sklearn/linear_model/_logistic.py:444: ConvergenceWarning: lbfgs failed to converge (status=1):\n",
      "STOP: TOTAL NO. of ITERATIONS REACHED LIMIT.\n",
      "\n",
      "Increase the number of iterations (max_iter) or scale the data as shown in:\n",
      "    https://scikit-learn.org/stable/modules/preprocessing.html\n",
      "Please also refer to the documentation for alternative solver options:\n",
      "    https://scikit-learn.org/stable/modules/linear_model.html#logistic-regression\n",
      "  n_iter_i = _check_optimize_result(\n",
      "/Users/DanielChung/.julia/conda/3/lib/python3.9/site-packages/sklearn/linear_model/_logistic.py:444: ConvergenceWarning: lbfgs failed to converge (status=1):\n",
      "STOP: TOTAL NO. of ITERATIONS REACHED LIMIT.\n",
      "\n",
      "Increase the number of iterations (max_iter) or scale the data as shown in:\n",
      "    https://scikit-learn.org/stable/modules/preprocessing.html\n",
      "Please also refer to the documentation for alternative solver options:\n",
      "    https://scikit-learn.org/stable/modules/linear_model.html#logistic-regression\n",
      "  n_iter_i = _check_optimize_result(\n",
      "/Users/DanielChung/.julia/conda/3/lib/python3.9/site-packages/sklearn/linear_model/_logistic.py:444: ConvergenceWarning: lbfgs failed to converge (status=1):\n",
      "STOP: TOTAL NO. of ITERATIONS REACHED LIMIT.\n",
      "\n",
      "Increase the number of iterations (max_iter) or scale the data as shown in:\n",
      "    https://scikit-learn.org/stable/modules/preprocessing.html\n",
      "Please also refer to the documentation for alternative solver options:\n",
      "    https://scikit-learn.org/stable/modules/linear_model.html#logistic-regression\n",
      "  n_iter_i = _check_optimize_result(\n",
      "/Users/DanielChung/.julia/conda/3/lib/python3.9/site-packages/sklearn/linear_model/_logistic.py:444: ConvergenceWarning: lbfgs failed to converge (status=1):\n",
      "STOP: TOTAL NO. of ITERATIONS REACHED LIMIT.\n",
      "\n",
      "Increase the number of iterations (max_iter) or scale the data as shown in:\n",
      "    https://scikit-learn.org/stable/modules/preprocessing.html\n",
      "Please also refer to the documentation for alternative solver options:\n",
      "    https://scikit-learn.org/stable/modules/linear_model.html#logistic-regression\n",
      "  n_iter_i = _check_optimize_result(\n",
      "/Users/DanielChung/.julia/conda/3/lib/python3.9/site-packages/sklearn/linear_model/_logistic.py:444: ConvergenceWarning: lbfgs failed to converge (status=1):\n",
      "STOP: TOTAL NO. of ITERATIONS REACHED LIMIT.\n",
      "\n",
      "Increase the number of iterations (max_iter) or scale the data as shown in:\n",
      "    https://scikit-learn.org/stable/modules/preprocessing.html\n",
      "Please also refer to the documentation for alternative solver options:\n",
      "    https://scikit-learn.org/stable/modules/linear_model.html#logistic-regression\n",
      "  n_iter_i = _check_optimize_result(\n",
      "/Users/DanielChung/.julia/conda/3/lib/python3.9/site-packages/sklearn/linear_model/_logistic.py:444: ConvergenceWarning: lbfgs failed to converge (status=1):\n",
      "STOP: TOTAL NO. of ITERATIONS REACHED LIMIT.\n",
      "\n",
      "Increase the number of iterations (max_iter) or scale the data as shown in:\n",
      "    https://scikit-learn.org/stable/modules/preprocessing.html\n",
      "Please also refer to the documentation for alternative solver options:\n",
      "    https://scikit-learn.org/stable/modules/linear_model.html#logistic-regression\n",
      "  n_iter_i = _check_optimize_result(\n",
      "/Users/DanielChung/.julia/conda/3/lib/python3.9/site-packages/sklearn/linear_model/_logistic.py:1113: UserWarning: Setting penalty='none' will ignore the C and l1_ratio parameters\n",
      "  warnings.warn(\n",
      "/Users/DanielChung/.julia/conda/3/lib/python3.9/site-packages/sklearn/linear_model/_logistic.py:1113: UserWarning: Setting penalty='none' will ignore the C and l1_ratio parameters\n",
      "  warnings.warn(\n",
      "/Users/DanielChung/.julia/conda/3/lib/python3.9/site-packages/sklearn/linear_model/_logistic.py:444: ConvergenceWarning: lbfgs failed to converge (status=1):\n",
      "STOP: TOTAL NO. of ITERATIONS REACHED LIMIT.\n",
      "\n",
      "Increase the number of iterations (max_iter) or scale the data as shown in:\n",
      "    https://scikit-learn.org/stable/modules/preprocessing.html\n",
      "Please also refer to the documentation for alternative solver options:\n",
      "    https://scikit-learn.org/stable/modules/linear_model.html#logistic-regression\n",
      "  n_iter_i = _check_optimize_result(\n",
      "/Users/DanielChung/.julia/conda/3/lib/python3.9/site-packages/sklearn/linear_model/_logistic.py:1113: UserWarning: Setting penalty='none' will ignore the C and l1_ratio parameters\n",
      "  warnings.warn(\n",
      "/Users/DanielChung/.julia/conda/3/lib/python3.9/site-packages/sklearn/linear_model/_logistic.py:1113: UserWarning: Setting penalty='none' will ignore the C and l1_ratio parameters\n",
      "  warnings.warn(\n",
      "/Users/DanielChung/.julia/conda/3/lib/python3.9/site-packages/sklearn/linear_model/_logistic.py:444: ConvergenceWarning: lbfgs failed to converge (status=1):\n",
      "STOP: TOTAL NO. of ITERATIONS REACHED LIMIT.\n",
      "\n",
      "Increase the number of iterations (max_iter) or scale the data as shown in:\n",
      "    https://scikit-learn.org/stable/modules/preprocessing.html\n",
      "Please also refer to the documentation for alternative solver options:\n",
      "    https://scikit-learn.org/stable/modules/linear_model.html#logistic-regression\n",
      "  n_iter_i = _check_optimize_result(\n",
      "/Users/DanielChung/.julia/conda/3/lib/python3.9/site-packages/sklearn/linear_model/_logistic.py:1113: UserWarning: Setting penalty='none' will ignore the C and l1_ratio parameters\n",
      "  warnings.warn(\n",
      "/Users/DanielChung/.julia/conda/3/lib/python3.9/site-packages/sklearn/linear_model/_logistic.py:444: ConvergenceWarning: lbfgs failed to converge (status=1):\n",
      "STOP: TOTAL NO. of ITERATIONS REACHED LIMIT.\n",
      "\n",
      "Increase the number of iterations (max_iter) or scale the data as shown in:\n",
      "    https://scikit-learn.org/stable/modules/preprocessing.html\n",
      "Please also refer to the documentation for alternative solver options:\n",
      "    https://scikit-learn.org/stable/modules/linear_model.html#logistic-regression\n",
      "  n_iter_i = _check_optimize_result(\n",
      "/Users/DanielChung/.julia/conda/3/lib/python3.9/site-packages/sklearn/linear_model/_logistic.py:1113: UserWarning: Setting penalty='none' will ignore the C and l1_ratio parameters\n",
      "  warnings.warn(\n",
      "/Users/DanielChung/.julia/conda/3/lib/python3.9/site-packages/sklearn/linear_model/_logistic.py:444: ConvergenceWarning: lbfgs failed to converge (status=1):\n",
      "STOP: TOTAL NO. of ITERATIONS REACHED LIMIT.\n",
      "\n",
      "Increase the number of iterations (max_iter) or scale the data as shown in:\n",
      "    https://scikit-learn.org/stable/modules/preprocessing.html\n",
      "Please also refer to the documentation for alternative solver options:\n",
      "    https://scikit-learn.org/stable/modules/linear_model.html#logistic-regression\n",
      "  n_iter_i = _check_optimize_result(\n",
      "/Users/DanielChung/.julia/conda/3/lib/python3.9/site-packages/sklearn/linear_model/_logistic.py:444: ConvergenceWarning: lbfgs failed to converge (status=1):\n",
      "STOP: TOTAL NO. of ITERATIONS REACHED LIMIT.\n",
      "\n",
      "Increase the number of iterations (max_iter) or scale the data as shown in:\n",
      "    https://scikit-learn.org/stable/modules/preprocessing.html\n",
      "Please also refer to the documentation for alternative solver options:\n",
      "    https://scikit-learn.org/stable/modules/linear_model.html#logistic-regression\n",
      "  n_iter_i = _check_optimize_result(\n",
      "/Users/DanielChung/.julia/conda/3/lib/python3.9/site-packages/sklearn/linear_model/_logistic.py:444: ConvergenceWarning: lbfgs failed to converge (status=1):\n",
      "STOP: TOTAL NO. of ITERATIONS REACHED LIMIT.\n",
      "\n",
      "Increase the number of iterations (max_iter) or scale the data as shown in:\n",
      "    https://scikit-learn.org/stable/modules/preprocessing.html\n",
      "Please also refer to the documentation for alternative solver options:\n",
      "    https://scikit-learn.org/stable/modules/linear_model.html#logistic-regression\n",
      "  n_iter_i = _check_optimize_result(\n",
      "/Users/DanielChung/.julia/conda/3/lib/python3.9/site-packages/sklearn/linear_model/_logistic.py:444: ConvergenceWarning: lbfgs failed to converge (status=1):\n",
      "STOP: TOTAL NO. of ITERATIONS REACHED LIMIT.\n",
      "\n",
      "Increase the number of iterations (max_iter) or scale the data as shown in:\n",
      "    https://scikit-learn.org/stable/modules/preprocessing.html\n",
      "Please also refer to the documentation for alternative solver options:\n",
      "    https://scikit-learn.org/stable/modules/linear_model.html#logistic-regression\n",
      "  n_iter_i = _check_optimize_result(\n",
      "/Users/DanielChung/.julia/conda/3/lib/python3.9/site-packages/sklearn/linear_model/_logistic.py:1113: UserWarning: Setting penalty='none' will ignore the C and l1_ratio parameters\n",
      "  warnings.warn(\n",
      "/Users/DanielChung/.julia/conda/3/lib/python3.9/site-packages/sklearn/linear_model/_logistic.py:444: ConvergenceWarning: lbfgs failed to converge (status=1):\n",
      "STOP: TOTAL NO. of ITERATIONS REACHED LIMIT.\n",
      "\n",
      "Increase the number of iterations (max_iter) or scale the data as shown in:\n",
      "    https://scikit-learn.org/stable/modules/preprocessing.html\n",
      "Please also refer to the documentation for alternative solver options:\n",
      "    https://scikit-learn.org/stable/modules/linear_model.html#logistic-regression\n",
      "  n_iter_i = _check_optimize_result(\n",
      "/Users/DanielChung/.julia/conda/3/lib/python3.9/site-packages/sklearn/linear_model/_logistic.py:444: ConvergenceWarning: lbfgs failed to converge (status=1):\n",
      "STOP: TOTAL NO. of ITERATIONS REACHED LIMIT.\n",
      "\n",
      "Increase the number of iterations (max_iter) or scale the data as shown in:\n",
      "    https://scikit-learn.org/stable/modules/preprocessing.html\n",
      "Please also refer to the documentation for alternative solver options:\n",
      "    https://scikit-learn.org/stable/modules/linear_model.html#logistic-regression\n",
      "  n_iter_i = _check_optimize_result(\n",
      "/Users/DanielChung/.julia/conda/3/lib/python3.9/site-packages/sklearn/linear_model/_logistic.py:444: ConvergenceWarning: lbfgs failed to converge (status=1):\n",
      "STOP: TOTAL NO. of ITERATIONS REACHED LIMIT.\n",
      "\n",
      "Increase the number of iterations (max_iter) or scale the data as shown in:\n",
      "    https://scikit-learn.org/stable/modules/preprocessing.html\n",
      "Please also refer to the documentation for alternative solver options:\n",
      "    https://scikit-learn.org/stable/modules/linear_model.html#logistic-regression\n",
      "  n_iter_i = _check_optimize_result(\n",
      "/Users/DanielChung/.julia/conda/3/lib/python3.9/site-packages/sklearn/linear_model/_logistic.py:1113: UserWarning: Setting penalty='none' will ignore the C and l1_ratio parameters\n",
      "  warnings.warn(\n",
      "/Users/DanielChung/.julia/conda/3/lib/python3.9/site-packages/sklearn/linear_model/_logistic.py:444: ConvergenceWarning: lbfgs failed to converge (status=1):\n",
      "STOP: TOTAL NO. of ITERATIONS REACHED LIMIT.\n",
      "\n",
      "Increase the number of iterations (max_iter) or scale the data as shown in:\n",
      "    https://scikit-learn.org/stable/modules/preprocessing.html\n",
      "Please also refer to the documentation for alternative solver options:\n",
      "    https://scikit-learn.org/stable/modules/linear_model.html#logistic-regression\n",
      "  n_iter_i = _check_optimize_result(\n",
      "/Users/DanielChung/.julia/conda/3/lib/python3.9/site-packages/sklearn/linear_model/_logistic.py:1113: UserWarning: Setting penalty='none' will ignore the C and l1_ratio parameters\n",
      "  warnings.warn(\n",
      "/Users/DanielChung/.julia/conda/3/lib/python3.9/site-packages/sklearn/linear_model/_logistic.py:444: ConvergenceWarning: lbfgs failed to converge (status=1):\n",
      "STOP: TOTAL NO. of ITERATIONS REACHED LIMIT.\n",
      "\n",
      "Increase the number of iterations (max_iter) or scale the data as shown in:\n",
      "    https://scikit-learn.org/stable/modules/preprocessing.html\n",
      "Please also refer to the documentation for alternative solver options:\n",
      "    https://scikit-learn.org/stable/modules/linear_model.html#logistic-regression\n",
      "  n_iter_i = _check_optimize_result(\n",
      "/Users/DanielChung/.julia/conda/3/lib/python3.9/site-packages/sklearn/linear_model/_logistic.py:444: ConvergenceWarning: lbfgs failed to converge (status=1):\n",
      "STOP: TOTAL NO. of ITERATIONS REACHED LIMIT.\n",
      "\n",
      "Increase the number of iterations (max_iter) or scale the data as shown in:\n",
      "    https://scikit-learn.org/stable/modules/preprocessing.html\n",
      "Please also refer to the documentation for alternative solver options:\n",
      "    https://scikit-learn.org/stable/modules/linear_model.html#logistic-regression\n",
      "  n_iter_i = _check_optimize_result(\n",
      "/Users/DanielChung/.julia/conda/3/lib/python3.9/site-packages/sklearn/model_selection/_validation.py:378: FitFailedWarning: \n",
      "135 fits failed out of a total of 300.\n",
      "The score on these train-test partitions for these parameters will be set to nan.\n",
      "If these failures are not expected, you can try to debug them by setting error_score='raise'.\n",
      "\n",
      "Below are more details about the failures:\n",
      "--------------------------------------------------------------------------------\n",
      "87 fits failed with the following error:\n",
      "Traceback (most recent call last):\n",
      "  File \"/Users/DanielChung/.julia/conda/3/lib/python3.9/site-packages/sklearn/model_selection/_validation.py\", line 686, in _fit_and_score\n",
      "    estimator.fit(X_train, y_train, **fit_params)\n",
      "  File \"/Users/DanielChung/.julia/conda/3/lib/python3.9/site-packages/sklearn/linear_model/_logistic.py\", line 1091, in fit\n",
      "    solver = _check_solver(self.solver, self.penalty, self.dual)\n",
      "  File \"/Users/DanielChung/.julia/conda/3/lib/python3.9/site-packages/sklearn/linear_model/_logistic.py\", line 61, in _check_solver\n",
      "    raise ValueError(\n",
      "ValueError: Solver lbfgs supports only 'l2' or 'none' penalties, got l1 penalty.\n",
      "\n",
      "--------------------------------------------------------------------------------\n",
      "48 fits failed with the following error:\n",
      "Traceback (most recent call last):\n",
      "  File \"/Users/DanielChung/.julia/conda/3/lib/python3.9/site-packages/sklearn/model_selection/_validation.py\", line 686, in _fit_and_score\n",
      "    estimator.fit(X_train, y_train, **fit_params)\n",
      "  File \"/Users/DanielChung/.julia/conda/3/lib/python3.9/site-packages/sklearn/linear_model/_logistic.py\", line 1091, in fit\n",
      "    solver = _check_solver(self.solver, self.penalty, self.dual)\n",
      "  File \"/Users/DanielChung/.julia/conda/3/lib/python3.9/site-packages/sklearn/linear_model/_logistic.py\", line 55, in _check_solver\n",
      "    raise ValueError(\n",
      "ValueError: Logistic Regression supports only penalties in ['l1', 'l2', 'elasticnet', 'none'], got elaticnet.\n",
      "\n",
      "  warnings.warn(some_fits_failed_message, FitFailedWarning)\n",
      "/Users/DanielChung/.julia/conda/3/lib/python3.9/site-packages/sklearn/model_selection/_search.py:953: UserWarning: One or more of the test scores are non-finite: [0.58220147 0.57275478 0.57815833        nan 0.57813656 0.57275478\n",
      " 0.58085194        nan        nan        nan 0.5768088  0.57679248\n",
      " 0.57275478 0.57275478 0.57275478        nan        nan 0.57275478\n",
      "        nan 0.57545383 0.57547016        nan        nan        nan\n",
      " 0.57275478 0.57275478        nan 0.5768088         nan 0.57275478\n",
      "        nan 0.57814745 0.5808465  0.57950242 0.57275478 0.57275478\n",
      " 0.57545927        nan        nan 0.57814745 0.58354012        nan\n",
      " 0.57275478 0.57950242        nan        nan 0.57275478 0.57814745\n",
      "        nan 0.57950242        nan 0.5808465         nan        nan\n",
      "        nan        nan        nan 0.57275478        nan 0.57275478\n",
      " 0.57275478        nan        nan        nan 0.58085194        nan\n",
      " 0.57275478 0.57275478        nan 0.57950242 0.57275478 0.57275478\n",
      " 0.57816921 0.57949697 0.57275478        nan        nan 0.57679248\n",
      " 0.57275478 0.57949153        nan        nan        nan        nan\n",
      "        nan        nan 0.57275478 0.58085739 0.57275478        nan\n",
      " 0.57680336        nan        nan 0.57275478 0.57275478        nan\n",
      " 0.58353467 0.57275478        nan        nan]\n",
      "  warnings.warn(\n",
      "/Users/DanielChung/.julia/conda/3/lib/python3.9/site-packages/sklearn/linear_model/_logistic.py:444: ConvergenceWarning: lbfgs failed to converge (status=1):\n",
      "STOP: TOTAL NO. of ITERATIONS REACHED LIMIT.\n",
      "\n",
      "Increase the number of iterations (max_iter) or scale the data as shown in:\n",
      "    https://scikit-learn.org/stable/modules/preprocessing.html\n",
      "Please also refer to the documentation for alternative solver options:\n",
      "    https://scikit-learn.org/stable/modules/linear_model.html#logistic-regression\n",
      "  n_iter_i = _check_optimize_result(\n"
     ]
    }
   ],
   "source": [
    "# random grid search\n",
    "lr_model3 = LogisticRegression();\n",
    "# random search of parameters, using 3 fold cross validation, \n",
    "# search across 100 different combinations, and use all available cores\n",
    "lr_model3_rcv = RandomizedSearchCV(estimator = lr_model3, param_distributions = random_grid, \n",
    "                                   n_iter = 100, cv = 3, verbose=2, random_state=42, n_jobs = -1);\n",
    "lr_model3_rcv.fit(x_train_imputed, y_train_imputed);"
   ]
  },
  {
   "cell_type": "code",
   "execution_count": 237,
   "id": "d2d6fb3d",
   "metadata": {
    "scrolled": true
   },
   "outputs": [
    {
     "name": "stdout",
     "output_type": "stream",
     "text": [
      "{'C': 0.9595959595959597, 'penalty': 'l2'}\n"
     ]
    }
   ],
   "source": [
    "# cross-validated hyperparams\n",
    "pprint(lr_model3_rcv.best_params_)"
   ]
  },
  {
   "cell_type": "code",
   "execution_count": 353,
   "id": "3be8141b",
   "metadata": {},
   "outputs": [
    {
     "name": "stderr",
     "output_type": "stream",
     "text": [
      "/Users/DanielChung/.julia/conda/3/lib/python3.9/site-packages/sklearn/linear_model/_logistic.py:444: ConvergenceWarning: lbfgs failed to converge (status=1):\n",
      "STOP: TOTAL NO. of ITERATIONS REACHED LIMIT.\n",
      "\n",
      "Increase the number of iterations (max_iter) or scale the data as shown in:\n",
      "    https://scikit-learn.org/stable/modules/preprocessing.html\n",
      "Please also refer to the documentation for alternative solver options:\n",
      "    https://scikit-learn.org/stable/modules/linear_model.html#logistic-regression\n",
      "  n_iter_i = _check_optimize_result(\n"
     ]
    },
    {
     "data": {
      "text/html": [
       "<style>#sk-container-id-14 {color: black;background-color: white;}#sk-container-id-14 pre{padding: 0;}#sk-container-id-14 div.sk-toggleable {background-color: white;}#sk-container-id-14 label.sk-toggleable__label {cursor: pointer;display: block;width: 100%;margin-bottom: 0;padding: 0.3em;box-sizing: border-box;text-align: center;}#sk-container-id-14 label.sk-toggleable__label-arrow:before {content: \"▸\";float: left;margin-right: 0.25em;color: #696969;}#sk-container-id-14 label.sk-toggleable__label-arrow:hover:before {color: black;}#sk-container-id-14 div.sk-estimator:hover label.sk-toggleable__label-arrow:before {color: black;}#sk-container-id-14 div.sk-toggleable__content {max-height: 0;max-width: 0;overflow: hidden;text-align: left;background-color: #f0f8ff;}#sk-container-id-14 div.sk-toggleable__content pre {margin: 0.2em;color: black;border-radius: 0.25em;background-color: #f0f8ff;}#sk-container-id-14 input.sk-toggleable__control:checked~div.sk-toggleable__content {max-height: 200px;max-width: 100%;overflow: auto;}#sk-container-id-14 input.sk-toggleable__control:checked~label.sk-toggleable__label-arrow:before {content: \"▾\";}#sk-container-id-14 div.sk-estimator input.sk-toggleable__control:checked~label.sk-toggleable__label {background-color: #d4ebff;}#sk-container-id-14 div.sk-label input.sk-toggleable__control:checked~label.sk-toggleable__label {background-color: #d4ebff;}#sk-container-id-14 input.sk-hidden--visually {border: 0;clip: rect(1px 1px 1px 1px);clip: rect(1px, 1px, 1px, 1px);height: 1px;margin: -1px;overflow: hidden;padding: 0;position: absolute;width: 1px;}#sk-container-id-14 div.sk-estimator {font-family: monospace;background-color: #f0f8ff;border: 1px dotted black;border-radius: 0.25em;box-sizing: border-box;margin-bottom: 0.5em;}#sk-container-id-14 div.sk-estimator:hover {background-color: #d4ebff;}#sk-container-id-14 div.sk-parallel-item::after {content: \"\";width: 100%;border-bottom: 1px solid gray;flex-grow: 1;}#sk-container-id-14 div.sk-label:hover label.sk-toggleable__label {background-color: #d4ebff;}#sk-container-id-14 div.sk-serial::before {content: \"\";position: absolute;border-left: 1px solid gray;box-sizing: border-box;top: 0;bottom: 0;left: 50%;z-index: 0;}#sk-container-id-14 div.sk-serial {display: flex;flex-direction: column;align-items: center;background-color: white;padding-right: 0.2em;padding-left: 0.2em;position: relative;}#sk-container-id-14 div.sk-item {position: relative;z-index: 1;}#sk-container-id-14 div.sk-parallel {display: flex;align-items: stretch;justify-content: center;background-color: white;position: relative;}#sk-container-id-14 div.sk-item::before, #sk-container-id-14 div.sk-parallel-item::before {content: \"\";position: absolute;border-left: 1px solid gray;box-sizing: border-box;top: 0;bottom: 0;left: 50%;z-index: -1;}#sk-container-id-14 div.sk-parallel-item {display: flex;flex-direction: column;z-index: 1;position: relative;background-color: white;}#sk-container-id-14 div.sk-parallel-item:first-child::after {align-self: flex-end;width: 50%;}#sk-container-id-14 div.sk-parallel-item:last-child::after {align-self: flex-start;width: 50%;}#sk-container-id-14 div.sk-parallel-item:only-child::after {width: 0;}#sk-container-id-14 div.sk-dashed-wrapped {border: 1px dashed gray;margin: 0 0.4em 0.5em 0.4em;box-sizing: border-box;padding-bottom: 0.4em;background-color: white;}#sk-container-id-14 div.sk-label label {font-family: monospace;font-weight: bold;display: inline-block;line-height: 1.2em;}#sk-container-id-14 div.sk-label-container {text-align: center;}#sk-container-id-14 div.sk-container {/* jupyter's `normalize.less` sets `[hidden] { display: none; }` but bootstrap.min.css set `[hidden] { display: none !important; }` so we also need the `!important` here to be able to override the default hidden behavior on the sphinx rendered scikit-learn.org. See: https://github.com/scikit-learn/scikit-learn/issues/21755 */display: inline-block !important;position: relative;}#sk-container-id-14 div.sk-text-repr-fallback {display: none;}</style><div id=\"sk-container-id-14\" class=\"sk-top-container\"><div class=\"sk-text-repr-fallback\"><pre>LogisticRegression(C=0.48484848484848486)</pre><b>In a Jupyter environment, please rerun this cell to show the HTML representation or trust the notebook. <br />On GitHub, the HTML representation is unable to render, please try loading this page with nbviewer.org.</b></div><div class=\"sk-container\" hidden><div class=\"sk-item\"><div class=\"sk-estimator sk-toggleable\"><input class=\"sk-toggleable__control sk-hidden--visually\" id=\"sk-estimator-id-14\" type=\"checkbox\" checked><label for=\"sk-estimator-id-14\" class=\"sk-toggleable__label sk-toggleable__label-arrow\">LogisticRegression</label><div class=\"sk-toggleable__content\"><pre>LogisticRegression(C=0.48484848484848486)</pre></div></div></div></div></div>"
      ],
      "text/plain": [
       "LogisticRegression(C=0.48484848484848486)"
      ]
     },
     "execution_count": 353,
     "metadata": {},
     "output_type": "execute_result"
    }
   ],
   "source": [
    "# using cross-validation coefficients\n",
    "lr_model3 = LogisticRegression(penalty='l2',C=0.48484848484848486)\n",
    "lr_model3.fit(x_train_imputed, y_train_imputed)"
   ]
  },
  {
   "cell_type": "code",
   "execution_count": 354,
   "id": "dbed14b7",
   "metadata": {
    "scrolled": true
   },
   "outputs": [
    {
     "data": {
      "image/png": "[encoded data removed]",
      "text/plain": [
       "<Figure size 1000x600 with 1 Axes>"
      ]
     },
     "metadata": {},
     "output_type": "display_data"
    }
   ],
   "source": [
    "visualize_thresholds(\"cross-validated lr model\",\n",
    "                     lr_model3,x_train_imputed,y_train_imputed,x_test_imputed,y_test_imputed,\n",
    "                    0.515)"
   ]
  },
  {
   "cell_type": "code",
   "execution_count": 355,
   "id": "8fa60845",
   "metadata": {},
   "outputs": [],
   "source": [
    "# predictions\n",
    "lr_model3_preds = lr_model3_rcv.predict(x_test_imputed)\n",
    "# FIXME DELETME?\n",
    "lr_model3_preds = (lr_model3.predict_proba(x_test_imputed)[:,1] >= 0.515).astype(int)"
   ]
  },
  {
   "cell_type": "markdown",
   "id": "4980e406",
   "metadata": {},
   "source": [
    "### Results"
   ]
  },
  {
   "cell_type": "markdown",
   "id": "0de28eac",
   "metadata": {},
   "source": [
    "New Accuracy:"
   ]
  },
  {
   "cell_type": "code",
   "execution_count": 356,
   "id": "7adc86f5",
   "metadata": {
    "scrolled": true
   },
   "outputs": [
    {
     "data": {
      "text/plain": [
       "0.5057121096725057"
      ]
     },
     "execution_count": 356,
     "metadata": {},
     "output_type": "execute_result"
    }
   ],
   "source": [
    "accuracy_score(lr_model3_preds, y_test_imputed)"
   ]
  },
  {
   "cell_type": "markdown",
   "id": "40b53953",
   "metadata": {},
   "source": [
    "Confusion Matrix:"
   ]
  },
  {
   "cell_type": "code",
   "execution_count": 357,
   "id": "fbaee2fe",
   "metadata": {},
   "outputs": [
    {
     "name": "stdout",
     "output_type": "stream",
     "text": [
      "[[1247 1255]\n",
      " [  43   81]]\n"
     ]
    }
   ],
   "source": [
    "cm = metrics.confusion_matrix(y_test_imputed, lr_model3_preds)\n",
    "print(cm)"
   ]
  },
  {
   "cell_type": "markdown",
   "id": "3b1eeb02",
   "metadata": {},
   "source": [
    "Precision, Recall, F Score"
   ]
  },
  {
   "cell_type": "code",
   "execution_count": 358,
   "id": "75741636",
   "metadata": {
    "scrolled": true
   },
   "outputs": [
    {
     "name": "stdout",
     "output_type": "stream",
     "text": [
      "Precision: 0.06062874251497006\n",
      "Recall: 0.6532258064516129\n",
      "F Score: 0.11095890410958903\n"
     ]
    }
   ],
   "source": [
    "lr_model3_results = precision_recall_fscore_support(y_test_imputed, lr_model3_preds, pos_label=1)\n",
    "lr_model3_precision, lr_model3_recall, lr_model3_fscore, lr_model3_support = lr_model3_results\n",
    "print(\"Precision: \" + str(lr_model3_precision[1]))\n",
    "print(\"Recall: \" + str(lr_model3_recall[1]))\n",
    "print(\"F Score: \" + str(lr_model3_fscore[1]))"
   ]
  },
  {
   "cell_type": "markdown",
   "id": "eb42f74a",
   "metadata": {},
   "source": [
    "AUC"
   ]
  },
  {
   "cell_type": "code",
   "execution_count": 319,
   "id": "57a04392",
   "metadata": {},
   "outputs": [
    {
     "data": {
      "image/png": "[encoded data removed]",
      "text/plain": [
       "<Figure size 640x480 with 1 Axes>"
      ]
     },
     "metadata": {},
     "output_type": "display_data"
    },
    {
     "name": "stdout",
     "output_type": "stream",
     "text": [
      "AUC:\n"
     ]
    },
    {
     "data": {
      "text/plain": [
       "0.6053705422758567"
      ]
     },
     "execution_count": 319,
     "metadata": {},
     "output_type": "execute_result"
    }
   ],
   "source": [
    "y_pred_proba = lr_model3.predict_proba(x_test_imputed)[::,1]\n",
    "fpr, tpr, _ = metrics.roc_curve(y_test_imputed,  y_pred_proba)\n",
    "\n",
    "# plotting ROC curve\n",
    "plt.plot(fpr,tpr)\n",
    "plt.ylabel('True Positive Rate')\n",
    "plt.xlabel('False Positive Rate')\n",
    "plt.show()\n",
    "\n",
    "print(\"AUC:\")\n",
    "roc_auc_score(y_test_imputed, lr_model3.predict_proba(x_test_imputed)[:,1])"
   ]
  },
  {
   "cell_type": "markdown",
   "id": "e224ac45",
   "metadata": {},
   "source": [
    "PRAUC:"
   ]
  },
  {
   "cell_type": "code",
   "execution_count": 320,
   "id": "42f4048d",
   "metadata": {},
   "outputs": [
    {
     "data": {
      "text/plain": [
       "0.06891729653167886"
      ]
     },
     "execution_count": 320,
     "metadata": {},
     "output_type": "execute_result"
    }
   ],
   "source": [
    "lr_model3_probas = lr_model3.predict_proba(x_test_imputed)\n",
    "average_precision_score(y_test_imputed, lr_model3_probas[:,1],pos_label=1)"
   ]
  },
  {
   "cell_type": "markdown",
   "id": "bde883ec",
   "metadata": {},
   "source": [
    "### Interpretation"
   ]
  },
  {
   "cell_type": "markdown",
   "id": "ea6d4e71",
   "metadata": {},
   "source": [
    "Coefficient Magnitude:"
   ]
  },
  {
   "cell_type": "code",
   "execution_count": 53,
   "id": "5cfd92bf",
   "metadata": {
    "scrolled": true
   },
   "outputs": [
    {
     "data": {
      "image/png": "[encoded data removed]",
      "text/plain": [
       "<Figure size 1850x450 with 1 Axes>"
      ]
     },
     "metadata": {},
     "output_type": "display_data"
    }
   ],
   "source": [
    "# creating a dataframe where rows are features\n",
    "# and columns are logistic regression coef\n",
    "to_plot = pd.DataFrame(range(1,65),columns=[\"attr\"])\n",
    "to_plot[\"coef\"] = lr_model3.coef_[0]\n",
    "\n",
    "# plotting feature coefs (and by extension, feature importance)\n",
    "fig, ax = plt.subplots()\n",
    "fig.set_size_inches(18.5, 4.5)\n",
    "\n",
    "to_plot['sign'] = to_plot['coef'] > 0\n",
    "to_plot['coef'].plot(kind='bar', color=to_plot.sign.map({True: (1.0, 0, 0, 0.7), False: (0, 0.6, 0, 0.7)}), \n",
    "                      ax=ax)\n",
    "ax.set_xticklabels(range(1,65), rotation = 0);\n",
    "ax.axhline(0, color='k');\n",
    "ax.set_xlabel(\"attribute\");\n",
    "ax.set_ylabel(\"logistic regression coef\");\n",
    "ax.set_title(\"Cross-Validated Logistic Regression Coefficients, Bankrupcy Classifier\");"
   ]
  },
  {
   "cell_type": "code",
   "execution_count": 54,
   "id": "e5181b02",
   "metadata": {
    "scrolled": false
   },
   "outputs": [
    {
     "name": "stdout",
     "output_type": "stream",
     "text": [
      "attribues that decrease predicted probability of bankrupcy (in desc order of coef size):\n",
      "====\n",
      "book value of equity / total liabilities\n",
      "total assets / total liabilities\n"
     ]
    }
   ],
   "source": [
    "print(\"attribues that decrease predicted probability of bankrupcy (in desc order of coef size):\")\n",
    "print(\"====\")\n",
    "print(attributes[8])\n",
    "print(attributes[17])"
   ]
  },
  {
   "cell_type": "code",
   "execution_count": 55,
   "id": "474cb437",
   "metadata": {},
   "outputs": [
    {
     "name": "stdout",
     "output_type": "stream",
     "text": [
      "attribues that increase predicted probability of bankrupcy (in desc order of coef size):\n",
      "====\n",
      "(current liabilities * 365) / cost of products sold\n",
      "sales / fixed assets\n"
     ]
    }
   ],
   "source": [
    "print(\"attribues that increase predicted probability of bankrupcy (in desc order of coef size):\")\n",
    "print(\"====\")\n",
    "print(attributes[32])\n",
    "print(attributes[64])"
   ]
  },
  {
   "cell_type": "markdown",
   "id": "0597cf2a",
   "metadata": {},
   "source": [
    "Coefficient Significance:"
   ]
  },
  {
   "cell_type": "code",
   "execution_count": 56,
   "id": "9a7d4940",
   "metadata": {},
   "outputs": [
    {
     "name": "stderr",
     "output_type": "stream",
     "text": [
      "/var/folders/_k/mx9qq9x94y3bdxqvpj9jc8qh0000gn/T/ipykernel_15322/65202168.py:18: RuntimeWarning: invalid value encountered in sqrt\n",
      "  se = np.sqrt(np.diag(vcov))\n"
     ]
    }
   ],
   "source": [
    "# finding coefficient significance\n",
    "lr_model3_sigs = logit_pvalue(lr_model3, x_train_imputed)"
   ]
  },
  {
   "cell_type": "code",
   "execution_count": 57,
   "id": "ee8a386a",
   "metadata": {
    "scrolled": true
   },
   "outputs": [
    {
     "data": {
      "image/png": "[encoded data removed]",
      "text/plain": [
       "<Figure size 1850x450 with 1 Axes>"
      ]
     },
     "metadata": {},
     "output_type": "display_data"
    }
   ],
   "source": [
    "# creating a dataframe where rows are features\n",
    "# and columns are logistic regression coef\n",
    "to_plot = pd.DataFrame(range(0,65),columns=[\"attr\"])\n",
    "to_plot[\"significance\"] = lr_model3_sigs\n",
    "\n",
    "# plotting feature coefs (and by extension, feature importance)\n",
    "fig, ax = plt.subplots()\n",
    "fig.set_size_inches(18.5, 4.5)\n",
    "\n",
    "to_plot['sign'] = to_plot['significance'] > 0\n",
    "to_plot['significance'].plot(kind='bar', color=to_plot.sign.map({True: (1.0, 0, 0, 0.7), False: (0, 0.6, 0, 0.7)}), \n",
    "                      ax=ax)\n",
    "ax.set_xticklabels(range(0,65), rotation = 0);\n",
    "ax.axhline(0, color='k');\n",
    "ax.set_xlabel(\"attribute (0 = intercept)\");\n",
    "ax.set_ylabel(\"logistic regression coef significance\");\n",
    "ax.set_title(\"Cross-Validated Logistic Regression Coefficient Significance, Bankrupcy Classifier\");\n",
    "ax.axhline(0.05);"
   ]
  },
  {
   "cell_type": "code",
   "execution_count": 58,
   "id": "1a70bf93",
   "metadata": {
    "scrolled": true
   },
   "outputs": [
    {
     "name": "stdout",
     "output_type": "stream",
     "text": [
      "attibutes with significant (p<=0.05) regression coefficients:\n",
      "====\n",
      "(inventory * 365) / sales\n",
      "rotation receivables + inventory turnover in days\n",
      "(receivables * 365) / sales\n"
     ]
    }
   ],
   "source": [
    "print(\"attibutes with significant (p<=0.05) regression coefficients:\")\n",
    "print(\"====\")\n",
    "print(attributes[20])\n",
    "print(attributes[43])\n",
    "print(attributes[44])"
   ]
  },
  {
   "cell_type": "markdown",
   "id": "7f87f4b6",
   "metadata": {},
   "source": [
    "## Sparsified -> Cross Validated Model"
   ]
  },
  {
   "cell_type": "markdown",
   "id": "999b8e43",
   "metadata": {},
   "source": [
    "### Fit"
   ]
  },
  {
   "cell_type": "markdown",
   "id": "773dfaf7",
   "metadata": {},
   "source": [
    "Improving model performance using Regularization"
   ]
  },
  {
   "cell_type": "code",
   "execution_count": 59,
   "id": "ed6ccd3d",
   "metadata": {},
   "outputs": [],
   "source": [
    "# creating random grid\n",
    "penalty = ['none','l2','l1','elaticnet']\n",
    "lam = [x for x in np.linspace(start = 0, stop = 1, num = 100)]\n",
    "\n",
    "# random grid\n",
    "random_grid = {'penalty': penalty,'C':lam}"
   ]
  },
  {
   "cell_type": "code",
   "execution_count": 60,
   "id": "ea220f2c",
   "metadata": {},
   "outputs": [],
   "source": [
    "# x imputed with only significant regression coefficients included\n",
    "x_train_signif = x_train_imputed[[\"Attr20\",\"Attr43\",\"Attr44\"]]\n",
    "x_test_signif = x_test_imputed[[\"Attr20\",\"Attr43\",\"Attr44\"]]"
   ]
  },
  {
   "cell_type": "code",
   "execution_count": 61,
   "id": "29a473ae",
   "metadata": {},
   "outputs": [
    {
     "name": "stdout",
     "output_type": "stream",
     "text": [
      "Fitting 3 folds for each of 100 candidates, totalling 300 fits\n"
     ]
    },
    {
     "name": "stderr",
     "output_type": "stream",
     "text": [
      "/Users/DanielChung/.julia/conda/3/lib/python3.9/site-packages/sklearn/linear_model/_logistic.py:1113: UserWarning: Setting penalty='none' will ignore the C and l1_ratio parameters\n",
      "  warnings.warn(\n",
      "/Users/DanielChung/.julia/conda/3/lib/python3.9/site-packages/sklearn/linear_model/_logistic.py:1113: UserWarning: Setting penalty='none' will ignore the C and l1_ratio parameters\n",
      "  warnings.warn(\n",
      "/Users/DanielChung/.julia/conda/3/lib/python3.9/site-packages/sklearn/linear_model/_logistic.py:1113: UserWarning: Setting penalty='none' will ignore the C and l1_ratio parameters\n",
      "  warnings.warn(\n",
      "/Users/DanielChung/.julia/conda/3/lib/python3.9/site-packages/sklearn/linear_model/_logistic.py:1113: UserWarning: Setting penalty='none' will ignore the C and l1_ratio parameters\n",
      "  warnings.warn(\n",
      "/Users/DanielChung/.julia/conda/3/lib/python3.9/site-packages/sklearn/linear_model/_logistic.py:1113: UserWarning: Setting penalty='none' will ignore the C and l1_ratio parameters\n",
      "  warnings.warn(\n",
      "/Users/DanielChung/.julia/conda/3/lib/python3.9/site-packages/sklearn/linear_model/_logistic.py:1113: UserWarning: Setting penalty='none' will ignore the C and l1_ratio parameters\n",
      "  warnings.warn(\n",
      "/Users/DanielChung/.julia/conda/3/lib/python3.9/site-packages/sklearn/linear_model/_logistic.py:1113: UserWarning: Setting penalty='none' will ignore the C and l1_ratio parameters\n",
      "  warnings.warn(\n",
      "/Users/DanielChung/.julia/conda/3/lib/python3.9/site-packages/sklearn/linear_model/_logistic.py:1113: UserWarning: Setting penalty='none' will ignore the C and l1_ratio parameters\n",
      "  warnings.warn(\n",
      "/Users/DanielChung/.julia/conda/3/lib/python3.9/site-packages/sklearn/linear_model/_logistic.py:1113: UserWarning: Setting penalty='none' will ignore the C and l1_ratio parameters\n",
      "  warnings.warn(\n",
      "/Users/DanielChung/.julia/conda/3/lib/python3.9/site-packages/sklearn/linear_model/_logistic.py:1113: UserWarning: Setting penalty='none' will ignore the C and l1_ratio parameters\n",
      "  warnings.warn(\n",
      "/Users/DanielChung/.julia/conda/3/lib/python3.9/site-packages/sklearn/linear_model/_logistic.py:1113: UserWarning: Setting penalty='none' will ignore the C and l1_ratio parameters\n",
      "  warnings.warn(\n",
      "/Users/DanielChung/.julia/conda/3/lib/python3.9/site-packages/sklearn/linear_model/_logistic.py:1113: UserWarning: Setting penalty='none' will ignore the C and l1_ratio parameters\n",
      "  warnings.warn(\n",
      "/Users/DanielChung/.julia/conda/3/lib/python3.9/site-packages/sklearn/linear_model/_logistic.py:1113: UserWarning: Setting penalty='none' will ignore the C and l1_ratio parameters\n",
      "  warnings.warn(\n",
      "/Users/DanielChung/.julia/conda/3/lib/python3.9/site-packages/sklearn/linear_model/_logistic.py:1113: UserWarning: Setting penalty='none' will ignore the C and l1_ratio parameters\n",
      "  warnings.warn(\n",
      "/Users/DanielChung/.julia/conda/3/lib/python3.9/site-packages/sklearn/linear_model/_logistic.py:1113: UserWarning: Setting penalty='none' will ignore the C and l1_ratio parameters\n",
      "  warnings.warn(\n",
      "/Users/DanielChung/.julia/conda/3/lib/python3.9/site-packages/sklearn/linear_model/_logistic.py:1113: UserWarning: Setting penalty='none' will ignore the C and l1_ratio parameters\n",
      "  warnings.warn(\n",
      "/Users/DanielChung/.julia/conda/3/lib/python3.9/site-packages/sklearn/linear_model/_logistic.py:1113: UserWarning: Setting penalty='none' will ignore the C and l1_ratio parameters\n",
      "  warnings.warn(\n",
      "/Users/DanielChung/.julia/conda/3/lib/python3.9/site-packages/sklearn/linear_model/_logistic.py:1113: UserWarning: Setting penalty='none' will ignore the C and l1_ratio parameters\n",
      "  warnings.warn(\n",
      "/Users/DanielChung/.julia/conda/3/lib/python3.9/site-packages/sklearn/linear_model/_logistic.py:1113: UserWarning: Setting penalty='none' will ignore the C and l1_ratio parameters\n",
      "  warnings.warn(\n",
      "/Users/DanielChung/.julia/conda/3/lib/python3.9/site-packages/sklearn/linear_model/_logistic.py:1113: UserWarning: Setting penalty='none' will ignore the C and l1_ratio parameters\n",
      "  warnings.warn(\n",
      "/Users/DanielChung/.julia/conda/3/lib/python3.9/site-packages/sklearn/linear_model/_logistic.py:1113: UserWarning: Setting penalty='none' will ignore the C and l1_ratio parameters\n",
      "  warnings.warn(\n",
      "/Users/DanielChung/.julia/conda/3/lib/python3.9/site-packages/sklearn/linear_model/_logistic.py:1113: UserWarning: Setting penalty='none' will ignore the C and l1_ratio parameters\n",
      "  warnings.warn(\n",
      "/Users/DanielChung/.julia/conda/3/lib/python3.9/site-packages/sklearn/linear_model/_logistic.py:1113: UserWarning: Setting penalty='none' will ignore the C and l1_ratio parameters\n",
      "  warnings.warn(\n",
      "/Users/DanielChung/.julia/conda/3/lib/python3.9/site-packages/sklearn/linear_model/_logistic.py:1113: UserWarning: Setting penalty='none' will ignore the C and l1_ratio parameters\n",
      "  warnings.warn(\n",
      "/Users/DanielChung/.julia/conda/3/lib/python3.9/site-packages/sklearn/linear_model/_logistic.py:1113: UserWarning: Setting penalty='none' will ignore the C and l1_ratio parameters\n",
      "  warnings.warn(\n",
      "/Users/DanielChung/.julia/conda/3/lib/python3.9/site-packages/sklearn/linear_model/_logistic.py:1113: UserWarning: Setting penalty='none' will ignore the C and l1_ratio parameters\n",
      "  warnings.warn(\n",
      "/Users/DanielChung/.julia/conda/3/lib/python3.9/site-packages/sklearn/linear_model/_logistic.py:1113: UserWarning: Setting penalty='none' will ignore the C and l1_ratio parameters\n",
      "  warnings.warn(\n",
      "/Users/DanielChung/.julia/conda/3/lib/python3.9/site-packages/sklearn/linear_model/_logistic.py:1113: UserWarning: Setting penalty='none' will ignore the C and l1_ratio parameters\n",
      "  warnings.warn(\n",
      "/Users/DanielChung/.julia/conda/3/lib/python3.9/site-packages/sklearn/linear_model/_logistic.py:1113: UserWarning: Setting penalty='none' will ignore the C and l1_ratio parameters\n",
      "  warnings.warn(\n",
      "/Users/DanielChung/.julia/conda/3/lib/python3.9/site-packages/sklearn/linear_model/_logistic.py:1113: UserWarning: Setting penalty='none' will ignore the C and l1_ratio parameters\n",
      "  warnings.warn(\n",
      "/Users/DanielChung/.julia/conda/3/lib/python3.9/site-packages/sklearn/linear_model/_logistic.py:1113: UserWarning: Setting penalty='none' will ignore the C and l1_ratio parameters\n",
      "  warnings.warn(\n",
      "/Users/DanielChung/.julia/conda/3/lib/python3.9/site-packages/sklearn/linear_model/_logistic.py:1113: UserWarning: Setting penalty='none' will ignore the C and l1_ratio parameters\n",
      "  warnings.warn(\n",
      "/Users/DanielChung/.julia/conda/3/lib/python3.9/site-packages/sklearn/linear_model/_logistic.py:1113: UserWarning: Setting penalty='none' will ignore the C and l1_ratio parameters\n",
      "  warnings.warn(\n",
      "/Users/DanielChung/.julia/conda/3/lib/python3.9/site-packages/sklearn/linear_model/_logistic.py:1113: UserWarning: Setting penalty='none' will ignore the C and l1_ratio parameters\n",
      "  warnings.warn(\n",
      "/Users/DanielChung/.julia/conda/3/lib/python3.9/site-packages/sklearn/linear_model/_logistic.py:1113: UserWarning: Setting penalty='none' will ignore the C and l1_ratio parameters\n",
      "  warnings.warn(\n",
      "/Users/DanielChung/.julia/conda/3/lib/python3.9/site-packages/sklearn/linear_model/_logistic.py:1113: UserWarning: Setting penalty='none' will ignore the C and l1_ratio parameters\n",
      "  warnings.warn(\n",
      "/Users/DanielChung/.julia/conda/3/lib/python3.9/site-packages/sklearn/linear_model/_logistic.py:1113: UserWarning: Setting penalty='none' will ignore the C and l1_ratio parameters\n",
      "  warnings.warn(\n",
      "/Users/DanielChung/.julia/conda/3/lib/python3.9/site-packages/sklearn/linear_model/_logistic.py:1113: UserWarning: Setting penalty='none' will ignore the C and l1_ratio parameters\n",
      "  warnings.warn(\n",
      "/Users/DanielChung/.julia/conda/3/lib/python3.9/site-packages/sklearn/linear_model/_logistic.py:1113: UserWarning: Setting penalty='none' will ignore the C and l1_ratio parameters\n",
      "  warnings.warn(\n",
      "/Users/DanielChung/.julia/conda/3/lib/python3.9/site-packages/sklearn/linear_model/_logistic.py:1113: UserWarning: Setting penalty='none' will ignore the C and l1_ratio parameters\n",
      "  warnings.warn(\n",
      "/Users/DanielChung/.julia/conda/3/lib/python3.9/site-packages/sklearn/linear_model/_logistic.py:1113: UserWarning: Setting penalty='none' will ignore the C and l1_ratio parameters\n",
      "  warnings.warn(\n",
      "/Users/DanielChung/.julia/conda/3/lib/python3.9/site-packages/sklearn/linear_model/_logistic.py:1113: UserWarning: Setting penalty='none' will ignore the C and l1_ratio parameters\n",
      "  warnings.warn(\n",
      "/Users/DanielChung/.julia/conda/3/lib/python3.9/site-packages/sklearn/linear_model/_logistic.py:1113: UserWarning: Setting penalty='none' will ignore the C and l1_ratio parameters\n",
      "  warnings.warn(\n",
      "/Users/DanielChung/.julia/conda/3/lib/python3.9/site-packages/sklearn/linear_model/_logistic.py:1113: UserWarning: Setting penalty='none' will ignore the C and l1_ratio parameters\n",
      "  warnings.warn(\n",
      "/Users/DanielChung/.julia/conda/3/lib/python3.9/site-packages/sklearn/linear_model/_logistic.py:1113: UserWarning: Setting penalty='none' will ignore the C and l1_ratio parameters\n",
      "  warnings.warn(\n",
      "/Users/DanielChung/.julia/conda/3/lib/python3.9/site-packages/sklearn/linear_model/_logistic.py:1113: UserWarning: Setting penalty='none' will ignore the C and l1_ratio parameters\n",
      "  warnings.warn(\n",
      "/Users/DanielChung/.julia/conda/3/lib/python3.9/site-packages/sklearn/linear_model/_logistic.py:1113: UserWarning: Setting penalty='none' will ignore the C and l1_ratio parameters\n",
      "  warnings.warn(\n",
      "/Users/DanielChung/.julia/conda/3/lib/python3.9/site-packages/sklearn/linear_model/_logistic.py:1113: UserWarning: Setting penalty='none' will ignore the C and l1_ratio parameters\n",
      "  warnings.warn(\n",
      "/Users/DanielChung/.julia/conda/3/lib/python3.9/site-packages/sklearn/linear_model/_logistic.py:1113: UserWarning: Setting penalty='none' will ignore the C and l1_ratio parameters\n",
      "  warnings.warn(\n",
      "/Users/DanielChung/.julia/conda/3/lib/python3.9/site-packages/sklearn/linear_model/_logistic.py:1113: UserWarning: Setting penalty='none' will ignore the C and l1_ratio parameters\n",
      "  warnings.warn(\n",
      "/Users/DanielChung/.julia/conda/3/lib/python3.9/site-packages/sklearn/linear_model/_logistic.py:1113: UserWarning: Setting penalty='none' will ignore the C and l1_ratio parameters\n",
      "  warnings.warn(\n",
      "/Users/DanielChung/.julia/conda/3/lib/python3.9/site-packages/sklearn/linear_model/_logistic.py:1113: UserWarning: Setting penalty='none' will ignore the C and l1_ratio parameters\n",
      "  warnings.warn(\n",
      "/Users/DanielChung/.julia/conda/3/lib/python3.9/site-packages/sklearn/linear_model/_logistic.py:1113: UserWarning: Setting penalty='none' will ignore the C and l1_ratio parameters\n",
      "  warnings.warn(\n",
      "/Users/DanielChung/.julia/conda/3/lib/python3.9/site-packages/sklearn/linear_model/_logistic.py:1113: UserWarning: Setting penalty='none' will ignore the C and l1_ratio parameters\n",
      "  warnings.warn(\n",
      "/Users/DanielChung/.julia/conda/3/lib/python3.9/site-packages/sklearn/linear_model/_logistic.py:1113: UserWarning: Setting penalty='none' will ignore the C and l1_ratio parameters\n",
      "  warnings.warn(\n",
      "/Users/DanielChung/.julia/conda/3/lib/python3.9/site-packages/sklearn/linear_model/_logistic.py:1113: UserWarning: Setting penalty='none' will ignore the C and l1_ratio parameters\n",
      "  warnings.warn(\n",
      "/Users/DanielChung/.julia/conda/3/lib/python3.9/site-packages/sklearn/linear_model/_logistic.py:1113: UserWarning: Setting penalty='none' will ignore the C and l1_ratio parameters\n",
      "  warnings.warn(\n",
      "/Users/DanielChung/.julia/conda/3/lib/python3.9/site-packages/sklearn/linear_model/_logistic.py:1113: UserWarning: Setting penalty='none' will ignore the C and l1_ratio parameters\n",
      "  warnings.warn(\n",
      "/Users/DanielChung/.julia/conda/3/lib/python3.9/site-packages/sklearn/linear_model/_logistic.py:1113: UserWarning: Setting penalty='none' will ignore the C and l1_ratio parameters\n",
      "  warnings.warn(\n",
      "/Users/DanielChung/.julia/conda/3/lib/python3.9/site-packages/sklearn/linear_model/_logistic.py:1113: UserWarning: Setting penalty='none' will ignore the C and l1_ratio parameters\n",
      "  warnings.warn(\n",
      "/Users/DanielChung/.julia/conda/3/lib/python3.9/site-packages/sklearn/linear_model/_logistic.py:1113: UserWarning: Setting penalty='none' will ignore the C and l1_ratio parameters\n",
      "  warnings.warn(\n",
      "/Users/DanielChung/.julia/conda/3/lib/python3.9/site-packages/sklearn/linear_model/_logistic.py:1113: UserWarning: Setting penalty='none' will ignore the C and l1_ratio parameters\n",
      "  warnings.warn(\n",
      "/Users/DanielChung/.julia/conda/3/lib/python3.9/site-packages/sklearn/linear_model/_logistic.py:1113: UserWarning: Setting penalty='none' will ignore the C and l1_ratio parameters\n",
      "  warnings.warn(\n",
      "/Users/DanielChung/.julia/conda/3/lib/python3.9/site-packages/sklearn/linear_model/_logistic.py:1113: UserWarning: Setting penalty='none' will ignore the C and l1_ratio parameters\n",
      "  warnings.warn(\n",
      "/Users/DanielChung/.julia/conda/3/lib/python3.9/site-packages/sklearn/linear_model/_logistic.py:1113: UserWarning: Setting penalty='none' will ignore the C and l1_ratio parameters\n",
      "  warnings.warn(\n",
      "/Users/DanielChung/.julia/conda/3/lib/python3.9/site-packages/sklearn/linear_model/_logistic.py:1113: UserWarning: Setting penalty='none' will ignore the C and l1_ratio parameters\n",
      "  warnings.warn(\n",
      "/Users/DanielChung/.julia/conda/3/lib/python3.9/site-packages/sklearn/linear_model/_logistic.py:1113: UserWarning: Setting penalty='none' will ignore the C and l1_ratio parameters\n",
      "  warnings.warn(\n",
      "/Users/DanielChung/.julia/conda/3/lib/python3.9/site-packages/sklearn/linear_model/_logistic.py:1113: UserWarning: Setting penalty='none' will ignore the C and l1_ratio parameters\n",
      "  warnings.warn(\n",
      "/Users/DanielChung/.julia/conda/3/lib/python3.9/site-packages/sklearn/linear_model/_logistic.py:1113: UserWarning: Setting penalty='none' will ignore the C and l1_ratio parameters\n",
      "  warnings.warn(\n",
      "/Users/DanielChung/.julia/conda/3/lib/python3.9/site-packages/sklearn/linear_model/_logistic.py:1113: UserWarning: Setting penalty='none' will ignore the C and l1_ratio parameters\n",
      "  warnings.warn(\n",
      "/Users/DanielChung/.julia/conda/3/lib/python3.9/site-packages/sklearn/linear_model/_logistic.py:1113: UserWarning: Setting penalty='none' will ignore the C and l1_ratio parameters\n",
      "  warnings.warn(\n",
      "/Users/DanielChung/.julia/conda/3/lib/python3.9/site-packages/sklearn/linear_model/_logistic.py:1113: UserWarning: Setting penalty='none' will ignore the C and l1_ratio parameters\n",
      "  warnings.warn(\n",
      "/Users/DanielChung/.julia/conda/3/lib/python3.9/site-packages/sklearn/linear_model/_logistic.py:1113: UserWarning: Setting penalty='none' will ignore the C and l1_ratio parameters\n",
      "  warnings.warn(\n",
      "/Users/DanielChung/.julia/conda/3/lib/python3.9/site-packages/sklearn/linear_model/_logistic.py:1113: UserWarning: Setting penalty='none' will ignore the C and l1_ratio parameters\n",
      "  warnings.warn(\n",
      "/Users/DanielChung/.julia/conda/3/lib/python3.9/site-packages/sklearn/linear_model/_logistic.py:1113: UserWarning: Setting penalty='none' will ignore the C and l1_ratio parameters\n",
      "  warnings.warn(\n",
      "/Users/DanielChung/.julia/conda/3/lib/python3.9/site-packages/sklearn/linear_model/_logistic.py:1113: UserWarning: Setting penalty='none' will ignore the C and l1_ratio parameters\n",
      "  warnings.warn(\n",
      "/Users/DanielChung/.julia/conda/3/lib/python3.9/site-packages/sklearn/linear_model/_logistic.py:1113: UserWarning: Setting penalty='none' will ignore the C and l1_ratio parameters\n",
      "  warnings.warn(\n",
      "/Users/DanielChung/.julia/conda/3/lib/python3.9/site-packages/sklearn/linear_model/_logistic.py:1113: UserWarning: Setting penalty='none' will ignore the C and l1_ratio parameters\n",
      "  warnings.warn(\n",
      "/Users/DanielChung/.julia/conda/3/lib/python3.9/site-packages/sklearn/model_selection/_validation.py:378: FitFailedWarning: \n",
      "135 fits failed out of a total of 300.\n",
      "The score on these train-test partitions for these parameters will be set to nan.\n",
      "If these failures are not expected, you can try to debug them by setting error_score='raise'.\n",
      "\n",
      "Below are more details about the failures:\n",
      "--------------------------------------------------------------------------------\n",
      "87 fits failed with the following error:\n",
      "Traceback (most recent call last):\n",
      "  File \"/Users/DanielChung/.julia/conda/3/lib/python3.9/site-packages/sklearn/model_selection/_validation.py\", line 686, in _fit_and_score\n",
      "    estimator.fit(X_train, y_train, **fit_params)\n",
      "  File \"/Users/DanielChung/.julia/conda/3/lib/python3.9/site-packages/sklearn/linear_model/_logistic.py\", line 1091, in fit\n",
      "    solver = _check_solver(self.solver, self.penalty, self.dual)\n",
      "  File \"/Users/DanielChung/.julia/conda/3/lib/python3.9/site-packages/sklearn/linear_model/_logistic.py\", line 61, in _check_solver\n",
      "    raise ValueError(\n",
      "ValueError: Solver lbfgs supports only 'l2' or 'none' penalties, got l1 penalty.\n",
      "\n",
      "--------------------------------------------------------------------------------\n",
      "48 fits failed with the following error:\n",
      "Traceback (most recent call last):\n",
      "  File \"/Users/DanielChung/.julia/conda/3/lib/python3.9/site-packages/sklearn/model_selection/_validation.py\", line 686, in _fit_and_score\n",
      "    estimator.fit(X_train, y_train, **fit_params)\n",
      "  File \"/Users/DanielChung/.julia/conda/3/lib/python3.9/site-packages/sklearn/linear_model/_logistic.py\", line 1091, in fit\n",
      "    solver = _check_solver(self.solver, self.penalty, self.dual)\n",
      "  File \"/Users/DanielChung/.julia/conda/3/lib/python3.9/site-packages/sklearn/linear_model/_logistic.py\", line 55, in _check_solver\n",
      "    raise ValueError(\n",
      "ValueError: Logistic Regression supports only penalties in ['l1', 'l2', 'elasticnet', 'none'], got elaticnet.\n",
      "\n",
      "  warnings.warn(some_fits_failed_message, FitFailedWarning)\n",
      "/Users/DanielChung/.julia/conda/3/lib/python3.9/site-packages/sklearn/model_selection/_search.py:953: UserWarning: One or more of the test scores are non-finite: [0.48514431 0.48514431 0.48514431        nan 0.48514431 0.48514431\n",
      " 0.48514431        nan        nan        nan 0.48514431 0.48514431\n",
      " 0.48514431 0.48514431 0.48514431        nan        nan 0.48514431\n",
      "        nan 0.48514431 0.48514431        nan        nan        nan\n",
      " 0.48514431 0.48514431        nan 0.48514431        nan 0.48514431\n",
      "        nan 0.48514431 0.48514431 0.48514431 0.48514431 0.48514431\n",
      " 0.48514431        nan        nan 0.48514431 0.48514431        nan\n",
      " 0.48514431 0.48514431        nan        nan 0.48514431 0.48514431\n",
      "        nan 0.48514431        nan 0.48514431        nan        nan\n",
      "        nan        nan        nan 0.48514431        nan 0.48514431\n",
      " 0.48514431        nan        nan        nan 0.48514431        nan\n",
      " 0.48514431 0.48514431        nan 0.48514431 0.48514431 0.48514431\n",
      " 0.48514431 0.48514431 0.48514431        nan        nan 0.48514431\n",
      " 0.48514431 0.48514431        nan        nan        nan        nan\n",
      "        nan        nan 0.48514431 0.48514431 0.48514431        nan\n",
      " 0.48514431        nan        nan 0.48514431 0.48514431        nan\n",
      " 0.48514431 0.48514431        nan        nan]\n",
      "  warnings.warn(\n"
     ]
    }
   ],
   "source": [
    "# random grid search\n",
    "lr_model4 = LogisticRegression();\n",
    "# random search of parameters, using 3 fold cross validation, \n",
    "# search across 100 different combinations, and use all available cores\n",
    "lr_model4_rcv = RandomizedSearchCV(estimator = lr_model4, param_distributions = random_grid, \n",
    "                                   n_iter = 100, cv = 3, verbose=2, random_state=42, n_jobs = -1);\n",
    "lr_model4_rcv.fit(x_train_signif, y_train_imputed);"
   ]
  },
  {
   "cell_type": "code",
   "execution_count": 62,
   "id": "576ecbfe",
   "metadata": {},
   "outputs": [
    {
     "name": "stdout",
     "output_type": "stream",
     "text": [
      "{'C': 0.5252525252525253, 'penalty': 'l2'}\n"
     ]
    }
   ],
   "source": [
    "# cross-validated hyperparams\n",
    "pprint(lr_model4_rcv.best_params_)"
   ]
  },
  {
   "cell_type": "code",
   "execution_count": 63,
   "id": "2bd1f9e1",
   "metadata": {},
   "outputs": [],
   "source": [
    "# predictions\n",
    "lr_model4_preds = lr_model4_rcv.predict(x_test_signif)"
   ]
  },
  {
   "cell_type": "markdown",
   "id": "31c0439b",
   "metadata": {},
   "source": [
    "### Results"
   ]
  },
  {
   "cell_type": "code",
   "execution_count": 64,
   "id": "1083e018",
   "metadata": {},
   "outputs": [
    {
     "data": {
      "text/html": [
       "<style>#sk-container-id-4 {color: black;background-color: white;}#sk-container-id-4 pre{padding: 0;}#sk-container-id-4 div.sk-toggleable {background-color: white;}#sk-container-id-4 label.sk-toggleable__label {cursor: pointer;display: block;width: 100%;margin-bottom: 0;padding: 0.3em;box-sizing: border-box;text-align: center;}#sk-container-id-4 label.sk-toggleable__label-arrow:before {content: \"▸\";float: left;margin-right: 0.25em;color: #696969;}#sk-container-id-4 label.sk-toggleable__label-arrow:hover:before {color: black;}#sk-container-id-4 div.sk-estimator:hover label.sk-toggleable__label-arrow:before {color: black;}#sk-container-id-4 div.sk-toggleable__content {max-height: 0;max-width: 0;overflow: hidden;text-align: left;background-color: #f0f8ff;}#sk-container-id-4 div.sk-toggleable__content pre {margin: 0.2em;color: black;border-radius: 0.25em;background-color: #f0f8ff;}#sk-container-id-4 input.sk-toggleable__control:checked~div.sk-toggleable__content {max-height: 200px;max-width: 100%;overflow: auto;}#sk-container-id-4 input.sk-toggleable__control:checked~label.sk-toggleable__label-arrow:before {content: \"▾\";}#sk-container-id-4 div.sk-estimator input.sk-toggleable__control:checked~label.sk-toggleable__label {background-color: #d4ebff;}#sk-container-id-4 div.sk-label input.sk-toggleable__control:checked~label.sk-toggleable__label {background-color: #d4ebff;}#sk-container-id-4 input.sk-hidden--visually {border: 0;clip: rect(1px 1px 1px 1px);clip: rect(1px, 1px, 1px, 1px);height: 1px;margin: -1px;overflow: hidden;padding: 0;position: absolute;width: 1px;}#sk-container-id-4 div.sk-estimator {font-family: monospace;background-color: #f0f8ff;border: 1px dotted black;border-radius: 0.25em;box-sizing: border-box;margin-bottom: 0.5em;}#sk-container-id-4 div.sk-estimator:hover {background-color: #d4ebff;}#sk-container-id-4 div.sk-parallel-item::after {content: \"\";width: 100%;border-bottom: 1px solid gray;flex-grow: 1;}#sk-container-id-4 div.sk-label:hover label.sk-toggleable__label {background-color: #d4ebff;}#sk-container-id-4 div.sk-serial::before {content: \"\";position: absolute;border-left: 1px solid gray;box-sizing: border-box;top: 0;bottom: 0;left: 50%;z-index: 0;}#sk-container-id-4 div.sk-serial {display: flex;flex-direction: column;align-items: center;background-color: white;padding-right: 0.2em;padding-left: 0.2em;position: relative;}#sk-container-id-4 div.sk-item {position: relative;z-index: 1;}#sk-container-id-4 div.sk-parallel {display: flex;align-items: stretch;justify-content: center;background-color: white;position: relative;}#sk-container-id-4 div.sk-item::before, #sk-container-id-4 div.sk-parallel-item::before {content: \"\";position: absolute;border-left: 1px solid gray;box-sizing: border-box;top: 0;bottom: 0;left: 50%;z-index: -1;}#sk-container-id-4 div.sk-parallel-item {display: flex;flex-direction: column;z-index: 1;position: relative;background-color: white;}#sk-container-id-4 div.sk-parallel-item:first-child::after {align-self: flex-end;width: 50%;}#sk-container-id-4 div.sk-parallel-item:last-child::after {align-self: flex-start;width: 50%;}#sk-container-id-4 div.sk-parallel-item:only-child::after {width: 0;}#sk-container-id-4 div.sk-dashed-wrapped {border: 1px dashed gray;margin: 0 0.4em 0.5em 0.4em;box-sizing: border-box;padding-bottom: 0.4em;background-color: white;}#sk-container-id-4 div.sk-label label {font-family: monospace;font-weight: bold;display: inline-block;line-height: 1.2em;}#sk-container-id-4 div.sk-label-container {text-align: center;}#sk-container-id-4 div.sk-container {/* jupyter's `normalize.less` sets `[hidden] { display: none; }` but bootstrap.min.css set `[hidden] { display: none !important; }` so we also need the `!important` here to be able to override the default hidden behavior on the sphinx rendered scikit-learn.org. See: https://github.com/scikit-learn/scikit-learn/issues/21755 */display: inline-block !important;position: relative;}#sk-container-id-4 div.sk-text-repr-fallback {display: none;}</style><div id=\"sk-container-id-4\" class=\"sk-top-container\"><div class=\"sk-text-repr-fallback\"><pre>LogisticRegression(C=0.5252525252525253)</pre><b>In a Jupyter environment, please rerun this cell to show the HTML representation or trust the notebook. <br />On GitHub, the HTML representation is unable to render, please try loading this page with nbviewer.org.</b></div><div class=\"sk-container\" hidden><div class=\"sk-item\"><div class=\"sk-estimator sk-toggleable\"><input class=\"sk-toggleable__control sk-hidden--visually\" id=\"sk-estimator-id-4\" type=\"checkbox\" checked><label for=\"sk-estimator-id-4\" class=\"sk-toggleable__label sk-toggleable__label-arrow\">LogisticRegression</label><div class=\"sk-toggleable__content\"><pre>LogisticRegression(C=0.5252525252525253)</pre></div></div></div></div></div>"
      ],
      "text/plain": [
       "LogisticRegression(C=0.5252525252525253)"
      ]
     },
     "execution_count": 64,
     "metadata": {},
     "output_type": "execute_result"
    }
   ],
   "source": [
    "# using cross-validation coefficients\n",
    "lr_model4 = LogisticRegression(penalty='l2',C=0.5252525252525253)\n",
    "lr_model4.fit(x_train_signif, y_train_imputed)"
   ]
  },
  {
   "cell_type": "markdown",
   "id": "933dc349",
   "metadata": {},
   "source": [
    "New accuracy"
   ]
  },
  {
   "cell_type": "code",
   "execution_count": 65,
   "id": "292301ee",
   "metadata": {},
   "outputs": [
    {
     "data": {
      "text/plain": [
       "0.5795887281035796"
      ]
     },
     "execution_count": 65,
     "metadata": {},
     "output_type": "execute_result"
    }
   ],
   "source": [
    "lr_model4.score(x_test_signif, y_test_imputed)"
   ]
  },
  {
   "cell_type": "markdown",
   "id": "ded4e903",
   "metadata": {},
   "source": [
    "Confusion Matrix"
   ]
  },
  {
   "cell_type": "code",
   "execution_count": 66,
   "id": "eba7d5f6",
   "metadata": {},
   "outputs": [
    {
     "name": "stdout",
     "output_type": "stream",
     "text": [
      "[[1472 1030]\n",
      " [  74   50]]\n"
     ]
    }
   ],
   "source": [
    "cm = metrics.confusion_matrix(y_test_imputed, lr_model4_preds)\n",
    "print(cm)"
   ]
  },
  {
   "cell_type": "markdown",
   "id": "029bc88d",
   "metadata": {},
   "source": [
    "Precision, Recall, F Score"
   ]
  },
  {
   "cell_type": "code",
   "execution_count": 67,
   "id": "588fdfd4",
   "metadata": {},
   "outputs": [
    {
     "name": "stdout",
     "output_type": "stream",
     "text": [
      "Precision: 0.49921541852330986\n",
      "Recall: 0.4957775714911941\n",
      "F Score: 0.40516460283902145\n"
     ]
    }
   ],
   "source": [
    "lr_model4_results = precision_recall_fscore_support(y_test_imputed, lr_model4_preds, average='macro')\n",
    "lr_model4_precision, lr_model4_recall, lr_model4_fscore, lr_model4_support = lr_model4_results\n",
    "print(\"Precision: \" + str(lr_model4_precision))\n",
    "print(\"Recall: \" + str(lr_model4_recall))\n",
    "print(\"F Score: \" + str(lr_model4_fscore))"
   ]
  },
  {
   "cell_type": "markdown",
   "id": "9d0fbb18",
   "metadata": {},
   "source": [
    "AUC"
   ]
  },
  {
   "cell_type": "code",
   "execution_count": 68,
   "id": "8905b90f",
   "metadata": {},
   "outputs": [
    {
     "data": {
      "image/png": "[encoded data removed]",
      "text/plain": [
       "<Figure size 640x480 with 1 Axes>"
      ]
     },
     "metadata": {},
     "output_type": "display_data"
    },
    {
     "name": "stdout",
     "output_type": "stream",
     "text": [
      "AUC:\n"
     ]
    },
    {
     "data": {
      "text/plain": [
       "0.4892021866377866"
      ]
     },
     "execution_count": 68,
     "metadata": {},
     "output_type": "execute_result"
    }
   ],
   "source": [
    "y_pred_proba = lr_model4.predict_proba(x_test_signif)[::,1]\n",
    "fpr, tpr, _ = metrics.roc_curve(y_test_imputed,  y_pred_proba)\n",
    "\n",
    "# plotting ROC curve\n",
    "plt.plot(fpr,tpr)\n",
    "plt.ylabel('True Positive Rate')\n",
    "plt.xlabel('False Positive Rate')\n",
    "plt.show()\n",
    "\n",
    "print(\"AUC:\")\n",
    "roc_auc_score(y_test_imputed, lr_model4.predict_proba(x_test_signif)[:,1])"
   ]
  },
  {
   "cell_type": "markdown",
   "id": "bba5f0f3",
   "metadata": {},
   "source": [
    "PRAUC:"
   ]
  },
  {
   "cell_type": "code",
   "execution_count": 69,
   "id": "3e245f01",
   "metadata": {},
   "outputs": [
    {
     "data": {
      "text/plain": [
       "0.050716511196386614"
      ]
     },
     "execution_count": 69,
     "metadata": {},
     "output_type": "execute_result"
    }
   ],
   "source": [
    "lr_model4_probas = lr_model4.predict_proba(x_test_signif)\n",
    "average_precision_score(y_test_imputed, lr_model4_probas[:,1],pos_label=1)"
   ]
  },
  {
   "cell_type": "markdown",
   "id": "156aafbb",
   "metadata": {},
   "source": [
    "### Interpretation"
   ]
  },
  {
   "cell_type": "markdown",
   "id": "84b24246",
   "metadata": {},
   "source": [
    "Coefficient Importance"
   ]
  },
  {
   "cell_type": "code",
   "execution_count": 70,
   "id": "ca6a5911",
   "metadata": {},
   "outputs": [
    {
     "data": {
      "image/png": "[encoded data removed]",
      "text/plain": [
       "<Figure size 1850x450 with 1 Axes>"
      ]
     },
     "metadata": {},
     "output_type": "display_data"
    }
   ],
   "source": [
    "# creating a dataframe where rows are features\n",
    "# and columns are logistic regression coef\n",
    "to_plot = pd.DataFrame([20,43,44],columns=[\"attr\"])\n",
    "to_plot[\"coef\"] = lr_model4.coef_[0]\n",
    "\n",
    "# plotting feature coefs (and by extension, feature importance)\n",
    "fig, ax = plt.subplots()\n",
    "fig.set_size_inches(18.5, 4.5)\n",
    "\n",
    "to_plot['sign'] = to_plot['coef'] > 0\n",
    "to_plot['coef'].plot(kind='bar', color=to_plot.sign.map({True: (1.0, 0, 0, 0.7), False: (0, 0.6, 0, 0.7)}), \n",
    "                      ax=ax)\n",
    "ax.set_xticklabels([20,43,44], rotation = 0);\n",
    "ax.axhline(0, color='k');\n",
    "ax.set_xlabel(\"attribute\");\n",
    "ax.set_ylabel(\"logistic regression coef\");\n",
    "ax.set_title(\"Significant and Cross-Validated Logistic Regression Coefficients, Bankrupcy Classifier\");"
   ]
  },
  {
   "cell_type": "code",
   "execution_count": 71,
   "id": "9dbb04e8",
   "metadata": {},
   "outputs": [
    {
     "name": "stdout",
     "output_type": "stream",
     "text": [
      "significant attribues that decrease predicted probability of bankrupcy (in desc order of coef size):\n",
      "====\n",
      "(inventory * 365) / sales\n"
     ]
    }
   ],
   "source": [
    "print(\"significant attribues that decrease predicted probability of bankrupcy (in desc order of coef size):\")\n",
    "print(\"====\")\n",
    "print(attributes[20])"
   ]
  },
  {
   "cell_type": "markdown",
   "id": "c5f5f70c",
   "metadata": {},
   "source": [
    "# CART"
   ]
  },
  {
   "cell_type": "markdown",
   "id": "56e19f15",
   "metadata": {},
   "source": [
    "## Initial Model"
   ]
  },
  {
   "cell_type": "markdown",
   "id": "cd87d6e6",
   "metadata": {},
   "source": [
    "### Fit"
   ]
  },
  {
   "cell_type": "code",
   "execution_count": 72,
   "id": "9fd26ed0",
   "metadata": {},
   "outputs": [],
   "source": [
    "from sklearn.tree import DecisionTreeClassifier"
   ]
  },
  {
   "cell_type": "code",
   "execution_count": 73,
   "id": "3d303c06",
   "metadata": {},
   "outputs": [],
   "source": [
    "cart_model = DecisionTreeClassifier(random_state=42)"
   ]
  },
  {
   "cell_type": "code",
   "execution_count": 74,
   "id": "e5c75575",
   "metadata": {},
   "outputs": [
    {
     "data": {
      "text/html": [
       "<style>#sk-container-id-5 {color: black;background-color: white;}#sk-container-id-5 pre{padding: 0;}#sk-container-id-5 div.sk-toggleable {background-color: white;}#sk-container-id-5 label.sk-toggleable__label {cursor: pointer;display: block;width: 100%;margin-bottom: 0;padding: 0.3em;box-sizing: border-box;text-align: center;}#sk-container-id-5 label.sk-toggleable__label-arrow:before {content: \"▸\";float: left;margin-right: 0.25em;color: #696969;}#sk-container-id-5 label.sk-toggleable__label-arrow:hover:before {color: black;}#sk-container-id-5 div.sk-estimator:hover label.sk-toggleable__label-arrow:before {color: black;}#sk-container-id-5 div.sk-toggleable__content {max-height: 0;max-width: 0;overflow: hidden;text-align: left;background-color: #f0f8ff;}#sk-container-id-5 div.sk-toggleable__content pre {margin: 0.2em;color: black;border-radius: 0.25em;background-color: #f0f8ff;}#sk-container-id-5 input.sk-toggleable__control:checked~div.sk-toggleable__content {max-height: 200px;max-width: 100%;overflow: auto;}#sk-container-id-5 input.sk-toggleable__control:checked~label.sk-toggleable__label-arrow:before {content: \"▾\";}#sk-container-id-5 div.sk-estimator input.sk-toggleable__control:checked~label.sk-toggleable__label {background-color: #d4ebff;}#sk-container-id-5 div.sk-label input.sk-toggleable__control:checked~label.sk-toggleable__label {background-color: #d4ebff;}#sk-container-id-5 input.sk-hidden--visually {border: 0;clip: rect(1px 1px 1px 1px);clip: rect(1px, 1px, 1px, 1px);height: 1px;margin: -1px;overflow: hidden;padding: 0;position: absolute;width: 1px;}#sk-container-id-5 div.sk-estimator {font-family: monospace;background-color: #f0f8ff;border: 1px dotted black;border-radius: 0.25em;box-sizing: border-box;margin-bottom: 0.5em;}#sk-container-id-5 div.sk-estimator:hover {background-color: #d4ebff;}#sk-container-id-5 div.sk-parallel-item::after {content: \"\";width: 100%;border-bottom: 1px solid gray;flex-grow: 1;}#sk-container-id-5 div.sk-label:hover label.sk-toggleable__label {background-color: #d4ebff;}#sk-container-id-5 div.sk-serial::before {content: \"\";position: absolute;border-left: 1px solid gray;box-sizing: border-box;top: 0;bottom: 0;left: 50%;z-index: 0;}#sk-container-id-5 div.sk-serial {display: flex;flex-direction: column;align-items: center;background-color: white;padding-right: 0.2em;padding-left: 0.2em;position: relative;}#sk-container-id-5 div.sk-item {position: relative;z-index: 1;}#sk-container-id-5 div.sk-parallel {display: flex;align-items: stretch;justify-content: center;background-color: white;position: relative;}#sk-container-id-5 div.sk-item::before, #sk-container-id-5 div.sk-parallel-item::before {content: \"\";position: absolute;border-left: 1px solid gray;box-sizing: border-box;top: 0;bottom: 0;left: 50%;z-index: -1;}#sk-container-id-5 div.sk-parallel-item {display: flex;flex-direction: column;z-index: 1;position: relative;background-color: white;}#sk-container-id-5 div.sk-parallel-item:first-child::after {align-self: flex-end;width: 50%;}#sk-container-id-5 div.sk-parallel-item:last-child::after {align-self: flex-start;width: 50%;}#sk-container-id-5 div.sk-parallel-item:only-child::after {width: 0;}#sk-container-id-5 div.sk-dashed-wrapped {border: 1px dashed gray;margin: 0 0.4em 0.5em 0.4em;box-sizing: border-box;padding-bottom: 0.4em;background-color: white;}#sk-container-id-5 div.sk-label label {font-family: monospace;font-weight: bold;display: inline-block;line-height: 1.2em;}#sk-container-id-5 div.sk-label-container {text-align: center;}#sk-container-id-5 div.sk-container {/* jupyter's `normalize.less` sets `[hidden] { display: none; }` but bootstrap.min.css set `[hidden] { display: none !important; }` so we also need the `!important` here to be able to override the default hidden behavior on the sphinx rendered scikit-learn.org. See: https://github.com/scikit-learn/scikit-learn/issues/21755 */display: inline-block !important;position: relative;}#sk-container-id-5 div.sk-text-repr-fallback {display: none;}</style><div id=\"sk-container-id-5\" class=\"sk-top-container\"><div class=\"sk-text-repr-fallback\"><pre>DecisionTreeClassifier(random_state=42)</pre><b>In a Jupyter environment, please rerun this cell to show the HTML representation or trust the notebook. <br />On GitHub, the HTML representation is unable to render, please try loading this page with nbviewer.org.</b></div><div class=\"sk-container\" hidden><div class=\"sk-item\"><div class=\"sk-estimator sk-toggleable\"><input class=\"sk-toggleable__control sk-hidden--visually\" id=\"sk-estimator-id-5\" type=\"checkbox\" checked><label for=\"sk-estimator-id-5\" class=\"sk-toggleable__label sk-toggleable__label-arrow\">DecisionTreeClassifier</label><div class=\"sk-toggleable__content\"><pre>DecisionTreeClassifier(random_state=42)</pre></div></div></div></div></div>"
      ],
      "text/plain": [
       "DecisionTreeClassifier(random_state=42)"
      ]
     },
     "execution_count": 74,
     "metadata": {},
     "output_type": "execute_result"
    }
   ],
   "source": [
    "cart_model.fit(x_train_imputed,y_train_imputed)"
   ]
  },
  {
   "cell_type": "code",
   "execution_count": 75,
   "id": "8c0be6e2",
   "metadata": {},
   "outputs": [],
   "source": [
    "# predictions\n",
    "cart_model_preds = cart_model.predict(x_test_imputed)"
   ]
  },
  {
   "cell_type": "markdown",
   "id": "5f849986",
   "metadata": {},
   "source": [
    "### Results"
   ]
  },
  {
   "cell_type": "markdown",
   "id": "03489373",
   "metadata": {},
   "source": [
    "Accuracy"
   ]
  },
  {
   "cell_type": "code",
   "execution_count": 76,
   "id": "6c546179",
   "metadata": {},
   "outputs": [
    {
     "data": {
      "text/plain": [
       "0.6130997715156131"
      ]
     },
     "execution_count": 76,
     "metadata": {},
     "output_type": "execute_result"
    }
   ],
   "source": [
    "cart_model.score(x_test_imputed,y_test_imputed)"
   ]
  },
  {
   "cell_type": "markdown",
   "id": "23f7bd63",
   "metadata": {},
   "source": [
    "Confusion Matrix"
   ]
  },
  {
   "cell_type": "code",
   "execution_count": 77,
   "id": "e6943507",
   "metadata": {
    "scrolled": true
   },
   "outputs": [
    {
     "name": "stdout",
     "output_type": "stream",
     "text": [
      "[[1529  973]\n",
      " [  43   81]]\n"
     ]
    }
   ],
   "source": [
    "cm = metrics.confusion_matrix(y_test_imputed, cart_model_preds)\n",
    "print(cm)"
   ]
  },
  {
   "cell_type": "markdown",
   "id": "ef19012c",
   "metadata": {},
   "source": [
    "Precision, Recall, F Score"
   ]
  },
  {
   "cell_type": "code",
   "execution_count": 78,
   "id": "531fb964",
   "metadata": {},
   "outputs": [
    {
     "name": "stdout",
     "output_type": "stream",
     "text": [
      "Precision: 0.5247482026546152\n",
      "Recall: 0.6321684587813621\n",
      "F Score: 0.444067434965865\n"
     ]
    }
   ],
   "source": [
    "cart_model_results = precision_recall_fscore_support(y_test_imputed, cart_model_preds, average='macro')\n",
    "cart_model_precision, cart_model_recall, cart_model_fscore, cart_model_support = cart_model_results\n",
    "print(\"Precision: \" + str(cart_model_precision))\n",
    "print(\"Recall: \" + str(cart_model_recall))\n",
    "print(\"F Score: \" + str(cart_model_fscore))"
   ]
  },
  {
   "cell_type": "markdown",
   "id": "3943aef4",
   "metadata": {},
   "source": [
    "AUC"
   ]
  },
  {
   "cell_type": "code",
   "execution_count": 81,
   "id": "b7040837",
   "metadata": {},
   "outputs": [
    {
     "data": {
      "image/png": "[encoded data removed]",
      "text/plain": [
       "<Figure size 640x480 with 1 Axes>"
      ]
     },
     "metadata": {},
     "output_type": "display_data"
    },
    {
     "name": "stdout",
     "output_type": "stream",
     "text": [
      "AUC:\n"
     ]
    },
    {
     "data": {
      "text/plain": [
       "0.6321684587813621"
      ]
     },
     "execution_count": 81,
     "metadata": {},
     "output_type": "execute_result"
    }
   ],
   "source": [
    "y_pred_proba = cart_model.predict_proba(x_test_imputed)[::,1]\n",
    "fpr, tpr, _ = metrics.roc_curve(y_test_imputed,  y_pred_proba)\n",
    "\n",
    "# plotting ROC curve\n",
    "plt.plot(fpr,tpr)\n",
    "plt.ylabel('True Positive Rate')\n",
    "plt.xlabel('False Positive Rate')\n",
    "plt.show()\n",
    "\n",
    "print(\"AUC:\")\n",
    "roc_auc_score(y_test_imputed, cart_model.predict_proba(x_test_imputed)[:,1])"
   ]
  },
  {
   "cell_type": "markdown",
   "id": "d6e2700a",
   "metadata": {},
   "source": [
    "PRAUC"
   ]
  },
  {
   "cell_type": "code",
   "execution_count": 82,
   "id": "220f6594",
   "metadata": {},
   "outputs": [
    {
     "data": {
      "text/plain": [
       "0.06657517959620579"
      ]
     },
     "execution_count": 82,
     "metadata": {},
     "output_type": "execute_result"
    }
   ],
   "source": [
    "cart_model_probas = cart_model.predict_proba(x_test_imputed)\n",
    "average_precision_score(y_test_imputed, cart_model_probas[:,1],pos_label=1)"
   ]
  },
  {
   "cell_type": "markdown",
   "id": "22bb10c1",
   "metadata": {},
   "source": [
    "### Interpretation"
   ]
  },
  {
   "cell_type": "code",
   "execution_count": 83,
   "id": "20b6e816",
   "metadata": {},
   "outputs": [],
   "source": [
    "from sklearn.tree import plot_tree"
   ]
  },
  {
   "cell_type": "code",
   "execution_count": 84,
   "id": "2726ee09",
   "metadata": {},
   "outputs": [],
   "source": [
    "# from user bharys on stack overflow:\n",
    "def dt_feature_importance(model,normalize=True):\n",
    "\n",
    "    left_c = model.tree_.children_left\n",
    "    right_c = model.tree_.children_right\n",
    "\n",
    "    impurity = model.tree_.impurity    \n",
    "    node_samples = model.tree_.weighted_n_node_samples \n",
    "\n",
    "    # Initialize the feature importance, those not used remain zero\n",
    "    feature_importance = np.zeros((model.tree_.n_features,))\n",
    "\n",
    "    for idx,node in enumerate(model.tree_.feature):\n",
    "        if node >= 0:\n",
    "            # Accumulate the feature importance over all the nodes where it's used\n",
    "            feature_importance[node]+=impurity[idx]*node_samples[idx]- \\\n",
    "                                   impurity[left_c[idx]]*node_samples[left_c[idx]]-\\\n",
    "                                   impurity[right_c[idx]]*node_samples[right_c[idx]]\n",
    "\n",
    "    # Number of samples at the root node\n",
    "    feature_importance/=node_samples[0]\n",
    "\n",
    "    if normalize:\n",
    "        normalizer = feature_importance.sum()\n",
    "        if normalizer > 0:\n",
    "            feature_importance/=normalizer\n",
    "\n",
    "    return feature_importance"
   ]
  },
  {
   "cell_type": "code",
   "execution_count": 85,
   "id": "da5e9a74",
   "metadata": {
    "scrolled": true
   },
   "outputs": [],
   "source": [
    "cart_model_importances = dt_feature_importance(cart_model)"
   ]
  },
  {
   "cell_type": "code",
   "execution_count": 86,
   "id": "55d9646b",
   "metadata": {},
   "outputs": [
    {
     "data": {
      "image/png": "[encoded data removed]",
      "text/plain": [
       "<Figure size 1850x450 with 1 Axes>"
      ]
     },
     "metadata": {},
     "output_type": "display_data"
    }
   ],
   "source": [
    "# creating a dataframe where rows are features\n",
    "# and columns are logistic regression coef\n",
    "to_plot = pd.DataFrame(range(1,65),columns=[\"attr\"])\n",
    "to_plot[\"coef\"] = cart_model_importances\n",
    "\n",
    "# plotting feature coefs (and by extension, feature importance)\n",
    "fig, ax = plt.subplots()\n",
    "fig.set_size_inches(18.5, 4.5)\n",
    "\n",
    "to_plot['sign'] = to_plot['coef'] > 0\n",
    "to_plot['coef'].plot(kind='bar', color=to_plot.sign.map({True: (1.0, 0, 0, 0.7), False: (0, 0.6, 0, 0.7)}), \n",
    "                      ax=ax)\n",
    "ax.set_xticklabels(range(1,65), rotation = 0);\n",
    "ax.axhline(0, color='k');\n",
    "ax.set_xlabel(\"attribute\");\n",
    "ax.set_ylabel(\"CART attribute importance\");\n",
    "ax.set_title(\"CART attribute importances (Intercept Excluded), Bankrupcy Classifier\");"
   ]
  },
  {
   "cell_type": "code",
   "execution_count": 87,
   "id": "cb4b883a",
   "metadata": {},
   "outputs": [
    {
     "name": "stdout",
     "output_type": "stream",
     "text": [
      "attributes for predicted probability of bankrupcy (in desc order of coef importance):\n",
      "====\n",
      "gross profit (in 3 years) / total assets\n"
     ]
    }
   ],
   "source": [
    "print(\"attributes for predicted probability of bankrupcy (in desc order of coef importance):\")\n",
    "print(\"====\")\n",
    "print(attributes[24])"
   ]
  },
  {
   "cell_type": "markdown",
   "id": "fcf80ed9",
   "metadata": {},
   "source": [
    "## Cross-Validated Model *"
   ]
  },
  {
   "cell_type": "markdown",
   "id": "c1883136",
   "metadata": {},
   "source": [
    "### Fit"
   ]
  },
  {
   "cell_type": "code",
   "execution_count": 88,
   "id": "4b1c8f85",
   "metadata": {},
   "outputs": [],
   "source": [
    "# creating random grid\n",
    "criterion = [\"gini\", \"entropy\", \"log_loss\"]\n",
    "max_depth = range(1,10)\n",
    "min_samples_split = range(1,5)\n",
    "min_samples_leaf = range(1,5)\n",
    "ccp_alpha = np.linspace(0,1,18)\n",
    "\n",
    "# random grid\n",
    "random_grid = {'criterion': criterion,\n",
    "               'max_depth': max_depth,\n",
    "               'min_samples_split': min_samples_split,\n",
    "               'min_samples_leaf': min_samples_leaf,\n",
    "               'ccp_alpha': ccp_alpha}"
   ]
  },
  {
   "cell_type": "code",
   "execution_count": 89,
   "id": "525b90ae",
   "metadata": {
    "scrolled": true
   },
   "outputs": [
    {
     "name": "stdout",
     "output_type": "stream",
     "text": [
      "Fitting 3 folds for each of 100 candidates, totalling 300 fits\n"
     ]
    },
    {
     "name": "stderr",
     "output_type": "stream",
     "text": [
      "/Users/DanielChung/.julia/conda/3/lib/python3.9/site-packages/sklearn/model_selection/_validation.py:378: FitFailedWarning: \n",
      "84 fits failed out of a total of 300.\n",
      "The score on these train-test partitions for these parameters will be set to nan.\n",
      "If these failures are not expected, you can try to debug them by setting error_score='raise'.\n",
      "\n",
      "Below are more details about the failures:\n",
      "--------------------------------------------------------------------------------\n",
      "84 fits failed with the following error:\n",
      "Traceback (most recent call last):\n",
      "  File \"/Users/DanielChung/.julia/conda/3/lib/python3.9/site-packages/sklearn/model_selection/_validation.py\", line 686, in _fit_and_score\n",
      "    estimator.fit(X_train, y_train, **fit_params)\n",
      "  File \"/Users/DanielChung/.julia/conda/3/lib/python3.9/site-packages/sklearn/tree/_classes.py\", line 969, in fit\n",
      "    super().fit(\n",
      "  File \"/Users/DanielChung/.julia/conda/3/lib/python3.9/site-packages/sklearn/tree/_classes.py\", line 265, in fit\n",
      "    check_scalar(\n",
      "  File \"/Users/DanielChung/.julia/conda/3/lib/python3.9/site-packages/sklearn/utils/validation.py\", line 1480, in check_scalar\n",
      "    raise ValueError(\n",
      "ValueError: min_samples_split == 1, must be >= 2.\n",
      "\n",
      "  warnings.warn(some_fits_failed_message, FitFailedWarning)\n",
      "/Users/DanielChung/.julia/conda/3/lib/python3.9/site-packages/sklearn/model_selection/_search.py:953: UserWarning: One or more of the test scores are non-finite: [0.49865047        nan 0.49865047 0.49865047 0.49865047        nan\n",
      "        nan 0.6887543  0.49865047        nan 0.49865047 0.49865047\n",
      "        nan 0.49865047 0.49865047        nan 0.49865047        nan\n",
      " 0.49865047        nan 0.49865047 0.49865047        nan 0.67795808\n",
      "        nan 0.67798529 0.67798529 0.6887543         nan 0.49865047\n",
      "        nan 0.49865047        nan        nan 0.49865047 0.49865047\n",
      "        nan 0.53628488 0.49865047 0.49865047 0.49865047 0.49865047\n",
      " 0.49865047 0.49865047        nan 0.49865047 0.49865047 0.49865047\n",
      " 0.49865047 0.53628488 0.49865047 0.49865047 0.49865047 0.49865047\n",
      "        nan 0.49865047 0.49865047 0.49865047        nan        nan\n",
      " 0.49865047 0.49865047 0.49865047 0.49865047 0.66443015 0.49865047\n",
      " 0.63075182 0.49865047 0.49865047 0.49865047 0.67798529        nan\n",
      " 0.6887543         nan 0.49865047        nan 0.49865047 0.49865047\n",
      " 0.49865047        nan 0.49865047        nan 0.49865047 0.49865047\n",
      " 0.53628488 0.49865047 0.49865047 0.49865047 0.65232249 0.49865047\n",
      " 0.49865047 0.49865047        nan 0.67798529        nan 0.49865047\n",
      "        nan 0.49865047 0.49865047        nan]\n",
      "  warnings.warn(\n"
     ]
    }
   ],
   "source": [
    "# random grid search\n",
    "cart_model2 = DecisionTreeClassifier();\n",
    "# random search of parameters, using 3 fold cross validation, \n",
    "# search across 100 different combinations, and use all available cores\n",
    "cart_model2_rcv = RandomizedSearchCV(estimator = cart_model2, param_distributions = random_grid, \n",
    "                                   n_iter = 100, cv = 3, verbose=2, random_state=42, n_jobs = -1);\n",
    "cart_model2_rcv.fit(x_train_imputed, y_train_imputed);"
   ]
  },
  {
   "cell_type": "code",
   "execution_count": 90,
   "id": "a112bcca",
   "metadata": {},
   "outputs": [
    {
     "name": "stdout",
     "output_type": "stream",
     "text": [
      "{'ccp_alpha': 0.0,\n",
      " 'criterion': 'log_loss',\n",
      " 'max_depth': 2,\n",
      " 'min_samples_leaf': 4,\n",
      " 'min_samples_split': 4}\n"
     ]
    }
   ],
   "source": [
    "# cross-validated hyperparams\n",
    "pprint(cart_model2_rcv.best_params_)"
   ]
  },
  {
   "cell_type": "code",
   "execution_count": 91,
   "id": "9fab2fbd",
   "metadata": {},
   "outputs": [],
   "source": [
    "# predictions\n",
    "cart_model2_preds = cart_model2_rcv.predict(x_test_imputed)"
   ]
  },
  {
   "cell_type": "markdown",
   "id": "2907baa6",
   "metadata": {},
   "source": [
    "### Results"
   ]
  },
  {
   "cell_type": "code",
   "execution_count": 92,
   "id": "2b3cab53",
   "metadata": {},
   "outputs": [
    {
     "data": {
      "text/html": [
       "<style>#sk-container-id-6 {color: black;background-color: white;}#sk-container-id-6 pre{padding: 0;}#sk-container-id-6 div.sk-toggleable {background-color: white;}#sk-container-id-6 label.sk-toggleable__label {cursor: pointer;display: block;width: 100%;margin-bottom: 0;padding: 0.3em;box-sizing: border-box;text-align: center;}#sk-container-id-6 label.sk-toggleable__label-arrow:before {content: \"▸\";float: left;margin-right: 0.25em;color: #696969;}#sk-container-id-6 label.sk-toggleable__label-arrow:hover:before {color: black;}#sk-container-id-6 div.sk-estimator:hover label.sk-toggleable__label-arrow:before {color: black;}#sk-container-id-6 div.sk-toggleable__content {max-height: 0;max-width: 0;overflow: hidden;text-align: left;background-color: #f0f8ff;}#sk-container-id-6 div.sk-toggleable__content pre {margin: 0.2em;color: black;border-radius: 0.25em;background-color: #f0f8ff;}#sk-container-id-6 input.sk-toggleable__control:checked~div.sk-toggleable__content {max-height: 200px;max-width: 100%;overflow: auto;}#sk-container-id-6 input.sk-toggleable__control:checked~label.sk-toggleable__label-arrow:before {content: \"▾\";}#sk-container-id-6 div.sk-estimator input.sk-toggleable__control:checked~label.sk-toggleable__label {background-color: #d4ebff;}#sk-container-id-6 div.sk-label input.sk-toggleable__control:checked~label.sk-toggleable__label {background-color: #d4ebff;}#sk-container-id-6 input.sk-hidden--visually {border: 0;clip: rect(1px 1px 1px 1px);clip: rect(1px, 1px, 1px, 1px);height: 1px;margin: -1px;overflow: hidden;padding: 0;position: absolute;width: 1px;}#sk-container-id-6 div.sk-estimator {font-family: monospace;background-color: #f0f8ff;border: 1px dotted black;border-radius: 0.25em;box-sizing: border-box;margin-bottom: 0.5em;}#sk-container-id-6 div.sk-estimator:hover {background-color: #d4ebff;}#sk-container-id-6 div.sk-parallel-item::after {content: \"\";width: 100%;border-bottom: 1px solid gray;flex-grow: 1;}#sk-container-id-6 div.sk-label:hover label.sk-toggleable__label {background-color: #d4ebff;}#sk-container-id-6 div.sk-serial::before {content: \"\";position: absolute;border-left: 1px solid gray;box-sizing: border-box;top: 0;bottom: 0;left: 50%;z-index: 0;}#sk-container-id-6 div.sk-serial {display: flex;flex-direction: column;align-items: center;background-color: white;padding-right: 0.2em;padding-left: 0.2em;position: relative;}#sk-container-id-6 div.sk-item {position: relative;z-index: 1;}#sk-container-id-6 div.sk-parallel {display: flex;align-items: stretch;justify-content: center;background-color: white;position: relative;}#sk-container-id-6 div.sk-item::before, #sk-container-id-6 div.sk-parallel-item::before {content: \"\";position: absolute;border-left: 1px solid gray;box-sizing: border-box;top: 0;bottom: 0;left: 50%;z-index: -1;}#sk-container-id-6 div.sk-parallel-item {display: flex;flex-direction: column;z-index: 1;position: relative;background-color: white;}#sk-container-id-6 div.sk-parallel-item:first-child::after {align-self: flex-end;width: 50%;}#sk-container-id-6 div.sk-parallel-item:last-child::after {align-self: flex-start;width: 50%;}#sk-container-id-6 div.sk-parallel-item:only-child::after {width: 0;}#sk-container-id-6 div.sk-dashed-wrapped {border: 1px dashed gray;margin: 0 0.4em 0.5em 0.4em;box-sizing: border-box;padding-bottom: 0.4em;background-color: white;}#sk-container-id-6 div.sk-label label {font-family: monospace;font-weight: bold;display: inline-block;line-height: 1.2em;}#sk-container-id-6 div.sk-label-container {text-align: center;}#sk-container-id-6 div.sk-container {/* jupyter's `normalize.less` sets `[hidden] { display: none; }` but bootstrap.min.css set `[hidden] { display: none !important; }` so we also need the `!important` here to be able to override the default hidden behavior on the sphinx rendered scikit-learn.org. See: https://github.com/scikit-learn/scikit-learn/issues/21755 */display: inline-block !important;position: relative;}#sk-container-id-6 div.sk-text-repr-fallback {display: none;}</style><div id=\"sk-container-id-6\" class=\"sk-top-container\"><div class=\"sk-text-repr-fallback\"><pre>DecisionTreeClassifier(max_depth=2, min_samples_leaf=2, min_samples_split=4,\n",
       "                       random_state=42)</pre><b>In a Jupyter environment, please rerun this cell to show the HTML representation or trust the notebook. <br />On GitHub, the HTML representation is unable to render, please try loading this page with nbviewer.org.</b></div><div class=\"sk-container\" hidden><div class=\"sk-item\"><div class=\"sk-estimator sk-toggleable\"><input class=\"sk-toggleable__control sk-hidden--visually\" id=\"sk-estimator-id-6\" type=\"checkbox\" checked><label for=\"sk-estimator-id-6\" class=\"sk-toggleable__label sk-toggleable__label-arrow\">DecisionTreeClassifier</label><div class=\"sk-toggleable__content\"><pre>DecisionTreeClassifier(max_depth=2, min_samples_leaf=2, min_samples_split=4,\n",
       "                       random_state=42)</pre></div></div></div></div></div>"
      ],
      "text/plain": [
       "DecisionTreeClassifier(max_depth=2, min_samples_leaf=2, min_samples_split=4,\n",
       "                       random_state=42)"
      ]
     },
     "execution_count": 92,
     "metadata": {},
     "output_type": "execute_result"
    }
   ],
   "source": [
    "cart_model2 = DecisionTreeClassifier(ccp_alpha=0.0,\n",
    "                                     criterion='gini',\n",
    "                                     max_depth=2,\n",
    "                                     min_samples_leaf=2,\n",
    "                                     min_samples_split=4,\n",
    "                                     random_state=42)\n",
    "cart_model2.fit(x_train_imputed, y_train_imputed)"
   ]
  },
  {
   "cell_type": "markdown",
   "id": "711e8581",
   "metadata": {},
   "source": [
    "New Accuracy"
   ]
  },
  {
   "cell_type": "code",
   "execution_count": 93,
   "id": "d5c36352",
   "metadata": {},
   "outputs": [
    {
     "data": {
      "text/plain": [
       "0.7105864432597105"
      ]
     },
     "execution_count": 93,
     "metadata": {},
     "output_type": "execute_result"
    }
   ],
   "source": [
    "cart_model2.score(x_test_imputed, y_test_imputed)"
   ]
  },
  {
   "cell_type": "markdown",
   "id": "1371a94e",
   "metadata": {},
   "source": [
    "Confusion Matrix"
   ]
  },
  {
   "cell_type": "code",
   "execution_count": 94,
   "id": "c0399540",
   "metadata": {},
   "outputs": [
    {
     "name": "stdout",
     "output_type": "stream",
     "text": [
      "[[1790  712]\n",
      " [  48   76]]\n"
     ]
    }
   ],
   "source": [
    "cm = metrics.confusion_matrix(y_test_imputed, cart_model2_preds)\n",
    "print(cm)"
   ]
  },
  {
   "cell_type": "markdown",
   "id": "ecfd7803",
   "metadata": {},
   "source": [
    "Precision, Recall, F Score"
   ]
  },
  {
   "cell_type": "code",
   "execution_count": 95,
   "id": "20c7c54a",
   "metadata": {
    "scrolled": true
   },
   "outputs": [
    {
     "name": "stdout",
     "output_type": "stream",
     "text": [
      "Precision: 0.5351656788718703\n",
      "Recall: 0.6641654418400763\n",
      "F Score: 0.4957757296466974\n"
     ]
    }
   ],
   "source": [
    "cart_model2_results = precision_recall_fscore_support(y_test_imputed, cart_model2_preds, average='macro')\n",
    "cart_model2_precision, cart_model2_recall, cart_model2_fscore, cart_model2_support = cart_model2_results\n",
    "print(\"Precision: \" + str(cart_model2_precision))\n",
    "print(\"Recall: \" + str(cart_model2_recall))\n",
    "print(\"F Score: \" + str(cart_model2_fscore))"
   ]
  },
  {
   "cell_type": "markdown",
   "id": "73b30b23",
   "metadata": {},
   "source": [
    "AUC"
   ]
  },
  {
   "cell_type": "code",
   "execution_count": 96,
   "id": "9687da4b",
   "metadata": {},
   "outputs": [
    {
     "data": {
      "image/png": "[encoded data removed]",
      "text/plain": [
       "<Figure size 640x480 with 1 Axes>"
      ]
     },
     "metadata": {},
     "output_type": "display_data"
    },
    {
     "name": "stdout",
     "output_type": "stream",
     "text": [
      "AUC:\n"
     ]
    },
    {
     "data": {
      "text/plain": [
       "0.7048651401459478"
      ]
     },
     "execution_count": 96,
     "metadata": {},
     "output_type": "execute_result"
    }
   ],
   "source": [
    "y_pred_proba = cart_model2.predict_proba(x_test_imputed)[::,1]\n",
    "fpr, tpr, _ = metrics.roc_curve(y_test_imputed,  y_pred_proba)\n",
    "\n",
    "# plotting ROC curve\n",
    "plt.plot(fpr,tpr)\n",
    "plt.ylabel('True Positive Rate')\n",
    "plt.xlabel('False Positive Rate')\n",
    "plt.show()\n",
    "\n",
    "print(\"AUC:\")\n",
    "roc_auc_score(y_test_imputed, cart_model2.predict_proba(x_test_imputed)[:,1])"
   ]
  },
  {
   "cell_type": "markdown",
   "id": "ed3de58e",
   "metadata": {},
   "source": [
    "PRAUC"
   ]
  },
  {
   "cell_type": "code",
   "execution_count": 97,
   "id": "b3e3493a",
   "metadata": {},
   "outputs": [
    {
     "data": {
      "text/plain": [
       "0.08498725350325861"
      ]
     },
     "execution_count": 97,
     "metadata": {},
     "output_type": "execute_result"
    }
   ],
   "source": [
    "cart_model2_probas = cart_model2.predict_proba(x_test_imputed)\n",
    "average_precision_score(y_test_imputed, cart_model2_probas[:,1],pos_label=1)"
   ]
  },
  {
   "cell_type": "markdown",
   "id": "ba7c3e79",
   "metadata": {},
   "source": [
    "### Interpretation"
   ]
  },
  {
   "cell_type": "markdown",
   "id": "01865349",
   "metadata": {},
   "source": [
    "Coefficient Importances"
   ]
  },
  {
   "cell_type": "code",
   "execution_count": 98,
   "id": "3e800587",
   "metadata": {},
   "outputs": [],
   "source": [
    "cart_model2_importances = dt_feature_importance(cart_model2)"
   ]
  },
  {
   "cell_type": "code",
   "execution_count": 364,
   "id": "0398de6b",
   "metadata": {
    "scrolled": true
   },
   "outputs": [
    {
     "data": {
      "text/plain": [
       "[Text(0.5, 0.8333333333333334, 'gross profit (in 3 years) / total assets <= 0.142\\ngini = 0.5\\nsamples = 742\\nvalue = [371, 371]'),\n",
       " Text(0.25, 0.5, '(gross profit + depreciation) / sales <= 0.048\\ngini = 0.452\\nsamples = 455\\nvalue = [157, 298]'),\n",
       " Text(0.125, 0.16666666666666666, 'gini = 0.395\\nsamples = 321\\nvalue = [87, 234]'),\n",
       " Text(0.375, 0.16666666666666666, 'gini = 0.499\\nsamples = 134\\nvalue = [70, 64]'),\n",
       " Text(0.75, 0.5, 'constant capital / total assets <= 0.486\\ngini = 0.379\\nsamples = 287\\nvalue = [214, 73]'),\n",
       " Text(0.625, 0.16666666666666666, 'gini = 0.499\\nsamples = 75\\nvalue = [39, 36]'),\n",
       " Text(0.875, 0.16666666666666666, 'gini = 0.288\\nsamples = 212\\nvalue = [175, 37]')]"
      ]
     },
     "execution_count": 364,
     "metadata": {},
     "output_type": "execute_result"
    },
    {
     "data": {
      "image/png": "[encoded data removed]",
      "text/plain": [
       "<Figure size 640x480 with 1 Axes>"
      ]
     },
     "metadata": {},
     "output_type": "display_data"
    }
   ],
   "source": [
    "plot_tree(cart_model2, feature_names=list(attributes.values()))"
   ]
  },
  {
   "cell_type": "code",
   "execution_count": 363,
   "id": "bacb88e3",
   "metadata": {},
   "outputs": [
    {
     "ename": "TypeError",
     "evalue": "'Figure' object is not callable",
     "output_type": "error",
     "traceback": [
      "\u001b[0;31m---------------------------------------------------------------------------\u001b[0m",
      "\u001b[0;31mTypeError\u001b[0m                                 Traceback (most recent call last)",
      "Input \u001b[0;32mIn [363]\u001b[0m, in \u001b[0;36m<cell line: 2>\u001b[0;34m()\u001b[0m\n\u001b[1;32m      1\u001b[0m fig, ax \u001b[38;5;241m=\u001b[39m plt\u001b[38;5;241m.\u001b[39msubplots()\n\u001b[0;32m----> 2\u001b[0m \u001b[43mfig\u001b[49m\u001b[43m(\u001b[49m\u001b[43mfigsize\u001b[49m\u001b[38;5;241;43m=\u001b[39;49m\u001b[43m[\u001b[49m\u001b[38;5;241;43m10\u001b[39;49m\u001b[43m,\u001b[49m\u001b[38;5;241;43m10\u001b[39;49m\u001b[43m]\u001b[49m\u001b[43m)\u001b[49m\n\u001b[1;32m      3\u001b[0m plot_tree(cart_model2, feature_names\u001b[38;5;241m=\u001b[39m\u001b[38;5;28mlist\u001b[39m(attributes\u001b[38;5;241m.\u001b[39mvalues()),ax\u001b[38;5;241m=\u001b[39max)\n",
      "\u001b[0;31mTypeError\u001b[0m: 'Figure' object is not callable"
     ]
    },
    {
     "data": {
      "image/png": "[encoded data removed]",
      "text/plain": [
       "<Figure size 640x480 with 1 Axes>"
      ]
     },
     "metadata": {},
     "output_type": "display_data"
    }
   ],
   "source": [
    "fig, ax = plt.subplots()\n",
    "fig(figsize=[10,10])\n",
    "plot_tree(cart_model2, feature_names=list(attributes.values()),ax=ax)"
   ]
  },
  {
   "cell_type": "code",
   "execution_count": 100,
   "id": "d21c0117",
   "metadata": {},
   "outputs": [
    {
     "data": {
      "image/png": "[encoded data removed]",
      "text/plain": [
       "<Figure size 1850x450 with 1 Axes>"
      ]
     },
     "metadata": {},
     "output_type": "display_data"
    }
   ],
   "source": [
    "# creating a dataframe where rows are features\n",
    "# and columns are logistic regression coef\n",
    "to_plot = pd.DataFrame(range(1,65),columns=[\"attr\"])\n",
    "to_plot[\"coef\"] = cart_model2_importances\n",
    "\n",
    "# plotting feature coefs (and by extension, feature importance)\n",
    "fig, ax = plt.subplots()\n",
    "fig.set_size_inches(18.5, 4.5)\n",
    "\n",
    "to_plot['sign'] = to_plot['coef'] > 0\n",
    "to_plot['coef'].plot(kind='bar', color=to_plot.sign.map({True: (1.0, 0, 0, 0.7), False: (0, 0.6, 0, 0.7)}), \n",
    "                      ax=ax)\n",
    "ax.set_xticklabels(range(1,65), rotation = 0);\n",
    "ax.axhline(0, color='k');\n",
    "ax.set_xlabel(\"attribute\");\n",
    "ax.set_ylabel(\"CART attribute importance\");\n",
    "ax.set_title(\"CART attribute importances (Intercept Excluded), Bankrupcy Classifier\");"
   ]
  },
  {
   "cell_type": "code",
   "execution_count": 101,
   "id": "86cd39ad",
   "metadata": {
    "scrolled": true
   },
   "outputs": [
    {
     "name": "stdout",
     "output_type": "stream",
     "text": [
      "attributes for predicted probability of bankrupcy (in desc order of coef importance):\n",
      "====\n",
      "gross profit (in 3 years) / total assets\n",
      "[CV] END .................C=0.7070707070707072, penalty=none; total time=   0.0s\n",
      "[CV] END ..................C=0.23232323232323235, penalty=l2; total time=   0.0s\n",
      "[CV] END ................C=0.21212121212121213, penalty=none; total time=   0.0s\n",
      "[CV] END ...................C=0.8282828282828284, penalty=l2; total time=   0.0s\n",
      "[CV] END ...................C=0.8282828282828284, penalty=l2; total time=   0.0s\n",
      "[CV] END ...................C=0.9090909090909092, penalty=l2; total time=   0.0s\n",
      "[CV] END ................C=0.18181818181818182, penalty=none; total time=   0.0s\n",
      "[CV] END ............C=0.5757575757575758, penalty=elaticnet; total time=   0.0s\n",
      "[CV] END ............C=0.5757575757575758, penalty=elaticnet; total time=   0.0s\n",
      "[CV] END ..................C=0.19191919191919193, penalty=l2; total time=   0.0s\n",
      "[CV] END ..................C=0.19191919191919193, penalty=l2; total time=   0.0s\n",
      "[CV] END ..............C=0.98989898989899, penalty=elaticnet; total time=   0.0s\n",
      "[CV] END ..................C=0.48484848484848486, penalty=l2; total time=   0.0s\n",
      "[CV] END ..................C=0.48484848484848486, penalty=l2; total time=   0.0s\n",
      "[CV] END ..................C=0.48484848484848486, penalty=l2; total time=   0.0s\n",
      "[CV] END ...........C=0.13131313131313133, penalty=elaticnet; total time=   0.0s\n",
      "[CV] END ...........C=0.13131313131313133, penalty=elaticnet; total time=   0.0s\n",
      "[CV] END ................C=0.19191919191919193, penalty=none; total time=   0.0s\n",
      "[CV] END ................C=0.19191919191919193, penalty=none; total time=   0.0s\n",
      "[CV] END ..................C=0.17171717171717174, penalty=l1; total time=   0.0s\n",
      "[CV] END ..................C=0.17171717171717174, penalty=l1; total time=   0.0s\n",
      "[CV] END ...................C=0.9393939393939394, penalty=l1; total time=   0.0s\n",
      "[CV] END ...................C=0.9393939393939394, penalty=l1; total time=   0.0s\n",
      "[CV] END ...................C=0.9393939393939394, penalty=l1; total time=   0.0s\n",
      "[CV] END ...........C=0.09090909090909091, penalty=elaticnet; total time=   0.0s\n",
      "[CV] END ...........C=0.09090909090909091, penalty=elaticnet; total time=   0.0s\n",
      "[CV] END ...........C=0.09090909090909091, penalty=elaticnet; total time=   0.0s\n",
      "[CV] END ...................C=0.7373737373737375, penalty=l1; total time=   0.0s\n",
      "[CV] END ...................C=0.7373737373737375, penalty=l1; total time=   0.0s\n",
      "[CV] END ............C=0.6363636363636365, penalty=elaticnet; total time=   0.0s\n",
      "[CV] END ............C=0.6363636363636365, penalty=elaticnet; total time=   0.0s\n",
      "[CV] END ............C=0.6363636363636365, penalty=elaticnet; total time=   0.0s\n",
      "[CV] END ..................C=0.19191919191919193, penalty=l1; total time=   0.0s\n",
      "[CV] END ..................C=0.19191919191919193, penalty=l1; total time=   0.0s\n",
      "[CV] END ..................C=0.19191919191919193, penalty=l1; total time=   0.0s\n",
      "[CV] END ..................C=0.888888888888889, penalty=none; total time=   0.0s\n",
      "[CV] END .................C=0.6767676767676768, penalty=none; total time=   0.0s\n",
      "[CV] END .................C=0.6767676767676768, penalty=none; total time=   0.0s\n",
      "[CV] END .................C=0.6767676767676768, penalty=none; total time=   0.0s\n",
      "[CV] END .....................C=0.98989898989899, penalty=l1; total time=   0.0s\n",
      "[CV] END .....................C=0.98989898989899, penalty=l1; total time=   0.0s\n",
      "[CV] END .....................C=0.98989898989899, penalty=l1; total time=   0.0s\n",
      "[CV] END ..................C=0.18181818181818182, penalty=l2; total time=   0.0s\n",
      "[CV] END ..................C=0.22222222222222224, penalty=l1; total time=   0.0s\n",
      "[CV] END ..................C=0.22222222222222224, penalty=l1; total time=   0.0s\n",
      "[CV] END ...................C=0.5858585858585859, penalty=l2; total time=   0.0s\n",
      "[CV] END ............C=0.8383838383838385, penalty=elaticnet; total time=   0.0s\n",
      "[CV] END ..................C=0.29292929292929293, penalty=l1; total time=   0.0s\n",
      "[CV] END .................C=0.5555555555555556, penalty=none; total time=   0.0s\n",
      "[CV] END .................C=0.4545454545454546, penalty=none; total time=   0.0s\n",
      "[CV] END ...................C=0.9393939393939394, penalty=l2; total time=   0.0s\n",
      "[CV] END ..................C=0.23232323232323235, penalty=l2; total time=   0.0s\n",
      "[CV] END ..................C=0.23232323232323235, penalty=l1; total time=   0.0s\n",
      "[CV] END ..................C=0.23232323232323235, penalty=l1; total time=   0.0s\n",
      "[CV] END ..................C=0.31313131313131315, penalty=l1; total time=   0.0s\n",
      "[CV] END ..................C=0.31313131313131315, penalty=l1; total time=   0.0s\n",
      "[CV] END ................C=0.14141414141414144, penalty=none; total time=   0.0s\n",
      "[CV] END ................C=0.18181818181818182, penalty=none; total time=   0.0s\n",
      "[CV] END ..........C=0.030303030303030304, penalty=elaticnet; total time=   0.0s\n",
      "[CV] END ..........C=0.030303030303030304, penalty=elaticnet; total time=   0.0s\n",
      "[CV] END ............C=0.9797979797979799, penalty=elaticnet; total time=   0.0s\n",
      "[CV] END ............C=0.9797979797979799, penalty=elaticnet; total time=   0.0s\n",
      "[CV] END ................C=0.26262626262626265, penalty=none; total time=   0.0s\n",
      "[CV] END ................C=0.26262626262626265, penalty=none; total time=   0.0s\n",
      "[CV] END ..............C=0.98989898989899, penalty=elaticnet; total time=   0.0s\n",
      "[CV] END ..............C=0.98989898989899, penalty=elaticnet; total time=   0.0s\n",
      "[CV] END ...................C=0.2828282828282829, penalty=l2; total time=   0.0s\n",
      "[CV] END ...................C=0.2828282828282829, penalty=l2; total time=   0.0s\n",
      "[CV] END ...................C=0.2828282828282829, penalty=l2; total time=   0.0s\n",
      "[CV] END ...................C=0.8585858585858587, penalty=l1; total time=   0.0s\n",
      "[CV] END ...................C=0.9595959595959597, penalty=l2; total time=   0.0s\n",
      "[CV] END ...................C=0.9595959595959597, penalty=l2; total time=   0.0s\n",
      "[CV] END ...................C=0.9595959595959597, penalty=l2; total time=   0.0s\n",
      "[CV] END ...........C=0.13131313131313133, penalty=elaticnet; total time=   0.0s\n",
      "[CV] END ...........C=0.13131313131313133, penalty=elaticnet; total time=   0.0s\n",
      "[CV] END ...........C=0.13131313131313133, penalty=elaticnet; total time=   0.0s\n",
      "[CV] END ................C=0.19191919191919193, penalty=none; total time=   0.0s\n",
      "[CV] END ................C=0.19191919191919193, penalty=none; total time=   0.0s\n",
      "[CV] END ...................C=0.7373737373737375, penalty=l1; total time=   0.0s\n",
      "[CV] END ...................C=0.7373737373737375, penalty=l1; total time=   0.0s\n",
      "[CV] END ............C=0.6363636363636365, penalty=elaticnet; total time=   0.0s\n",
      "[CV] END ............C=0.6363636363636365, penalty=elaticnet; total time=   0.0s\n",
      "[CV] END ............C=0.6363636363636365, penalty=elaticnet; total time=   0.0s\n",
      "[CV] END ..................C=0.19191919191919193, penalty=l1; total time=   0.0s\n",
      "[CV] END ..................C=0.19191919191919193, penalty=l1; total time=   0.0s\n",
      "[CV] END ..................C=0.19191919191919193, penalty=l1; total time=   0.0s\n",
      "[CV] END ..................C=0.18181818181818182, penalty=l2; total time=   0.0s\n",
      "[CV] END ..................C=0.18181818181818182, penalty=l2; total time=   0.0s\n",
      "[CV] END .................C=0.8080808080808082, penalty=none; total time=   0.0s\n",
      "[CV] END .................C=0.8080808080808082, penalty=none; total time=   0.0s\n",
      "[CV] END .................C=0.8080808080808082, penalty=none; total time=   0.0s\n",
      "[CV] END .................C=0.3535353535353536, penalty=none; total time=   0.0s\n",
      "[CV] END .................C=0.3535353535353536, penalty=none; total time=   0.0s\n",
      "[CV] END .................C=0.3535353535353536, penalty=none; total time=   0.0s\n",
      "[CV] END ..................C=0.04040404040404041, penalty=l1; total time=   0.0s\n",
      "[CV] END ..................C=0.04040404040404041, penalty=l1; total time=   0.0s\n",
      "[CV] END ...................C=0.5050505050505051, penalty=l1; total time=   0.0s\n",
      "[CV] END ...................C=0.6262626262626263, penalty=l1; total time=   0.0s\n",
      "[CV] END ...........C=0.15151515151515152, penalty=elaticnet; total time=   0.0s\n",
      "[CV] END .................C=0.6262626262626263, penalty=none; total time=   0.0s\n",
      "[CV] END ...................C=0.7575757575757577, penalty=l2; total time=   0.0s\n",
      "[CV] END ..................C=0.22222222222222224, penalty=l1; total time=   0.0s\n",
      "[CV] END ..................C=0.22222222222222224, penalty=l1; total time=   0.0s\n",
      "[CV] END ...................C=0.5858585858585859, penalty=l2; total time=   0.0s\n",
      "[CV] END ............C=0.8383838383838385, penalty=elaticnet; total time=   0.0s\n",
      "[CV] END .................C=0.5555555555555556, penalty=none; total time=   0.0s\n",
      "[CV] END ....................C=0.787878787878788, penalty=l1; total time=   0.0s\n",
      "[CV] END .................C=0.9595959595959597, penalty=none; total time=   0.0s\n",
      "[CV] END ...........C=0.18181818181818182, penalty=elaticnet; total time=   0.0s\n",
      "[CV] END ccp_alpha=0.1764705882352941, criterion=gini, max_depth=8, min_samples_leaf=4, min_samples_split=2; total time=   0.0s\n",
      "[CV] END ccp_alpha=0.47058823529411764, criterion=gini, max_depth=2, min_samples_leaf=1, min_samples_split=4; total time=   0.0s\n",
      "[CV] END ccp_alpha=0.6470588235294118, criterion=entropy, max_depth=9, min_samples_leaf=1, min_samples_split=4; total time=   0.0s\n",
      "[CV] END ccp_alpha=0.0, criterion=log_loss, max_depth=2, min_samples_leaf=4, min_samples_split=4; total time=   0.0s\n",
      "[CV] END ccp_alpha=0.0, criterion=log_loss, max_depth=2, min_samples_leaf=4, min_samples_split=4; total time=   0.0s\n",
      "[CV] END ccp_alpha=0.7647058823529411, criterion=log_loss, max_depth=5, min_samples_leaf=2, min_samples_split=1; total time=   0.0s\n",
      "[CV] END ccp_alpha=0.7647058823529411, criterion=log_loss, max_depth=5, min_samples_leaf=2, min_samples_split=1; total time=   0.0s\n",
      "[CV] END ccp_alpha=0.9411764705882353, criterion=log_loss, max_depth=4, min_samples_leaf=1, min_samples_split=2; total time=   0.0s\n",
      "[CV] END ccp_alpha=0.9411764705882353, criterion=log_loss, max_depth=4, min_samples_leaf=1, min_samples_split=2; total time=   0.0s\n",
      "[CV] END ccp_alpha=0.058823529411764705, criterion=gini, max_depth=5, min_samples_leaf=2, min_samples_split=4; total time=   0.0s\n",
      "[CV] END ccp_alpha=0.058823529411764705, criterion=gini, max_depth=5, min_samples_leaf=2, min_samples_split=4; total time=   0.0s\n",
      "[CV] END ccp_alpha=0.058823529411764705, criterion=log_loss, max_depth=5, min_samples_leaf=1, min_samples_split=3; total time=   0.0s\n",
      "[CV] END ccp_alpha=0.058823529411764705, criterion=log_loss, max_depth=5, min_samples_leaf=1, min_samples_split=3; total time=   0.0s\n",
      "[CV] END ccp_alpha=0.23529411764705882, criterion=entropy, max_depth=4, min_samples_leaf=1, min_samples_split=3; total time=   0.0s\n",
      "[CV] END ccp_alpha=0.23529411764705882, criterion=entropy, max_depth=4, min_samples_leaf=1, min_samples_split=3; total time=   0.0s\n",
      "[CV] END ccp_alpha=0.7058823529411764, criterion=entropy, max_depth=3, min_samples_leaf=4, min_samples_split=4; total time=   0.0s\n",
      "[CV] END ccp_alpha=0.7058823529411764, criterion=entropy, max_depth=3, min_samples_leaf=4, min_samples_split=4; total time=   0.0s\n",
      "[CV] END ccp_alpha=0.7058823529411764, criterion=entropy, max_depth=3, min_samples_leaf=4, min_samples_split=4; total time=   0.0s\n",
      "[CV] END ccp_alpha=0.29411764705882354, criterion=entropy, max_depth=9, min_samples_leaf=4, min_samples_split=2; total time=   0.0s\n",
      "[CV] END ccp_alpha=0.29411764705882354, criterion=entropy, max_depth=9, min_samples_leaf=4, min_samples_split=2; total time=   0.0s\n",
      "[CV] END ccp_alpha=0.29411764705882354, criterion=entropy, max_depth=9, min_samples_leaf=4, min_samples_split=2; total time=   0.0s\n",
      "[CV] END ccp_alpha=0.8235294117647058, criterion=gini, max_depth=1, min_samples_leaf=2, min_samples_split=2; total time=   0.0s\n",
      "[CV] END ccp_alpha=0.8235294117647058, criterion=gini, max_depth=1, min_samples_leaf=2, min_samples_split=2; total time=   0.0s\n",
      "[CV] END ccp_alpha=0.9411764705882353, criterion=log_loss, max_depth=7, min_samples_leaf=2, min_samples_split=2; total time=   0.0s\n",
      "[CV] END ccp_alpha=0.9411764705882353, criterion=log_loss, max_depth=7, min_samples_leaf=2, min_samples_split=2; total time=   0.0s\n",
      "[CV] END ccp_alpha=0.9411764705882353, criterion=log_loss, max_depth=7, min_samples_leaf=2, min_samples_split=2; total time=   0.0s\n",
      "[CV] END ccp_alpha=0.7058823529411764, criterion=log_loss, max_depth=7, min_samples_leaf=3, min_samples_split=1; total time=   0.0s\n",
      "[CV] END ccp_alpha=0.7058823529411764, criterion=log_loss, max_depth=7, min_samples_leaf=3, min_samples_split=1; total time=   0.0s\n",
      "[CV] END ccp_alpha=0.7058823529411764, criterion=log_loss, max_depth=7, min_samples_leaf=3, min_samples_split=1; total time=   0.0s\n",
      "[CV] END ccp_alpha=0.11764705882352941, criterion=gini, max_depth=7, min_samples_leaf=2, min_samples_split=2; total time=   0.0s\n",
      "[CV] END ccp_alpha=0.7647058823529411, criterion=entropy, max_depth=4, min_samples_leaf=3, min_samples_split=2; total time=   0.0s\n",
      "[CV] END ccp_alpha=0.1764705882352941, criterion=entropy, max_depth=8, min_samples_leaf=3, min_samples_split=3; total time=   0.0s\n",
      "[CV] END ccp_alpha=0.3529411764705882, criterion=gini, max_depth=4, min_samples_leaf=2, min_samples_split=1; total time=   0.0s\n",
      "[CV] END ccp_alpha=0.058823529411764705, criterion=entropy, max_depth=5, min_samples_leaf=2, min_samples_split=4; total time=   0.0s\n",
      "[CV] END .................C=0.7070707070707072, penalty=none; total time=   0.0s\n",
      "[CV] END ...................C=0.9090909090909092, penalty=l2; total time=   0.0s\n",
      "[CV] END ................C=0.14141414141414144, penalty=none; total time=   0.0s\n",
      "[CV] END ..................C=0.10101010101010102, penalty=l1; total time=   0.0s\n",
      "[CV] END ..................C=0.10101010101010102, penalty=l1; total time=   0.0s\n",
      "[CV] END .................C=0.9494949494949496, penalty=none; total time=   0.0s\n",
      "[CV] END .................C=0.9494949494949496, penalty=none; total time=   0.0s\n",
      "[CV] END ................C=0.26262626262626265, penalty=none; total time=   0.0s\n",
      "[CV] END ................C=0.26262626262626265, penalty=none; total time=   0.0s\n",
      "[CV] END ..............C=0.98989898989899, penalty=elaticnet; total time=   0.0s\n",
      "[CV] END ..............C=0.98989898989899, penalty=elaticnet; total time=   0.0s\n",
      "[CV] END ...................C=0.2828282828282829, penalty=l2; total time=   0.0s\n",
      "[CV] END ...................C=0.2828282828282829, penalty=l2; total time=   0.0s\n",
      "[CV] END ...................C=0.2828282828282829, penalty=l2; total time=   0.0s\n",
      "[CV] END ...................C=0.8585858585858587, penalty=l1; total time=   0.0s\n",
      "[CV] END ..................C=0.05050505050505051, penalty=l1; total time=   0.0s\n",
      "[CV] END ..................C=0.05050505050505051, penalty=l1; total time=   0.0s\n",
      "[CV] END ..................C=0.05050505050505051, penalty=l1; total time=   0.0s\n",
      "[CV] END ..................C=0.43434343434343436, penalty=l2; total time=   0.0s\n",
      "[CV] END ..................C=0.43434343434343436, penalty=l2; total time=   0.0s\n",
      "[CV] END ..................C=0.43434343434343436, penalty=l2; total time=   0.0s\n",
      "[CV] END ..................C=0.11111111111111112, penalty=l1; total time=   0.0s\n",
      "[CV] END ..................C=0.11111111111111112, penalty=l1; total time=   0.0s\n",
      "[CV] END ..................C=0.18181818181818182, penalty=l2; total time=   0.0s\n",
      "[CV] END ..................C=0.18181818181818182, penalty=l2; total time=   0.0s\n",
      "[CV] END .................C=0.8080808080808082, penalty=none; total time=   0.0s\n",
      "[CV] END .................C=0.8080808080808082, penalty=none; total time=   0.0s\n",
      "[CV] END .................C=0.8080808080808082, penalty=none; total time=   0.0s\n",
      "[CV] END .................C=0.3535353535353536, penalty=none; total time=   0.0s\n",
      "[CV] END .................C=0.3535353535353536, penalty=none; total time=   0.0s\n",
      "[CV] END .................C=0.3535353535353536, penalty=none; total time=   0.0s\n",
      "[CV] END .................C=0.9595959595959597, penalty=none; total time=   0.0s\n",
      "[CV] END ...................C=0.5252525252525253, penalty=l1; total time=   0.0s\n",
      "[CV] END ...................C=0.5252525252525253, penalty=l1; total time=   0.0s\n",
      "[CV] END ..................C=0.23232323232323235, penalty=l2; total time=   0.0s\n",
      "[CV] END ...................C=0.8282828282828284, penalty=l2; total time=   0.0s\n",
      "[CV] END ...................C=0.8282828282828284, penalty=l2; total time=   0.0s\n",
      "[CV] END ................C=0.14141414141414144, penalty=none; total time=   0.0s\n",
      "[CV] END ................C=0.14141414141414144, penalty=none; total time=   0.0s\n",
      "[CV] END ............C=0.5757575757575758, penalty=elaticnet; total time=   0.0s\n",
      "[CV] END ...................C=0.9696969696969697, penalty=l2; total time=   0.0s\n",
      "[CV] END ...................C=0.9696969696969697, penalty=l2; total time=   0.0s\n",
      "[CV] END ...................C=0.9696969696969697, penalty=l2; total time=   0.0s\n",
      "[CV] END ...................C=0.6565656565656566, penalty=l1; total time=   0.0s\n",
      "[CV] END ...................C=0.6565656565656566, penalty=l1; total time=   0.0s\n",
      "[CV] END ...................C=0.6565656565656566, penalty=l1; total time=   0.0s\n",
      "[CV] END ................C=0.26262626262626265, penalty=none; total time=   0.0s\n",
      "[CV] END ..................C=0.14141414141414144, penalty=l2; total time=   0.0s\n",
      "[CV] END ..................C=0.14141414141414144, penalty=l2; total time=   0.0s\n",
      "[CV] END .................C=0.5858585858585859, penalty=none; total time=   0.0s\n",
      "[CV] END .................C=0.5858585858585859, penalty=none; total time=   0.0s\n",
      "[CV] END ...................C=0.9595959595959597, penalty=l1; total time=   0.0s\n",
      "[CV] END ...................C=0.9595959595959597, penalty=l1; total time=   0.0s\n",
      "[CV] END ................C=0.37373737373737376, penalty=none; total time=   0.0s\n",
      "[CV] END ................C=0.37373737373737376, penalty=none; total time=   0.0s\n",
      "[CV] END ................C=0.37373737373737376, penalty=none; total time=   0.0s\n",
      "[CV] END ...................C=0.4545454545454546, penalty=l2; total time=   0.0s\n",
      "[CV] END ...................C=0.4545454545454546, penalty=l2; total time=   0.0s\n",
      "[CV] END ...................C=0.4545454545454546, penalty=l2; total time=   0.0s\n",
      "[CV] END .................C=0.9797979797979799, penalty=none; total time=   0.0s\n",
      "[CV] END ...................C=0.6161616161616162, penalty=l1; total time=   0.0s\n",
      "[CV] END ...................C=0.6161616161616162, penalty=l1; total time=   0.0s\n",
      "[CV] END ...................C=0.6161616161616162, penalty=l1; total time=   0.0s\n",
      "[CV] END ............C=0.5656565656565657, penalty=elaticnet; total time=   0.0s\n",
      "[CV] END ............C=0.5656565656565657, penalty=elaticnet; total time=   0.0s\n",
      "[CV] END ............C=0.5656565656565657, penalty=elaticnet; total time=   0.0s\n",
      "[CV] END ...................C=0.9292929292929294, penalty=l2; total time=   0.0s\n",
      "[CV] END ................C=0.27272727272727276, penalty=none; total time=   0.0s\n",
      "[CV] END ..................C=0.22222222222222224, penalty=l1; total time=   0.0s\n",
      "[CV] END .................C=0.5555555555555556, penalty=none; total time=   0.0s\n",
      "[CV] END ....................C=0.787878787878788, penalty=l1; total time=   0.0s\n",
      "[CV] END .............C=0.595959595959596, penalty=elaticnet; total time=   0.0s\n",
      "[CV] END .............C=0.595959595959596, penalty=elaticnet; total time=   0.0s\n",
      "[CV] END ...........C=0.18181818181818182, penalty=elaticnet; total time=   0.0s\n",
      "[CV] END ccp_alpha=0.3529411764705882, criterion=entropy, max_depth=1, min_samples_leaf=4, min_samples_split=1; total time=   0.0s\n",
      "[CV] END ccp_alpha=0.6470588235294118, criterion=entropy, max_depth=9, min_samples_leaf=1, min_samples_split=4; total time=   0.0s\n",
      "[CV] END ccp_alpha=0.6470588235294118, criterion=entropy, max_depth=7, min_samples_leaf=2, min_samples_split=1; total time=   0.0s\n",
      "[CV] END ccp_alpha=0.6470588235294118, criterion=entropy, max_depth=7, min_samples_leaf=2, min_samples_split=1; total time=   0.0s\n",
      "[CV] END ccp_alpha=0.6470588235294118, criterion=gini, max_depth=5, min_samples_leaf=3, min_samples_split=2; total time=   0.0s\n",
      "[CV] END ccp_alpha=0.4117647058823529, criterion=gini, max_depth=6, min_samples_leaf=3, min_samples_split=3; total time=   0.0s\n",
      "[CV] END ccp_alpha=0.6470588235294118, criterion=gini, max_depth=9, min_samples_leaf=3, min_samples_split=1; total time=   0.0s\n",
      "[CV] END ccp_alpha=0.6470588235294118, criterion=gini, max_depth=9, min_samples_leaf=3, min_samples_split=1; total time=   0.0s\n",
      "[CV] END ccp_alpha=0.6470588235294118, criterion=gini, max_depth=9, min_samples_leaf=3, min_samples_split=1; total time=   0.0s\n",
      "[CV] END ccp_alpha=0.058823529411764705, criterion=gini, max_depth=5, min_samples_leaf=2, min_samples_split=4; total time=   0.0s\n",
      "[CV] END ccp_alpha=0.8823529411764706, criterion=gini, max_depth=1, min_samples_leaf=1, min_samples_split=3; total time=   0.0s\n",
      "[CV] END ccp_alpha=0.8823529411764706, criterion=gini, max_depth=1, min_samples_leaf=1, min_samples_split=3; total time=   0.0s\n",
      "[CV] END ccp_alpha=0.5294117647058824, criterion=entropy, max_depth=7, min_samples_leaf=1, min_samples_split=1; total time=   0.0s\n",
      "[CV] END ccp_alpha=0.5294117647058824, criterion=entropy, max_depth=7, min_samples_leaf=1, min_samples_split=1; total time=   0.0s\n",
      "[CV] END ccp_alpha=0.4117647058823529, criterion=entropy, max_depth=6, min_samples_leaf=4, min_samples_split=3; total time=   0.0s\n",
      "[CV] END ccp_alpha=0.47058823529411764, criterion=log_loss, max_depth=3, min_samples_leaf=4, min_samples_split=3; total time=   0.0s\n",
      "[CV] END ccp_alpha=0.47058823529411764, criterion=log_loss, max_depth=3, min_samples_leaf=4, min_samples_split=3; total time=   0.0s\n",
      "[CV] END ccp_alpha=0.47058823529411764, criterion=log_loss, max_depth=3, min_samples_leaf=4, min_samples_split=3; total time=   0.0s\n",
      "[CV] END ccp_alpha=0.4117647058823529, criterion=log_loss, max_depth=5, min_samples_leaf=1, min_samples_split=3; total time=   0.0s\n",
      "[CV] END ccp_alpha=0.4117647058823529, criterion=log_loss, max_depth=5, min_samples_leaf=1, min_samples_split=3; total time=   0.0s\n",
      "[CV] END ccp_alpha=0.4117647058823529, criterion=log_loss, max_depth=5, min_samples_leaf=1, min_samples_split=3; total time=   0.0s\n",
      "[CV] END ccp_alpha=0.7058823529411764, criterion=gini, max_depth=1, min_samples_leaf=4, min_samples_split=4; total time=   0.0s\n",
      "[CV] END ccp_alpha=0.7058823529411764, criterion=gini, max_depth=1, min_samples_leaf=4, min_samples_split=4; total time=   0.0s\n",
      "[CV] END ccp_alpha=0.7058823529411764, criterion=gini, max_depth=1, min_samples_leaf=4, min_samples_split=4; total time=   0.0s\n",
      "[CV] END ccp_alpha=0.9411764705882353, criterion=log_loss, max_depth=4, min_samples_leaf=4, min_samples_split=1; total time=   0.0s\n",
      "[CV] END ccp_alpha=0.9411764705882353, criterion=log_loss, max_depth=4, min_samples_leaf=4, min_samples_split=1; total time=   0.0s\n",
      "[CV] END ccp_alpha=0.6470588235294118, criterion=gini, max_depth=1, min_samples_leaf=3, min_samples_split=4; total time=   0.0s\n",
      "[CV] END ccp_alpha=0.6470588235294118, criterion=gini, max_depth=1, min_samples_leaf=3, min_samples_split=4; total time=   0.0s\n",
      "[CV] END ccp_alpha=0.058823529411764705, criterion=entropy, max_depth=9, min_samples_leaf=1, min_samples_split=3; total time=   0.0s\n",
      "[CV] END ccp_alpha=0.058823529411764705, criterion=entropy, max_depth=9, min_samples_leaf=1, min_samples_split=3; total time=   0.0s\n",
      "[CV] END ccp_alpha=0.058823529411764705, criterion=entropy, max_depth=9, min_samples_leaf=1, min_samples_split=3; total time=   0.0s\n",
      "[CV] END ccp_alpha=0.5882352941176471, criterion=log_loss, max_depth=7, min_samples_leaf=3, min_samples_split=1; total time=   0.0s\n",
      "[CV] END ccp_alpha=0.5882352941176471, criterion=log_loss, max_depth=7, min_samples_leaf=3, min_samples_split=1; total time=   0.0s\n",
      "[CV] END ccp_alpha=0.5882352941176471, criterion=log_loss, max_depth=7, min_samples_leaf=3, min_samples_split=1; total time=   0.0s\n",
      "[CV] END ccp_alpha=0.5882352941176471, criterion=entropy, max_depth=8, min_samples_leaf=1, min_samples_split=2; total time=   0.0s\n",
      "[CV] END ccp_alpha=0.11764705882352941, criterion=log_loss, max_depth=9, min_samples_leaf=4, min_samples_split=4; total time=   0.0s\n",
      "[CV] END ccp_alpha=0.7647058823529411, criterion=entropy, max_depth=4, min_samples_leaf=3, min_samples_split=2; total time=   0.0s\n",
      "[CV] END ccp_alpha=0.0, criterion=entropy, max_depth=7, min_samples_leaf=3, min_samples_split=4; total time=   0.0s\n",
      "[CV] END ccp_alpha=0.058823529411764705, criterion=entropy, max_depth=5, min_samples_leaf=2, min_samples_split=4; total time=   0.0s\n"
     ]
    },
    {
     "name": "stdout",
     "output_type": "stream",
     "text": [
      "[CV] END ..................C=0.08080808080808081, penalty=l2; total time=   0.0s\n",
      "[CV] END ....................C=0.696969696969697, penalty=l1; total time=   0.0s\n",
      "[CV] END ....................C=0.696969696969697, penalty=l1; total time=   0.0s\n",
      "[CV] END ............C=0.5757575757575758, penalty=elaticnet; total time=   0.0s\n",
      "[CV] END ...................C=0.9696969696969697, penalty=l2; total time=   0.0s\n",
      "[CV] END ............C=0.9797979797979799, penalty=elaticnet; total time=   0.0s\n",
      "[CV] END ............C=0.9797979797979799, penalty=elaticnet; total time=   0.0s\n",
      "[CV] END ...................C=0.6565656565656566, penalty=l2; total time=   0.0s\n",
      "[CV] END ...................C=0.6565656565656566, penalty=l2; total time=   0.0s\n",
      "[CV] END ...................C=0.6565656565656566, penalty=l2; total time=   0.0s\n",
      "[CV] END ..................C=0.14141414141414144, penalty=l2; total time=   0.0s\n",
      "[CV] END ...................C=0.9595959595959597, penalty=l1; total time=   0.0s\n",
      "[CV] END ...................C=0.9595959595959597, penalty=l1; total time=   0.0s\n",
      "[CV] END ................C=0.37373737373737376, penalty=none; total time=   0.0s\n",
      "[CV] END ................C=0.37373737373737376, penalty=none; total time=   0.0s\n",
      "[CV] END ................C=0.37373737373737376, penalty=none; total time=   0.0s\n",
      "[CV] END ...................C=0.4545454545454546, penalty=l2; total time=   0.0s\n",
      "[CV] END ...................C=0.4545454545454546, penalty=l2; total time=   0.0s\n",
      "[CV] END ...................C=0.4545454545454546, penalty=l2; total time=   0.0s\n",
      "[CV] END ...........................C=0.0, penalty=elaticnet; total time=   0.0s\n",
      "[CV] END ...........................C=0.0, penalty=elaticnet; total time=   0.0s\n",
      "[CV] END ...........................C=0.0, penalty=elaticnet; total time=   0.0s\n",
      "[CV] END ..................C=0.04040404040404041, penalty=l1; total time=   0.0s\n",
      "[CV] END ..................C=0.04040404040404041, penalty=l1; total time=   0.0s\n",
      "[CV] END ..................C=0.04040404040404041, penalty=l1; total time=   0.0s\n",
      "[CV] END ...................C=0.5050505050505051, penalty=l1; total time=   0.0s\n",
      "[CV] END ...................C=0.5050505050505051, penalty=l1; total time=   0.0s\n",
      "[CV] END ...........C=0.15151515151515152, penalty=elaticnet; total time=   0.0s\n",
      "[CV] END ...........C=0.15151515151515152, penalty=elaticnet; total time=   0.0s\n",
      "[CV] END .................C=0.6262626262626263, penalty=none; total time=   0.0s\n",
      "[CV] END .................C=0.6262626262626263, penalty=none; total time=   0.0s\n",
      "[CV] END .................C=0.6262626262626263, penalty=none; total time=   0.0s\n",
      "[CV] END ...................C=0.7575757575757577, penalty=l2; total time=   0.0s\n",
      "[CV] END ...................C=0.7575757575757577, penalty=l2; total time=   0.0s\n",
      "[CV] END ...................C=0.7575757575757577, penalty=l2; total time=   0.0s\n",
      "[CV] END .................C=0.9595959595959597, penalty=none; total time=   0.0s\n",
      "[CV] END ...................C=0.8585858585858587, penalty=l1; total time=   0.0s\n",
      "[CV] END ...................C=0.8585858585858587, penalty=l1; total time=   0.0s\n",
      "[CV] END ....................C=0.393939393939394, penalty=l1; total time=   0.0s\n",
      "[CV] END ....................C=0.393939393939394, penalty=l1; total time=   0.0s\n",
      "[CV] END ....................C=0.393939393939394, penalty=l1; total time=   0.0s\n",
      "[CV] END ...................C=0.3535353535353536, penalty=l2; total time=   0.0s\n",
      "[CV] END ...................C=0.3535353535353536, penalty=l2; total time=   0.0s\n",
      "[CV] END ...................C=0.3535353535353536, penalty=l2; total time=   0.0s\n",
      "[CV] END ............C=0.5555555555555556, penalty=elaticnet; total time=   0.0s\n",
      "[CV] END ............C=0.5555555555555556, penalty=elaticnet; total time=   0.0s\n",
      "[CV] END ............C=0.5555555555555556, penalty=elaticnet; total time=   0.0s\n",
      "[CV] END ................C=0.43434343434343436, penalty=none; total time=   0.0s\n",
      "[CV] END ................C=0.43434343434343436, penalty=none; total time=   0.0s\n",
      "[CV] END ................C=0.43434343434343436, penalty=none; total time=   0.0s\n",
      "[CV] END ..................C=0.07070707070707072, penalty=l1; total time=   0.0s\n",
      "[CV] END ..................C=0.07070707070707072, penalty=l1; total time=   0.0s\n",
      "[CV] END ..................C=0.25252525252525254, penalty=l2; total time=   0.0s\n",
      "[CV] END ..................C=0.25252525252525254, penalty=l2; total time=   0.0s\n",
      "[CV] END ..................C=0.25252525252525254, penalty=l2; total time=   0.0s\n",
      "[CV] END ...........C=0.07070707070707072, penalty=elaticnet; total time=   0.0s\n",
      "[CV] END ...........C=0.07070707070707072, penalty=elaticnet; total time=   0.0s\n",
      "[CV] END ...........C=0.07070707070707072, penalty=elaticnet; total time=   0.0s\n",
      "[CV] END ..................C=0.888888888888889, penalty=none; total time=   0.0s\n",
      "[CV] END ..................C=0.888888888888889, penalty=none; total time=   0.0s\n",
      "[CV] END ...........................C=0.0, penalty=elaticnet; total time=   0.0s\n",
      "[CV] END ...........................C=0.0, penalty=elaticnet; total time=   0.0s\n",
      "[CV] END ...................C=0.5050505050505051, penalty=l1; total time=   0.0s\n",
      "[CV] END ...................C=0.6262626262626263, penalty=l1; total time=   0.0s\n",
      "[CV] END ...................C=0.6262626262626263, penalty=l1; total time=   0.0s\n",
      "[CV] END ccp_alpha=0.3529411764705882, criterion=entropy, max_depth=1, min_samples_leaf=4, min_samples_split=1; total time=   0.0s\n",
      "[CV] END ccp_alpha=0.3529411764705882, criterion=log_loss, max_depth=8, min_samples_leaf=3, min_samples_split=3; total time=   0.0s\n",
      "[CV] END ccp_alpha=0.11764705882352941, criterion=gini, max_depth=9, min_samples_leaf=1, min_samples_split=3; total time=   0.0s\n",
      "[CV] END ccp_alpha=0.29411764705882354, criterion=gini, max_depth=7, min_samples_leaf=4, min_samples_split=1; total time=   0.0s\n",
      "[CV] END ccp_alpha=0.4117647058823529, criterion=log_loss, max_depth=4, min_samples_leaf=1, min_samples_split=3; total time=   0.0s\n",
      "[CV] END ccp_alpha=0.4117647058823529, criterion=log_loss, max_depth=4, min_samples_leaf=1, min_samples_split=3; total time=   0.0s\n",
      "[CV] END ccp_alpha=0.9411764705882353, criterion=log_loss, max_depth=9, min_samples_leaf=3, min_samples_split=4; total time=   0.0s\n",
      "[CV] END ccp_alpha=0.9411764705882353, criterion=log_loss, max_depth=9, min_samples_leaf=3, min_samples_split=4; total time=   0.0s\n",
      "[CV] END ccp_alpha=0.4117647058823529, criterion=gini, max_depth=7, min_samples_leaf=4, min_samples_split=1; total time=   0.0s\n",
      "[CV] END ccp_alpha=0.4117647058823529, criterion=gini, max_depth=7, min_samples_leaf=4, min_samples_split=1; total time=   0.0s\n",
      "[CV] END ccp_alpha=0.11764705882352941, criterion=log_loss, max_depth=2, min_samples_leaf=4, min_samples_split=1; total time=   0.0s\n",
      "[CV] END ccp_alpha=0.11764705882352941, criterion=log_loss, max_depth=2, min_samples_leaf=4, min_samples_split=1; total time=   0.0s\n",
      "[CV] END ccp_alpha=0.11764705882352941, criterion=log_loss, max_depth=2, min_samples_leaf=4, min_samples_split=1; total time=   0.0s\n",
      "[CV] END ccp_alpha=0.11764705882352941, criterion=entropy, max_depth=3, min_samples_leaf=2, min_samples_split=3; total time=   0.0s\n",
      "[CV] END ccp_alpha=0.7058823529411764, criterion=log_loss, max_depth=9, min_samples_leaf=1, min_samples_split=2; total time=   0.0s\n",
      "[CV] END ccp_alpha=0.5882352941176471, criterion=log_loss, max_depth=1, min_samples_leaf=3, min_samples_split=3; total time=   0.0s\n",
      "[CV] END ccp_alpha=0.5882352941176471, criterion=log_loss, max_depth=1, min_samples_leaf=3, min_samples_split=3; total time=   0.0s\n",
      "[CV] END ccp_alpha=0.5882352941176471, criterion=log_loss, max_depth=1, min_samples_leaf=3, min_samples_split=3; total time=   0.0s\n",
      "[CV] END ccp_alpha=0.5882352941176471, criterion=log_loss, max_depth=9, min_samples_leaf=2, min_samples_split=4; total time=   0.0s\n",
      "[CV] END ccp_alpha=0.5882352941176471, criterion=log_loss, max_depth=9, min_samples_leaf=2, min_samples_split=4; total time=   0.0s\n",
      "[CV] END ccp_alpha=0.5882352941176471, criterion=log_loss, max_depth=9, min_samples_leaf=2, min_samples_split=4; total time=   0.0s\n",
      "[CV] END ccp_alpha=0.7647058823529411, criterion=entropy, max_depth=4, min_samples_leaf=2, min_samples_split=3; total time=   0.0s\n",
      "[CV] END ccp_alpha=0.29411764705882354, criterion=entropy, max_depth=7, min_samples_leaf=1, min_samples_split=3; total time=   0.0s\n",
      "[CV] END ccp_alpha=0.3529411764705882, criterion=gini, max_depth=5, min_samples_leaf=1, min_samples_split=1; total time=   0.0s\n",
      "[CV] END ccp_alpha=0.3529411764705882, criterion=gini, max_depth=5, min_samples_leaf=1, min_samples_split=1; total time=   0.0s\n",
      "[CV] END ccp_alpha=0.3529411764705882, criterion=gini, max_depth=5, min_samples_leaf=1, min_samples_split=1; total time=   0.0s\n",
      "[CV] END ccp_alpha=0.29411764705882354, criterion=entropy, max_depth=6, min_samples_leaf=4, min_samples_split=4; total time=   0.0s\n",
      "[CV] END ccp_alpha=0.29411764705882354, criterion=entropy, max_depth=6, min_samples_leaf=4, min_samples_split=4; total time=   0.0s\n",
      "[CV] END ccp_alpha=0.29411764705882354, criterion=entropy, max_depth=6, min_samples_leaf=4, min_samples_split=4; total time=   0.0s\n",
      "[CV] END ccp_alpha=0.8235294117647058, criterion=gini, max_depth=1, min_samples_leaf=2, min_samples_split=2; total time=   0.0s\n",
      "[CV] END ccp_alpha=0.11764705882352941, criterion=gini, max_depth=7, min_samples_leaf=2, min_samples_split=2; total time=   0.0s\n",
      "[CV] END ccp_alpha=0.5294117647058824, criterion=entropy, max_depth=8, min_samples_leaf=2, min_samples_split=2; total time=   0.0s\n",
      "[CV] END ccp_alpha=0.0, criterion=entropy, max_depth=7, min_samples_leaf=3, min_samples_split=4; total time=   0.0s\n",
      "[CV] END ccp_alpha=0.8235294117647058, criterion=entropy, max_depth=6, min_samples_leaf=2, min_samples_split=2; total time=   0.0s\n",
      "[CV] END ccp_alpha=0.5294117647058824, criterion=log_loss, max_depth=9, min_samples_leaf=4, min_samples_split=1; total time=   0.0s\n",
      "[CV] END ccp_alpha=0.29411764705882354, criterion=gini, max_depth=6, min_samples_leaf=2, min_samples_split=2; total time=   0.0s\n",
      "[CV] END ccp_alpha=0.8823529411764706, criterion=entropy, max_depth=2, min_samples_leaf=1, min_samples_split=4; total time=   0.0s\n",
      "[CV] END ccp_alpha=0.3529411764705882, criterion=log_loss, max_depth=6, min_samples_leaf=3, min_samples_split=1; total time=   0.0s\n",
      "[CV] END ...................C=0.5252525252525253, penalty=l2; total time=   0.0s\n",
      "[CV] END ..................C=0.23232323232323235, penalty=l1; total time=   0.0s\n",
      "[CV] END ...................C=0.6666666666666667, penalty=l1; total time=   0.0s\n",
      "[CV] END ..................C=0.31313131313131315, penalty=l1; total time=   0.0s\n",
      "[CV] END .................C=0.020202020202020204, penalty=l2; total time=   0.0s\n",
      "[CV] END .................C=0.020202020202020204, penalty=l2; total time=   0.0s\n",
      "[CV] END ................C=0.14141414141414144, penalty=none; total time=   0.0s\n",
      "[CV] END ................C=0.33333333333333337, penalty=none; total time=   0.0s\n",
      "[CV] END ..................C=0.10101010101010102, penalty=l1; total time=   0.0s\n",
      "[CV] END ..................C=0.19191919191919193, penalty=l2; total time=   0.0s\n",
      "[CV] END ..........C=0.030303030303030304, penalty=elaticnet; total time=   0.0s\n",
      "[CV] END ................................C=0.0, penalty=none; total time=   0.0s\n",
      "[CV] END ................................C=0.0, penalty=none; total time=   0.0s\n",
      "[CV] END ................................C=0.0, penalty=none; total time=   0.0s\n",
      "[CV] END ................................C=1.0, penalty=none; total time=   0.0s\n",
      "[CV] END ....................C=0.393939393939394, penalty=l1; total time=   0.0s\n",
      "[CV] END ...................C=0.3535353535353536, penalty=l2; total time=   0.0s\n",
      "[CV] END ...................C=0.3535353535353536, penalty=l2; total time=   0.0s\n",
      "[CV] END ...................C=0.3535353535353536, penalty=l2; total time=   0.0s\n",
      "[CV] END ..................C=0.07070707070707072, penalty=l1; total time=   0.0s\n",
      "[CV] END ................C=0.38383838383838387, penalty=none; total time=   0.0s\n",
      "[CV] END ................C=0.38383838383838387, penalty=none; total time=   0.0s\n",
      "[CV] END ................C=0.38383838383838387, penalty=none; total time=   0.0s\n",
      "[CV] END ................C=0.31313131313131315, penalty=none; total time=   0.0s\n",
      "[CV] END ................C=0.31313131313131315, penalty=none; total time=   0.0s\n",
      "[CV] END ................C=0.31313131313131315, penalty=none; total time=   0.0s\n",
      "[CV] END ...................C=0.7373737373737375, penalty=l1; total time=   0.0s\n",
      "[CV] END ................C=0.27272727272727276, penalty=none; total time=   0.0s\n",
      "[CV] END ...................C=0.5858585858585859, penalty=l2; total time=   0.0s\n",
      "[CV] END ............C=0.8383838383838385, penalty=elaticnet; total time=   0.0s\n",
      "[CV] END .................C=0.5555555555555556, penalty=none; total time=   0.0s\n",
      "[CV] END ....................C=0.787878787878788, penalty=l1; total time=   0.0s\n",
      "[CV] END .................C=0.9595959595959597, penalty=none; total time=   0.0s\n",
      "[CV] END ...................C=0.5252525252525253, penalty=l2; total time=   0.0s\n",
      "[CV] END .................C=0.7070707070707072, penalty=none; total time=   0.0s\n",
      "[CV] END ..................C=0.08080808080808081, penalty=l2; total time=   0.0s\n",
      "[CV] END ..................C=0.08080808080808081, penalty=l2; total time=   0.0s\n",
      "[CV] END ...................C=0.5252525252525253, penalty=l1; total time=   0.0s\n",
      "[CV] END ..................C=0.23232323232323235, penalty=l2; total time=   0.0s\n",
      "[CV] END ................C=0.21212121212121213, penalty=none; total time=   0.0s\n",
      "[CV] END ................C=0.21212121212121213, penalty=none; total time=   0.0s\n",
      "[CV] END ...................C=0.9090909090909092, penalty=l2; total time=   0.0s\n",
      "[CV] END ...................C=0.9090909090909092, penalty=l2; total time=   0.0s\n",
      "[CV] END ..................C=0.10101010101010102, penalty=l1; total time=   0.0s\n",
      "[CV] END ..................C=0.10101010101010102, penalty=l1; total time=   0.0s\n",
      "[CV] END .................C=0.9494949494949496, penalty=none; total time=   0.0s\n",
      "[CV] END .................C=0.9494949494949496, penalty=none; total time=   0.0s\n",
      "[CV] END ............C=0.5757575757575758, penalty=elaticnet; total time=   0.0s\n",
      "[CV] END ............C=0.5757575757575758, penalty=elaticnet; total time=   0.0s\n",
      "[CV] END ................................C=1.0, penalty=none; total time=   0.0s\n",
      "[CV] END ................................C=1.0, penalty=none; total time=   0.0s\n",
      "[CV] END ...................C=0.2828282828282829, penalty=l1; total time=   0.0s\n",
      "[CV] END ...................C=0.2828282828282829, penalty=l1; total time=   0.0s\n",
      "[CV] END ..............C=0.98989898989899, penalty=elaticnet; total time=   0.0s\n",
      "[CV] END ..................C=0.48484848484848486, penalty=l2; total time=   0.0s\n",
      "[CV] END ..................C=0.48484848484848486, penalty=l2; total time=   0.0s\n",
      "[CV] END ..................C=0.48484848484848486, penalty=l2; total time=   0.0s\n",
      "[CV] END ..................C=0.17171717171717174, penalty=l1; total time=   0.0s\n",
      "[CV] END ..................C=0.17171717171717174, penalty=l1; total time=   0.0s\n",
      "[CV] END ...................C=0.9393939393939394, penalty=l1; total time=   0.0s\n",
      "[CV] END ...................C=0.9393939393939394, penalty=l1; total time=   0.0s\n",
      "[CV] END ...................C=0.9393939393939394, penalty=l1; total time=   0.0s\n",
      "[CV] END ...........C=0.09090909090909091, penalty=elaticnet; total time=   0.0s\n",
      "[CV] END ...........C=0.09090909090909091, penalty=elaticnet; total time=   0.0s\n",
      "[CV] END ...........C=0.09090909090909091, penalty=elaticnet; total time=   0.0s\n",
      "[CV] END ..................C=0.07070707070707072, penalty=l1; total time=   0.0s\n",
      "[CV] END ................C=0.38383838383838387, penalty=none; total time=   0.0s\n",
      "[CV] END ................C=0.38383838383838387, penalty=none; total time=   0.0s\n",
      "[CV] END ................C=0.38383838383838387, penalty=none; total time=   0.0s\n",
      "[CV] END ................C=0.31313131313131315, penalty=none; total time=   0.0s\n",
      "[CV] END ................C=0.31313131313131315, penalty=none; total time=   0.0s\n",
      "[CV] END ................C=0.31313131313131315, penalty=none; total time=   0.0s\n",
      "[CV] END ...................C=0.7373737373737375, penalty=l1; total time=   0.0s\n",
      "[CV] END ...........................C=0.0, penalty=elaticnet; total time=   0.0s\n",
      "[CV] END ..................C=0.04040404040404041, penalty=l1; total time=   0.0s\n",
      "[CV] END ...................C=0.5050505050505051, penalty=l1; total time=   0.0s\n",
      "[CV] END ....................C=0.686868686868687, penalty=l1; total time=   0.0s\n",
      "[CV] END ...........C=0.15151515151515152, penalty=elaticnet; total time=   0.0s\n",
      "[CV] END ...........C=0.15151515151515152, penalty=elaticnet; total time=   0.0s\n",
      "[CV] END ...................C=0.7575757575757577, penalty=l2; total time=   0.0s\n",
      "[CV] END ................C=0.27272727272727276, penalty=none; total time=   0.0s\n",
      "[CV] END ............C=0.8383838383838385, penalty=elaticnet; total time=   0.0s\n",
      "[CV] END .................C=0.4545454545454546, penalty=none; total time=   0.0s\n",
      "[CV] END ...................C=0.9393939393939394, penalty=l2; total time=   0.0s\n",
      "[CV] END .............C=0.595959595959596, penalty=elaticnet; total time=   0.0s\n",
      "[CV] END ccp_alpha=0.1764705882352941, criterion=gini, max_depth=8, min_samples_leaf=4, min_samples_split=2; total time=   0.0s\n",
      "[CV] END ccp_alpha=0.6470588235294118, criterion=entropy, max_depth=9, min_samples_leaf=1, min_samples_split=4; total time=   0.0s\n",
      "[CV] END ccp_alpha=0.7647058823529411, criterion=log_loss, max_depth=5, min_samples_leaf=2, min_samples_split=1; total time=   0.0s\n",
      "[CV] END ccp_alpha=0.9411764705882353, criterion=log_loss, max_depth=4, min_samples_leaf=1, min_samples_split=2; total time=   0.0s\n",
      "[CV] END ccp_alpha=0.7647058823529411, criterion=gini, max_depth=6, min_samples_leaf=4, min_samples_split=2; total time=   0.0s\n",
      "[CV] END ccp_alpha=0.7647058823529411, criterion=gini, max_depth=6, min_samples_leaf=4, min_samples_split=2; total time=   0.0s\n",
      "[CV] END ccp_alpha=0.7647058823529411, criterion=gini, max_depth=6, min_samples_leaf=4, min_samples_split=2; total time=   0.0s\n",
      "[CV] END ccp_alpha=0.47058823529411764, criterion=entropy, max_depth=6, min_samples_leaf=3, min_samples_split=1; total time=   0.0s\n",
      "[CV] END ccp_alpha=0.9411764705882353, criterion=gini, max_depth=2, min_samples_leaf=1, min_samples_split=1; total time=   0.0s\n",
      "[CV] END ccp_alpha=0.9411764705882353, criterion=gini, max_depth=2, min_samples_leaf=1, min_samples_split=1; total time=   0.0s\n",
      "[CV] END ccp_alpha=0.9411764705882353, criterion=gini, max_depth=2, min_samples_leaf=1, min_samples_split=1; total time=   0.0s\n",
      "[CV] END ccp_alpha=0.8823529411764706, criterion=gini, max_depth=1, min_samples_leaf=1, min_samples_split=3; total time=   0.0s\n",
      "[CV] END ccp_alpha=0.47058823529411764, criterion=gini, max_depth=2, min_samples_leaf=3, min_samples_split=1; total time=   0.0s\n",
      "[CV] END ccp_alpha=0.47058823529411764, criterion=gini, max_depth=2, min_samples_leaf=3, min_samples_split=1; total time=   0.0s\n",
      "[CV] END ccp_alpha=0.4117647058823529, criterion=entropy, max_depth=6, min_samples_leaf=4, min_samples_split=3; total time=   0.0s\n",
      "[CV] END ccp_alpha=0.4117647058823529, criterion=entropy, max_depth=6, min_samples_leaf=4, min_samples_split=3; total time=   0.0s\n",
      "[CV] END ccp_alpha=0.5882352941176471, criterion=gini, max_depth=9, min_samples_leaf=2, min_samples_split=2; total time=   0.0s\n",
      "[CV] END ccp_alpha=0.5882352941176471, criterion=gini, max_depth=9, min_samples_leaf=2, min_samples_split=2; total time=   0.0s\n",
      "[CV] END ccp_alpha=0.5882352941176471, criterion=gini, max_depth=9, min_samples_leaf=2, min_samples_split=2; total time=   0.0s\n",
      "[CV] END ccp_alpha=0.11764705882352941, criterion=log_loss, max_depth=3, min_samples_leaf=3, min_samples_split=2; total time=   0.0s\n",
      "[CV] END ccp_alpha=0.11764705882352941, criterion=log_loss, max_depth=3, min_samples_leaf=3, min_samples_split=2; total time=   0.0s\n",
      "[CV] END ccp_alpha=0.11764705882352941, criterion=log_loss, max_depth=3, min_samples_leaf=3, min_samples_split=2; total time=   0.0s\n",
      "[CV] END ccp_alpha=0.7058823529411764, criterion=log_loss, max_depth=9, min_samples_leaf=1, min_samples_split=2; total time=   0.0s\n",
      "[CV] END ccp_alpha=0.7058823529411764, criterion=log_loss, max_depth=9, min_samples_leaf=1, min_samples_split=2; total time=   0.0s\n",
      "[CV] END ccp_alpha=0.0, criterion=log_loss, max_depth=2, min_samples_leaf=4, min_samples_split=3; total time=   0.0s\n",
      "[CV] END ccp_alpha=0.0, criterion=log_loss, max_depth=2, min_samples_leaf=4, min_samples_split=3; total time=   0.0s\n",
      "[CV] END ccp_alpha=0.0, criterion=log_loss, max_depth=2, min_samples_leaf=4, min_samples_split=3; total time=   0.0s\n",
      "[CV] END ccp_alpha=0.058823529411764705, criterion=log_loss, max_depth=2, min_samples_leaf=1, min_samples_split=1; total time=   0.0s\n",
      "[CV] END ccp_alpha=0.058823529411764705, criterion=log_loss, max_depth=2, min_samples_leaf=1, min_samples_split=1; total time=   0.0s\n",
      "[CV] END ccp_alpha=0.058823529411764705, criterion=log_loss, max_depth=2, min_samples_leaf=1, min_samples_split=1; total time=   0.0s\n",
      "[CV] END ccp_alpha=0.29411764705882354, criterion=entropy, max_depth=7, min_samples_leaf=1, min_samples_split=3; total time=   0.0s\n",
      "[CV] END ccp_alpha=0.29411764705882354, criterion=entropy, max_depth=7, min_samples_leaf=1, min_samples_split=3; total time=   0.0s\n",
      "[CV] END ccp_alpha=0.7647058823529411, criterion=log_loss, max_depth=9, min_samples_leaf=1, min_samples_split=2; total time=   0.0s\n",
      "[CV] END ccp_alpha=0.3529411764705882, criterion=log_loss, max_depth=5, min_samples_leaf=3, min_samples_split=1; total time=   0.0s\n",
      "[CV] END ccp_alpha=0.3529411764705882, criterion=log_loss, max_depth=5, min_samples_leaf=3, min_samples_split=1; total time=   0.0s\n",
      "[CV] END ccp_alpha=0.3529411764705882, criterion=log_loss, max_depth=5, min_samples_leaf=3, min_samples_split=1; total time=   0.0s\n",
      "[CV] END ccp_alpha=0.5882352941176471, criterion=entropy, max_depth=8, min_samples_leaf=1, min_samples_split=2; total time=   0.0s\n",
      "[CV] END ccp_alpha=0.11764705882352941, criterion=log_loss, max_depth=9, min_samples_leaf=4, min_samples_split=4; total time=   0.0s\n",
      "[CV] END ccp_alpha=0.4117647058823529, criterion=log_loss, max_depth=9, min_samples_leaf=4, min_samples_split=3; total time=   0.0s\n",
      "[CV] END ccp_alpha=0.8235294117647058, criterion=entropy, max_depth=6, min_samples_leaf=2, min_samples_split=2; total time=   0.0s\n",
      "[CV] END ccp_alpha=0.5294117647058824, criterion=log_loss, max_depth=9, min_samples_leaf=4, min_samples_split=1; total time=   0.0s\n",
      "[CV] END ccp_alpha=0.9411764705882353, criterion=log_loss, max_depth=6, min_samples_leaf=2, min_samples_split=1; total time=   0.0s\n",
      "[CV] END ccp_alpha=0.8823529411764706, criterion=entropy, max_depth=2, min_samples_leaf=1, min_samples_split=4; total time=   0.0s\n",
      "[CV] END ccp_alpha=0.3529411764705882, criterion=log_loss, max_depth=6, min_samples_leaf=3, min_samples_split=1; total time=   0.0s\n",
      "[CV] END ..................C=0.08080808080808081, penalty=l2; total time=   0.0s\n",
      "[CV] END ..................C=0.31313131313131315, penalty=l1; total time=   0.0s\n",
      "[CV] END ................C=0.14141414141414144, penalty=none; total time=   0.0s\n",
      "[CV] END ................C=0.33333333333333337, penalty=none; total time=   0.0s\n",
      "[CV] END ................C=0.33333333333333337, penalty=none; total time=   0.0s\n",
      "[CV] END ..................C=0.14141414141414144, penalty=l2; total time=   0.0s\n",
      "[CV] END ..................C=0.14141414141414144, penalty=l2; total time=   0.0s\n",
      "[CV] END .................C=0.5858585858585859, penalty=none; total time=   0.0s\n",
      "[CV] END .................C=0.5858585858585859, penalty=none; total time=   0.0s\n",
      "[CV] END ..................C=0.20202020202020204, penalty=l1; total time=   0.0s\n",
      "[CV] END ..................C=0.20202020202020204, penalty=l1; total time=   0.0s\n",
      "[CV] END ..................C=0.20202020202020204, penalty=l1; total time=   0.0s\n",
      "[CV] END ...................C=0.9595959595959597, penalty=l1; total time=   0.0s\n",
      "[CV] END ..................C=0.11111111111111112, penalty=l1; total time=   0.0s\n",
      "[CV] END ...................C=0.8080808080808082, penalty=l2; total time=   0.0s\n",
      "[CV] END ...................C=0.8080808080808082, penalty=l2; total time=   0.0s\n",
      "[CV] END ...................C=0.8080808080808082, penalty=l2; total time=   0.0s\n",
      "[CV] END ...................C=0.8484848484848485, penalty=l1; total time=   0.0s\n",
      "[CV] END ...................C=0.8484848484848485, penalty=l1; total time=   0.0s\n",
      "[CV] END ...................C=0.8484848484848485, penalty=l1; total time=   0.0s\n",
      "[CV] END ..................C=0.17171717171717174, penalty=l1; total time=   0.0s\n",
      "[CV] END .................C=0.9797979797979799, penalty=none; total time=   0.0s\n",
      "[CV] END ...................C=0.6161616161616162, penalty=l1; total time=   0.0s\n",
      "[CV] END ...................C=0.6161616161616162, penalty=l1; total time=   0.0s\n",
      "[CV] END ...................C=0.6161616161616162, penalty=l1; total time=   0.0s\n",
      "[CV] END ............C=0.5656565656565657, penalty=elaticnet; total time=   0.0s\n",
      "[CV] END ............C=0.5656565656565657, penalty=elaticnet; total time=   0.0s\n",
      "[CV] END ............C=0.5656565656565657, penalty=elaticnet; total time=   0.0s\n",
      "[CV] END ...................C=0.9292929292929294, penalty=l2; total time=   0.0s\n",
      "[CV] END ................C=0.27272727272727276, penalty=none; total time=   0.0s\n",
      "[CV] END ..................C=0.22222222222222224, penalty=l1; total time=   0.0s\n",
      "[CV] END ...................C=0.5858585858585859, penalty=l2; total time=   0.0s\n",
      "[CV] END ............C=0.8383838383838385, penalty=elaticnet; total time=   0.0s\n",
      "[CV] END ..................C=0.29292929292929293, penalty=l1; total time=   0.0s\n",
      "[CV] END ..................C=0.29292929292929293, penalty=l1; total time=   0.0s\n",
      "[CV] END .................C=0.5555555555555556, penalty=none; total time=   0.0s\n",
      "[CV] END .................C=0.4545454545454546, penalty=none; total time=   0.0s\n",
      "[CV] END ...........C=0.18181818181818182, penalty=elaticnet; total time=   0.0s\n",
      "[CV] END ...........C=0.18181818181818182, penalty=elaticnet; total time=   0.0s\n",
      "[CV] END ..................C=0.888888888888889, penalty=none; total time=   0.0s\n",
      "[CV] END .................C=0.6767676767676768, penalty=none; total time=   0.0s\n",
      "[CV] END .................C=0.6767676767676768, penalty=none; total time=   0.0s\n",
      "[CV] END .................C=0.6767676767676768, penalty=none; total time=   0.0s\n",
      "[CV] END .....................C=0.98989898989899, penalty=l1; total time=   0.0s\n",
      "[CV] END .....................C=0.98989898989899, penalty=l1; total time=   0.0s\n",
      "[CV] END .....................C=0.98989898989899, penalty=l1; total time=   0.0s\n",
      "[CV] END ..................C=0.18181818181818182, penalty=l2; total time=   0.0s\n",
      "[CV] END ...................C=0.5858585858585859, penalty=l2; total time=   0.0s\n",
      "[CV] END .................C=0.4545454545454546, penalty=none; total time=   0.0s\n",
      "[CV] END ....................C=0.787878787878788, penalty=l1; total time=   0.0s\n",
      "[CV] END ...................C=0.9393939393939394, penalty=l2; total time=   0.0s\n",
      "[CV] END .................C=0.9595959595959597, penalty=none; total time=   0.0s\n",
      "[CV] END ...........C=0.18181818181818182, penalty=elaticnet; total time=   0.0s\n",
      "[CV] END ccp_alpha=0.47058823529411764, criterion=gini, max_depth=2, min_samples_leaf=1, min_samples_split=4; total time=   0.0s\n",
      "[CV] END ccp_alpha=0.6470588235294118, criterion=gini, max_depth=4, min_samples_leaf=1, min_samples_split=1; total time=   0.0s\n",
      "[CV] END ccp_alpha=0.0, criterion=log_loss, max_depth=2, min_samples_leaf=4, min_samples_split=4; total time=   0.0s\n",
      "[CV] END ccp_alpha=0.4117647058823529, criterion=gini, max_depth=7, min_samples_leaf=4, min_samples_split=1; total time=   0.0s\n",
      "[CV] END ccp_alpha=0.0, criterion=log_loss, max_depth=3, min_samples_leaf=4, min_samples_split=3; total time=   0.0s\n",
      "[CV] END ccp_alpha=0.0, criterion=log_loss, max_depth=3, min_samples_leaf=4, min_samples_split=3; total time=   0.0s\n",
      "[CV] END ccp_alpha=0.0, criterion=log_loss, max_depth=3, min_samples_leaf=4, min_samples_split=3; total time=   0.0s\n",
      "[CV] END ccp_alpha=0.4117647058823529, criterion=log_loss, max_depth=7, min_samples_leaf=2, min_samples_split=1; total time=   0.0s\n",
      "[CV] END ccp_alpha=0.4117647058823529, criterion=log_loss, max_depth=7, min_samples_leaf=2, min_samples_split=1; total time=   0.0s\n",
      "[CV] END ccp_alpha=0.4117647058823529, criterion=log_loss, max_depth=7, min_samples_leaf=2, min_samples_split=1; total time=   0.0s\n",
      "[CV] END ccp_alpha=0.47058823529411764, criterion=gini, max_depth=2, min_samples_leaf=3, min_samples_split=1; total time=   0.0s\n",
      "[CV] END ccp_alpha=0.11764705882352941, criterion=entropy, max_depth=3, min_samples_leaf=2, min_samples_split=3; total time=   0.0s\n",
      "[CV] END ccp_alpha=0.11764705882352941, criterion=entropy, max_depth=3, min_samples_leaf=2, min_samples_split=3; total time=   0.0s\n",
      "[CV] END ccp_alpha=0.1764705882352941, criterion=gini, max_depth=6, min_samples_leaf=2, min_samples_split=4; total time=   0.0s\n",
      "[CV] END ccp_alpha=0.1764705882352941, criterion=gini, max_depth=6, min_samples_leaf=2, min_samples_split=4; total time=   0.0s\n",
      "[CV] END ccp_alpha=0.1764705882352941, criterion=gini, max_depth=6, min_samples_leaf=2, min_samples_split=4; total time=   0.0s\n",
      "[CV] END ccp_alpha=0.8823529411764706, criterion=entropy, max_depth=5, min_samples_leaf=4, min_samples_split=3; total time=   0.0s\n",
      "[CV] END ccp_alpha=0.8823529411764706, criterion=entropy, max_depth=5, min_samples_leaf=4, min_samples_split=3; total time=   0.0s\n",
      "[CV] END ccp_alpha=0.8823529411764706, criterion=entropy, max_depth=5, min_samples_leaf=4, min_samples_split=3; total time=   0.0s\n",
      "[CV] END ccp_alpha=0.9411764705882353, criterion=log_loss, max_depth=4, min_samples_leaf=4, min_samples_split=1; total time=   0.0s\n",
      "[CV] END ccp_alpha=0.29411764705882354, criterion=gini, max_depth=8, min_samples_leaf=2, min_samples_split=1; total time=   0.0s\n",
      "[CV] END ccp_alpha=0.29411764705882354, criterion=gini, max_depth=8, min_samples_leaf=2, min_samples_split=1; total time=   0.0s\n",
      "[CV] END ccp_alpha=0.29411764705882354, criterion=gini, max_depth=8, min_samples_leaf=2, min_samples_split=1; total time=   0.0s\n",
      "[CV] END ccp_alpha=0.7647058823529411, criterion=entropy, max_depth=3, min_samples_leaf=4, min_samples_split=2; total time=   0.0s\n",
      "[CV] END ccp_alpha=0.7647058823529411, criterion=entropy, max_depth=3, min_samples_leaf=4, min_samples_split=2; total time=   0.0s\n",
      "[CV] END ccp_alpha=0.7647058823529411, criterion=entropy, max_depth=3, min_samples_leaf=4, min_samples_split=2; total time=   0.0s\n",
      "[CV] END ccp_alpha=0.23529411764705882, criterion=entropy, max_depth=7, min_samples_leaf=3, min_samples_split=4; total time=   0.0s\n",
      "[CV] END ccp_alpha=0.7647058823529411, criterion=log_loss, max_depth=9, min_samples_leaf=1, min_samples_split=2; total time=   0.0s\n",
      "[CV] END ccp_alpha=0.7647058823529411, criterion=log_loss, max_depth=9, min_samples_leaf=1, min_samples_split=2; total time=   0.0s\n",
      "[CV] END ccp_alpha=0.5882352941176471, criterion=entropy, max_depth=8, min_samples_leaf=1, min_samples_split=2; total time=   0.0s\n",
      "[CV] END ccp_alpha=0.5294117647058824, criterion=entropy, max_depth=8, min_samples_leaf=2, min_samples_split=2; total time=   0.0s\n",
      "[CV] END ccp_alpha=0.0, criterion=entropy, max_depth=7, min_samples_leaf=3, min_samples_split=4; total time=   0.0s\n",
      "[CV] END ccp_alpha=0.9411764705882353, criterion=entropy, max_depth=1, min_samples_leaf=1, min_samples_split=4; total time=   0.0s\n",
      "[CV] END ccp_alpha=0.3529411764705882, criterion=gini, max_depth=4, min_samples_leaf=2, min_samples_split=1; total time=   0.0s\n",
      "[CV] END ccp_alpha=0.5294117647058824, criterion=log_loss, max_depth=9, min_samples_leaf=4, min_samples_split=1; total time=   0.0s\n",
      "[CV] END ccp_alpha=0.29411764705882354, criterion=gini, max_depth=6, min_samples_leaf=2, min_samples_split=2; total time=   0.0s\n",
      "[CV] END ccp_alpha=1.0, criterion=log_loss, max_depth=7, min_samples_leaf=2, min_samples_split=2; total time=   0.0s\n"
     ]
    },
    {
     "name": "stdout",
     "output_type": "stream",
     "text": [
      "[CV] END .................C=0.7070707070707072, penalty=none; total time=   0.0s\n",
      "[CV] END ................C=0.18181818181818182, penalty=none; total time=   0.0s\n",
      "[CV] END ................C=0.18181818181818182, penalty=none; total time=   0.0s\n",
      "[CV] END ............C=0.9797979797979799, penalty=elaticnet; total time=   0.0s\n",
      "[CV] END ............C=0.6767676767676768, penalty=elaticnet; total time=   0.0s\n",
      "[CV] END ...................C=0.2828282828282829, penalty=l1; total time=   0.0s\n",
      "[CV] END ...................C=0.5656565656565657, penalty=l2; total time=   0.0s\n",
      "[CV] END ...................C=0.5656565656565657, penalty=l2; total time=   0.0s\n",
      "[CV] END ...................C=0.5656565656565657, penalty=l2; total time=   0.0s\n",
      "[CV] END ...................C=0.8585858585858587, penalty=l1; total time=   0.0s\n",
      "[CV] END ...................C=0.8585858585858587, penalty=l1; total time=   0.0s\n",
      "[CV] END ....................C=0.393939393939394, penalty=l1; total time=   0.0s\n",
      "[CV] END ....................C=0.393939393939394, penalty=l1; total time=   0.0s\n",
      "[CV] END ...................C=0.9595959595959597, penalty=l2; total time=   0.0s\n",
      "[CV] END ...................C=0.9595959595959597, penalty=l2; total time=   0.0s\n",
      "[CV] END ...................C=0.9595959595959597, penalty=l2; total time=   0.0s\n",
      "[CV] END ...........C=0.13131313131313133, penalty=elaticnet; total time=   0.0s\n",
      "[CV] END ............C=0.5555555555555556, penalty=elaticnet; total time=   0.0s\n",
      "[CV] END ............C=0.5555555555555556, penalty=elaticnet; total time=   0.0s\n",
      "[CV] END ............C=0.5555555555555556, penalty=elaticnet; total time=   0.0s\n",
      "[CV] END ................C=0.43434343434343436, penalty=none; total time=   0.0s\n",
      "[CV] END ................C=0.43434343434343436, penalty=none; total time=   0.0s\n",
      "[CV] END ................C=0.43434343434343436, penalty=none; total time=   0.0s\n",
      "[CV] END ..................C=0.07070707070707072, penalty=l1; total time=   0.0s\n",
      "[CV] END ..................C=0.07070707070707072, penalty=l1; total time=   0.0s\n",
      "[CV] END ...................C=0.9292929292929294, penalty=l2; total time=   0.0s\n",
      "[CV] END ...................C=0.9292929292929294, penalty=l2; total time=   0.0s\n",
      "[CV] END .................C=0.4444444444444445, penalty=none; total time=   0.0s\n",
      "[CV] END .................C=0.4444444444444445, penalty=none; total time=   0.0s\n",
      "[CV] END .................C=0.4444444444444445, penalty=none; total time=   0.0s\n",
      "[CV] END ...................C=0.7272727272727273, penalty=l2; total time=   0.0s\n",
      "[CV] END ...................C=0.7272727272727273, penalty=l2; total time=   0.0s\n",
      "[CV] END ...................C=0.7272727272727273, penalty=l2; total time=   0.0s\n",
      "[CV] END .............C=0.595959595959596, penalty=elaticnet; total time=   0.0s\n",
      "[CV] END .............C=0.595959595959596, penalty=elaticnet; total time=   0.0s\n",
      "[CV] END ...................C=0.5252525252525253, penalty=l2; total time=   0.0s\n",
      "[CV] END ...................C=0.5252525252525253, penalty=l2; total time=   0.0s\n",
      "[CV] END .................C=0.7070707070707072, penalty=none; total time=   0.0s\n",
      "[CV] END .................C=0.7070707070707072, penalty=none; total time=   0.0s\n",
      "[CV] END ..................C=0.08080808080808081, penalty=l2; total time=   0.0s\n",
      "[CV] END ................C=0.21212121212121213, penalty=none; total time=   0.0s\n",
      "[CV] END ...................C=0.6666666666666667, penalty=l1; total time=   0.0s\n",
      "[CV] END ..................C=0.31313131313131315, penalty=l1; total time=   0.0s\n",
      "[CV] END .................C=0.020202020202020204, penalty=l2; total time=   0.0s\n",
      "[CV] END ...................C=0.9090909090909092, penalty=l2; total time=   0.0s\n",
      "[CV] END ................C=0.33333333333333337, penalty=none; total time=   0.0s\n",
      "[CV] END ..................C=0.10101010101010102, penalty=l1; total time=   0.0s\n",
      "[CV] END ................................C=0.0, penalty=none; total time=   0.0s\n",
      "[CV] END ................................C=0.0, penalty=none; total time=   0.0s\n",
      "[CV] END ................................C=0.0, penalty=none; total time=   0.0s\n",
      "[CV] END ................................C=1.0, penalty=none; total time=   0.0s\n",
      "[CV] END .................C=0.5858585858585859, penalty=none; total time=   0.0s\n",
      "[CV] END ................C=0.29292929292929293, penalty=none; total time=   0.0s\n",
      "[CV] END ................C=0.29292929292929293, penalty=none; total time=   0.0s\n",
      "[CV] END ................C=0.29292929292929293, penalty=none; total time=   0.0s\n",
      "[CV] END ................C=0.19191919191919193, penalty=none; total time=   0.0s\n",
      "[CV] END ..................C=0.06060606060606061, penalty=l2; total time=   0.0s\n",
      "[CV] END ..................C=0.06060606060606061, penalty=l2; total time=   0.0s\n",
      "[CV] END ..................C=0.06060606060606061, penalty=l2; total time=   0.0s\n",
      "[CV] END ..................C=0.20202020202020204, penalty=l1; total time=   0.0s\n",
      "[CV] END ..................C=0.20202020202020204, penalty=l1; total time=   0.0s\n",
      "[CV] END ..................C=0.20202020202020204, penalty=l1; total time=   0.0s\n",
      "[CV] END ...................C=0.9595959595959597, penalty=l1; total time=   0.0s\n",
      "[CV] END .................C=0.010101010101010102, penalty=l2; total time=   0.0s\n",
      "[CV] END .................C=0.010101010101010102, penalty=l2; total time=   0.0s\n",
      "[CV] END .................C=0.010101010101010102, penalty=l2; total time=   0.0s\n",
      "[CV] END ..................C=0.11111111111111112, penalty=l2; total time=   0.0s\n",
      "[CV] END ..................C=0.11111111111111112, penalty=l2; total time=   0.0s\n",
      "[CV] END ..................C=0.11111111111111112, penalty=l2; total time=   0.0s\n",
      "[CV] END .................C=0.9797979797979799, penalty=none; total time=   0.0s\n",
      "[CV] END .................C=0.9797979797979799, penalty=none; total time=   0.0s\n",
      "[CV] END .................C=0.6262626262626263, penalty=none; total time=   0.0s\n",
      "[CV] END .................C=0.9595959595959597, penalty=none; total time=   0.0s\n",
      "[CV] END ccp_alpha=0.47058823529411764, criterion=gini, max_depth=2, min_samples_leaf=1, min_samples_split=4; total time=   0.0s\n",
      "[CV] END ccp_alpha=0.6470588235294118, criterion=entropy, max_depth=7, min_samples_leaf=2, min_samples_split=1; total time=   0.0s\n",
      "[CV] END ccp_alpha=0.6470588235294118, criterion=gini, max_depth=4, min_samples_leaf=1, min_samples_split=1; total time=   0.0s\n",
      "[CV] END ccp_alpha=0.6470588235294118, criterion=gini, max_depth=4, min_samples_leaf=1, min_samples_split=1; total time=   0.0s\n",
      "[CV] END ccp_alpha=0.6470588235294118, criterion=gini, max_depth=5, min_samples_leaf=3, min_samples_split=2; total time=   0.0s\n",
      "[CV] END ccp_alpha=0.6470588235294118, criterion=gini, max_depth=5, min_samples_leaf=3, min_samples_split=2; total time=   0.0s\n",
      "[CV] END ccp_alpha=0.0, criterion=log_loss, max_depth=8, min_samples_leaf=3, min_samples_split=1; total time=   0.0s\n",
      "[CV] END ccp_alpha=0.0, criterion=log_loss, max_depth=8, min_samples_leaf=3, min_samples_split=1; total time=   0.0s\n",
      "[CV] END ccp_alpha=0.47058823529411764, criterion=entropy, max_depth=6, min_samples_leaf=3, min_samples_split=1; total time=   0.0s\n",
      "[CV] END ccp_alpha=0.47058823529411764, criterion=entropy, max_depth=6, min_samples_leaf=3, min_samples_split=1; total time=   0.0s\n",
      "[CV] END ccp_alpha=0.5294117647058824, criterion=entropy, max_depth=7, min_samples_leaf=1, min_samples_split=2; total time=   0.0s\n",
      "[CV] END ccp_alpha=0.5294117647058824, criterion=entropy, max_depth=7, min_samples_leaf=1, min_samples_split=2; total time=   0.0s\n",
      "[CV] END ccp_alpha=0.5294117647058824, criterion=entropy, max_depth=7, min_samples_leaf=1, min_samples_split=1; total time=   0.0s\n",
      "[CV] END ccp_alpha=0.8235294117647058, criterion=gini, max_depth=8, min_samples_leaf=1, min_samples_split=3; total time=   0.0s\n",
      "[CV] END ccp_alpha=0.8235294117647058, criterion=gini, max_depth=8, min_samples_leaf=1, min_samples_split=3; total time=   0.0s\n",
      "[CV] END ccp_alpha=0.8235294117647058, criterion=gini, max_depth=8, min_samples_leaf=1, min_samples_split=3; total time=   0.0s\n",
      "[CV] END ccp_alpha=0.7647058823529411, criterion=entropy, max_depth=4, min_samples_leaf=2, min_samples_split=3; total time=   0.0s\n",
      "[CV] END ccp_alpha=0.7647058823529411, criterion=entropy, max_depth=4, min_samples_leaf=2, min_samples_split=3; total time=   0.0s\n",
      "[CV] END ccp_alpha=0.3529411764705882, criterion=gini, max_depth=6, min_samples_leaf=2, min_samples_split=1; total time=   0.0s\n",
      "[CV] END ccp_alpha=0.3529411764705882, criterion=gini, max_depth=6, min_samples_leaf=2, min_samples_split=1; total time=   0.0s\n",
      "[CV] END ccp_alpha=0.3529411764705882, criterion=gini, max_depth=6, min_samples_leaf=2, min_samples_split=1; total time=   0.0s\n",
      "[CV] END ccp_alpha=0.11764705882352941, criterion=gini, max_depth=9, min_samples_leaf=2, min_samples_split=2; total time=   0.0s\n",
      "[CV] END ccp_alpha=0.11764705882352941, criterion=gini, max_depth=9, min_samples_leaf=2, min_samples_split=2; total time=   0.0s\n",
      "[CV] END ccp_alpha=0.11764705882352941, criterion=gini, max_depth=9, min_samples_leaf=2, min_samples_split=2; total time=   0.0s\n",
      "[CV] END ccp_alpha=0.0, criterion=gini, max_depth=7, min_samples_leaf=2, min_samples_split=2; total time=   0.0s\n",
      "[CV] END ccp_alpha=0.0, criterion=gini, max_depth=7, min_samples_leaf=2, min_samples_split=2; total time=   0.0s\n",
      "[CV] END ccp_alpha=0.0, criterion=gini, max_depth=7, min_samples_leaf=2, min_samples_split=2; total time=   0.0s\n",
      "[CV] END ccp_alpha=0.8823529411764706, criterion=log_loss, max_depth=2, min_samples_leaf=1, min_samples_split=4; total time=   0.0s\n",
      "[CV] END ccp_alpha=0.8823529411764706, criterion=log_loss, max_depth=2, min_samples_leaf=1, min_samples_split=4; total time=   0.0s\n",
      "[CV] END ccp_alpha=0.8823529411764706, criterion=log_loss, max_depth=2, min_samples_leaf=1, min_samples_split=4; total time=   0.0s\n",
      "[CV] END ccp_alpha=0.0, criterion=log_loss, max_depth=9, min_samples_leaf=4, min_samples_split=2; total time=   0.0s\n",
      "[CV] END ccp_alpha=0.0, criterion=log_loss, max_depth=9, min_samples_leaf=4, min_samples_split=2; total time=   0.0s\n",
      "[CV] END ccp_alpha=0.7647058823529411, criterion=entropy, max_depth=4, min_samples_leaf=3, min_samples_split=2; total time=   0.0s\n",
      "[CV] END ccp_alpha=0.4117647058823529, criterion=log_loss, max_depth=9, min_samples_leaf=4, min_samples_split=3; total time=   0.0s\n",
      "[CV] END ccp_alpha=0.8235294117647058, criterion=entropy, max_depth=6, min_samples_leaf=2, min_samples_split=2; total time=   0.0s\n",
      "[CV] END ccp_alpha=0.9411764705882353, criterion=entropy, max_depth=1, min_samples_leaf=1, min_samples_split=4; total time=   0.0s\n",
      "[CV] END ccp_alpha=0.3529411764705882, criterion=gini, max_depth=4, min_samples_leaf=2, min_samples_split=1; total time=   0.0s\n",
      "[CV] END ccp_alpha=0.9411764705882353, criterion=log_loss, max_depth=6, min_samples_leaf=2, min_samples_split=1; total time=   0.0s\n",
      "[CV] END ccp_alpha=0.9411764705882353, criterion=log_loss, max_depth=6, min_samples_leaf=2, min_samples_split=1; total time=   0.0s\n",
      "[CV] END ccp_alpha=1.0, criterion=log_loss, max_depth=7, min_samples_leaf=2, min_samples_split=2; total time=   0.0s\n",
      "[CV] END ...................C=0.5252525252525253, penalty=l2; total time=   0.0s\n",
      "[CV] END ..................C=0.31313131313131315, penalty=l1; total time=   0.0s\n",
      "[CV] END .................C=0.020202020202020204, penalty=l2; total time=   0.0s\n",
      "[CV] END ...................C=0.9090909090909092, penalty=l2; total time=   0.0s\n",
      "[CV] END ....................C=0.696969696969697, penalty=l1; total time=   0.0s\n",
      "[CV] END .................C=0.9494949494949496, penalty=none; total time=   0.0s\n",
      "[CV] END ..........C=0.030303030303030304, penalty=elaticnet; total time=   0.0s\n",
      "[CV] END ..........C=0.030303030303030304, penalty=elaticnet; total time=   0.0s\n",
      "[CV] END ............C=0.6767676767676768, penalty=elaticnet; total time=   0.0s\n",
      "[CV] END ............C=0.6767676767676768, penalty=elaticnet; total time=   0.0s\n",
      "[CV] END ................................C=1.0, penalty=none; total time=   0.0s\n",
      "[CV] END ................................C=1.0, penalty=none; total time=   0.0s\n",
      "[CV] END ...................C=0.2828282828282829, penalty=l1; total time=   0.0s\n",
      "[CV] END ...................C=0.2828282828282829, penalty=l1; total time=   0.0s\n",
      "[CV] END ..................C=0.25252525252525254, penalty=l2; total time=   0.0s\n",
      "[CV] END ..................C=0.25252525252525254, penalty=l2; total time=   0.0s\n",
      "[CV] END ..................C=0.25252525252525254, penalty=l2; total time=   0.0s\n",
      "[CV] END ...........C=0.07070707070707072, penalty=elaticnet; total time=   0.0s\n",
      "[CV] END ...........C=0.07070707070707072, penalty=elaticnet; total time=   0.0s\n",
      "[CV] END ...........C=0.07070707070707072, penalty=elaticnet; total time=   0.0s\n",
      "[CV] END ..................C=0.888888888888889, penalty=none; total time=   0.0s\n",
      "[CV] END ..................C=0.888888888888889, penalty=none; total time=   0.0s\n",
      "[CV] END ...................C=0.5050505050505051, penalty=l1; total time=   0.0s\n",
      "[CV] END ...................C=0.6262626262626263, penalty=l1; total time=   0.0s\n",
      "[CV] END ...................C=0.6262626262626263, penalty=l1; total time=   0.0s\n",
      "[CV] END ...................C=0.6262626262626263, penalty=l1; total time=   0.0s\n",
      "[CV] END ....................C=0.686868686868687, penalty=l1; total time=   0.0s\n",
      "[CV] END ....................C=0.686868686868687, penalty=l1; total time=   0.0s\n",
      "[CV] END ....................C=0.686868686868687, penalty=l1; total time=   0.0s\n",
      "[CV] END ...........C=0.15151515151515152, penalty=elaticnet; total time=   0.0s\n",
      "[CV] END ................C=0.27272727272727276, penalty=none; total time=   0.0s\n",
      "[CV] END .................C=0.4545454545454546, penalty=none; total time=   0.0s\n",
      "[CV] END ....................C=0.787878787878788, penalty=l1; total time=   0.0s\n",
      "[CV] END ...................C=0.9393939393939394, penalty=l2; total time=   0.0s\n",
      "[CV] END ...........C=0.18181818181818182, penalty=elaticnet; total time=   0.0s\n",
      "[CV] END ...................C=0.6666666666666667, penalty=l1; total time=   0.0s\n",
      "[CV] END ...................C=0.6666666666666667, penalty=l1; total time=   0.0s\n",
      "[CV] END .................C=0.020202020202020204, penalty=l2; total time=   0.0s\n",
      "[CV] END .................C=0.020202020202020204, penalty=l2; total time=   0.0s\n",
      "[CV] END ................C=0.33333333333333337, penalty=none; total time=   0.0s\n",
      "[CV] END ................C=0.33333333333333337, penalty=none; total time=   0.0s\n",
      "[CV] END ....................C=0.696969696969697, penalty=l1; total time=   0.0s\n",
      "[CV] END ....................C=0.696969696969697, penalty=l1; total time=   0.0s\n",
      "[CV] END ....................C=0.696969696969697, penalty=l1; total time=   0.0s\n",
      "[CV] END .................C=0.9494949494949496, penalty=none; total time=   0.0s\n",
      "[CV] END ............C=0.9797979797979799, penalty=elaticnet; total time=   0.0s\n",
      "[CV] END ............C=0.6767676767676768, penalty=elaticnet; total time=   0.0s\n",
      "[CV] END ............C=0.6767676767676768, penalty=elaticnet; total time=   0.0s\n",
      "[CV] END ............C=0.6767676767676768, penalty=elaticnet; total time=   0.0s\n",
      "[CV] END ...................C=0.2828282828282829, penalty=l1; total time=   0.0s\n",
      "[CV] END ...................C=0.5656565656565657, penalty=l2; total time=   0.0s\n",
      "[CV] END ...................C=0.5656565656565657, penalty=l2; total time=   0.0s\n",
      "[CV] END ...................C=0.5656565656565657, penalty=l2; total time=   0.0s\n",
      "[CV] END ..................C=0.05050505050505051, penalty=l1; total time=   0.0s\n",
      "[CV] END ..................C=0.05050505050505051, penalty=l1; total time=   0.0s\n",
      "[CV] END ..................C=0.05050505050505051, penalty=l1; total time=   0.0s\n",
      "[CV] END ..................C=0.43434343434343436, penalty=l2; total time=   0.0s\n",
      "[CV] END ..................C=0.43434343434343436, penalty=l2; total time=   0.0s\n",
      "[CV] END ..................C=0.43434343434343436, penalty=l2; total time=   0.0s\n",
      "[CV] END ..................C=0.11111111111111112, penalty=l1; total time=   0.0s\n",
      "[CV] END ..................C=0.11111111111111112, penalty=l1; total time=   0.0s\n",
      "[CV] END ...................C=0.9292929292929294, penalty=l2; total time=   0.0s\n",
      "[CV] END ...................C=0.9292929292929294, penalty=l2; total time=   0.0s\n",
      "[CV] END .................C=0.4444444444444445, penalty=none; total time=   0.0s\n",
      "[CV] END .................C=0.4444444444444445, penalty=none; total time=   0.0s\n",
      "[CV] END .................C=0.4444444444444445, penalty=none; total time=   0.0s\n",
      "[CV] END ...................C=0.7272727272727273, penalty=l2; total time=   0.0s\n",
      "[CV] END ...................C=0.7272727272727273, penalty=l2; total time=   0.0s\n",
      "[CV] END ...................C=0.7272727272727273, penalty=l2; total time=   0.0s\n",
      "[CV] END ....................C=0.686868686868687, penalty=l1; total time=   0.0s\n",
      "[CV] END .................C=0.6262626262626263, penalty=none; total time=   0.0s\n",
      "[CV] END ................C=0.27272727272727276, penalty=none; total time=   0.0s\n",
      "[CV] END ...................C=0.5858585858585859, penalty=l2; total time=   0.0s\n",
      "[CV] END ..................C=0.29292929292929293, penalty=l1; total time=   0.0s\n",
      "[CV] END ..................C=0.29292929292929293, penalty=l1; total time=   0.0s\n",
      "[CV] END .................C=0.4545454545454546, penalty=none; total time=   0.0s\n",
      "[CV] END ...................C=0.9393939393939394, penalty=l2; total time=   0.0s\n",
      "[CV] END ccp_alpha=0.3529411764705882, criterion=entropy, max_depth=1, min_samples_leaf=4, min_samples_split=1; total time=   0.0s\n",
      "[CV] END ccp_alpha=0.3529411764705882, criterion=log_loss, max_depth=8, min_samples_leaf=3, min_samples_split=3; total time=   0.0s\n",
      "[CV] END ccp_alpha=0.29411764705882354, criterion=gini, max_depth=7, min_samples_leaf=4, min_samples_split=1; total time=   0.0s\n",
      "[CV] END ccp_alpha=0.29411764705882354, criterion=gini, max_depth=7, min_samples_leaf=4, min_samples_split=1; total time=   0.0s\n",
      "[CV] END ccp_alpha=0.4117647058823529, criterion=gini, max_depth=6, min_samples_leaf=3, min_samples_split=3; total time=   0.0s\n",
      "[CV] END ccp_alpha=0.4117647058823529, criterion=gini, max_depth=6, min_samples_leaf=3, min_samples_split=3; total time=   0.0s\n",
      "[CV] END ccp_alpha=0.5294117647058824, criterion=entropy, max_depth=7, min_samples_leaf=1, min_samples_split=2; total time=   0.0s\n",
      "[CV] END ccp_alpha=0.058823529411764705, criterion=gini, max_depth=3, min_samples_leaf=3, min_samples_split=1; total time=   0.0s\n",
      "[CV] END ccp_alpha=0.058823529411764705, criterion=gini, max_depth=3, min_samples_leaf=3, min_samples_split=1; total time=   0.0s\n",
      "[CV] END ccp_alpha=0.058823529411764705, criterion=gini, max_depth=3, min_samples_leaf=3, min_samples_split=1; total time=   0.0s\n",
      "[CV] END ccp_alpha=0.058823529411764705, criterion=log_loss, max_depth=5, min_samples_leaf=1, min_samples_split=3; total time=   0.0s\n",
      "[CV] END ccp_alpha=0.0, criterion=gini, max_depth=2, min_samples_leaf=2, min_samples_split=4; total time=   0.0s\n",
      "[CV] END ccp_alpha=0.0, criterion=gini, max_depth=2, min_samples_leaf=2, min_samples_split=4; total time=   0.0s\n",
      "[CV] END ccp_alpha=0.0, criterion=gini, max_depth=2, min_samples_leaf=2, min_samples_split=4; total time=   0.0s\n",
      "[CV] END ccp_alpha=0.8823529411764706, criterion=log_loss, max_depth=5, min_samples_leaf=3, min_samples_split=3; total time=   0.0s\n",
      "[CV] END ccp_alpha=0.5294117647058824, criterion=log_loss, max_depth=8, min_samples_leaf=4, min_samples_split=2; total time=   0.0s\n",
      "[CV] END ccp_alpha=0.5294117647058824, criterion=log_loss, max_depth=8, min_samples_leaf=4, min_samples_split=2; total time=   0.0s\n",
      "[CV] END ccp_alpha=0.5294117647058824, criterion=log_loss, max_depth=8, min_samples_leaf=4, min_samples_split=2; total time=   0.0s\n",
      "[CV] END ccp_alpha=0.6470588235294118, criterion=log_loss, max_depth=8, min_samples_leaf=4, min_samples_split=1; total time=   0.0s\n",
      "[CV] END ccp_alpha=0.6470588235294118, criterion=log_loss, max_depth=8, min_samples_leaf=4, min_samples_split=1; total time=   0.0s\n",
      "[CV] END ccp_alpha=0.6470588235294118, criterion=log_loss, max_depth=8, min_samples_leaf=4, min_samples_split=1; total time=   0.0s\n",
      "[CV] END ccp_alpha=0.23529411764705882, criterion=entropy, max_depth=4, min_samples_leaf=1, min_samples_split=3; total time=   0.0s\n",
      "[CV] END ccp_alpha=0.23529411764705882, criterion=entropy, max_depth=7, min_samples_leaf=3, min_samples_split=4; total time=   0.0s\n",
      "[CV] END ccp_alpha=0.23529411764705882, criterion=entropy, max_depth=7, min_samples_leaf=3, min_samples_split=4; total time=   0.0s\n",
      "[CV] END ccp_alpha=0.11764705882352941, criterion=gini, max_depth=6, min_samples_leaf=4, min_samples_split=2; total time=   0.0s\n",
      "[CV] END ccp_alpha=0.11764705882352941, criterion=gini, max_depth=6, min_samples_leaf=4, min_samples_split=2; total time=   0.0s\n",
      "[CV] END ccp_alpha=0.11764705882352941, criterion=gini, max_depth=6, min_samples_leaf=4, min_samples_split=2; total time=   0.0s\n",
      "[CV] END ccp_alpha=0.8823529411764706, criterion=gini, max_depth=3, min_samples_leaf=4, min_samples_split=4; total time=   0.0s\n",
      "[CV] END ccp_alpha=0.8823529411764706, criterion=gini, max_depth=3, min_samples_leaf=4, min_samples_split=4; total time=   0.0s\n",
      "[CV] END ccp_alpha=0.8823529411764706, criterion=gini, max_depth=3, min_samples_leaf=4, min_samples_split=4; total time=   0.0s\n",
      "[CV] END ccp_alpha=0.11764705882352941, criterion=log_loss, max_depth=9, min_samples_leaf=4, min_samples_split=4; total time=   0.0s\n",
      "[CV] END ccp_alpha=0.4117647058823529, criterion=log_loss, max_depth=9, min_samples_leaf=4, min_samples_split=3; total time=   0.0s\n",
      "[CV] END ccp_alpha=0.1764705882352941, criterion=entropy, max_depth=8, min_samples_leaf=3, min_samples_split=3; total time=   0.0s\n",
      "[CV] END ccp_alpha=0.9411764705882353, criterion=entropy, max_depth=1, min_samples_leaf=1, min_samples_split=4; total time=   0.0s\n",
      "[CV] END ccp_alpha=0.29411764705882354, criterion=gini, max_depth=6, min_samples_leaf=2, min_samples_split=2; total time=   0.0s\n",
      "[CV] END ccp_alpha=1.0, criterion=log_loss, max_depth=7, min_samples_leaf=2, min_samples_split=2; total time=   0.0s\n"
     ]
    },
    {
     "name": "stdout",
     "output_type": "stream",
     "text": [
      "[CV] END ...................C=0.5252525252525253, penalty=l2; total time=   0.0s\n",
      "[CV] END ..................C=0.08080808080808081, penalty=l2; total time=   0.0s\n",
      "[CV] END ...................C=0.5252525252525253, penalty=l1; total time=   0.0s\n",
      "[CV] END ...................C=0.5252525252525253, penalty=l1; total time=   0.0s\n",
      "[CV] END ...................C=0.5252525252525253, penalty=l1; total time=   0.0s\n",
      "[CV] END ..................C=0.23232323232323235, penalty=l2; total time=   0.0s\n",
      "[CV] END ..................C=0.23232323232323235, penalty=l2; total time=   0.0s\n",
      "[CV] END ................C=0.21212121212121213, penalty=none; total time=   0.0s\n",
      "[CV] END ................C=0.21212121212121213, penalty=none; total time=   0.0s\n",
      "[CV] END ...................C=0.8282828282828284, penalty=l2; total time=   0.0s\n",
      "[CV] END ..................C=0.23232323232323235, penalty=l1; total time=   0.0s\n",
      "[CV] END ..................C=0.23232323232323235, penalty=l1; total time=   0.0s\n",
      "[CV] END ...................C=0.6666666666666667, penalty=l1; total time=   0.0s\n",
      "[CV] END ...................C=0.6666666666666667, penalty=l1; total time=   0.0s\n",
      "[CV] END ...................C=0.9696969696969697, penalty=l2; total time=   0.0s\n",
      "[CV] END ...................C=0.9696969696969697, penalty=l2; total time=   0.0s\n",
      "[CV] END ...................C=0.6565656565656566, penalty=l1; total time=   0.0s\n",
      "[CV] END ...................C=0.6565656565656566, penalty=l1; total time=   0.0s\n",
      "[CV] END ...................C=0.6565656565656566, penalty=l1; total time=   0.0s\n",
      "[CV] END ................C=0.26262626262626265, penalty=none; total time=   0.0s\n",
      "[CV] END .................C=0.5858585858585859, penalty=none; total time=   0.0s\n",
      "[CV] END ................C=0.29292929292929293, penalty=none; total time=   0.0s\n",
      "[CV] END ................C=0.29292929292929293, penalty=none; total time=   0.0s\n",
      "[CV] END ................C=0.29292929292929293, penalty=none; total time=   0.0s\n",
      "[CV] END ................C=0.19191919191919193, penalty=none; total time=   0.0s\n",
      "[CV] END ..................C=0.06060606060606061, penalty=l2; total time=   0.0s\n",
      "[CV] END ..................C=0.06060606060606061, penalty=l2; total time=   0.0s\n",
      "[CV] END ..................C=0.06060606060606061, penalty=l2; total time=   0.0s\n",
      "[CV] END .................C=0.010101010101010102, penalty=l2; total time=   0.0s\n",
      "[CV] END .................C=0.010101010101010102, penalty=l2; total time=   0.0s\n",
      "[CV] END .................C=0.010101010101010102, penalty=l2; total time=   0.0s\n",
      "[CV] END ..................C=0.11111111111111112, penalty=l2; total time=   0.0s\n",
      "[CV] END ..................C=0.11111111111111112, penalty=l2; total time=   0.0s\n",
      "[CV] END ..................C=0.11111111111111112, penalty=l2; total time=   0.0s\n",
      "[CV] END .................C=0.9797979797979799, penalty=none; total time=   0.0s\n",
      "[CV] END .................C=0.9797979797979799, penalty=none; total time=   0.0s\n",
      "[CV] END ....................C=0.787878787878788, penalty=l1; total time=   0.0s\n",
      "[CV] END ...................C=0.9393939393939394, penalty=l2; total time=   0.0s\n",
      "[CV] END .............C=0.595959595959596, penalty=elaticnet; total time=   0.0s\n",
      "[CV] END ...................C=0.8282828282828284, penalty=l2; total time=   0.0s\n",
      "[CV] END ..................C=0.23232323232323235, penalty=l1; total time=   0.0s\n",
      "[CV] END ................C=0.18181818181818182, penalty=none; total time=   0.0s\n",
      "[CV] END ................C=0.18181818181818182, penalty=none; total time=   0.0s\n",
      "[CV] END ..................C=0.19191919191919193, penalty=l2; total time=   0.0s\n",
      "[CV] END ..................C=0.19191919191919193, penalty=l2; total time=   0.0s\n",
      "[CV] END ..................C=0.19191919191919193, penalty=l2; total time=   0.0s\n",
      "[CV] END ..........C=0.030303030303030304, penalty=elaticnet; total time=   0.0s\n",
      "[CV] END ...................C=0.6565656565656566, penalty=l2; total time=   0.0s\n",
      "[CV] END ...................C=0.6565656565656566, penalty=l2; total time=   0.0s\n",
      "[CV] END ...................C=0.6565656565656566, penalty=l2; total time=   0.0s\n",
      "[CV] END ..................C=0.14141414141414144, penalty=l2; total time=   0.0s\n",
      "[CV] END ..................C=0.11111111111111112, penalty=l1; total time=   0.0s\n",
      "[CV] END ...................C=0.8080808080808082, penalty=l2; total time=   0.0s\n",
      "[CV] END ...................C=0.8080808080808082, penalty=l2; total time=   0.0s\n",
      "[CV] END ...................C=0.8080808080808082, penalty=l2; total time=   0.0s\n",
      "[CV] END ...................C=0.8484848484848485, penalty=l1; total time=   0.0s\n",
      "[CV] END ...................C=0.8484848484848485, penalty=l1; total time=   0.0s\n",
      "[CV] END ...................C=0.8484848484848485, penalty=l1; total time=   0.0s\n",
      "[CV] END ..................C=0.17171717171717174, penalty=l1; total time=   0.0s\n",
      "[CV] END ....................C=0.686868686868687, penalty=l1; total time=   0.0s\n",
      "[CV] END ...................C=0.7575757575757577, penalty=l2; total time=   0.0s\n",
      "[CV] END ............C=0.8383838383838385, penalty=elaticnet; total time=   0.0s\n",
      "[CV] END ..................C=0.29292929292929293, penalty=l1; total time=   0.0s\n",
      "[CV] END .................C=0.5555555555555556, penalty=none; total time=   0.0s\n",
      "[CV] END ccp_alpha=0.1764705882352941, criterion=gini, max_depth=8, min_samples_leaf=4, min_samples_split=2; total time=   0.0s\n",
      "[CV] END ccp_alpha=0.3529411764705882, criterion=log_loss, max_depth=8, min_samples_leaf=3, min_samples_split=3; total time=   0.0s\n",
      "[CV] END ccp_alpha=0.11764705882352941, criterion=gini, max_depth=9, min_samples_leaf=1, min_samples_split=3; total time=   0.0s\n",
      "[CV] END ccp_alpha=0.11764705882352941, criterion=gini, max_depth=9, min_samples_leaf=1, min_samples_split=3; total time=   0.0s\n",
      "[CV] END ccp_alpha=0.4117647058823529, criterion=log_loss, max_depth=4, min_samples_leaf=1, min_samples_split=3; total time=   0.0s\n",
      "[CV] END ccp_alpha=0.0, criterion=log_loss, max_depth=8, min_samples_leaf=3, min_samples_split=1; total time=   0.0s\n",
      "[CV] END ccp_alpha=0.8823529411764706, criterion=log_loss, max_depth=3, min_samples_leaf=1, min_samples_split=3; total time=   0.0s\n",
      "[CV] END ccp_alpha=0.8823529411764706, criterion=log_loss, max_depth=3, min_samples_leaf=1, min_samples_split=3; total time=   0.0s\n",
      "[CV] END ccp_alpha=0.8823529411764706, criterion=log_loss, max_depth=3, min_samples_leaf=1, min_samples_split=3; total time=   0.0s\n",
      "[CV] END ccp_alpha=0.9411764705882353, criterion=log_loss, max_depth=9, min_samples_leaf=3, min_samples_split=4; total time=   0.0s\n",
      "[CV] END ccp_alpha=0.7647058823529411, criterion=entropy, max_depth=2, min_samples_leaf=2, min_samples_split=3; total time=   0.0s\n",
      "[CV] END ccp_alpha=0.7647058823529411, criterion=entropy, max_depth=2, min_samples_leaf=2, min_samples_split=3; total time=   0.0s\n",
      "[CV] END ccp_alpha=0.7647058823529411, criterion=entropy, max_depth=2, min_samples_leaf=2, min_samples_split=3; total time=   0.0s\n",
      "[CV] END ccp_alpha=0.5294117647058824, criterion=entropy, max_depth=8, min_samples_leaf=4, min_samples_split=2; total time=   0.0s\n",
      "[CV] END ccp_alpha=0.5294117647058824, criterion=entropy, max_depth=8, min_samples_leaf=4, min_samples_split=2; total time=   0.0s\n",
      "[CV] END ccp_alpha=0.5294117647058824, criterion=entropy, max_depth=8, min_samples_leaf=4, min_samples_split=2; total time=   0.0s\n",
      "[CV] END ccp_alpha=0.8823529411764706, criterion=log_loss, max_depth=5, min_samples_leaf=3, min_samples_split=3; total time=   0.0s\n",
      "[CV] END ccp_alpha=0.8823529411764706, criterion=log_loss, max_depth=5, min_samples_leaf=3, min_samples_split=3; total time=   0.0s\n",
      "[CV] END ccp_alpha=0.0, criterion=log_loss, max_depth=9, min_samples_leaf=4, min_samples_split=2; total time=   0.1s\n",
      "[CV] END ccp_alpha=0.8823529411764706, criterion=gini, max_depth=5, min_samples_leaf=1, min_samples_split=4; total time=   0.0s\n",
      "[CV] END ccp_alpha=0.8823529411764706, criterion=gini, max_depth=5, min_samples_leaf=1, min_samples_split=4; total time=   0.0s\n",
      "[CV] END ccp_alpha=0.8823529411764706, criterion=gini, max_depth=5, min_samples_leaf=1, min_samples_split=4; total time=   0.0s\n",
      "[CV] END ccp_alpha=0.29411764705882354, criterion=gini, max_depth=6, min_samples_leaf=3, min_samples_split=2; total time=   0.0s\n",
      "[CV] END ccp_alpha=0.29411764705882354, criterion=gini, max_depth=6, min_samples_leaf=3, min_samples_split=2; total time=   0.0s\n",
      "[CV] END ccp_alpha=0.29411764705882354, criterion=gini, max_depth=6, min_samples_leaf=3, min_samples_split=2; total time=   0.0s\n",
      "[CV] END ccp_alpha=0.6470588235294118, criterion=gini, max_depth=1, min_samples_leaf=3, min_samples_split=4; total time=   0.0s\n",
      "[CV] END ccp_alpha=0.11764705882352941, criterion=gini, max_depth=7, min_samples_leaf=2, min_samples_split=2; total time=   0.0s\n",
      "[CV] END ccp_alpha=0.5294117647058824, criterion=entropy, max_depth=8, min_samples_leaf=2, min_samples_split=2; total time=   0.0s\n",
      "[CV] END ccp_alpha=0.1764705882352941, criterion=entropy, max_depth=8, min_samples_leaf=3, min_samples_split=3; total time=   0.0s\n",
      "[CV] END ccp_alpha=0.058823529411764705, criterion=entropy, max_depth=5, min_samples_leaf=2, min_samples_split=4; total time=   0.0s\n",
      "[CV] END ccp_alpha=0.8823529411764706, criterion=entropy, max_depth=2, min_samples_leaf=1, min_samples_split=4; total time=   0.0s\n",
      "[CV] END ccp_alpha=0.3529411764705882, criterion=log_loss, max_depth=6, min_samples_leaf=3, min_samples_split=1; total time=   0.0s\n"
     ]
    }
   ],
   "source": [
    "print(\"attributes for predicted probability of bankrupcy (in desc order of coef importance):\")\n",
    "print(\"====\")\n",
    "print(attributes[24])"
   ]
  },
  {
   "cell_type": "code",
   "execution_count": null,
   "id": "ff2abf75",
   "metadata": {},
   "outputs": [],
   "source": []
  },
  {
   "cell_type": "code",
   "execution_count": null,
   "id": "846c05f8",
   "metadata": {},
   "outputs": [],
   "source": []
  },
  {
   "cell_type": "code",
   "execution_count": null,
   "id": "0062a9a9",
   "metadata": {},
   "outputs": [],
   "source": []
  }
 ],
 "metadata": {
  "kernelspec": {
   "display_name": "Python 3 (ipykernel)",
   "language": "python",
   "name": "python3"
  },
  "language_info": {
   "codemirror_mode": {
    "name": "ipython",
    "version": 3
   },
   "file_extension": ".py",
   "mimetype": "text/x-python",
   "name": "python",
   "nbconvert_exporter": "python",
   "pygments_lexer": "ipython3",
   "version": "3.9.13"
  },
  "toc": {
   "base_numbering": 1,
   "nav_menu": {},
   "number_sections": true,
   "sideBar": true,
   "skip_h1_title": false,
   "title_cell": "Table of Contents",
   "title_sidebar": "Contents",
   "toc_cell": false,
   "toc_position": {
    "height": "calc(100% - 180px)",
    "left": "10px",
    "top": "150px",
    "width": "287.797px"
   },
   "toc_section_display": true,
   "toc_window_display": true
  }
 },
 "nbformat": 4,
 "nbformat_minor": 5
}
